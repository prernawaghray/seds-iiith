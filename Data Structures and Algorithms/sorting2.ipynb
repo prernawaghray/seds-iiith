{
 "cells": [
  {
   "cell_type": "markdown",
   "id": "0bcc6d2a",
   "metadata": {},
   "source": [
    "Sorting\n",
    "    ordering entities which are compareable\n",
    "    number, salary, names(lexicographic)\n",
    "    asc / desc\n",
    "\n",
    "a = [9,1,8,2,5]"
   ]
  },
  {
   "cell_type": "code",
   "execution_count": 1,
   "id": "f6f836f9",
   "metadata": {},
   "outputs": [
    {
     "ename": "TypeError",
     "evalue": "'<' not supported between instances of 'complex' and 'complex'",
     "output_type": "error",
     "traceback": [
      "\u001b[0;31m---------------------------------------------------------------------------\u001b[0m",
      "\u001b[0;31mTypeError\u001b[0m                                 Traceback (most recent call last)",
      "\u001b[0;32m/tmp/ipykernel_81485/372470423.py\u001b[0m in \u001b[0;36m<module>\u001b[0;34m\u001b[0m\n\u001b[0;32m----> 1\u001b[0;31m \u001b[0;36m1\u001b[0m \u001b[0;34m+\u001b[0m \u001b[0;36m2j\u001b[0m \u001b[0;34m<\u001b[0m \u001b[0;36m3\u001b[0m \u001b[0;34m+\u001b[0m \u001b[0;36m4j\u001b[0m\u001b[0;34m\u001b[0m\u001b[0;34m\u001b[0m\u001b[0m\n\u001b[0m",
      "\u001b[0;31mTypeError\u001b[0m: '<' not supported between instances of 'complex' and 'complex'"
     ]
    }
   ],
   "source": [
    "3 + 2j < 4 + 1j #cannot be sorted"
   ]
  },
  {
   "cell_type": "markdown",
   "id": "1dff890e",
   "metadata": {},
   "source": [
    "Selection\n",
    "Bubble\n",
    "Insertion\n",
    "\n",
    "Merge\n",
    "Quick"
   ]
  },
  {
   "cell_type": "code",
   "execution_count": 8,
   "id": "72e9d597",
   "metadata": {},
   "outputs": [
    {
     "name": "stdout",
     "output_type": "stream",
     "text": [
      "[-5, 9, 2, 8, 3, 7, 4, 0, 5, -2, 10]\n",
      "[-5, -2, 2, 8, 3, 7, 4, 0, 5, 9, 10]\n",
      "[-5, -2, 0, 8, 3, 7, 4, 2, 5, 9, 10]\n",
      "[-5, -2, 0, 2, 3, 7, 4, 8, 5, 9, 10]\n",
      "[-5, -2, 0, 2, 3, 7, 4, 8, 5, 9, 10]\n",
      "[-5, -2, 0, 2, 3, 4, 7, 8, 5, 9, 10]\n",
      "[-5, -2, 0, 2, 3, 4, 5, 8, 7, 9, 10]\n",
      "[-5, -2, 0, 2, 3, 4, 5, 7, 8, 9, 10]\n",
      "[-5, -2, 0, 2, 3, 4, 5, 7, 8, 9, 10]\n",
      "[-5, -2, 0, 2, 3, 4, 5, 7, 8, 9, 10]\n",
      "[-5, -2, 0, 2, 3, 4, 5, 7, 8, 9, 10]\n"
     ]
    }
   ],
   "source": [
    "a = [10,9,2,8,3,7,4,0,5,-2,-5]\n",
    "\n",
    "for j in range(len(a)):\n",
    "    min = a[j]\n",
    "    loc = j\n",
    "    for i in range(j+1,len(a)): #select the minimum\n",
    "        if a[i] < min :\n",
    "            min = a[i]\n",
    "            loc = i\n",
    "    if a[j] > a[loc] : a[j],a[loc] = a[loc],a[j]\n",
    "    print(a)\n",
    "\n",
    "# O(n^2)\n",
    "\n",
    "# findmin : n - 1\n",
    "# findmin : n - 2\n",
    "# findmin : n - 3\n",
    "# findmin : n - 4\n",
    "# findmin : 1\n",
    "# (n-1)x(n)/ 2 = n^2/2 - n/2 = O(n^2)"
   ]
  },
  {
   "cell_type": "code",
   "execution_count": 30,
   "id": "663c9eff",
   "metadata": {},
   "outputs": [],
   "source": [
    "a = [10,9,8,7,6,5,4,3,2,1,-2,-5]\n",
    "\n",
    "b = [1,2,3,4,5,6,7,8]\n",
    "#bubble\n",
    "\n",
    "def bubblesort(a):\n",
    "    for j in range(len(a)):\n",
    "        swap = False \n",
    "        for i in range(len(a) - 1 - j):\n",
    "            if a[i] > a[i+1] : \n",
    "                a[i],a[i+1] = a[i+1],a[i]\n",
    "                swap = True\n",
    "        if not swap : break\n",
    "        print(a)\n",
    "\n",
    "\n",
    "bubblesort(b)\n",
    "# bubble: n - 1\n",
    "# bubble: n - 2\n",
    "# bubble: n - 3\n",
    "# ..\n",
    "# bubble: 1\n",
    "# n^2/2 - n/2 = O(n^2)\n",
    "# best case --> O(n)"
   ]
  },
  {
   "cell_type": "markdown",
   "id": "fcc1943d",
   "metadata": {},
   "source": [
    "       i\n",
    "a1 = [1,3,5,7,9]\n",
    "       j\n",
    "b1 = [2,4,6,8,10]\n",
    "\n",
    "c = [1,2\n",
    "\n",
    "c = [1,2,3,4,5,6,7,8,9,10]\n",
    "\n",
    "merge(a,b)\n"
   ]
  },
  {
   "cell_type": "code",
   "execution_count": 42,
   "id": "2661c50e",
   "metadata": {},
   "outputs": [
    {
     "data": {
      "text/plain": [
       "[8, 9]"
      ]
     },
     "execution_count": 42,
     "metadata": {},
     "output_type": "execute_result"
    }
   ],
   "source": [
    "b1 = [9]\n",
    "a1 = [8]\n",
    "\n",
    "def merge(a,b):\n",
    "    i = 0\n",
    "    j = 0\n",
    "    c = []\n",
    "    while i < len(a) and j < len(b) : #O(n)\n",
    "        if a[i] < b[j] : \n",
    "            c.append(a[i])\n",
    "            i += 1\n",
    "        else : \n",
    "            c.append(b[j])\n",
    "            j += 1\n",
    "    if i==len(a): #a array was fully explored, copy remaining elements of b array into c\n",
    "        while j<len(b):\n",
    "            c.append(b[j])\n",
    "            j += 1\n",
    "    elif j==len(b): #b array was fully explored, copy remaining elements of a array into c\n",
    "        while i<len(a):\n",
    "            c.append(a[i])\n",
    "            i += 1\n",
    "\n",
    "    return c\n",
    "\n",
    "merge(a1,b1)\n",
    "# n, m arrays\n",
    "# O(n + m)\n",
    "#"
   ]
  },
  {
   "cell_type": "markdown",
   "id": "b927650d",
   "metadata": {},
   "source": [
    "arr = [10,9,8,7,6,5,4,3,2,1,-2,-5]\n",
    "cutting phase\n",
    "[10,9,8,7,6,5]                  [4,3,2,1,-2,-5]\n",
    "cutting phase\n",
    "[10,9,8]        [7,6,5]                  [4,3,2]     [1,-2,-5]\n",
    "cutting phase\n",
    "[10] [9,8]      [7] [6,5]               [4] [3,2]     [1]  [-2,-5]\n",
    "cutting phase\n",
    "  x  [9] [8]     x   [6] [5]             x  [3] [2]    x    [-2] [-5]\n",
    "\n",
    "\n",
    "merging phase\n",
    "  [10]  [8,9]        [7]    [5,6]              [4]    [2,3]       [1]   [-5,-2]\n",
    "  [8,9,10]              [5,6,7]                 [2,3,4]             [-5,-2,1]\n",
    "         [5,6,7,8,9,10]                               [-5,-2,-1,2,3,4]\n",
    "                        [-5,-2,-1,2,3,4,5,6,7,8,9,10]\n"
   ]
  },
  {
   "cell_type": "markdown",
   "id": "91fd0db9",
   "metadata": {},
   "source": [
    "arr = [9,1,8,2,7,3,6,4,5]\n",
    "[9,1,8,2,7]               [3,6,4,5]\n",
    "[9,1,8]         [2,7]                [3,6,4] [5]\n",
    "[9,1] [8]         [2] [7]                [3,6] [4] [5]\n",
    "[9] [1] x          x  x                   [3] [6] x x\n",
    "\n",
    "[1,9]              [2,7]                 [3,6] [4,5]\n",
    "    [1.2.7.9]                   [3,4,5,6]\n",
    "                [1..9]"
   ]
  },
  {
   "cell_type": "code",
   "execution_count": 43,
   "id": "71b18dc0",
   "metadata": {},
   "outputs": [
    {
     "name": "stdout",
     "output_type": "stream",
     "text": [
      "[1, 2, 3, 4, 5, 6, 7, 8, 9]\n"
     ]
    }
   ],
   "source": [
    "arr = [9,1,8,2,7,3,6,4,5]\n",
    "def msort(a):\n",
    "    if len(a)==1 : return a #3u\n",
    "    else :\n",
    "        mid = len(a)//2      #2u\n",
    "        lh = msort(a[:mid])  #T(n/2)\n",
    "        rh = msort(a[mid:])  #T(n/2)\n",
    "        return merge(lh,rh)  # n\n",
    "\n",
    "res = msort(arr)\n",
    "print(res)"
   ]
  },
  {
   "cell_type": "markdown",
   "id": "5f47efe5",
   "metadata": {},
   "source": [
    "T(1) = 3\n",
    "T(n) = 2T(n/2) + n + 2\n",
    "    = 2(2T(n/4) + n/2 + 2) + n + 2\n",
    "    = 4T(n/4) + 2n + 4 + 2\n",
    "    = 4(2T(n/8) + n/4 + 2) + 2n + 4 + 2\n",
    "    = 8T(n/8) + 3n + 8 + 4 + 2\n",
    "    = 2^kT(n/2^k) + kn + 2x2^k\n",
    "    at n = 2^k\n",
    "    = nT(1) + n log2n + 2n\n",
    "    = 5n + nlog2 n\n",
    "O(nlog2n)"
   ]
  },
  {
   "cell_type": "markdown",
   "id": "3e0b92ba",
   "metadata": {},
   "source": [
    "arr = [4,9,3,8,1,7,2,6] [5]\n",
    "   i       j\n",
    "[4,9,3,8,1,2,7,6]\n",
    "       j i #crossover\n",
    "[4,2,3,1,5,9,7,6 8]"
   ]
  },
  {
   "cell_type": "code",
   "execution_count": 59,
   "id": "37405220",
   "metadata": {},
   "outputs": [],
   "source": [
    "def partition(a,l,r):\n",
    "    pivot = a[l]\n",
    "    i = l + 1\n",
    "    j = r\n",
    "    while i < j :\n",
    "        while a[i] <= pivot and i < r: i += 1\n",
    "        while a[j] > pivot and j > 0: j -= 1\n",
    "        if i < j : a[i],a[j] = a[j],a[i]\n",
    "    a[j],a[l] = a[l],a[j] #swap the pivot\n",
    "    return j"
   ]
  },
  {
   "cell_type": "code",
   "execution_count": 60,
   "id": "3babfe04",
   "metadata": {},
   "outputs": [],
   "source": [
    "def qsort(a,l,r):\n",
    "    if r-l > 1 :\n",
    "        ploc = partition(a,l,r)\n",
    "        qsort(a,l,ploc-1)\n",
    "        qsort(a,ploc+1,r)"
   ]
  },
  {
   "cell_type": "code",
   "execution_count": 63,
   "id": "48aa6b97",
   "metadata": {},
   "outputs": [
    {
     "name": "stdout",
     "output_type": "stream",
     "text": [
      "[0, 1, 2, 4, 5, 7, 9]\n"
     ]
    }
   ],
   "source": [
    "arr = [4,9,5,7,2,0,1]\n",
    "qsort(arr,0,len(arr)-1)\n",
    "print(arr)\n",
    "\n",
    "#O(n log n)"
   ]
  },
  {
   "cell_type": "code",
   "execution_count": 70,
   "id": "a7f7321c",
   "metadata": {},
   "outputs": [
    {
     "name": "stdout",
     "output_type": "stream",
     "text": [
      "[1, 9, 8, 2, 7, 3, 6, 4, 5, 0]\n",
      "[1, 8, 9, 2, 7, 3, 6, 4, 5, 0]\n",
      "[1, 2, 8, 9, 7, 3, 6, 4, 5, 0]\n",
      "[1, 2, 7, 8, 9, 3, 6, 4, 5, 0]\n",
      "[1, 2, 3, 7, 8, 9, 6, 4, 5, 0]\n",
      "[1, 2, 3, 6, 7, 8, 9, 4, 5, 0]\n",
      "[1, 2, 3, 4, 6, 7, 8, 9, 5, 0]\n",
      "[1, 2, 3, 4, 5, 6, 7, 8, 9, 0]\n",
      "[0, 1, 2, 3, 4, 5, 6, 7, 8, 9]\n"
     ]
    }
   ],
   "source": [
    "a = [9,1,8,2,7,3,6,4,5,0]\n",
    "\n",
    "for j in range(1,len(a)):\n",
    "    i=0\n",
    "    elem = a.pop(j)\n",
    "    while a[i] < elem and i < j : i += 1\n",
    "    a.insert(i,elem)\n",
    "    print(a)\n",
    "\n",
    "#O(n^2)"
   ]
  }
 ],
 "metadata": {
  "kernelspec": {
   "display_name": "Python 3",
   "language": "python",
   "name": "python3"
  },
  "language_info": {
   "codemirror_mode": {
    "name": "ipython",
    "version": 3
   },
   "file_extension": ".py",
   "mimetype": "text/x-python",
   "name": "python",
   "nbconvert_exporter": "python",
   "pygments_lexer": "ipython3",
   "version": "3.8.10"
  }
 },
 "nbformat": 4,
 "nbformat_minor": 5
}
