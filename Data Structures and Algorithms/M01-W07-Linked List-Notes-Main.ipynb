{
 "cells": [
  {
   "cell_type": "markdown",
   "metadata": {},
   "source": [
    "<img src=\"http://drive.google.com/uc?export=view&id=1JzM1Jig5KAOCvU4tIf2t66B3gd1uy1rG\" width=1000px>\n",
    "\n",
    "Proprietary content. © Great Learning. All Rights Reserved. Unauthorized use or distribution prohibited."
   ]
  },
  {
   "cell_type": "markdown",
   "metadata": {
    "tags": []
   },
   "source": [
    "# <font color='blue'> Table Of Contents </font>\n",
    "\n",
    "## <font color='blue'> Linked Lists </font>\n",
    "\n",
    "### <font color='blue'> What is a Linked list </font> \n",
    "### <font color='blue'> Types of linked lists and its operations </font>\n",
    "### <font color='blue'> Representation of linked list and its nodes    \n",
    "* Singly linked list\n",
    "* Doubly linked list\n",
    "* Circular linked list </font>\n",
    "\n",
    "### <font color='blue'> Linked lists operations  \n",
    "* Insertion\n",
    "* Deletion\n",
    "* Iteration \n",
    "* Search\n",
    "</font>\n",
    "\n",
    "### <font color='blue'> Practice Exercises \n",
    "* Finding nth node in the linked list\n",
    "* Detecting merge point in the linked list\n",
    "</font>\n",
    "    \n",
    "### <font color='blue'> Advanced Exercises \n",
    "* Implement a queue.\n",
    "* Understand deque.\n",
    "* Learn how List is implemented\n",
    "</font>"
   ]
  },
  {
   "cell_type": "markdown",
   "metadata": {},
   "source": [
    "### <font color='blue'> What is linked list </font>"
   ]
  },
  {
   "cell_type": "markdown",
   "metadata": {},
   "source": [
    "In computer science, a ***linked list*** is a ***linear collection*** of data elements whose ***order is not given by their physical placement*** in memory.   \n",
    "Instead, ***each element points to the next.***  *It is a data structure consisting of a collection of nodes which together represent a sequence.*  \n",
    "\n",
    "In its most basic form, ***each node*** contains: ***data, and a reference (a link) to the next node*** in the sequence.  \n",
    "This structure allows for ***efficient insertion*** or ***removal*** of elements from any position in the sequence during iteration.   \n",
    "More complex variants add additional links, allowing more efficient insertion or removal of nodes at arbitrary positions.   \n",
    "\n",
    "A ***drawback*** of linked lists is that ***access time is linear*** (and difficult to pipeline). Faster access, such as ***random access, is not feasible***. Arrays have better cache locality compared to linked lists.\n",
    "\n",
    "Linked lists are among the simplest and most common data structures. They can be used to implement several other common abstract data types, including lists, stacks, queues, though it is not uncommon to implement those data structures directly without using a linked list as the basis.  \n",
    "\n",
    "The ***principal benefit*** of a linked list ***over a conventional array*** is that the list ***elements*** can be ***easily inserted or removed without reallocation or reorganization*** of the entire structure because the data items need not be stored contiguously in memory or on disk, while restructuring an array at run-time is a much more expensive operation.  \n",
    "***Linked lists allow insertion and removal of nodes at any point in the list, and allow doing so with a constant number of operations*** by keeping the link previous to the link being added or removed in memory during list traversal.\n",
    "\n",
    "On the other hand, since simple ***linked lists*** by themselves ***do not allow random access to the data or any form of efficient indexing***, many basic operations such as obtaining the last node of the list, finding a node that contains a given datum, or locating the place where a new node should be inserted may require iterating through most or all of the list elements. \n",
    "\n",
    "<font color='blue' size=2> Source - Wikipedia </font>"
   ]
  },
  {
   "cell_type": "markdown",
   "metadata": {},
   "source": [
    "### <font color='blue'> Types of linked lists and its operations </font>"
   ]
  },
  {
   "cell_type": "markdown",
   "metadata": {},
   "source": [
    "The three different flavors of linked lists  \n",
    "***Singly Linked list,***  \n",
    "***Doubly Linked list*** and  \n",
    "***Circular linked list***  \n",
    "\n",
    "And the common operations that we do on linked lists are...  \n",
    "***Insertion***  \n",
    "***Deletion***  \n",
    "***Traversal***  \n",
    "***Searching***"
   ]
  },
  {
   "cell_type": "markdown",
   "metadata": {},
   "source": [
    "### <font color='blue'> Representation of linked list and its nodes </font>"
   ]
  },
  {
   "cell_type": "markdown",
   "metadata": {},
   "source": [
    "#### <font color='blue'> Singly linked list </font>"
   ]
  },
  {
   "cell_type": "markdown",
   "metadata": {},
   "source": [
    "Singly linked lists contain nodes which have a data field as well as 'next' field, which points to the next node in line of nodes. Operations that can be performed on singly linked lists include insertion, deletion and traversal.  \n",
    "\n",
    "<font color='blue' size=2> Source - Wikipedia </font>"
   ]
  },
  {
   "attachments": {},
   "cell_type": "markdown",
   "metadata": {},
   "source": [
    "<img src=\"http://drive.google.com/uc?export=view&id=1EfF2w5niNP9EMF7xKFdEKnEvdeEK8INv\" width=750px>"
   ]
  },
  {
   "cell_type": "markdown",
   "metadata": {},
   "source": [
    "In the above figure...  \n",
    "***HEAD*** - references the starting point (first node) of a linked list.  \n",
    "***TAIL*** - references the end point (last node) of a linked list. A linked list may or may not have a *TAIL* in a list.  \n",
    "> The *next* of the *TAIL* is set to *None* which indicates that this is the last node of a list.  \n",
    "> In case of circular list the last node of a list refers to the first node of a list.\n",
    "\n",
    "***Node*** - each node represents two parts. ***Data*** part which contains the actual data and ***next*** that references the next in a linked list. In case of a doubly linked list each node has 2 reference ***prev*** and ***next*** that refers to a previous and next element of a list respectively. "
   ]
  },
  {
   "cell_type": "markdown",
   "metadata": {},
   "source": [
    "#### <font color='blue'> Doubly linked list </font>"
   ]
  },
  {
   "cell_type": "markdown",
   "metadata": {},
   "source": [
    "In a 'doubly linked list', each node contains, besides the next-node link, a second link field pointing to the 'previous' node in the sequence. The two links may be called 'forward('s') and 'backwards', or 'next' and 'prev'('previous').  \n",
    "\n",
    "<font color='blue' size=2> Source - Wikipedia </font>"
   ]
  },
  {
   "attachments": {},
   "cell_type": "markdown",
   "metadata": {},
   "source": [
    "<img src=\"http://drive.google.com/uc?export=view&id=1u2xpse5gwIVxPK09uyUNr0YLmwMaQ1DE\" width=750px>"
   ]
  },
  {
   "cell_type": "markdown",
   "metadata": {},
   "source": [
    "#### <font color='blue'> Circular linked list </font>"
   ]
  },
  {
   "cell_type": "markdown",
   "metadata": {},
   "source": [
    "In the last node of a list, the link field often contains no reference, a special value is used to indicate the lack of further nodes.  \n",
    "A less common convention is to make it point to the first node of the list; in that case, the list is said to be 'circular' or 'circularly linked'."
   ]
  },
  {
   "attachments": {},
   "cell_type": "markdown",
   "metadata": {},
   "source": [
    "<img src=\"http://drive.google.com/uc?export=view&id=1JubCemN-7ujpCoAUMe3B9EH4M0i4Err-\" width=750px>"
   ]
  },
  {
   "cell_type": "markdown",
   "metadata": {},
   "source": [
    "### <font color='blue'> Linked lists operations - Insertion </font>"
   ]
  },
  {
   "cell_type": "markdown",
   "metadata": {},
   "source": [
    "#### <font color='blue'> Insertion in beginning - Singly linked list </font>"
   ]
  },
  {
   "attachments": {},
   "cell_type": "markdown",
   "metadata": {},
   "source": [
    "<img src=\"http://drive.google.com/uc?export=view&id=12O4-IGf-V0b8PPXwshzf1BrYrLJPTmC6\" width=750px>"
   ]
  },
  {
   "cell_type": "markdown",
   "metadata": {},
   "source": [
    "#### <font color='blue'> Insertion in middle - Singly linked list </font>"
   ]
  },
  {
   "attachments": {},
   "cell_type": "markdown",
   "metadata": {},
   "source": [
    "<img src=\"http://drive.google.com/uc?export=view&id=1GluNRboJiQ9sPsUTKC_ZFO_QNgnKxsk-\" width=750px>"
   ]
  },
  {
   "cell_type": "markdown",
   "metadata": {},
   "source": [
    "#### <font color='blue'> Insertion in end - Singly linked list </font>"
   ]
  },
  {
   "attachments": {},
   "cell_type": "markdown",
   "metadata": {},
   "source": [
    "<img src=\"http://drive.google.com/uc?export=view&id=1InkAeuFiErItieihUuYLKbEwryp24EtE\" width=750px>"
   ]
  },
  {
   "cell_type": "markdown",
   "metadata": {},
   "source": [
    "#### <font color='blue'> Insertion in beginning - Doubly linked list </font>"
   ]
  },
  {
   "attachments": {},
   "cell_type": "markdown",
   "metadata": {},
   "source": [
    "<img src=\"http://drive.google.com/uc?export=view&id=1nwAYWksjX3hHyR_dxt4OpNqVdY-BgMVo\" width=750px>"
   ]
  },
  {
   "cell_type": "markdown",
   "metadata": {},
   "source": [
    "#### <font color='blue'> Insertion in middle - Doubly linked list </font>"
   ]
  },
  {
   "attachments": {},
   "cell_type": "markdown",
   "metadata": {},
   "source": [
    "<img src=\"http://drive.google.com/uc?export=view&id=1298uTKiSTSY835lGyeoytrIuDD3ZL-ZQ\" width=750px>"
   ]
  },
  {
   "cell_type": "markdown",
   "metadata": {},
   "source": [
    "#### <font color='blue'> Insertion in end - Doubly linked list </font>"
   ]
  },
  {
   "attachments": {},
   "cell_type": "markdown",
   "metadata": {},
   "source": [
    "<img src=\"http://drive.google.com/uc?export=view&id=1_Hfw4ooHXkmbHQ9sJTK_nqSQGY-qA94j\" width=750px>"
   ]
  },
  {
   "cell_type": "markdown",
   "metadata": {},
   "source": [
    "#### <font color='blue'> Implementation time</font>"
   ]
  },
  {
   "cell_type": "markdown",
   "metadata": {},
   "source": [
    "#### <font color='blue'> Singly linked list</font>"
   ]
  },
  {
   "cell_type": "markdown",
   "metadata": {},
   "source": [
    "In the below code segment you will come across 2 more things. ***Enum*** and ***assert*** statement.   \n",
    "***Enum*** is used to represent constants. These are symbolic names bound to unique, constant values.  \n",
    "***assert*** statement is used to check whether a particular condition is True or not. If it is not, then the program execution stops."
   ]
  },
  {
   "cell_type": "code",
   "execution_count": 73,
   "metadata": {},
   "outputs": [],
   "source": [
    "from enum import Enum\n",
    "\n",
    "\n",
    "class InsertAt(Enum):\n",
    "    BEGINNING = 0\n",
    "    MIDDLE = 1\n",
    "    END = 2"
   ]
  },
  {
   "cell_type": "code",
   "execution_count": 74,
   "metadata": {},
   "outputs": [],
   "source": [
    "class Node:\n",
    "    def __init__(self, data):\n",
    "        self.data = data\n",
    "        self.next = None"
   ]
  },
  {
   "cell_type": "code",
   "execution_count": 75,
   "metadata": {},
   "outputs": [],
   "source": [
    "class LinkedList:\n",
    "    def __init__(self):\n",
    "        self.head = None\n",
    "        self.tail = None\n",
    "\n",
    "    def add_first_node_to_the_list(self, node_obj):\n",
    "        assert self.head is None, \"Invalid list\"\n",
    "        assert self.tail is None, \"Invalid list\"\n",
    "        self.head = node_obj\n",
    "        self.tail = node_obj\n",
    "\n",
    "    def add_node_in_the_end(self, node_obj):\n",
    "        assert self.tail, \"Invalid list\"\n",
    "        self.tail.next = node_obj\n",
    "        self.tail = node_obj\n",
    "\n",
    "    def add_node_in_the_beginning(self, node_obj):\n",
    "        node_obj.next = self.head\n",
    "        self.head = node_obj\n",
    "\n",
    "    def add_node_in_the_middle(self, node_pos, node_obj):\n",
    "        node_obj.next = node_pos.next\n",
    "        node_pos.next = node_obj\n",
    "\n",
    "    def get_node_position(self, node_obj):\n",
    "        node = self.head\n",
    "        ret_pos = self.head\n",
    "        insert_type = InsertAt.BEGINNING\n",
    "        while node is not None:\n",
    "            if node_obj.data >= node.data:\n",
    "                if node == self.tail:\n",
    "                    ret_pos = self.tail\n",
    "                    insert_type = InsertAt.END\n",
    "                else:\n",
    "                    ret_pos = node\n",
    "                    insert_type = InsertAt.MIDDLE\n",
    "            node = node.next\n",
    "        return ret_pos, insert_type\n",
    "\n",
    "    def add_nodes_in_ascending_order(self, node_obj):\n",
    "        node_pos, insert_type = self.get_node_position(node_obj)\n",
    "        if node_pos == self.head and insert_type == InsertAt.BEGINNING:\n",
    "            self.add_node_in_the_beginning(node_obj)\n",
    "        elif node_pos == self.tail and insert_type == InsertAt.END:\n",
    "            self.add_node_in_the_end(node_obj)\n",
    "        else:\n",
    "            self.add_node_in_the_middle(node_pos, node_obj)\n",
    "\n",
    "    def show_list(self):\n",
    "        node = self.head\n",
    "        while node is not None:\n",
    "            print(node.data, end=\" \")\n",
    "            node = node.next\n",
    "            "
   ]
  },
  {
   "cell_type": "code",
   "execution_count": 76,
   "metadata": {},
   "outputs": [
    {
     "name": "stdout",
     "output_type": "stream",
     "text": [
      "3 2 4 7 5 12 "
     ]
    }
   ],
   "source": [
    "list = LinkedList()\n",
    "\n",
    "list.add_first_node_to_the_list(Node(3))\n",
    "list.add_node_in_the_end(Node(2))\n",
    "list.add_node_in_the_end(Node(4))\n",
    "list.add_node_in_the_end(Node(7))\n",
    "list.add_node_in_the_end(Node(5))\n",
    "list.add_node_in_the_end(Node(12))\n",
    "list.show_list()"
   ]
  },
  {
   "cell_type": "code",
   "execution_count": 77,
   "metadata": {},
   "outputs": [
    {
     "name": "stdout",
     "output_type": "stream",
     "text": [
      "-2 2 3 4 5 7 12 14 22 "
     ]
    }
   ],
   "source": [
    "list = LinkedList()\n",
    "\n",
    "list.add_first_node_to_the_list(Node(3))\n",
    "list.add_nodes_in_ascending_order(Node(12))\n",
    "list.add_nodes_in_ascending_order(Node(4))\n",
    "list.add_nodes_in_ascending_order(Node(7))\n",
    "list.add_nodes_in_ascending_order(Node(5))\n",
    "list.add_nodes_in_ascending_order(Node(14))\n",
    "list.add_nodes_in_ascending_order(Node(22))\n",
    "list.add_nodes_in_ascending_order(Node(-2))\n",
    "list.add_nodes_in_ascending_order(Node(2))\n",
    "list.show_list()"
   ]
  },
  {
   "cell_type": "markdown",
   "metadata": {},
   "source": [
    "#### <font color='blue'> Doubly linked list</font>"
   ]
  },
  {
   "cell_type": "code",
   "execution_count": 62,
   "metadata": {},
   "outputs": [],
   "source": [
    "from enum import Enum\n",
    "\n",
    "\n",
    "class InsertAt(Enum):\n",
    "    BEGINNING = 0\n",
    "    MIDDLE = 1\n",
    "    END = 2"
   ]
  },
  {
   "cell_type": "code",
   "execution_count": 63,
   "metadata": {},
   "outputs": [],
   "source": [
    "class Node:\n",
    "    def __init__(self, data):\n",
    "        self.prev = None\n",
    "        self.data = data\n",
    "        self.next = None\n",
    "\n",
    "    def __call__(self):\n",
    "        return self.data"
   ]
  },
  {
   "cell_type": "code",
   "execution_count": 64,
   "metadata": {},
   "outputs": [],
   "source": [
    "class LinkedList:\n",
    "    def __init__(self):\n",
    "        self.head = None\n",
    "        self.tail = None\n",
    "\n",
    "    def add_first_element_to_the_list(self, node_obj):\n",
    "        assert self.head is None, \"Invalid list\"\n",
    "        assert self.tail is None, \"Invalid list\"\n",
    "        self.head = node_obj\n",
    "        self.tail = node_obj\n",
    "\n",
    "    def add_node_in_the_end(self, node_obj):\n",
    "        assert self.tail, \"Invalid list\"\n",
    "        self.tail.next = node_obj\n",
    "        node_obj.prev = self.tail\n",
    "        self.tail = node_obj\n",
    "\n",
    "    def show_list(self, ascending=True):\n",
    "        if ascending:\n",
    "            node = self.head\n",
    "        else:\n",
    "            node = self.tail\n",
    "\n",
    "        while node is not None:\n",
    "            print(node(), end=\" \")\n",
    "            if ascending:\n",
    "                node = node.next\n",
    "            else:\n",
    "                node = node.prev\n",
    "\n",
    "    def add_node_in_the_beginning(self, node_obj):\n",
    "        node_obj.next = self.head\n",
    "        self.head.prev = node_obj\n",
    "        self.head = node_obj\n",
    "\n",
    "    def add_node_in_the_middle(self, node_pos, node_obj):\n",
    "        node_obj.prev = node_pos\n",
    "        node_obj.next = node_pos.next\n",
    "        node_obj.next.prev = node_obj\n",
    "        node_pos.next = node_obj\n",
    "\n",
    "    def get_node_position(self, node_obj):\n",
    "        node = self.head\n",
    "        ret_pos = self.head\n",
    "        insert_type = InsertAt.BEGINNING\n",
    "        while node is not None:\n",
    "            if node_obj.data >= node.data:\n",
    "                if node == self.tail:\n",
    "                    ret_pos = self.tail\n",
    "                    insert_type = InsertAt.END\n",
    "                else:\n",
    "                    ret_pos = node\n",
    "                    insert_type = InsertAt.MIDDLE\n",
    "            node = node.next\n",
    "        return ret_pos, insert_type\n",
    "\n",
    "    def add_nodes_in_ascending_order(self, node_obj):\n",
    "        node_pos, insert_type = self.get_node_position(node_obj)\n",
    "        if node_pos == self.head and insert_type == InsertAt.BEGINNING:\n",
    "            self.add_node_in_the_beginning(node_obj)\n",
    "        elif node_pos == self.tail and insert_type == InsertAt.END:\n",
    "            self.add_node_in_the_end(node_obj)\n",
    "        else:\n",
    "            self.add_node_in_the_middle(node_pos, node_obj)\n",
    "\n"
   ]
  },
  {
   "cell_type": "code",
   "execution_count": 65,
   "metadata": {},
   "outputs": [
    {
     "name": "stdout",
     "output_type": "stream",
     "text": [
      "3 2 4 7 5 12 \n",
      "12 5 7 4 2 3 "
     ]
    }
   ],
   "source": [
    "list = LinkedList()\n",
    "list.add_first_element_to_the_list(Node(3))\n",
    "list.add_node_in_the_end(Node(2))\n",
    "list.add_node_in_the_end(Node(4))\n",
    "list.add_node_in_the_end(Node(7))\n",
    "list.add_node_in_the_end(Node(5))\n",
    "list.add_node_in_the_end(Node(12))\n",
    "\n",
    "list.show_list()\n",
    "print()\n",
    "list.show_list(False)"
   ]
  },
  {
   "cell_type": "code",
   "execution_count": 66,
   "metadata": {},
   "outputs": [
    {
     "name": "stdout",
     "output_type": "stream",
     "text": [
      "12 7 5 4 3 2 \n",
      "2 3 4 5 7 12 "
     ]
    }
   ],
   "source": [
    "list = LinkedList()\n",
    "list.add_first_element_to_the_list(Node(3))\n",
    "\n",
    "list.add_nodes_in_ascending_order(Node(12))\n",
    "list.add_nodes_in_ascending_order(Node(4))\n",
    "list.add_nodes_in_ascending_order(Node(7))\n",
    "list.add_nodes_in_ascending_order(Node(5))\n",
    "list.add_nodes_in_ascending_order(Node(2))\n",
    "\n",
    "list.show_list(False)\n",
    "print()\n",
    "list.show_list()"
   ]
  },
  {
   "cell_type": "markdown",
   "metadata": {},
   "source": [
    "### <font color='blue'> Linked lists operations - Deletion </font>"
   ]
  },
  {
   "cell_type": "markdown",
   "metadata": {},
   "source": [
    "#### <font color='blue'> Deletion in beginning - Singly linked list </font>"
   ]
  },
  {
   "attachments": {},
   "cell_type": "markdown",
   "metadata": {},
   "source": [
    "<img src=\"http://drive.google.com/uc?export=view&id=1TBsdQ5RWdsj5BWOWsP2mbJgQu7dBAxUd\" width=750px>"
   ]
  },
  {
   "cell_type": "markdown",
   "metadata": {},
   "source": [
    "#### <font color='blue'> Deletion of linked list with only one node - Singly linked list </font>"
   ]
  },
  {
   "attachments": {},
   "cell_type": "markdown",
   "metadata": {},
   "source": [
    "<img src=\"http://drive.google.com/uc?export=view&id=146N8hB0HgPa6bXlpqszICddgUXI0-mTN\" width=750px>"
   ]
  },
  {
   "cell_type": "markdown",
   "metadata": {},
   "source": [
    "#### <font color='blue'> Deletion in the end - Singly linked list </font>"
   ]
  },
  {
   "attachments": {},
   "cell_type": "markdown",
   "metadata": {},
   "source": [
    "<img src=\"http://drive.google.com/uc?export=view&id=1H_NlVVHrR51lobAZTDR2TgynL84h31ey\" width=750px>"
   ]
  },
  {
   "cell_type": "markdown",
   "metadata": {},
   "source": [
    "#### <font color='blue'> Deletion in the middle - Singly linked list </font>"
   ]
  },
  {
   "attachments": {},
   "cell_type": "markdown",
   "metadata": {},
   "source": [
    "<img src=\"http://drive.google.com/uc?export=view&id=193nlHSQaxtDWIIkK-QweJvY48cEgp6Lg\" width=750px>"
   ]
  },
  {
   "cell_type": "markdown",
   "metadata": {},
   "source": [
    "#### <font color='blue'> Implementation time - Singly linked list - Deletion</font>"
   ]
  },
  {
   "cell_type": "code",
   "execution_count": 67,
   "metadata": {},
   "outputs": [],
   "source": [
    "from enum import Enum\n",
    "\n",
    "\n",
    "class InsertAt(Enum):\n",
    "    BEGINNING = 0\n",
    "    MIDDLE = 1\n",
    "    END = 2\n",
    "\n",
    "\n",
    "class DeleteFrom(Enum):\n",
    "    BEGINNING = 0\n",
    "    MIDDLE = 1\n",
    "    END = 2\n",
    "    EMPTY_LIST = 3\n",
    "\n",
    "class Node:\n",
    "    def __init__(self, data):\n",
    "        self.data = data\n",
    "        self.next = None\n",
    "\n",
    "    def __call__(self):\n",
    "        return self.data\n",
    "\n",
    "\n",
    "class LinkedList:\n",
    "    def __init__(self):\n",
    "        self.head = None\n",
    "        self.tail = None\n",
    "\n",
    "    def add_first_node_to_the_list(self, node_obj):\n",
    "        assert self.head is None, \"Invalid list\"\n",
    "        assert self.tail is None, \"Invalid list\"\n",
    "        self.head = node_obj\n",
    "        self.tail = node_obj\n",
    "\n",
    "    def add_node_in_the_end(self, node_obj):\n",
    "        assert self.tail, \"Invalid list\"\n",
    "        self.tail.next = node_obj\n",
    "        self.tail = node_obj\n",
    "\n",
    "    def show_list(self):\n",
    "        node = self.head\n",
    "        while node is not None:\n",
    "            print(node(), end=\" \")\n",
    "            node = node.next\n",
    "\n",
    "    def add_node_in_the_beginning(self, node_obj):\n",
    "        node_obj.next = self.head\n",
    "        self.head = node_obj\n",
    "\n",
    "    def add_node_in_the_middle(self, node_pos, node_obj):\n",
    "        node_obj.next = node_pos.next\n",
    "        node_pos.next = node_obj\n",
    "\n",
    "    def get_node_position(self, node_obj):\n",
    "        node = self.head\n",
    "        ret_pos = self.head\n",
    "        insert_type = InsertAt.BEGINNING\n",
    "        while node is not None:\n",
    "            if node_obj.data >= node.data:\n",
    "                if node == self.tail:\n",
    "                    ret_pos = self.tail\n",
    "                    insert_type = InsertAt.END\n",
    "                else:\n",
    "                    ret_pos = node\n",
    "                    insert_type = InsertAt.MIDDLE\n",
    "            node = node.next\n",
    "        return ret_pos, insert_type\n",
    "\n",
    "    def add_nodes_in_ascending_order(self, node_obj):\n",
    "        node_pos, insert_type = self.get_node_position(node_obj)\n",
    "        if node_pos == self.head and insert_type == InsertAt.BEGINNING:\n",
    "            self.add_node_in_the_beginning(node_obj)\n",
    "        elif node_pos == self.tail and insert_type == InsertAt.END:\n",
    "            self.add_node_in_the_end(node_obj)\n",
    "        else:\n",
    "            self.add_node_in_the_middle(node_pos, node_obj)\n",
    "\n",
    "    def find_node_for_deletion(self, data):\n",
    "        prev_node = None\n",
    "        node_to_delete = self.head\n",
    "        delete_type = None\n",
    "        ret_pos = None\n",
    "        while node_to_delete is not None:\n",
    "            if data == node_to_delete.data:\n",
    "                if node_to_delete == self.head == self.tail:  # list with only one element.\n",
    "                    delete_type = DeleteFrom.EMPTY_LIST\n",
    "                    ret_pos = self.head\n",
    "                elif node_to_delete == self.tail: # deleting last node. Pass reference of second last node.\n",
    "                    delete_type = DeleteFrom.END\n",
    "                    ret_pos = prev_node\n",
    "                elif node_to_delete == self.head:\n",
    "                    delete_type = DeleteFrom.BEGINNING\n",
    "                    ret_pos = self.head\n",
    "                else:  # delete a middle node. Pass reference to previous node.\n",
    "                    delete_type = DeleteFrom.MIDDLE\n",
    "                    ret_pos = prev_node\n",
    "            prev_node = node_to_delete\n",
    "            node_to_delete = node_to_delete.next\n",
    "        return ret_pos, delete_type\n",
    "\n",
    "    def delete_node(self, data):\n",
    "        if self.head:\n",
    "            node_before_to_delete_node, delete_type = self.find_node_for_deletion(data)\n",
    "            if delete_type == DeleteFrom.EMPTY_LIST:\n",
    "                self.delete_the_only_node()\n",
    "            elif delete_type == DeleteFrom.BEGINNING:\n",
    "                self.delete_head_node()\n",
    "            elif delete_type == DeleteFrom.END:\n",
    "                self.delete_tail_node(node_before_to_delete_node)\n",
    "            elif delete_type == DeleteFrom.MIDDLE:\n",
    "                self.delete_middle_node(node_before_to_delete_node)\n",
    "\n",
    "    def delete_the_only_node(self):\n",
    "        orphaned_node = self.head\n",
    "        self.head = None\n",
    "        self.tail = None\n",
    "        del orphaned_node\n",
    "\n",
    "    def delete_head_node(self):\n",
    "        orphaned_node = self.head\n",
    "        self.head = self.head.next\n",
    "        del orphaned_node\n",
    "\n",
    "    def delete_tail_node(self, node_before_to_delete_node):\n",
    "        orphaned_node = node_before_to_delete_node.next\n",
    "        node_before_to_delete_node.next = None\n",
    "        self.tail = node_before_to_delete_node\n",
    "        del orphaned_node\n",
    "\n",
    "    def delete_middle_node(self, node_before_to_delete_node):\n",
    "        orphaned_node = node_before_to_delete_node.next\n",
    "        node_before_to_delete_node.next = node_before_to_delete_node.next.next\n",
    "        del orphaned_node\n"
   ]
  },
  {
   "cell_type": "code",
   "execution_count": 68,
   "metadata": {},
   "outputs": [
    {
     "name": "stdout",
     "output_type": "stream",
     "text": [
      "2 3 4 5 7 12 \n"
     ]
    }
   ],
   "source": [
    "list = LinkedList()\n",
    "list.add_first_node_to_the_list(Node(3))\n",
    "\n",
    "list.add_nodes_in_ascending_order(Node(12))\n",
    "list.add_nodes_in_ascending_order(Node(4))\n",
    "list.add_nodes_in_ascending_order(Node(7))\n",
    "list.add_nodes_in_ascending_order(Node(5))\n",
    "list.add_nodes_in_ascending_order(Node(2))\n",
    "\n",
    "list.show_list()\n",
    "list.delete_node(12)\n",
    "list.delete_node(3)\n",
    "list.delete_node(7)\n",
    "list.delete_node(2)\n",
    "list.delete_node(5)\n",
    "list.delete_node(5)\n",
    "list.delete_node(4)\n",
    "list.delete_node(4)\n",
    "print()\n",
    "list.show_list()\n"
   ]
  },
  {
   "cell_type": "code",
   "execution_count": null,
   "metadata": {},
   "outputs": [],
   "source": []
  },
  {
   "cell_type": "markdown",
   "metadata": {},
   "source": [
    "#### <font color='blue'> Deletion in beginning - Doubly linked list </font>"
   ]
  },
  {
   "attachments": {},
   "cell_type": "markdown",
   "metadata": {},
   "source": [
    "<img src=\"http://drive.google.com/uc?export=view&id=11mRb7o3WB4JNZRbFTv4B3wp8jUbz4_AY\" width=750px>"
   ]
  },
  {
   "cell_type": "markdown",
   "metadata": {},
   "source": [
    "#### <font color='blue'> Deletion of linked list with only one node - Doubly linked list </font>"
   ]
  },
  {
   "attachments": {},
   "cell_type": "markdown",
   "metadata": {},
   "source": [
    "<img src=\"http://drive.google.com/uc?export=view&id=13_XZpGXJYB_tE4Xh_sTXkllMX0Bg2G3u\" width=750px>"
   ]
  },
  {
   "cell_type": "markdown",
   "metadata": {},
   "source": [
    "#### <font color='blue'> Deletion in the end - Doubly linked list </font>"
   ]
  },
  {
   "attachments": {},
   "cell_type": "markdown",
   "metadata": {},
   "source": [
    "<img src=\"http://drive.google.com/uc?export=view&id=1RXXXmZO0WGmlmI3JZQwhQ-LCcDklG50o\" width=750px>"
   ]
  },
  {
   "cell_type": "markdown",
   "metadata": {},
   "source": [
    "#### <font color='blue'> Deletion in the middle - Doubly linked list </font>"
   ]
  },
  {
   "attachments": {},
   "cell_type": "markdown",
   "metadata": {},
   "source": [
    "<img src=\"http://drive.google.com/uc?export=view&id=1d6eoginVue_9xmgasMsDDsvoJqy_G14K\" width=750px>"
   ]
  },
  {
   "cell_type": "markdown",
   "metadata": {},
   "source": [
    "#### <font color='blue'> Implementation time - Doubly linked list - Deletion</font>"
   ]
  },
  {
   "cell_type": "code",
   "execution_count": 78,
   "metadata": {},
   "outputs": [],
   "source": [
    "from enum import Enum\n",
    "\n",
    "\n",
    "class InsertAt(Enum):\n",
    "    BEGINNING = 0\n",
    "    MIDDLE = 1\n",
    "    END = 2\n",
    "\n",
    "\n",
    "class DeleteFrom(Enum):\n",
    "    BEGINNING = 0\n",
    "    MIDDLE = 1\n",
    "    END = 2\n",
    "    EMPTY_LIST = 3\n",
    "\n",
    "\n",
    "class Node:\n",
    "    def __init__(self, data):\n",
    "        self.prev = None\n",
    "        self.data = data\n",
    "        self.next = None\n",
    "\n",
    "    def __call__(self):\n",
    "        return self.data\n",
    "\n",
    "\n",
    "class LinkedList:\n",
    "    def __init__(self):\n",
    "        self.head = None\n",
    "        self.tail = None\n",
    "\n",
    "    def add_first_element_to_the_list(self, node_obj):\n",
    "        assert self.head is None, \"Invalid list\"\n",
    "        assert self.tail is None, \"Invalid list\"\n",
    "        self.head = node_obj\n",
    "        self.tail = node_obj\n",
    "\n",
    "    def add_node_in_the_end(self, node_obj):\n",
    "        assert self.tail, \"Invalid list\"\n",
    "        self.tail.next = node_obj\n",
    "        node_obj.prev = self.tail\n",
    "        self.tail = node_obj\n",
    "\n",
    "    def show_list(self, ascending=True):\n",
    "        if ascending:\n",
    "            node = self.head\n",
    "        else:\n",
    "            node = self.tail\n",
    "\n",
    "        while node is not None:\n",
    "            print(node(), end=\" \")\n",
    "            if ascending:\n",
    "                node = node.next\n",
    "            else:\n",
    "                node = node.prev\n",
    "\n",
    "    def add_node_in_the_beginning(self, node_obj):\n",
    "        node_obj.next = self.head\n",
    "        self.head.prev = node_obj\n",
    "        self.head = node_obj\n",
    "\n",
    "    def add_node_in_the_middle(self, node_pos, node_obj):\n",
    "        node_obj.prev = node_pos\n",
    "        node_obj.next = node_pos.next\n",
    "        node_obj.next.prev = node_obj\n",
    "        node_pos.next = node_obj\n",
    "\n",
    "    def get_node_position(self, node_obj):\n",
    "        node = self.head\n",
    "        ret_pos = self.head\n",
    "        insert_type = InsertAt.BEGINNING\n",
    "        while node is not None:\n",
    "            if node_obj.data >= node.data:\n",
    "                if node == self.tail:\n",
    "                    ret_pos = self.tail\n",
    "                    insert_type = InsertAt.END\n",
    "                else:\n",
    "                    ret_pos = node\n",
    "                    insert_type = InsertAt.MIDDLE\n",
    "            node = node.next\n",
    "        return ret_pos, insert_type\n",
    "\n",
    "    def add_nodes_in_ascending_order(self, node_obj):\n",
    "        node_pos, insert_type = self.get_node_position(node_obj)\n",
    "        if node_pos == self.head and insert_type == InsertAt.BEGINNING:\n",
    "            self.add_node_in_the_beginning(node_obj)\n",
    "        elif node_pos == self.tail and insert_type == InsertAt.END:\n",
    "            self.add_node_in_the_end(node_obj)\n",
    "        else:\n",
    "            self.add_node_in_the_middle(node_pos, node_obj)\n",
    "\n",
    "\n",
    "    def find_node_for_deletion(self, data):\n",
    "        prev_node = None\n",
    "        node_to_delete = self.head\n",
    "        delete_type = None\n",
    "        ret_pos = None\n",
    "        while node_to_delete is not None:\n",
    "            if data == node_to_delete.data:\n",
    "                if node_to_delete == self.head == self.tail: # list with only one element.\n",
    "                    delete_type = DeleteFrom.EMPTY_LIST\n",
    "                    ret_pos = self.head\n",
    "                elif node_to_delete == self.tail: # deleting last node. Pass reference of second last node.\n",
    "                    delete_type = DeleteFrom.END\n",
    "                    ret_pos = prev_node\n",
    "                elif node_to_delete == self.head:\n",
    "                    delete_type = DeleteFrom.BEGINNING\n",
    "                    ret_pos = self.head\n",
    "                else:  # delete a middle node. Pass reference to previous node.\n",
    "                    delete_type = DeleteFrom.MIDDLE\n",
    "                    ret_pos = prev_node\n",
    "            prev_node = node_to_delete\n",
    "            node_to_delete = node_to_delete.next\n",
    "        return ret_pos, delete_type\n",
    "\n",
    "    def delete_node(self, data):\n",
    "        node_before_to_delete_node, delete_type = self.find_node_for_deletion(data)\n",
    "        if delete_type == DeleteFrom.EMPTY_LIST:\n",
    "            self.delete_the_only_node()\n",
    "        elif delete_type == DeleteFrom.BEGINNING:\n",
    "            self.delete_head_node()\n",
    "        elif delete_type == DeleteFrom.END:\n",
    "            self.delete_tail_node(node_before_to_delete_node)\n",
    "        elif delete_type == DeleteFrom.MIDDLE:\n",
    "            self.delete_middle_node(node_before_to_delete_node)\n",
    "\n",
    "    def delete_the_only_node(self):\n",
    "        orphaned_node = self.head\n",
    "        self.head = None\n",
    "        self.tail = None\n",
    "        del orphaned_node\n",
    "\n",
    "    def delete_head_node(self):\n",
    "        orphaned_node = self.head\n",
    "        self.head = self.head.next\n",
    "        del orphaned_node\n",
    "\n",
    "    def delete_tail_node(self, node_before_to_delete_node):\n",
    "        orphaned_node = node_before_to_delete_node.next\n",
    "        node_before_to_delete_node.next = None\n",
    "        self.tail = node_before_to_delete_node\n",
    "        del orphaned_node\n",
    "\n",
    "    def delete_middle_node(self, node_before_to_delete_node):\n",
    "        orphaned_node = node_before_to_delete_node.next\n",
    "        node_before_to_delete_node.next = node_before_to_delete_node.next.next\n",
    "        del orphaned_node"
   ]
  },
  {
   "cell_type": "code",
   "execution_count": 79,
   "metadata": {},
   "outputs": [
    {
     "name": "stdout",
     "output_type": "stream",
     "text": [
      "2 3 4 5 7 12 \n"
     ]
    }
   ],
   "source": [
    "list = LinkedList()\n",
    "list.add_first_element_to_the_list(Node(3))\n",
    "\n",
    "list.add_nodes_in_ascending_order(Node(12))\n",
    "list.add_nodes_in_ascending_order(Node(4))\n",
    "list.add_nodes_in_ascending_order(Node(7))\n",
    "list.add_nodes_in_ascending_order(Node(5))\n",
    "list.add_nodes_in_ascending_order(Node(2))\n",
    "\n",
    "list.show_list()\n",
    "\n",
    "list.delete_node(12)\n",
    "list.delete_node(3)\n",
    "list.delete_node(7)\n",
    "list.delete_node(2)\n",
    "list.delete_node(5)\n",
    "list.delete_node(5)\n",
    "list.delete_node(4)\n",
    "list.delete_node(4)\n",
    "print()\n",
    "list.show_list()"
   ]
  },
  {
   "cell_type": "code",
   "execution_count": null,
   "metadata": {},
   "outputs": [],
   "source": []
  },
  {
   "cell_type": "markdown",
   "metadata": {},
   "source": [
    "### <font color='blue'> Implementation Circular linked list </font>"
   ]
  },
  {
   "cell_type": "code",
   "execution_count": null,
   "metadata": {},
   "outputs": [],
   "source": [
    "from enum import Enum\n",
    "\n",
    "\n",
    "class InsertAt(Enum):\n",
    "    BEGINNING = 0\n",
    "    MIDDLE = 1\n",
    "    END = 2\n",
    "\n",
    "\n",
    "class DeleteFrom(Enum):\n",
    "    BEGINNING = 0\n",
    "    MIDDLE = 1\n",
    "    END = 2\n",
    "    EMPTY_LIST = 3\n"
   ]
  },
  {
   "cell_type": "code",
   "execution_count": null,
   "metadata": {},
   "outputs": [],
   "source": [
    "class Node:\n",
    "    def __init__(self, data):\n",
    "        self.data = data\n",
    "        self.next = None\n",
    "\n",
    "    def __call__(self):\n",
    "        return self.data"
   ]
  },
  {
   "cell_type": "code",
   "execution_count": null,
   "metadata": {},
   "outputs": [],
   "source": [
    "class LinkedList:\n",
    "    def __init__(self):\n",
    "        self.head = None\n",
    "        self.tail = None\n",
    "\n",
    "    def add_first_node_to_the_list(self, node_obj):\n",
    "        assert self.head is None, \"Invalid list\"\n",
    "        assert self.tail is None, \"Invalid list\"\n",
    "        self.head = node_obj\n",
    "        self.tail = node_obj\n",
    "        node_obj.next = node_obj\n",
    "\n",
    "    def add_node_in_the_end(self, node_obj):\n",
    "        assert self.tail, \"Invalid list\"\n",
    "        self.tail.next = node_obj\n",
    "        self.tail = node_obj\n",
    "        node_obj.next = self.head\n",
    "\n",
    "    def show_list(self):\n",
    "        node = self.head\n",
    "        while True:\n",
    "            print(node(), end=\" \")\n",
    "            node = node.next\n",
    "            if node == self.head:\n",
    "                break\n",
    "\n",
    "    def add_node_in_the_beginning(self, node_obj):\n",
    "        node_obj.next = self.head\n",
    "        self.head = node_obj\n",
    "        self.tail.next = self.head\n",
    "\n",
    "\n",
    "    def add_node_in_the_middle(self, node_pos, node_obj):\n",
    "        node_obj.next = node_pos.next\n",
    "        node_pos.next = node_obj\n",
    "\n",
    "    def get_node_position(self, node_obj):\n",
    "        node = self.head\n",
    "        ret_pos = self.head\n",
    "        insert_type = InsertAt.BEGINNING\n",
    "        while True:\n",
    "            if node_obj.data >= node.data:\n",
    "                if node == self.tail:\n",
    "                    ret_pos = self.tail\n",
    "                    insert_type = InsertAt.END\n",
    "                else:\n",
    "                    ret_pos = node\n",
    "                    insert_type = InsertAt.MIDDLE\n",
    "            node = node.next\n",
    "            if node == self.head:\n",
    "                break\n",
    "        return ret_pos, insert_type\n",
    "\n",
    "    def add_nodes_in_ascending_order(self, node_obj):\n",
    "        node_pos, insert_type = self.get_node_position(node_obj)\n",
    "        if node_pos == self.head and insert_type == InsertAt.BEGINNING:\n",
    "            self.add_node_in_the_beginning(node_obj)\n",
    "        elif node_pos == self.tail and insert_type == InsertAt.END:\n",
    "            self.add_node_in_the_end(node_obj)\n",
    "        else:\n",
    "            self.add_node_in_the_middle(node_pos, node_obj)\n",
    "\n",
    "    def find_node_for_deletion(self, data):\n",
    "        prev_node = None\n",
    "        node_to_delete = self.head\n",
    "        delete_type = None\n",
    "        ret_pos = None\n",
    "        while True:\n",
    "            if data == node_to_delete.data:\n",
    "                if node_to_delete == self.head == self.tail:  # list with only one element.\n",
    "                    delete_type = DeleteFrom.EMPTY_LIST\n",
    "                    ret_pos = self.head\n",
    "                elif node_to_delete == self.tail: # deleting last node. Pass reference of second last node.\n",
    "                    delete_type = DeleteFrom.END\n",
    "                    ret_pos = prev_node\n",
    "                elif node_to_delete == self.head:\n",
    "                    delete_type = DeleteFrom.BEGINNING\n",
    "                    ret_pos = self.head\n",
    "                else:  # delete a middle node. Pass reference to previous node.\n",
    "                    delete_type = DeleteFrom.MIDDLE\n",
    "                    ret_pos = prev_node\n",
    "            prev_node = node_to_delete\n",
    "            node_to_delete = node_to_delete.next\n",
    "            if node_to_delete == self.head:\n",
    "                break\n",
    "        return ret_pos, delete_type\n",
    "\n",
    "    def delete_node(self, data):\n",
    "        if self.head:\n",
    "            node_before_to_delete_node, delete_type = self.find_node_for_deletion(data)\n",
    "            if delete_type == DeleteFrom.EMPTY_LIST:\n",
    "                self.delete_the_only_node()\n",
    "            elif delete_type == DeleteFrom.BEGINNING:\n",
    "                self.delete_head_node()\n",
    "            elif delete_type == DeleteFrom.END:\n",
    "                self.delete_tail_node(node_before_to_delete_node)\n",
    "            elif delete_type == DeleteFrom.MIDDLE:\n",
    "                self.delete_middle_node(node_before_to_delete_node)\n",
    "\n",
    "    def delete_the_only_node(self):\n",
    "        orphaned_node = self.head\n",
    "        self.head = None\n",
    "        self.tail = None\n",
    "        del orphaned_node\n",
    "\n",
    "    def delete_head_node(self):\n",
    "        orphaned_node = self.head\n",
    "        self.head = self.head.next\n",
    "        self.tail.next = self.head\n",
    "        del orphaned_node\n",
    "\n",
    "    def delete_tail_node(self, node_before_to_delete_node):\n",
    "        orphaned_node = node_before_to_delete_node.next\n",
    "        node_before_to_delete_node.next = self.head\n",
    "        self.tail = node_before_to_delete_node\n",
    "        del orphaned_node\n",
    "\n",
    "    def delete_middle_node(self, node_before_to_delete_node):\n",
    "        orphaned_node = node_before_to_delete_node.next\n",
    "        node_before_to_delete_node.next = node_before_to_delete_node.next.next\n",
    "        del orphaned_node\n",
    "\n",
    "\n",
    "def test1():\n",
    "    _list = LinkedList()\n",
    "    _list.add_first_node_to_the_list(Node(3))\n",
    "\n",
    "    _list.add_node_in_the_end(Node(2))\n",
    "    _list.add_node_in_the_end(Node(4))\n",
    "    _list.add_node_in_the_end(Node(7))\n",
    "    _list.add_node_in_the_end(Node(5))\n",
    "    _list.add_node_in_the_end(Node(12))\n",
    "    _list.show_list()\n",
    "\n",
    "\n",
    "def test2():\n",
    "    _list = LinkedList()\n",
    "    _list.add_first_node_to_the_list(Node(3))\n",
    "\n",
    "    _list.add_nodes_in_ascending_order(Node(12))\n",
    "    _list.add_nodes_in_ascending_order(Node(4))\n",
    "    _list.add_nodes_in_ascending_order(Node(7))\n",
    "    _list.add_nodes_in_ascending_order(Node(5))\n",
    "    _list.add_nodes_in_ascending_order(Node(2))\n",
    "\n",
    "    _list.show_list()\n",
    "\n",
    "\n",
    "def test3():\n",
    "    _list = LinkedList()\n",
    "    _list.add_first_node_to_the_list(Node(13))\n",
    "\n",
    "    _list.add_nodes_in_ascending_order(Node(12))\n",
    "    _list.add_nodes_in_ascending_order(Node(12))\n",
    "    _list.add_nodes_in_ascending_order(Node(1))\n",
    "    _list.add_nodes_in_ascending_order(Node(2))\n",
    "    _list.add_nodes_in_ascending_order(Node(4))\n",
    "    _list.add_nodes_in_ascending_order(Node(7))\n",
    "    _list.add_nodes_in_ascending_order(Node(5))\n",
    "    _list.add_nodes_in_ascending_order(Node(2))\n",
    "\n",
    "    _list.show_list()\n",
    "\n",
    "    _list.delete_node(12)\n",
    "    _list.delete_node(3)\n",
    "    _list.delete_node(7)\n",
    "    _list.delete_node(2)\n",
    "\n",
    "    print()\n",
    "    _list.show_list()\n",
    "\n",
    "test3()\n"
   ]
  },
  {
   "cell_type": "markdown",
   "metadata": {},
   "source": [
    "### <font color='blue'> Practice Exercises </font>\n",
    "\n",
    "There are two problems in this assignment: \n",
    "\n",
    "1. Finding the kth last element in the linked list. Please find the more details below:\n",
    "       \n",
    "> Given a singly linked list with some random node values. Write a  method that should accept an integer k and find the kth last element in the created linked list.  \n",
    "> You also have to implement the two methods ```insert_node()``` and ```list_print()```. \n",
    "   \n",
    "   \n",
    "2. You have 2 linked lists. Write a function that accepts 3 inputs. First two are the heads of two linked lists and the third is an arbitrary number. In this function you have to do the following...  \n",
    "> Identify the node in each list which has this arbitrary number as a data value.   \n",
    "> If it does not exist in both of the lists, the function shows a message that the \"arbitrary number\" is not a common number on both the lists and exits.  \n",
    "> If this number exists in both of the lists, then using this number, as a guide, merge the two lists after this number into a single file.  \n",
    "\n",
    "Refer the figure below, the arbitrary number here is 2. And once the first reference of 2 is identified in both the lists, from that point merge all the elements of the list.\n",
    " "
   ]
  },
  {
   "attachments": {},
   "cell_type": "markdown",
   "metadata": {},
   "source": [
    "<img src=\"http://drive.google.com/uc?export=view&id=1xF_hAZddRYg9fal8aYeYLhDJFQp0fk5t\" width=750px>"
   ]
  },
  {
   "cell_type": "markdown",
   "metadata": {},
   "source": [
    "### <font color='blue'> Practice Exercise 1 - Solution </font>"
   ]
  },
  {
   "cell_type": "code",
   "execution_count": 3,
   "metadata": {},
   "outputs": [
    {
     "name": "stdout",
     "output_type": "stream",
     "text": [
      "How many Nodes you want in the list: 5\n",
      "Elements in the linked list are: \n",
      "69-->62-->94-->58-->45-->None\n",
      "Enter the value of n: 2\n",
      "Node no. 2 from last is 58\n",
      "Enter the value of n: 1\n",
      "Node no. 1 from last is 45\n",
      "Enter the value of n: 4\n",
      "Node no. 4 from last is 62\n",
      "Enter the value of n: 6\n",
      "6 is greater than the no. of nodes in list\n"
     ]
    }
   ],
   "source": [
    "import random\n",
    "\n",
    "class Node:\n",
    "    def __init__(self, dataval=None):\n",
    "        self.data = dataval\n",
    "        self.next = None\n",
    "\n",
    "class SLinkedList:\n",
    "    def __init__(self):\n",
    "        self.head = None\n",
    "        \n",
    "    def insert_data(self, data):\n",
    "        new_node = Node(data)\n",
    "        \n",
    "        if self.head is None:\n",
    "            self.head = new_node\n",
    "        else:\n",
    "            curr = self.head\n",
    "            while(curr.next is not None):\n",
    "                curr = curr.next\n",
    "            curr.next = new_node\n",
    "\n",
    "    def listprint(self):\n",
    "        if self.head is None:\n",
    "            print(\"Linked list is empty.\")\n",
    "            return 0\n",
    "        else:\n",
    "            printval = self.head\n",
    "            print(\"Elements in the linked list are: \")\n",
    "            while printval is not None:\n",
    "                print(printval.data, end=\"-->\")\n",
    "                printval = printval.next\n",
    "            print(\"None\")\n",
    "            return 1\n",
    "\n",
    "    # method to find the nth element from the last node\n",
    "    def find_nth_from_end(self, n):\n",
    "        main_ptr = self.head\n",
    "        ref_ptr = self.head\n",
    "        \n",
    "        # maintaning a counter to traverse ref_ptr with one node\n",
    "        # loop will break once count will be equal to n\n",
    "        count = 0\n",
    "        if(self.head is not None):\n",
    "            while(count < n ):\n",
    "                # checking if ref_ptr is reached to the last node\n",
    "                if(ref_ptr is None):\n",
    "                    # Condition true means n given by user is greater than the number of elements in the linked list\n",
    "                    print(\"{} is greater than the no. of nodes in list\".format(n))\n",
    "                    return\n",
    "                # traversing the ref_ptr by one node\n",
    "                ref_ptr = ref_ptr.next\n",
    "                # incrementing the count\n",
    "                count += 1\n",
    "\n",
    "        # checking if all the nodes in linked lists are traversed \n",
    "        if(ref_ptr is None):\n",
    "            self.head = self.head.next\n",
    "            # boundary case\n",
    "            if(self.head is not None):\n",
    "                print(\"Node no. {} from last is {}\".format(n, main_ptr.data))\n",
    "        else:\n",
    "            # main case traversing main and ref node by one \n",
    "            # this loop will ensure that whe ref node is at the last node\n",
    "            # main node will be pointing to the nth last node of the given linked list\n",
    "            while(ref_ptr is not None):\n",
    "                main_ptr = main_ptr.next\n",
    "                ref_ptr = ref_ptr.next\n",
    "            print(\"Node no. {} from last is {}\".format(n, main_ptr.data))\n",
    "\n",
    "# do not edit anything\n",
    "if __name__ == \"__main__\":\n",
    "    List = SLinkedList()\n",
    "    total_nodes = int(input(\"How many Nodes you want in the list: \"))\n",
    "    for node in range(total_nodes):\n",
    "        data = random.randint(1,100)\n",
    "        List.insert_data(data)\n",
    "    List.listprint()\n",
    "    n = int(input(\"Enter the value of n: \"))\n",
    "    List.find_nth_from_end(n)\n",
    "    n = int(input(\"Enter the value of n: \"))\n",
    "    List.find_nth_from_end(n)\n",
    "    n = int(input(\"Enter the value of n: \"))\n",
    "    List.find_nth_from_end(n)\n",
    "    n = int(input(\"Enter the value of n: \"))\n",
    "    List.find_nth_from_end(n)"
   ]
  },
  {
   "cell_type": "markdown",
   "metadata": {},
   "source": [
    "#### <font color='blue'> Examples over Linked List </font>\n",
    "\n",
    "Consider the following Linked Lists, where there are two data points, first is the value in form of **a, b, c, d, e, f and g**. The other part if the node contains address of the next node of the linked list in form of **1000, 2000, 3000, 4000, 5000, 6000 and 7000**. \n",
    "\n",
    "Please assume that starting address for the first node is 1000, and it is passed to variable s. \n",
    "\n",
    "1. a|2000 --> b|3000 --> c|4000 --> d|5000 --> e|6000 --> f|7000 --> g|None  \n",
    "    \n",
    "    s = 1000  \n",
    "    \n",
    "    p = s.next.next.next \n",
    "    \n",
    "    s.next.next = p.next.next.next \n",
    "    \n",
    "    p.next.next.next.next = s.next\n",
    "    \n",
    "    print(s.next.next.next.next.next.next.data) \n",
    "    \n",
    "What will be the value printed on the console at the end of the program. \n",
    "    \n",
    "Consider the following Linked Lists, where there are two data points, first is the value in form of **a, b, c, d, e, f, g and h**. The other part if the node contains address of the next node of the linked list in form of **1000, 2000, 3000, 4000, 5000, 6000, 7000 and 8000**. \n",
    "\n",
    "2. a|2000 --> b|3000 --> c|4000 --> d|5000-->  e|6000 --> f|7000 --> g|8000--> h|None  \n",
    "    \n",
    "    s = 1000  \n",
    "    \n",
    "    p = s.next.next.next.next.next \n",
    "    \n",
    "    s.next.next.next.next = p.next.next  \n",
    "    \n",
    "    p.next.next.next = s.next.next.next  \n",
    "    \n",
    "    print(p.next.next.next.next.next.next.data)   \n",
    "    \n",
    "What will be the value printed on the console at the end of the program. \n"
   ]
  },
  {
   "cell_type": "markdown",
   "metadata": {},
   "source": [
    "### <font color='blue'> Advanced Exercises </font>"
   ]
  },
  {
   "cell_type": "markdown",
   "metadata": {},
   "source": [
    "1. Implement a stack using a singly linked list.  \n",
    "> The stack should provide functionality of pushing and popping elements from the stack.  \n",
    "> It should also be able to tell the depth of the stack.  \n",
    "> It should also provide a functionality of enlisting the elements stored at each stack.  \n",
    "> See if you can store different type of data elements at stacks.  \n",
    "\n",
    "2. Check the use of deque. Understand what it is? What is the functionality of deque? And how it can be used?"
   ]
  },
  {
   "cell_type": "code",
   "execution_count": null,
   "metadata": {},
   "outputs": [],
   "source": []
  }
 ],
 "metadata": {
  "kernelspec": {
   "display_name": "Python 3",
   "language": "python",
   "name": "python3"
  },
  "language_info": {
   "codemirror_mode": {
    "name": "ipython",
    "version": 3
   },
   "file_extension": ".py",
   "mimetype": "text/x-python",
   "name": "python",
   "nbconvert_exporter": "python",
   "pygments_lexer": "ipython3",
   "version": "3.8.5"
  }
 },
 "nbformat": 4,
 "nbformat_minor": 4
}
