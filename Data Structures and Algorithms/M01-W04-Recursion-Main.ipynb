{
 "cells": [
  {
   "cell_type": "markdown",
   "metadata": {},
   "source": [
    "# <font color='blue'> Table Of Contents </font>\n",
    "\n",
    "## <font color='blue'> Recursion </font>\n",
    "\n",
    "<font color='blue'>\n",
    "    \n",
    "* What is Recursion\n",
    "    * Parts of a recursive algorithm\n",
    "    * Iterative and recursive view and Recursive flow visualization\n",
    "        * Factorial \n",
    "        * Sorted Array check\n",
    "        * Fibonacci series\n",
    "        * List Iteration \n",
    "    * Endless loop, save yourself\n",
    "    * Decomposing a problem\n",
    "* Recurrence relation\n",
    "    * Examples of recurrence relation\n",
    "        * Fibonacci series\n",
    "        * Arbitrary sequence\n",
    "        * Factorial\n",
    "* Time and Space Complexity\n",
    "    * Factorial\n",
    "        * Iterative approach\n",
    "        * Recursive approach\n",
    "    * Fibonacci series\n",
    "        * Iterative approach\n",
    "        * Recursive approach\n",
    "\n",
    "* Trivia\n",
    "* Practice Problems    \n",
    "</font>"
   ]
  },
  {
   "cell_type": "markdown",
   "metadata": {},
   "source": [
    "### <font color='blue'> What is Recursion </font>"
   ]
  },
  {
   "cell_type": "markdown",
   "metadata": {},
   "source": [
    "It is a method of solving a problem, by reducing a problem reduced into a smaller problems of the same type.  \n",
    "Recursion solves such recursive problems by calling functions that call themselves from within the code of the function.  \n",
    "And such a function is called a ***Recursive*** function."
   ]
  },
  {
   "cell_type": "markdown",
   "metadata": {},
   "source": [
    "#### <font color='blue'> Parts of a recursive algorithm </font>"
   ]
  },
  {
   "cell_type": "markdown",
   "metadata": {},
   "source": [
    "Every recursive function has the following parts...  \n",
    "***Base Case*** is usually the smallest input and has an easily verifiable solution. This is also the mechanism that stops the function from calling itself forever.   \n",
    "***Recursive Case*** The recursive step is the set of all cases where a recursive call, or a function call to itself, is made.\n",
    "\n",
    "[Reference: Python Programming and Numerical Methods]"
   ]
  },
  {
   "cell_type": "markdown",
   "metadata": {},
   "source": [
    "#### <font color='blue'> Iterative and recursive view and Recursive flow visualization </font>"
   ]
  },
  {
   "cell_type": "markdown",
   "metadata": {},
   "source": [
    "<div class=\"alert alert-block alert-warning\">\n",
    "    <b>Note</b>: Any code that you write using recursion, can also be written using loops\n",
    "</div>"
   ]
  },
  {
   "cell_type": "markdown",
   "metadata": {},
   "source": [
    "#### <font color='blue'> &nbsp;&nbsp;&nbsp;&nbsp;&nbsp;&nbsp;Factorial</font>"
   ]
  },
  {
   "cell_type": "code",
   "execution_count": 12,
   "metadata": {},
   "outputs": [
    {
     "data": {
      "text/plain": [
       "1"
      ]
     },
     "execution_count": 12,
     "metadata": {},
     "output_type": "execute_result"
    }
   ],
   "source": [
    "# Iterative case - factorial\n",
    "\n",
    "def factorial_loop(number):\n",
    "    result = 1\n",
    "    for i in range(1, number+1):\n",
    "        result = result * i\n",
    "    return result\n",
    "\n",
    "factorial_loop(0)"
   ]
  },
  {
   "cell_type": "code",
   "execution_count": 13,
   "metadata": {},
   "outputs": [
    {
     "data": {
      "text/plain": [
       "120"
      ]
     },
     "execution_count": 13,
     "metadata": {},
     "output_type": "execute_result"
    }
   ],
   "source": [
    "# Recursive case - factorial\n",
    "def factorial(number):\n",
    "    if number == 0: # base case\n",
    "        return 1\n",
    "    return number * factorial(number-1) # recursive case\n",
    "\n",
    "factorial(5)\n",
    "        "
   ]
  },
  {
   "cell_type": "code",
   "execution_count": 11,
   "metadata": {},
   "outputs": [
    {
     "name": "stdout",
     "output_type": "stream",
     "text": [
      "5 * factorial(4)\n",
      "4 * factorial(3)\n",
      "3 * factorial(2)\n",
      "2 * factorial(1)\n",
      "1 * factorial(0)\n",
      "At the base case\n",
      "Returned - 1\n",
      "Returned - 1\n",
      "Returned - 2\n",
      "Returned - 6\n",
      "Returned - 24\n",
      "Returned - 120\n"
     ]
    },
    {
     "data": {
      "text/plain": [
       "120"
      ]
     },
     "execution_count": 11,
     "metadata": {},
     "output_type": "execute_result"
    }
   ],
   "source": [
    "# Factorial recursive visualization\n",
    "def factorial(number):\n",
    "    if number == 0:\n",
    "        print(\"At the base case\")\n",
    "        print(f\"Returned - 1\")\n",
    "        return 1\n",
    "    print(f\"{number} * factorial({number-1})\")\n",
    "    result = number * factorial(number-1)\n",
    "    print(f\"Returned - {result}\")\n",
    "    return result\n",
    "\n",
    "factorial(5)"
   ]
  },
  {
   "cell_type": "markdown",
   "metadata": {},
   "source": [
    "#### <font color='blue'> &nbsp;&nbsp;&nbsp;&nbsp;&nbsp;&nbsp;Check for sorted Array</font>"
   ]
  },
  {
   "cell_type": "code",
   "execution_count": null,
   "metadata": {},
   "outputs": [],
   "source": [
    "# Iterative case - sorted array check\n",
    "def sorted_array_loop(array):\n",
    "    if len(array) == 1:\n",
    "        return True \n",
    "    for ctr in range(1, len(array)): \n",
    "        if array[ctr-1] > array[ctr]:\n",
    "            return False\n",
    "    return True\n",
    "\n",
    "arr = [1, 2, 5, 6, 7]\n",
    "print(sorted_array_loop(arr))"
   ]
  },
  {
   "cell_type": "code",
   "execution_count": null,
   "metadata": {},
   "outputs": [],
   "source": [
    "# Recursive case - sorted array check\n",
    "def sorted_array(array):\n",
    "    if len(array) == 1:\n",
    "        return True # base case\n",
    "    return array[0] <= array[1] and sorted_array(array[1:]) # recursive case\n",
    "\n",
    "arr = [1, 2, 3, 4, 7, 6]\n",
    "print(sorted_array(arr))"
   ]
  },
  {
   "cell_type": "code",
   "execution_count": null,
   "metadata": {},
   "outputs": [],
   "source": [
    "# Recursive sorted array check visualization\n",
    "def sorted_array(array):\n",
    "    if len(array) == 1:\n",
    "        print(\"At the base case - True\")\n",
    "        return True\n",
    "    print(f\"return array[0] <= array[1] = {array[0] <= array[1]};  and sorted_array({array[1:]}\")\n",
    "    return array[0] <= array[1] and sorted_array(array[1:])\n",
    "\n",
    "arr = [1, 2, 3, 4, 5, 6]\n",
    "print(sorted_array(arr))"
   ]
  },
  {
   "cell_type": "markdown",
   "metadata": {},
   "source": [
    "#### <font color='blue'> &nbsp;&nbsp;&nbsp;&nbsp;&nbsp;&nbsp;Fibonacci Series</font>"
   ]
  },
  {
   "cell_type": "code",
   "execution_count": null,
   "metadata": {},
   "outputs": [],
   "source": [
    "# Iterative case - fibonacci\n",
    "def fibonacci_without_recursion(x):\n",
    "    num1 = 0\n",
    "    num2 = 0\n",
    "    for n in range(0,x):\n",
    "        if n == 0 or n == 1:\n",
    "            print(num2, end=', ')\n",
    "            num2 = 1\n",
    "        else:\n",
    "            num = num1 + num2\n",
    "            print(num, end=', ')\n",
    "            num1 = num2\n",
    "            num2 = num\n",
    "            \n",
    "    \n",
    "fibonacci_without_recursion(15)"
   ]
  },
  {
   "cell_type": "code",
   "execution_count": null,
   "metadata": {},
   "outputs": [],
   "source": [
    "# Recursive case - fibonacci\n",
    "def fibonacci(n):\n",
    "    if n == 0 or n == 1: # base case\n",
    "        return n\n",
    "    else:\n",
    "        return(fibonacci(n-1) + fibonacci(n-2)) # recursive case\n",
    "    \n",
    "\n",
    "print(\"Fibonacci sequence:\")\n",
    "for i in range(10):\n",
    "    print(fibonacci(i), end=', ')"
   ]
  },
  {
   "cell_type": "code",
   "execution_count": null,
   "metadata": {},
   "outputs": [],
   "source": [
    "# Recursive fibonacci visualization\n",
    "def fibonacci(n):\n",
    "    if n == 0 or n == 1:\n",
    "        print(n)\n",
    "        return n\n",
    "    else:\n",
    "        print(f\"return(fibonacci({n-1}) + fibonacci({n-2}))\")\n",
    "        return(fibonacci(n-1) + fibonacci(n-2))\n",
    "    \n",
    "\n",
    "fibonacci(10)    "
   ]
  },
  {
   "cell_type": "code",
   "execution_count": null,
   "metadata": {},
   "outputs": [],
   "source": [
    "# To print the whole sequence.\n",
    "print(\"Fibonacci sequence:\")\n",
    "for i in range(4):\n",
    "    print(fibonacci(i), end=', ')"
   ]
  },
  {
   "cell_type": "markdown",
   "metadata": {},
   "source": [
    "#### <font color='blue'> &nbsp;&nbsp;&nbsp;&nbsp;&nbsp;&nbsp;List Iteration</font>"
   ]
  },
  {
   "cell_type": "code",
   "execution_count": null,
   "metadata": {},
   "outputs": [],
   "source": [
    "# Iterative case - list iteration\n",
    "def list_iteration(elements):\n",
    "    for element in elements:\n",
    "        print(element, end = \", \")\n",
    "        \n",
    "my_list = [1,2,3,4,5,6,7,8,9,10]\n",
    "list_iteration(my_list)"
   ]
  },
  {
   "cell_type": "code",
   "execution_count": null,
   "metadata": {},
   "outputs": [],
   "source": [
    "# Recursive Case - list iteration\n",
    "def list_iteration(elements):\n",
    "    if len(elements) == 1: # base case\n",
    "        print(elements[0])\n",
    "        return\n",
    "    half = len(elements)//2 # recursive case\n",
    "    list_iteration(elements[: half])\n",
    "    list_iteration(elements[half:])\n",
    "        \n",
    "my_list = [1,2,3,4,5,6,7,8,9,10]\n",
    "list_iteration(my_list)"
   ]
  },
  {
   "cell_type": "code",
   "execution_count": null,
   "metadata": {},
   "outputs": [],
   "source": [
    "# Recursive list iteration visualization\n",
    "def list_iteration(elements):\n",
    "    print(elements)\n",
    "    if len(elements) == 1:\n",
    "        print(elements[0])\n",
    "        return\n",
    "    half = len(elements)//2\n",
    "    list_iteration(elements[: half])\n",
    "    list_iteration(elements[half:])\n",
    "        \n",
    "my_list = [1,2,3,4,5,6,7,8,9,10]\n",
    "list_iteration(my_list)"
   ]
  },
  {
   "cell_type": "markdown",
   "metadata": {},
   "source": [
    "#### <font color='blue'> Endless loop, save yourself</font>"
   ]
  },
  {
   "cell_type": "markdown",
   "metadata": {},
   "source": [
    "While writing a recursive function, it is quite common that the base case is not written properly.  \n",
    "In that case the program runs endlessly unless a program is hard stopped.  \n",
    "In Python there is a limit set to this. Which is 3000 by default.  \n",
    "It means that when a function recurses beyond this number Python will abruptly stop the function execution and throw the following error.  \n",
    "***RecursionError: maximum recursion depth exceeded in comparison***\n",
    "\n",
    "Use the function ```sys.getrecursionlimit()``` to check the present recursion limit\n",
    "\n",
    "You can change this limit by calling the function ```sys.setrecursionlimit(<number of valid recursions>)```"
   ]
  },
  {
   "cell_type": "code",
   "execution_count": 4,
   "metadata": {},
   "outputs": [
    {
     "name": "stdout",
     "output_type": "stream",
     "text": [
      "3000\n",
      "500\n"
     ]
    }
   ],
   "source": [
    "import sys\n",
    "\n",
    "print(sys.getrecursionlimit())\n",
    "sys.setrecursionlimit(500)\n",
    "print(sys.getrecursionlimit())"
   ]
  },
  {
   "cell_type": "markdown",
   "metadata": {},
   "source": [
    "#### <font color='blue'> Decomposing a problem </font>"
   ]
  },
  {
   "cell_type": "markdown",
   "metadata": {},
   "source": [
    "If you have noticed in the above examples, is that we were able to decompose the problem in a very good way. These are simple, easy to understand, short and free from bugs.  \n",
    "While working on any recursive problem, do ensure that you decompose the problem at hand properly."
   ]
  },
  {
   "cell_type": "markdown",
   "metadata": {},
   "source": [
    "### <font color='blue'> Recurrence relation </font>\n",
    "\n",
    "*Recurrence relation is an equation that is defined in the terms of itself.*  \n",
    "*A recurrence relation is an equation that defines a sequence based on some rule that gives the next term as a function of the previous term(s).*  \n",
    "\n",
    "* It is used to reduce complicated problem to an iterative process based on simpler versions of the problem.\n",
    "\n",
    "* Many algorithms particularly divide and conquer algorithms have time complexities which are naturally modeled by recurrence relations.  \n",
    "\n",
    "* If a recurrence relation exists for an operation, then the algorithm for such a relation can be written either iteratively or recursively.  \n",
    "\n",
    "* Recurrence relations are used to determine the running time of recursive programs – recurrence relations themselves are recursive. \n",
    "\n",
    "So based on the algorithm, we first try to ***derive*** a ***recurrence relation***, and once we derive it we try to solve the equation to identify the ***running time***."
   ]
  },
  {
   "cell_type": "markdown",
   "metadata": {},
   "source": [
    "#### <font color='blue'> Example of Recurrence relation </font>"
   ]
  },
  {
   "cell_type": "markdown",
   "metadata": {},
   "source": [
    "Now in the following examples we will learn how to define a relation. Let's look at the code."
   ]
  },
  {
   "cell_type": "markdown",
   "metadata": {},
   "source": [
    "#### <font color='blue'> &nbsp;&nbsp;&nbsp;&nbsp;Fibonacci series - recurrence relation </font>"
   ]
  },
  {
   "cell_type": "code",
   "execution_count": null,
   "metadata": {},
   "outputs": [],
   "source": [
    "def fibonacci(n):\n",
    "    if n == 0 or n == 1: # base case\n",
    "        return n\n",
    "    else:\n",
    "        return(fibonacci(n-1) + fibonacci(n-2)) # recursive case"
   ]
  },
  {
   "cell_type": "markdown",
   "metadata": {},
   "source": [
    "The most important point in the above code is that we know the ***recurrence relation***. Which is ***fibonacci(n-1) + fibonacci(n-2).***  \n",
    "What if we do not know this relation? Rather, how did we figure out that this is the ***recurrence relation*** or in general words the formula of calculating the fibonacci series?  \n",
    "In order to do this we actually have to derive a ***recurrence relation***.  And here are the steps... "
   ]
  },
  {
   "cell_type": "markdown",
   "metadata": {},
   "source": [
    "First, we see how a Fibonacci series looks like...  \n",
    "***0, 1, 1, 2, 3, 5, 8, 13, 21, 34, 55...***  \n",
    "\n",
    "We know the following... *(Generally for other sequences we may have to **find a pattern** in the sequence)*.\n",
    "1. First two numbers in the sequence are 0 and 1 respectively,\n",
    "2. From the third position onward, the number is sum of two previous numbers. And this trend continues.  \n",
    "\n",
    "So, based on this information, we first define the **base condition** and we denote this as  \n",
    "${F_0 = 0}$  \n",
    "${F_1 = 1}$  \n",
    "Subsequently, we can see that  \n",
    "${F_2 = F_1 + F_0 \\implies F_2 = 1 + 0 = 1}$  \n",
    "${F_3 = F_2 + F_1 \\implies F_3 = 1 + 1 = 2}$  \n",
    "${F_4 = F_3 + F_2 \\implies F_3 = 2 + 1 = 3}$  \n",
    "${F_5 = F_4 + F_3 \\implies F_5 = 3 + 2 = 5}$  \n",
    "\n",
    "${F_n = F_{n-1} + F_{n-2};}$    ${n \\ge 2}$, where  \n",
    "${F_0 = 0}$  \n",
    "${F_1 = 1}$  "
   ]
  },
  {
   "cell_type": "markdown",
   "metadata": {},
   "source": [
    "#### <font color='blue'> &nbsp;&nbsp;&nbsp;&nbsp;Arbitrary sequence - recurrence relation </font>"
   ]
  },
  {
   "cell_type": "markdown",
   "metadata": {},
   "source": [
    "Let's find a recurrence relation for the following sequence.  \n",
    "1, 5, 17, 53, 161, 485,...  \n",
    "${F_0 = 1}$  \n",
    "Now the pattern here we see is  - ***3*** x *previous number* + ***2***. That is  \n",
    "${3 * 1 + 2 = 5}$,   \n",
    "${3 * 5 + 2 = 17}$  \n",
    "${3 * 17 + 2 = 53}$, Hence  \n",
    "${F_1 = 3 \\times F_0 + 2} \\implies F_1 = 3 \\times 1 + 2 = 5$  \n",
    "${F_2 = 3 \\times F_1 + 2} \\implies F_2 = 3 \\times 5 + 2 = 17$  \n",
    "${F_3 = 3 \\times F_2 + 2} \\implies F_3 = 3 \\times 17 + 2 = 53$  \n",
    "\n",
    "${F_n = 3 \\times F_{n-1} + 2}; n \\ge 1$, where  \n",
    "${F_0 = 1}$  "
   ]
  },
  {
   "cell_type": "markdown",
   "metadata": {},
   "source": [
    "#### <font color='blue'> &nbsp;&nbsp;&nbsp;&nbsp;Factorial - recurrence relation </font>"
   ]
  },
  {
   "cell_type": "code",
   "execution_count": null,
   "metadata": {},
   "outputs": [],
   "source": [
    "def factorial(number):\n",
    "    if number == 0: # base case\n",
    "        return 1\n",
    "    return number * rec_factorial(number-1) # recursive case"
   ]
  },
  {
   "cell_type": "markdown",
   "metadata": {},
   "source": [
    "We know...  \n",
    "$0! = 1$  \n",
    "$1! = 1$  \n",
    "$2! = 2 \\times 1! = 2$  \n",
    "$3! = 3 \\times 2! = 6$  \n",
    "$4! = 4 \\times 3! = 24$  \n",
    "$5! = 5 \\times 4! = 120$  \n",
    "\n",
    "\n",
    "${F_0 = 0! = 1}$  \n",
    "${F_1 = 1! = 1}$  \n",
    "${F_2 = 2! = 2 \\times F_1 = 2}$  \n",
    "${F_3 = 3! = 3 \\times F_2 = 6}$  \n",
    "${F_4 = 4! = 4 \\times F_3 = 24}$  \n",
    "${F_5 = 5! = 5 \\times F_4 = 120}$  \n",
    "\n",
    "${F_n = n! = n \\times F_{n-1}; n \\ge 1}$, where  \n",
    "${F_0 = 0! = 1}$  \n",
    "\n",
    "${F_n = n! = 1 + n \\times F_{n-1}}$"
   ]
  },
  {
   "cell_type": "markdown",
   "metadata": {},
   "source": [
    "<div class=\"alert alert-block alert-warning\">\n",
    "    <b>Note</b>: If we cannot identify a pattern, we will not be able to define a recurrence relation. Generally these questions come with a context that helps in identifying a pattern.\n",
    "</div>"
   ]
  },
  {
   "cell_type": "markdown",
   "metadata": {},
   "source": [
    "### <font color='blue'> Time and Space Complexity </font>"
   ]
  },
  {
   "cell_type": "markdown",
   "metadata": {},
   "source": [
    "Above we have seen different examples where we have written the codes in recursive as well as iterative manner. Lets have a look at the time complexity for Factorial and Fibonacci series.  "
   ]
  },
  {
   "cell_type": "markdown",
   "metadata": {},
   "source": [
    "#### <font color='blue'> Factorial </font>"
   ]
  },
  {
   "cell_type": "markdown",
   "metadata": {},
   "source": [
    "#### <font color='blue'> &nbsp;&nbsp;&nbsp;&nbsp;Iterative Code </font>"
   ]
  },
  {
   "cell_type": "code",
   "execution_count": null,
   "metadata": {},
   "outputs": [],
   "source": [
    "def factorial_loop(number):\n",
    "    result = 1\n",
    "    for i in range(1, number+1):\n",
    "        result = result * i\n",
    "    return result"
   ]
  },
  {
   "cell_type": "markdown",
   "metadata": {},
   "source": [
    "#### <font color='blue'> &nbsp;&nbsp;&nbsp;&nbsp;&nbsp;&nbsp;Time complexity </font>\n",
    "\n",
    "As we can see the for loop is running once from 1 to n+1 resulting in iterating through n times. This obviously means that time complexity for the above code is O(n). \n",
    "\n",
    "#### <font color='blue'> &nbsp;&nbsp;&nbsp;&nbsp;&nbsp;&nbsp;Space complexity </font>\n",
    "\n",
    "Now lets have a look at the number of variables and extra space required when the function is executed. We have *result, i & number*. In result, if we look for integer values, even though if we will take size of class that is 24 Bytes. Then also it will consume 72 bytes. \n",
    "\n",
    "Also if we put attention we will realize that this number is in no way dependent on the number of inputs and it will remain same. Hence to we can say that space complexity is O(1). \n"
   ]
  },
  {
   "cell_type": "markdown",
   "metadata": {},
   "source": [
    "#### <font color='blue'> &nbsp;&nbsp;&nbsp;&nbsp;Recursive code </font>"
   ]
  },
  {
   "cell_type": "code",
   "execution_count": null,
   "metadata": {},
   "outputs": [],
   "source": [
    "def factorial(number):\n",
    "    if number == 0: # base case\n",
    "        return 1\n",
    "    return number * rec_factorial(number-1) # recursive case"
   ]
  },
  {
   "cell_type": "markdown",
   "metadata": {},
   "source": [
    "#### <font color='blue'> &nbsp;&nbsp;&nbsp;&nbsp;&nbsp;&nbsp;Time complexity</font>\n",
    "\n",
    "We already know about the recurrence relation of factorial. It is...  \n",
    "${F_n = n! = 1 + n \\times F_{n-1}}$\n",
    "\n",
    "*We use T for recurrence function hence changing f to T*  \n",
    "${T_n = 1 + T_{n-1}}$ for ${n \\ge 1}$  \n",
    "${T_0 = 1}$ for ${n = 0}$  \n",
    "\n",
    "This means that for the function ```factorial(n)``` the time it will take is ${T_n}$ which is represented a ${1 + T_{n-1}}$\n",
    "\n",
    "We know...  \n",
    "${T_n = 1 + T_{n-1}}$  \n",
    "${T_{n-1} = 1 + T_{n-2}}$   \n",
    "${T_{n-2} = 1 + T_{n-3}}$   \n",
    "\n",
    "Let's identify the time complexity of this equation using the substitution method...  \n",
    "We substitute ${T_{n-1}}$ in ${T_{n}}$  \n",
    "${T_n = 1 + 1 + T_{n-2} \\implies T_n = 2 + T_{n-2}}$  \n",
    "Similarly we substitute for ${T_{n-2}}$  \n",
    "${T_n = 2 + 1 + T_{n-3} \\implies T_n = 3 + T_{n-3}}$   \n",
    "When we do this for k times the equation will be\n",
    "${T_n = k + T_{n-k}}$  \n",
    "\n",
    "As we keep on solving this, we eventually will reach a point where n = 0. And at n = 0, ${T_n = 1}$  \n",
    "So we assume that ${n - k = 0 \\implies n = k}$  \n",
    "Solving the equation... ${T_n = k + T_{n-k}}$   \n",
    "${T_n = n + T_{n-n}}$  \n",
    "${T_n = n + T_{0}}$  \n",
    "${T_n = n + 1}$  \n",
    "\n",
    "This we eventually can written as O(n). \n"
   ]
  },
  {
   "cell_type": "markdown",
   "metadata": {},
   "source": [
    "#### <font color='blue'> &nbsp;&nbsp;&nbsp;&nbsp;&nbsp;&nbsp;Space complexity </font>\n",
    "\n",
    "If you look closely in the above implementation we do not have more than one integer variable, so obviously on that front we only have one variable resulting in 24 bytes in one function call. \n",
    "\n",
    "But this is here thing will become more interesting and role of stack will come into the picture, as it has been discussed above a data structure will be needed to maintain the status of all the function calls. \n",
    "\n",
    "In the above example we will have n function calls. It means the extra space that will be required to manage the over all execution space will be n. This will effectively increases the space complexity and overall space complexity will be O(n). "
   ]
  },
  {
   "cell_type": "markdown",
   "metadata": {},
   "source": [
    "#### <font color='blue'> Fibonacci Series </font>"
   ]
  },
  {
   "cell_type": "markdown",
   "metadata": {},
   "source": [
    "#### <font color='blue'> &nbsp;&nbsp;&nbsp;&nbsp;&nbsp;&nbsp;Iterative Code </font>"
   ]
  },
  {
   "cell_type": "code",
   "execution_count": 6,
   "metadata": {},
   "outputs": [
    {
     "name": "stdout",
     "output_type": "stream",
     "text": [
      "0, 1, 1, 2, 3, "
     ]
    }
   ],
   "source": [
    "def fibonacci_without_recursion(x):\n",
    "    num1 = 0\n",
    "    num2 = 0\n",
    "    for i, n in enumerate(range(0,x)):\n",
    "        if n == 0 or n == 1:\n",
    "            print(num2, end=', ')\n",
    "            num2 = 1\n",
    "        else:\n",
    "            num = num1 + num2\n",
    "            print(num, end=', ')\n",
    "            num1 = num2\n",
    "            num2 = num\n",
    "\n",
    "fibonacci_without_recursion(5)"
   ]
  },
  {
   "cell_type": "markdown",
   "metadata": {},
   "source": [
    "#### <font color='blue'> &nbsp;&nbsp;&nbsp;&nbsp;&nbsp;&nbsp;Time Complexity </font>"
   ]
  },
  {
   "cell_type": "markdown",
   "metadata": {},
   "source": [
    "When this function will be called once, the for loop will become the decisive statement that will dictate the time complexity for this algorithm.  \n",
    "In that for loop we have the condition that supports the base case. Obviously the given loop will run x times overall. This will surely result in time complexity of O(n).  "
   ]
  },
  {
   "cell_type": "markdown",
   "metadata": {},
   "source": [
    "#### <font color='blue'> &nbsp;&nbsp;&nbsp;&nbsp;&nbsp;&nbsp;Space Complexity </font>"
   ]
  },
  {
   "cell_type": "markdown",
   "metadata": {},
   "source": [
    "Similar to the older example here also, we do not have any list or additional data type that is dependent on the value of x/n. We have constant number of variables and irrespective of input no extra memory will be allocated. \n",
    "\n",
    "This will result in O(1) space complexity overall. "
   ]
  },
  {
   "cell_type": "markdown",
   "metadata": {},
   "source": [
    "#### <font color='blue'> &nbsp;&nbsp;&nbsp;&nbsp;&nbsp;&nbsp;Recursive Code </font>"
   ]
  },
  {
   "cell_type": "code",
   "execution_count": null,
   "metadata": {},
   "outputs": [],
   "source": [
    "def fibonacci(n):\n",
    "    if n == 0 or n == 1: # base case\n",
    "        return n\n",
    "    else:\n",
    "        return(fibonacci(n-1) + fibonacci(n-2)) # recursive case"
   ]
  },
  {
   "cell_type": "markdown",
   "metadata": {},
   "source": [
    "#### <font color='blue'> &nbsp;&nbsp;&nbsp;&nbsp;&nbsp;&nbsp;Time Complexity </font>"
   ]
  },
  {
   "cell_type": "markdown",
   "metadata": {},
   "source": [
    "We already know about the recurrence relation of fibonacci series. It is...  \n",
    "${F_n = F_{n-1} + F_{n-2};}$    ${n \\ge 2}$, where  \n",
    "${F_0 = 0}$  \n",
    "${F_1 = 1}$ \n",
    "\n",
    "*We use T for recurrence function hence changing f to T*  \n",
    "${T_n = T_{n-1} + T_{n-2} + 1}$ for ${n \\ge 2}$  \n",
    "${T_0 = 0}$ for ${n = 0}$  \n",
    "${T_1 = 1}$ for ${n = 1}$  \n",
    "\n",
    "This means that for the function ```fibonacci(n)``` the time it will take is ${T_n}$ which is represented as ${T_{n-1} + T_{n-2} + 1}$\n",
    "\n",
    "This time to calculate the time complexity, we will use the **approximation** technique.  \n",
    "We assume that ${T_{n-2}} \\approx {T_{n-1}}$, remember the time taken to evaluate ${T_{n-1}}$ will be more than ${T_{n-2}}$  \n",
    "In other words ${T_{n-2} \\le T_{n-1}}$\n",
    "\n",
    "Substituting the value of ${T_{n-2}} \\approx {T_{n-1}}$ in our formula ${T_n = T_{n-1} + T_{n-2} + 1}$ for ${n \\ge 2}$\n",
    "\n",
    "${T_n = T_{n-1} + T_{n-1} + 1}$  \n",
    "${T_n = 2\\times T_{n-1}  + 1}$  \n",
    "Now, we know  \n",
    "${T_{n-1} = 2 \\times T_{n-2}  + 1}$,  \n",
    "${T_{n-2} = 2 \\times T_{n-3}  + 1}$  \n",
    "${T_{n-3} = 2 \\times T_{n-4}  + 1}$  \n",
    "\n",
    "Substituting these value to ${T_{n}}$   \n",
    "${T_n = 2(2 \\times T_{n-2}  + 1)  + 1 \\implies T_n = 2^2 \\times T_{n-2} + 3 \\implies T_n = 2^2 \\times T_{n-2} + 2^2-1}$  \n",
    "${T_n = 2^2(2 \\times T_{n-3}  + 1)  + 3 \\implies T_n = 2^3 \\times T_{n-3} + 7 \\implies T_n = 2^3 \\times T_{n-3} + 2^3-1}$  \n",
    "${T_n = 2^3(2 \\times T_{n-4}  + 1)  + 7 \\implies T_n = 2^4 \\times T_{n-4} + 15 \\implies T_n = 2^4 \\times T_{n-4} + 2^4-1}$  \n",
    "Doing this substitution for k times  \n",
    "${T_n = 2^k(2 \\times T_{n-k}  + 1) + 2^k-1}$,  \n",
    "Considering k = n, n-k = 0, For ${T_0}$ = 0. So the equation is...  \n",
    "\n",
    "${T_n = 2^n(2 \\times T_{n-n}  + 1) + 2^n-1 \\implies 2^n \\times 2T_{0}  + 2^n-1 \\implies 2^n + 2^n = O(2^n)}$"
   ]
  },
  {
   "cell_type": "markdown",
   "metadata": {},
   "source": [
    "#### <font color='blue'> &nbsp;&nbsp;&nbsp;&nbsp;&nbsp;&nbsp;Space Complexity </font>"
   ]
  },
  {
   "cell_type": "markdown",
   "metadata": {},
   "source": [
    "Again it will directly depend on the number of function calls we are doing and memory required will be dependent on the number of function calls happening. Lets see how the function call will happen and what it will look like. "
   ]
  },
  {
   "attachments": {
    "Space%20Complexity.jpeg": {
     "image/jpeg": "[encoded data removed]"
    }
   },
   "cell_type": "markdown",
   "metadata": {},
   "source": [
    "\n",
    "![Space%20Complexity.jpeg](attachment:Space%20Complexity.jpeg)\n",
    "\n",
    "[Recursive tree](https://medium.com/launch-school/recursive-fibonnaci-method-explained-d82215c5498e)\n",
    "\n",
    "As we can see there are n levels, so total space required will be O(n). "
   ]
  },
  {
   "cell_type": "markdown",
   "metadata": {},
   "source": [
    "#### <font color='blue'> Space complexity of a recursive function </font>\n",
    "\n",
    "To calculate the sapce complexity for any recursive function we need to create the recursive tree of the given function calls. Height of that tree will become the total space required for that tree. \n",
    "\n",
    "Its very interesting to understand more deeply about creating the recursive tree and finding the height of it. For that you can visit the [here](https://stackoverflow.com/questions/33590205/how-do-you-find-the-space-complexity-of-recursive-functions-such-as-this-one) and [here](https://stackoverflow.com/questions/43298938/space-complexity-of-recursive-function/59227813#:~:text=Our%20memory%20complexity%20is%20determined,is%20O(recursion%20depth)%20.). "
   ]
  },
  {
   "cell_type": "markdown",
   "metadata": {},
   "source": [
    "### <font color='blue'> Trivia </font>"
   ]
  },
  {
   "cell_type": "code",
   "execution_count": null,
   "metadata": {},
   "outputs": [],
   "source": [
    "def factorial(number):\n",
    "    if number == 1: # base case\n",
    "        return 1\n",
    "    return number * rec_factorial(number-1) # recursive case\n",
    "\n",
    "factorial(5)"
   ]
  },
  {
   "cell_type": "markdown",
   "metadata": {},
   "source": [
    "In the above example, how many times will the base condition be True"
   ]
  },
  {
   "cell_type": "code",
   "execution_count": null,
   "metadata": {},
   "outputs": [],
   "source": [
    "def fibonacci(n):\n",
    "    if n == 0 or n == 1:\n",
    "        print(n)\n",
    "        return n\n",
    "    else:\n",
    "        print(f\"return(fibonacci({n-1}) + fibonacci({n-2}))\")\n",
    "        return(fibonacci(n-1) + fibonacci(n-2))\n",
    "    \n",
    "\n",
    "fibonacci(5)  "
   ]
  },
  {
   "cell_type": "markdown",
   "metadata": {},
   "source": [
    "In the above example how many times will the base condition be True"
   ]
  },
  {
   "cell_type": "code",
   "execution_count": null,
   "metadata": {},
   "outputs": [],
   "source": [
    "# Recursive Case\n",
    "def list_iteration(elements):\n",
    "    if len(elements) == 1: # base case\n",
    "        print(elements[0])\n",
    "        return\n",
    "    half = len(elements)//2 # recursive case\n",
    "    list_iteration(elements[: half])\n",
    "    list_iteration(elements[half:])\n",
    "        \n",
    "my_list = [1,2,3,4,5,6,7,8,9,10]\n",
    "list_iteration(my_list)"
   ]
  },
  {
   "cell_type": "markdown",
   "metadata": {},
   "source": [
    "In the above example how many times will the base condition be True"
   ]
  },
  {
   "cell_type": "markdown",
   "metadata": {},
   "source": [
    "While working on the Fibonacci  series, you must have noticed, especially when print the whole list of numbers, that the function is called recursively for each number. For example when we wish to print the Fibonacci sequence, the Fibonacci series is generated for each number.  \n",
    "This makes it a very expensive function.  \n",
    "Question is how can we improve this on time complexity."
   ]
  },
  {
   "cell_type": "code",
   "execution_count": null,
   "metadata": {},
   "outputs": [],
   "source": [
    "# Recursive fibonacci - with momoization - version - 1\n",
    "fib_vals = {0:0, 1:1}\n",
    "fib_keys = fib_vals.keys()\n",
    "\n",
    "def fibonacci(n):\n",
    "    if n == 0 or n == 1:\n",
    "        print(n)\n",
    "        return n\n",
    "    else:\n",
    "        if n in fib_keys:\n",
    "            return fib_vals[n]\n",
    "        else:\n",
    "            print(f\"return(fibonacci({n-1}) + fibonacci({n-2}))\")\n",
    "            fib_vals[n] = fibonacci(n-1) + fibonacci(n-2)\n",
    "            print(fib_vals[n])\n",
    "            return fib_vals[n]\n",
    "    \n",
    "\n",
    "fibonacci(10)\n",
    "print(fib_vals)"
   ]
  },
  {
   "cell_type": "code",
   "execution_count": null,
   "metadata": {},
   "outputs": [],
   "source": [
    "# Recursive fibonacci - with momoization - version - 2\n",
    "fib_vals = {0:0, 1:1}\n",
    "fib_keys = fib_vals.keys()\n",
    "\n",
    "def fibonacci(n):\n",
    "    if n == 0 or n == 1:\n",
    "        print(n)\n",
    "        return n\n",
    "    else:\n",
    "        if n not in fib_keys:\n",
    "            fib_vals[n] = fibonacci(n-1) + fibonacci(n-2)\n",
    "        \n",
    "        print(f\"return(fibonacci({n-1}) + fibonacci({n-2}))\")\n",
    "        print(fib_vals[n])\n",
    "        return fib_vals[n]\n",
    "    \n",
    "\n",
    "fibonacci(10)\n",
    "print(fib_vals)"
   ]
  },
  {
   "cell_type": "code",
   "execution_count": null,
   "metadata": {},
   "outputs": [],
   "source": [
    "# Recursive fibonacci - with momoization - version - 3\n",
    "fib_vals = {0:0, 1:1}\n",
    "fib_keys = fib_vals.keys()\n",
    "\n",
    "def fibonacci(n):\n",
    "    if n not in fib_keys:\n",
    "        fib_vals[n] = fibonacci(n - 1) + fibonacci(n - 2)\n",
    "\n",
    "    print(f\"return(fibonacci({n - 1}) + fibonacci({n - 2}))\")\n",
    "    print(fib_vals[n])\n",
    "    return fib_vals[n]"
   ]
  },
  {
   "cell_type": "code",
   "execution_count": null,
   "metadata": {},
   "outputs": [],
   "source": [
    "# Recursive fibonacci visualization without memoization\n",
    "def fibonacci(n):\n",
    "    if n == 0 or n == 1:\n",
    "        print(n)\n",
    "        return n\n",
    "    else:\n",
    "        print(f\"return(fibonacci({n-1}) + fibonacci({n-2}))\")\n",
    "        return(fibonacci(n-1) + fibonacci(n-2))\n",
    "    \n",
    "\n",
    "fibonacci(10) "
   ]
  },
  {
   "cell_type": "markdown",
   "metadata": {},
   "source": [
    "## <font color='blue'> Practice Problems </font>"
   ]
  },
  {
   "cell_type": "markdown",
   "metadata": {},
   "source": [
    "#### Find a way of implementing memoization in fibonacci using ```functools``` module."
   ]
  },
  {
   "cell_type": "code",
   "execution_count": null,
   "metadata": {},
   "outputs": [],
   "source": []
  },
  {
   "cell_type": "markdown",
   "metadata": {},
   "source": [
    "#### Write recursive algorithm to multiply two positive numbers. \n",
    "       "
   ]
  },
  {
   "cell_type": "code",
   "execution_count": null,
   "metadata": {},
   "outputs": [],
   "source": []
  },
  {
   "cell_type": "markdown",
   "metadata": {},
   "source": [
    "#### Write recursive algorithm to find GCD of m & n  two positive number. "
   ]
  },
  {
   "cell_type": "code",
   "execution_count": null,
   "metadata": {},
   "outputs": [],
   "source": []
  }
 ],
 "metadata": {
  "kernelspec": {
   "display_name": "Python 3",
   "language": "python",
   "name": "python3"
  },
  "language_info": {
   "codemirror_mode": {
    "name": "ipython",
    "version": 3
   },
   "file_extension": ".py",
   "mimetype": "text/x-python",
   "name": "python",
   "nbconvert_exporter": "python",
   "pygments_lexer": "ipython3",
   "version": "3.8.5"
  }
 },
 "nbformat": 4,
 "nbformat_minor": 5
}
