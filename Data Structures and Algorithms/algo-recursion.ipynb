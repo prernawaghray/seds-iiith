{
 "cells": [
  {
   "cell_type": "markdown",
   "metadata": {},
   "source": [
    "Recursion == Looping\n",
    "    fn defn has reference or calls itself\n",
    "    n! = n*(n-1)! -> EXPANSION\n",
    "    0! = 1 -> TERMINATION\n",
    "\n",
    "    4! = 24\n",
    "    4*3!\n",
    "    4*3*2!\n",
    "    4*3*2*1!\n",
    "    4*3*2*1*1 \n",
    "\n",
    "val   1 1 2 3 5 8 13 21\n",
    "index 1 2 3 4 5 6  7  8\n",
    "F(n) = F(n-1) + F(n-2)\n",
    "F(2) = 1\n",
    "F(1) = 1\n",
    "\n",
    "F(5) = F(4) + F(3)\n",
    "    = F(3) + F(2) + F(2) + F(1)\n",
    "    = F(2) + F(1) + 1 + 1 + 1\n",
    "    = 1 + 1 + 3\n",
    "    = 5"
   ]
  },
  {
   "cell_type": "code",
   "execution_count": 23,
   "metadata": {},
   "outputs": [
    {
     "name": "stdout",
     "output_type": "stream",
     "text": [
      "error\n"
     ]
    }
   ],
   "source": [
    "def fact(n):\n",
    "    #if n==0 : return 1\n",
    "    #print(n)\n",
    "    return n*fact(n-1)\n",
    "\n",
    "try:\n",
    "    print(fact(100))\n",
    "except:\n",
    "    print('error')"
   ]
  },
  {
   "cell_type": "code",
   "execution_count": 56,
   "metadata": {},
   "outputs": [
    {
     "data": {
      "text/plain": [
       "102334155"
      ]
     },
     "execution_count": 56,
     "metadata": {},
     "output_type": "execute_result"
    }
   ],
   "source": [
    "import functools\n",
    "\n",
    "@functools.lru_cache\n",
    "def fib(n):\n",
    "    if n<=2 : return 1 #3\n",
    "    else : return fib(n-1) + fib(n-2)\n",
    "\n",
    "#for i in range(30): print(fib(i))\n",
    "fib(40)"
   ]
  },
  {
   "cell_type": "markdown",
   "metadata": {},
   "source": [
    "              40\n",
    "        39          38\n",
    "    38      37   37   36\n",
    "   37 36   36 35 36 35 35 34\n",
    "   \n",
    "cache\n",
    "saving earlier results = memoization"
   ]
  },
  {
   "cell_type": "markdown",
   "metadata": {},
   "source": [
    "T(n) = 3 if n<=2\n",
    "       T(n-1) + T(n-2) otherwise\n",
    "= (3 + T(n-2) + T(n-3)) + (3 + T(n-3) + T(n-4))\n",
    "= etc\n",
    "\n",
    "T(n) <= 2T(n-1)\n",
    "<= 2*2*2*2T(n-4)\n",
    "<=2^k T(n-k)\n",
    "T(n) <=3 x 2^n at n=k\n",
    "O(2^n)"
   ]
  },
  {
   "cell_type": "code",
   "execution_count": 22,
   "metadata": {},
   "outputs": [
    {
     "name": "stdout",
     "output_type": "stream",
     "text": [
      "300\n"
     ]
    },
    {
     "data": {
      "text/plain": [
       "50"
      ]
     },
     "execution_count": 22,
     "metadata": {},
     "output_type": "execute_result"
    }
   ],
   "source": [
    "import sys\n",
    "print(sys.getrecursionlimit())\n",
    "sys.setrecursionlimit(50)\n",
    "sys.getrecursionlimit()"
   ]
  },
  {
   "cell_type": "code",
   "execution_count": 25,
   "metadata": {},
   "outputs": [
    {
     "data": {
      "text/plain": [
       "0"
      ]
     },
     "execution_count": 25,
     "metadata": {},
     "output_type": "execute_result"
    }
   ],
   "source": [
    "#Find least/min element\n",
    "def find_min(arr):\n",
    "    val = arr[0]\n",
    "    for i in range(1,len(arr)):\n",
    "        if val > arr[i] : val = arr[i]\n",
    "    return val\n",
    "\n",
    "find_min([7,1,6,3,4,0])"
   ]
  },
  {
   "cell_type": "markdown",
   "metadata": {},
   "source": [
    "termination: \n",
    "    len(arr) = 0  return undef\n",
    "    len(arr) = 1 return arr[0]\n",
    "expansion\n",
    "    val = arr.pop()\n",
    "    if val < find_min(arr) : return val\n",
    "    else : return find_min(arr)\n",
    "\n",
    "[7, 2, 0, 8, 1, 9]\n",
    "val 9\n",
    "find_min([7, 2, 0, 8, 1])\n"
   ]
  },
  {
   "cell_type": "code",
   "execution_count": 33,
   "metadata": {},
   "outputs": [
    {
     "name": "stdout",
     "output_type": "stream",
     "text": [
      "[7] 2 7\n",
      "[7] 0 2\n",
      "[7] 8 0\n",
      "[7] 1 0\n",
      "[7] 9 0\n"
     ]
    },
    {
     "data": {
      "text/plain": [
       "0"
      ]
     },
     "execution_count": 33,
     "metadata": {},
     "output_type": "execute_result"
    }
   ],
   "source": [
    "def find_min_rec(arr):\n",
    "    if len(arr) == 0 : return \"undef\" #3\n",
    "    if len(arr) == 1 : return arr[0] #3\n",
    "    val = arr.pop() #2\n",
    "    minval = find_min_rec(arr) #T(n-1) + 1\n",
    "    #print(arr,val,minval)\n",
    "    if val < minval : return val #3\n",
    "    else : return minval #1\n",
    "\n",
    "x1 = [7, 2, 0, 8, 1, 9]\n",
    "#find_min_rec(x1)\n",
    "find_min_rec(x1)"
   ]
  },
  {
   "cell_type": "markdown",
   "metadata": {},
   "source": [
    "T(n) =  3 if n=0\n",
    "        3 if n=1\n",
    "        T(n-1) + \n",
    "T(n) = 11k + T(n-k)\n",
    "at n = k T(n) = 11n + 3 = O(n)\n",
    "\n",
    "10n + 100 <= T(n) <= 11n + 3\n",
    "\n",
    "T(n) = O(f(n)) - ub\n",
    "T(n) <= kf(n) + c\n",
    "\n",
    "T(n) = theta(f(n)) - exact \n",
    "T(n) = kf(n) + c\n",
    "\n",
    "T(n) = omega(f(n)) -lb\n",
    "T(n) >= kf(n) + c"
   ]
  },
  {
   "cell_type": "code",
   "execution_count": 46,
   "metadata": {},
   "outputs": [
    {
     "data": {
      "text/plain": [
       "'found'"
      ]
     },
     "execution_count": 46,
     "metadata": {},
     "output_type": "execute_result"
    }
   ],
   "source": [
    "def linear_search(arr,key):\n",
    "    if len(arr)==0 : return \"array undefined\" #3\n",
    "    if len(arr)==1 : #2\n",
    "        if arr[0]==key: return \"found\" #3\n",
    "        else : return \"not found\" #1\n",
    "    val = arr.pop() #2\n",
    "    if val==key : return \"found\" #2\n",
    "    else: return linear_search(arr,key) #T(n-1)\n",
    "\n",
    "x2 = [\"abc\",\"xyz\",\"def\",\"aaa\"]\n",
    "linear_search([\"yyy\"],\"yyy\")"
   ]
  },
  {
   "cell_type": "markdown",
   "metadata": {},
   "source": [
    "Recurrance rel\n",
    "\n",
    "T(n) =  3 if n=0\n",
    "        5 if n=1\n",
    "        8 + T(n-1) otherwise\n",
    "T(n) = 8 + 8 + 8 + 8 + T(n-4)\n",
    "T(n) = 8k + T(n-k) #closed\n",
    "at n = k\n",
    "T(n) = 8k + 3 = 8n + 3 = O(n)\n"
   ]
  },
  {
   "cell_type": "code",
   "execution_count": 1,
   "metadata": {},
   "outputs": [
    {
     "name": "stdout",
     "output_type": "stream",
     "text": [
      "ERROR: Could not find file /tmp/ipykernel_188635/3615094013.py\n",
      "ERROR: Could not find file /tmp/ipykernel_188635/3615094013.py\n",
      "ERROR: Could not find file /tmp/ipykernel_188635/3615094013.py\n",
      "ERROR: Could not find file /tmp/ipykernel_188635/3615094013.py\n",
      "ERROR: Could not find file /tmp/ipykernel_188635/3615094013.py\n",
      "ERROR: Could not find file /tmp/ipykernel_188635/3615094013.py\n",
      "ERROR: Could not find file /tmp/ipykernel_188635/3615094013.py\n",
      "ERROR: Could not find file /tmp/ipykernel_188635/3615094013.py\n",
      "ERROR: Could not find file /tmp/ipykernel_188635/3615094013.py\n"
     ]
    },
    {
     "data": {
      "text/plain": [
       "5"
      ]
     },
     "execution_count": 1,
     "metadata": {},
     "output_type": "execute_result"
    }
   ],
   "source": [
    "from memory_profiler import profile\n",
    "\n",
    "@profile\n",
    "def fib(n):\n",
    "    if n<=2 : return 1 #3\n",
    "    else : return fib(n-1) + fib(n-2)\n",
    "\n",
    "#for i in range(30): print(fib(i))\n",
    "fib(5)"
   ]
  },
  {
   "cell_type": "markdown",
   "metadata": {},
   "source": [
    "11,22,33,44,    55,66,77,88,99 key=100\n",
    "66,77,      88,99\n",
    "99\n",
    "Write a recursive binary search\n"
   ]
  },
  {
   "cell_type": "code",
   "execution_count": 54,
   "metadata": {},
   "outputs": [],
   "source": [
    "def bin_search(arr,key):\n",
    "    if len(arr) == 0 : return 'undef' #3\n",
    "    if len(arr) == 1 : pass #do the check #4\n",
    "    midpos = len(arr)//2 #2\n",
    "    midval = arr[midpos] #2\n",
    "    if midval==key : return 'found' #3\n",
    "    if midval < key : return bin_search(arr[: midpos]) #T(n/2)\n",
    "    else : return bin_search(arr[midpos + 1 :]) #T(n/2)"
   ]
  },
  {
   "cell_type": "markdown",
   "metadata": {},
   "source": [
    "T(n) = 6 if n<=1\n",
    "     = T(n/2) + 7 otherwise\n",
    "     = 7 + (7 + T(n/4))\n",
    "     = 2x7 + (7 + T(n/8))\n",
    "     = 3x7 + (7 + T(n/16))\n",
    "     = 4x7 + T(n/2^4)\n",
    "     = 7k + T(n/2^k)\n",
    "     at n = 2^k\n",
    "     = 7log2n + 6\n",
    "O(log2(n)) "
   ]
  },
  {
   "cell_type": "markdown",
   "metadata": {},
   "source": [
    "T(n) = 5 if n<=1\n",
    "     T(n/3) + 10\n",
    "\n",
    "     10 + (10 + T(n/9))\n",
    "     3x10 + T(n/3^3)\n",
    "     10k + T(n/3^k)\n",
    "     at n=3^k\n",
    "     10k + 5\n",
    "     10log3n + 5\n",
    "\n",
    "O(log3(n))"
   ]
  }
 ],
 "metadata": {
  "colab": {
   "collapsed_sections": [
    "tYxRt9UVHpPU",
    "_PABM_N4HpPV",
    "BsS1c3MMHpPX",
    "K7IKB5hnHpPZ",
    "4p0aMhvnHpPa",
    "OPqWmXBkHpPc",
    "qLOPyQa8HpPc",
    "TEqh7HLiHpPe",
    "jssxURkaHpPf"
   ],
   "name": "C01W01-01-Mentor-Notebook-Software-Design-Principles-Main.ipynb",
   "provenance": []
  },
  "kernelspec": {
   "display_name": "Python 3",
   "language": "python",
   "name": "python3"
  },
  "language_info": {
   "codemirror_mode": {
    "name": "ipython",
    "version": 3
   },
   "file_extension": ".py",
   "mimetype": "text/x-python",
   "name": "python",
   "nbconvert_exporter": "python",
   "pygments_lexer": "ipython3",
   "version": "3.8.10"
  }
 },
 "nbformat": 4,
 "nbformat_minor": 1
}
