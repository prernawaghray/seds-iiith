{
 "cells": [
  {
   "cell_type": "markdown",
   "metadata": {},
   "source": [
    "## Tuples Methods Topic"
   ]
  },
  {
   "cell_type": "markdown",
   "metadata": {},
   "source": [
    "<table align=\"left\">\n",
    "    <tr>\n",
    "        <td width=\"6%\">\n",
    "            <img src=\"question_icon.png\">\n",
    "        </td>\n",
    "        <td>\n",
    "            <div align=\"left\", style=\"font-size:120%\">\n",
    "                <font color=\"#21618C\">\n",
    "                    <b>7. Tuple manipulations:<br><br>\n",
    "                        a. Add new element '4' to the given tuple<br>\n",
    "                        b. Replace an element\n",
    "                    </b>\n",
    "                </font>\n",
    "            </div>\n",
    "        </td>\n",
    "    </tr>\n",
    "</table>"
   ]
  },
  {
   "cell_type": "markdown",
   "metadata": {},
   "source": [
    "**Use the tuple below:**\n",
    "\n",
    "tuple1 = (['a', 1, True], 2, 'Science', -5)"
   ]
  },
  {
   "cell_type": "code",
   "execution_count": 1,
   "metadata": {},
   "outputs": [],
   "source": [
    "# defining and declaring the elements in tuple\n",
    "\n",
    "tuple1 = (['a', 1, True], 2, 'Science', -5)"
   ]
  },
  {
   "cell_type": "markdown",
   "metadata": {},
   "source": [
    "**a. Add new element '4' to the given tuple**"
   ]
  },
  {
   "cell_type": "code",
   "execution_count": 3,
   "metadata": {},
   "outputs": [
    {
     "name": "stdout",
     "output_type": "stream",
     "text": [
      "(['a', 1, True], 2, 'Science', -5, 4)\n"
     ]
    }
   ],
   "source": [
    "# Directly doing append on tuple will give error because tuples are immutable in nature\n",
    "\n",
    "# tuple1.append('4')\n",
    "\n",
    "# Alternatively you can reallocate the whole tuple along with value 4 to achieve the goal. \n",
    "\n",
    "# Direct append is not possible\n",
    "\n",
    "# Another way is to convert the tuple in list and then perform necessary operation, then convert back into tuple\n",
    "\n",
    "tuple1 = (['a', 1, True], 2, 'Science', -5, 4)\n",
    "print(tuple1)"
   ]
  },
  {
   "cell_type": "markdown",
   "metadata": {},
   "source": [
    "**b. Replace an element**"
   ]
  },
  {
   "cell_type": "markdown",
   "metadata": {},
   "source": [
    "**Replace '2' with '3' in tuple1 = (['a', 1, True], 2, 'Science', -5)**"
   ]
  },
  {
   "cell_type": "code",
   "execution_count": 5,
   "metadata": {},
   "outputs": [
    {
     "name": "stdout",
     "output_type": "stream",
     "text": [
      "(['a', 1, True], 3, 'Science', -5)\n"
     ]
    }
   ],
   "source": [
    "# Directly doing replace through for loop on tuple will give error because tuples are immutable in nature\n",
    "\n",
    "# Alternatively you can reallocate the whole tuple along with value 2 instea of 3 to achieve the goal. \n",
    "\n",
    "# Another way is to convert the tuple in list and then perform necessary operation, then convert back into tuple\n",
    "\n",
    "tuple1 = (['a', 1, True], 3, 'Science', -5)\n",
    "print(tuple1)"
   ]
  },
  {
   "cell_type": "code",
   "execution_count": null,
   "metadata": {},
   "outputs": [],
   "source": []
  }
 ],
 "metadata": {
  "kernelspec": {
   "display_name": "Python 3",
   "language": "python",
   "name": "python3"
  },
  "language_info": {
   "codemirror_mode": {
    "name": "ipython",
    "version": 3
   },
   "file_extension": ".py",
   "mimetype": "text/x-python",
   "name": "python",
   "nbconvert_exporter": "python",
   "pygments_lexer": "ipython3",
   "version": "3.8.5"
  }
 },
 "nbformat": 4,
 "nbformat_minor": 2
}
