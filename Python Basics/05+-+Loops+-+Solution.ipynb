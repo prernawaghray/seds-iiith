{
 "cells": [
  {
   "cell_type": "markdown",
   "metadata": {},
   "source": [
    "<a id=\"loop\"> </a>\n",
    "## Loops"
   ]
  },
  {
   "cell_type": "markdown",
   "metadata": {},
   "source": [
    "<table align=\"left\">\n",
    "    <tr>\n",
    "        <td width=\"6%\">\n",
    "            <img src=\"question_icon.png\">\n",
    "        </td>\n",
    "        <td>\n",
    "            <div align=\"left\", style=\"font-size:120%\">\n",
    "                <font color=\"#21618C\">\n",
    "                    <b>1. Write a code to print the letters in the string as upper case letters (use for loop)</b>\n",
    "                </font>\n",
    "            </div>\n",
    "        </td>\n",
    "    </tr>\n",
    "</table>"
   ]
  },
  {
   "cell_type": "code",
   "execution_count": 6,
   "metadata": {},
   "outputs": [
    {
     "name": "stdout",
     "output_type": "stream",
     "text": [
      "PYTHON\n"
     ]
    }
   ],
   "source": [
    "string = \"python\"\n",
    "\n",
    "# Multiple ways to solve this question\n",
    "# 1. Generic solution is to Use ASCII codes to convert the letters into upper case\n",
    "# 2. Use in built costructor available in python to convert letters into Upper case. We will foloow this approach. \n",
    "\n",
    "new_string=\"\" \n",
    "\n",
    "for letter in range(len(string)):\n",
    "    new_string += string[letter].upper()\n",
    "\n",
    "print(new_string)"
   ]
  },
  {
   "cell_type": "markdown",
   "metadata": {},
   "source": [
    "<a id=\"while\"> </a>\n",
    "### While Loop"
   ]
  },
  {
   "cell_type": "markdown",
   "metadata": {},
   "source": [
    "<table align=\"left\">\n",
    "    <tr>\n",
    "        <td width=\"6%\">\n",
    "            <img src=\"question_icon.png\">\n",
    "        </td>\n",
    "        <td>\n",
    "            <div align=\"left\", style=\"font-size:120%\">\n",
    "                <font color=\"#21618C\">\n",
    "                    <b>2. Write a program to print the numbers less than 100 that are divisible by 4 (use while loop) </b>\n",
    "                </font>\n",
    "            </div>\n",
    "        </td>\n",
    "    </tr>\n",
    "</table>"
   ]
  },
  {
   "cell_type": "code",
   "execution_count": 9,
   "metadata": {},
   "outputs": [
    {
     "name": "stdout",
     "output_type": "stream",
     "text": [
      "0 is divisible by 4.\n",
      "4 is divisible by 4.\n",
      "8 is divisible by 4.\n",
      "12 is divisible by 4.\n",
      "16 is divisible by 4.\n",
      "20 is divisible by 4.\n",
      "24 is divisible by 4.\n",
      "28 is divisible by 4.\n",
      "32 is divisible by 4.\n",
      "36 is divisible by 4.\n",
      "40 is divisible by 4.\n",
      "44 is divisible by 4.\n",
      "48 is divisible by 4.\n",
      "52 is divisible by 4.\n",
      "56 is divisible by 4.\n",
      "60 is divisible by 4.\n",
      "64 is divisible by 4.\n",
      "68 is divisible by 4.\n",
      "72 is divisible by 4.\n",
      "76 is divisible by 4.\n",
      "80 is divisible by 4.\n",
      "84 is divisible by 4.\n",
      "88 is divisible by 4.\n",
      "92 is divisible by 4.\n",
      "96 is divisible by 4.\n"
     ]
    }
   ],
   "source": [
    "# Considering only positive numbers, intialized num with 0\n",
    "\n",
    "num = 0\n",
    "# checking termination condition for the loop\n",
    "while (num<100):\n",
    "    # Checking the condtion to satisfy\n",
    "    if (num % 4 == 0):\n",
    "        print(\"{} is divisible by 4.\".format(num))\n",
    "    # Incremeting the num to before checking the while loop condition\n",
    "    num += 1\n"
   ]
  },
  {
   "cell_type": "code",
   "execution_count": null,
   "metadata": {},
   "outputs": [],
   "source": []
  }
 ],
 "metadata": {
  "kernelspec": {
   "display_name": "Python 3",
   "language": "python",
   "name": "python3"
  },
  "language_info": {
   "codemirror_mode": {
    "name": "ipython",
    "version": 3
   },
   "file_extension": ".py",
   "mimetype": "text/x-python",
   "name": "python",
   "nbconvert_exporter": "python",
   "pygments_lexer": "ipython3",
   "version": "3.8.5"
  }
 },
 "nbformat": 4,
 "nbformat_minor": 2
}
