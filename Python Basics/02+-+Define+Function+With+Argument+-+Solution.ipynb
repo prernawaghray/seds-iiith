{
 "cells": [
  {
   "cell_type": "markdown",
   "metadata": {},
   "source": [
    "<a id='User_Define'></a>\n",
    "## Define Function With Argument"
   ]
  },
  {
   "cell_type": "markdown",
   "metadata": {},
   "source": [
    "<table align=\"left\">\n",
    "    <tr>\n",
    "        <td width=\"6%\">\n",
    "            <img src=\"question_icon.png\">\n",
    "        </td>\n",
    "        <td>\n",
    "            <div align=\"left\", style=\"font-size:120%\">\n",
    "                <font color=\"#21618C\">\n",
    "                    <b>1. Define the python function to check whether the number 33 is even or odd<b>   \n",
    "                </font>\n",
    "            </div>\n",
    "        </td>\n",
    "    </tr>\n",
    "</table>"
   ]
  },
  {
   "cell_type": "code",
   "execution_count": 3,
   "metadata": {},
   "outputs": [
    {
     "name": "stdout",
     "output_type": "stream",
     "text": [
      "33 is odd number.\n"
     ]
    }
   ],
   "source": [
    "# Function definition and implementation ti check given number is even or odd\n",
    "def even_odd(num):\n",
    "    if (num%2 == 0):\n",
    "        return True\n",
    "    else:\n",
    "        return False\n",
    "\n",
    "# Accepting the input from user    \n",
    "num_check = int(input(\"Enter the number: \"))\n",
    "# calling the function\n",
    "res = even_odd(num_check)\n",
    "# Printing the statements based on the return value from the function\n",
    "if (res == True):\n",
    "    print(\"{} is even number.\".format(num_check))\n",
    "else:\n",
    "    print(\"{} is odd number.\".format(num_check))\n",
    "\n"
   ]
  },
  {
   "cell_type": "markdown",
   "metadata": {},
   "source": [
    "<table align=\"left\">\n",
    "    <tr>\n",
    "        <td width=\"6%\">\n",
    "            <img src=\"question_icon.png\">\n",
    "        </td>\n",
    "        <td>\n",
    "            <div align=\"left\", style=\"font-size:120%\">\n",
    "                <font color=\"#21618C\">\n",
    "                    <b>2. Define the python function to calculate the factorial of the number<b>  \n",
    "                </font>\n",
    "            </div>\n",
    "        </td>\n",
    "    </tr>\n",
    "</table>"
   ]
  },
  {
   "cell_type": "code",
   "execution_count": 6,
   "metadata": {},
   "outputs": [
    {
     "name": "stdout",
     "output_type": "stream",
     "text": [
      "Factorial of 10 is 3628800. \n"
     ]
    }
   ],
   "source": [
    "# Function definition and implementation to calculate factorial\n",
    "\n",
    "def factorial_num(value):\n",
    "    # setting a intializer to calculate the product of numbers\n",
    "    res = 1\n",
    "    # checking if value is greater than 0 in order to calculate factorial number\n",
    "    if (value < 0):\n",
    "        print(\"No Factorial possible\")\n",
    "    # running the loop t calculate the factorial of given number\n",
    "    else:\n",
    "        # checking the termination condition \n",
    "        while(value >= 1):\n",
    "            # Doing the multiplication \n",
    "            res = res * value\n",
    "            # reducing the number by 1\n",
    "            value = value - 1\n",
    "        # retursning the result after calculation\n",
    "        return res\n",
    "\n",
    "num = 10\n",
    "calculated_fact = factorial_num(num)\n",
    "\n",
    "print(\"Factorial of {} is {}. \".format(num, calculated_fact))"
   ]
  },
  {
   "cell_type": "markdown",
   "metadata": {},
   "source": [
    "<table align=\"left\">\n",
    "    <tr>\n",
    "        <td width=\"6%\">\n",
    "            <img src=\"question_icon.png\">\n",
    "        </td>\n",
    "        <td>\n",
    "            <div align=\"left\", style=\"font-size:120%\">\n",
    "                <font color=\"#21618C\">\n",
    "                    <b>3. Write the python program to get the unique values from the given list<b>\n",
    "                </font>\n",
    "            </div>\n",
    "        </td>\n",
    "    </tr>\n",
    "</table>"
   ]
  },
  {
   "cell_type": "markdown",
   "metadata": {},
   "source": [
    "**Use the list given below:**<br>\n",
    "my_list = [1,2,3,3,11,34,3,3,4,5]"
   ]
  },
  {
   "cell_type": "code",
   "execution_count": 8,
   "metadata": {},
   "outputs": [
    {
     "name": "stdout",
     "output_type": "stream",
     "text": [
      "Unique elements in the given list are:  [1, 2, 3, 11, 34, 4, 5]\n"
     ]
    }
   ],
   "source": [
    "# Function definition and implementation to find all unique element of list\n",
    "\n",
    "def unique_num_list(duplicate_num_list):\n",
    "    unique_list = []\n",
    "    for num in duplicate_num_list:\n",
    "        if num not in unique_list:\n",
    "            unique_list.append(num)\n",
    "    return unique_list\n",
    "\n",
    "# Declartion of list and its elements\n",
    "my_list = [1,2,3,3,11,34,3,3,4,5]\n",
    "\n",
    "# Calling th function and passing the list as parameter\n",
    "res_list = unique_num_list(my_list)\n",
    "\n",
    "print(\"Unique elements in the given list are: \", res_list)"
   ]
  },
  {
   "cell_type": "code",
   "execution_count": null,
   "metadata": {},
   "outputs": [],
   "source": []
  }
 ],
 "metadata": {
  "kernelspec": {
   "display_name": "Python 3",
   "language": "python",
   "name": "python3"
  },
  "language_info": {
   "codemirror_mode": {
    "name": "ipython",
    "version": 3
   },
   "file_extension": ".py",
   "mimetype": "text/x-python",
   "name": "python",
   "nbconvert_exporter": "python",
   "pygments_lexer": "ipython3",
   "version": "3.8.5"
  }
 },
 "nbformat": 4,
 "nbformat_minor": 2
}
