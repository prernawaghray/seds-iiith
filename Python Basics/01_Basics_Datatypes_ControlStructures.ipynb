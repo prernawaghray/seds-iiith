{
 "cells": [
  {
   "cell_type": "code",
   "execution_count": 2,
   "metadata": {
    "ExecuteTime": {
     "end_time": "2021-12-02T13:37:23.951663Z",
     "start_time": "2021-12-02T13:37:23.936665Z"
    }
   },
   "outputs": [],
   "source": [
    "runs_scored = [ 10, 25, 7, 2, 12, 6, 9, 13]"
   ]
  },
  {
   "cell_type": "code",
   "execution_count": 3,
   "metadata": {
    "ExecuteTime": {
     "end_time": "2021-12-02T13:38:08.571709Z",
     "start_time": "2021-12-02T13:38:08.548399Z"
    }
   },
   "outputs": [
    {
     "data": {
      "text/plain": [
       "list"
      ]
     },
     "execution_count": 3,
     "metadata": {},
     "output_type": "execute_result"
    }
   ],
   "source": [
    "type(runs_scored)"
   ]
  },
  {
   "cell_type": "code",
   "execution_count": 4,
   "metadata": {
    "ExecuteTime": {
     "end_time": "2021-12-02T13:38:16.389598Z",
     "start_time": "2021-12-02T13:38:16.372560Z"
    }
   },
   "outputs": [
    {
     "name": "stdout",
     "output_type": "stream",
     "text": [
      "<class 'list'>\n"
     ]
    }
   ],
   "source": [
    "print(type(runs_scored))"
   ]
  },
  {
   "cell_type": "code",
   "execution_count": 5,
   "metadata": {
    "ExecuteTime": {
     "end_time": "2021-12-02T13:38:50.051029Z",
     "start_time": "2021-12-02T13:38:50.036336Z"
    }
   },
   "outputs": [
    {
     "data": {
      "text/plain": [
       "8"
      ]
     },
     "execution_count": 5,
     "metadata": {},
     "output_type": "execute_result"
    }
   ],
   "source": [
    "len(runs_scored)"
   ]
  },
  {
   "cell_type": "code",
   "execution_count": 6,
   "metadata": {
    "ExecuteTime": {
     "end_time": "2021-12-02T13:39:28.445429Z",
     "start_time": "2021-12-02T13:39:28.438401Z"
    }
   },
   "outputs": [],
   "source": [
    "i = 10"
   ]
  },
  {
   "cell_type": "code",
   "execution_count": 7,
   "metadata": {
    "ExecuteTime": {
     "end_time": "2021-12-02T13:39:34.295702Z",
     "start_time": "2021-12-02T13:39:34.276256Z"
    }
   },
   "outputs": [
    {
     "data": {
      "text/plain": [
       "int"
      ]
     },
     "execution_count": 7,
     "metadata": {},
     "output_type": "execute_result"
    }
   ],
   "source": [
    "type(i)"
   ]
  },
  {
   "cell_type": "code",
   "execution_count": 8,
   "metadata": {
    "ExecuteTime": {
     "end_time": "2021-12-02T13:39:47.140086Z",
     "start_time": "2021-12-02T13:39:47.129088Z"
    }
   },
   "outputs": [],
   "source": [
    "i = \"WELCOME\""
   ]
  },
  {
   "cell_type": "code",
   "execution_count": 9,
   "metadata": {
    "ExecuteTime": {
     "end_time": "2021-12-02T13:39:49.014007Z",
     "start_time": "2021-12-02T13:39:48.993996Z"
    }
   },
   "outputs": [
    {
     "data": {
      "text/plain": [
       "str"
      ]
     },
     "execution_count": 9,
     "metadata": {},
     "output_type": "execute_result"
    }
   ],
   "source": [
    "type(i)"
   ]
  },
  {
   "cell_type": "code",
   "execution_count": 10,
   "metadata": {
    "ExecuteTime": {
     "end_time": "2021-12-02T13:40:42.460182Z",
     "start_time": "2021-12-02T13:40:42.442787Z"
    }
   },
   "outputs": [
    {
     "name": "stdout",
     "output_type": "stream",
     "text": [
      "WELCOME\n"
     ]
    }
   ],
   "source": [
    "print(i)"
   ]
  },
  {
   "cell_type": "code",
   "execution_count": 11,
   "metadata": {
    "ExecuteTime": {
     "end_time": "2021-12-02T13:41:01.874796Z",
     "start_time": "2021-12-02T13:41:01.868794Z"
    }
   },
   "outputs": [],
   "source": [
    "# Dynamic Typed Language"
   ]
  },
  {
   "cell_type": "code",
   "execution_count": 12,
   "metadata": {
    "ExecuteTime": {
     "end_time": "2021-12-02T13:42:36.056803Z",
     "start_time": "2021-12-02T13:42:36.053061Z"
    }
   },
   "outputs": [],
   "source": [
    "# int i = 100\n",
    "# i = \"ABC\""
   ]
  },
  {
   "cell_type": "code",
   "execution_count": 13,
   "metadata": {
    "ExecuteTime": {
     "end_time": "2021-12-02T13:42:41.077025Z",
     "start_time": "2021-12-02T13:42:41.069027Z"
    }
   },
   "outputs": [],
   "source": [
    "i = 100"
   ]
  },
  {
   "cell_type": "code",
   "execution_count": 14,
   "metadata": {
    "ExecuteTime": {
     "end_time": "2021-12-02T13:42:43.833830Z",
     "start_time": "2021-12-02T13:42:43.817830Z"
    }
   },
   "outputs": [
    {
     "data": {
      "text/plain": [
       "140718581695360"
      ]
     },
     "execution_count": 14,
     "metadata": {},
     "output_type": "execute_result"
    }
   ],
   "source": [
    "id(i)"
   ]
  },
  {
   "cell_type": "code",
   "execution_count": 15,
   "metadata": {
    "ExecuteTime": {
     "end_time": "2021-12-02T13:42:56.687388Z",
     "start_time": "2021-12-02T13:42:56.684044Z"
    }
   },
   "outputs": [],
   "source": [
    "j = i"
   ]
  },
  {
   "cell_type": "code",
   "execution_count": 16,
   "metadata": {
    "ExecuteTime": {
     "end_time": "2021-12-02T13:42:58.954243Z",
     "start_time": "2021-12-02T13:42:58.951243Z"
    }
   },
   "outputs": [
    {
     "name": "stdout",
     "output_type": "stream",
     "text": [
      "100\n"
     ]
    }
   ],
   "source": [
    "print(j)"
   ]
  },
  {
   "cell_type": "code",
   "execution_count": 17,
   "metadata": {
    "ExecuteTime": {
     "end_time": "2021-12-02T13:43:09.996963Z",
     "start_time": "2021-12-02T13:43:09.980910Z"
    }
   },
   "outputs": [
    {
     "data": {
      "text/plain": [
       "140718581695360"
      ]
     },
     "execution_count": 17,
     "metadata": {},
     "output_type": "execute_result"
    }
   ],
   "source": [
    "id(j)"
   ]
  },
  {
   "cell_type": "code",
   "execution_count": 18,
   "metadata": {
    "ExecuteTime": {
     "end_time": "2021-12-02T13:45:48.478648Z",
     "start_time": "2021-12-02T13:45:48.465512Z"
    }
   },
   "outputs": [],
   "source": [
    "# Basic Maths operations"
   ]
  },
  {
   "cell_type": "code",
   "execution_count": 19,
   "metadata": {
    "ExecuteTime": {
     "end_time": "2021-12-02T13:45:54.717781Z",
     "start_time": "2021-12-02T13:45:54.700785Z"
    }
   },
   "outputs": [
    {
     "data": {
      "text/plain": [
       "21"
      ]
     },
     "execution_count": 19,
     "metadata": {},
     "output_type": "execute_result"
    }
   ],
   "source": [
    "19 + 2"
   ]
  },
  {
   "cell_type": "code",
   "execution_count": 20,
   "metadata": {
    "ExecuteTime": {
     "end_time": "2021-12-02T13:45:58.305461Z",
     "start_time": "2021-12-02T13:45:58.297463Z"
    }
   },
   "outputs": [
    {
     "data": {
      "text/plain": [
       "38"
      ]
     },
     "execution_count": 20,
     "metadata": {},
     "output_type": "execute_result"
    }
   ],
   "source": [
    "19 * 2"
   ]
  },
  {
   "cell_type": "code",
   "execution_count": 21,
   "metadata": {
    "ExecuteTime": {
     "end_time": "2021-12-02T13:46:04.195265Z",
     "start_time": "2021-12-02T13:46:04.180629Z"
    }
   },
   "outputs": [],
   "source": [
    "a = \"Test\""
   ]
  },
  {
   "cell_type": "code",
   "execution_count": 22,
   "metadata": {
    "ExecuteTime": {
     "end_time": "2021-12-02T13:46:26.416288Z",
     "start_time": "2021-12-02T13:46:26.121022Z"
    }
   },
   "outputs": [
    {
     "ename": "TypeError",
     "evalue": "can only concatenate str (not \"int\") to str",
     "output_type": "error",
     "traceback": [
      "\u001b[1;31m---------------------------------------------------------------------------\u001b[0m",
      "\u001b[1;31mTypeError\u001b[0m                                 Traceback (most recent call last)",
      "\u001b[1;32m<ipython-input-22-ca42ed42e993>\u001b[0m in \u001b[0;36m<module>\u001b[1;34m\u001b[0m\n\u001b[1;32m----> 1\u001b[1;33m \u001b[0ma\u001b[0m \u001b[1;33m+\u001b[0m \u001b[1;36m1\u001b[0m\u001b[1;33m\u001b[0m\u001b[1;33m\u001b[0m\u001b[0m\n\u001b[0m",
      "\u001b[1;31mTypeError\u001b[0m: can only concatenate str (not \"int\") to str"
     ]
    }
   ],
   "source": [
    "a + 1"
   ]
  },
  {
   "cell_type": "code",
   "execution_count": 23,
   "metadata": {
    "ExecuteTime": {
     "end_time": "2021-12-02T13:47:19.165198Z",
     "start_time": "2021-12-02T13:47:19.141546Z"
    }
   },
   "outputs": [
    {
     "ename": "TypeError",
     "evalue": "unsupported operand type(s) for +: 'int' and 'str'",
     "output_type": "error",
     "traceback": [
      "\u001b[1;31m---------------------------------------------------------------------------\u001b[0m",
      "\u001b[1;31mTypeError\u001b[0m                                 Traceback (most recent call last)",
      "\u001b[1;32m<ipython-input-23-4a317a22d93c>\u001b[0m in \u001b[0;36m<module>\u001b[1;34m\u001b[0m\n\u001b[1;32m----> 1\u001b[1;33m \u001b[1;36m1\u001b[0m \u001b[1;33m+\u001b[0m \u001b[0ma\u001b[0m\u001b[1;33m\u001b[0m\u001b[1;33m\u001b[0m\u001b[0m\n\u001b[0m",
      "\u001b[1;31mTypeError\u001b[0m: unsupported operand type(s) for +: 'int' and 'str'"
     ]
    }
   ],
   "source": [
    "1 + a"
   ]
  },
  {
   "cell_type": "code",
   "execution_count": 24,
   "metadata": {
    "ExecuteTime": {
     "end_time": "2021-12-02T13:47:34.356903Z",
     "start_time": "2021-12-02T13:47:34.340811Z"
    }
   },
   "outputs": [
    {
     "data": {
      "text/plain": [
       "57"
      ]
     },
     "execution_count": 24,
     "metadata": {},
     "output_type": "execute_result"
    }
   ],
   "source": [
    "19 * 3"
   ]
  },
  {
   "cell_type": "code",
   "execution_count": 25,
   "metadata": {
    "ExecuteTime": {
     "end_time": "2021-12-02T13:47:48.812290Z",
     "start_time": "2021-12-02T13:47:48.792590Z"
    }
   },
   "outputs": [
    {
     "data": {
      "text/plain": [
       "'TestTestTest'"
      ]
     },
     "execution_count": 25,
     "metadata": {},
     "output_type": "execute_result"
    }
   ],
   "source": [
    "a * 3"
   ]
  },
  {
   "cell_type": "code",
   "execution_count": 26,
   "metadata": {
    "ExecuteTime": {
     "end_time": "2021-12-02T13:48:16.576693Z",
     "start_time": "2021-12-02T13:48:16.561879Z"
    }
   },
   "outputs": [],
   "source": [
    "# * works as repetition operator (if both operands are of integer type, then it works multiplication )"
   ]
  },
  {
   "cell_type": "code",
   "execution_count": 27,
   "metadata": {
    "ExecuteTime": {
     "end_time": "2021-12-02T13:48:20.044082Z",
     "start_time": "2021-12-02T13:48:20.038771Z"
    }
   },
   "outputs": [
    {
     "data": {
      "text/plain": [
       "'Test'"
      ]
     },
     "execution_count": 27,
     "metadata": {},
     "output_type": "execute_result"
    }
   ],
   "source": [
    "a"
   ]
  },
  {
   "cell_type": "code",
   "execution_count": 28,
   "metadata": {
    "ExecuteTime": {
     "end_time": "2021-12-02T13:48:53.744151Z",
     "start_time": "2021-12-02T13:48:53.726051Z"
    }
   },
   "outputs": [
    {
     "data": {
      "text/plain": [
       "'TestTestTest'"
      ]
     },
     "execution_count": 28,
     "metadata": {},
     "output_type": "execute_result"
    }
   ],
   "source": [
    "a * 3"
   ]
  },
  {
   "cell_type": "code",
   "execution_count": 29,
   "metadata": {
    "ExecuteTime": {
     "end_time": "2021-12-02T13:48:58.264140Z",
     "start_time": "2021-12-02T13:48:58.255017Z"
    }
   },
   "outputs": [],
   "source": [
    "result = a * 3"
   ]
  },
  {
   "cell_type": "code",
   "execution_count": 30,
   "metadata": {
    "ExecuteTime": {
     "end_time": "2021-12-02T13:48:59.520978Z",
     "start_time": "2021-12-02T13:48:59.504737Z"
    }
   },
   "outputs": [
    {
     "data": {
      "text/plain": [
       "'Test'"
      ]
     },
     "execution_count": 30,
     "metadata": {},
     "output_type": "execute_result"
    }
   ],
   "source": [
    "a"
   ]
  },
  {
   "cell_type": "code",
   "execution_count": 31,
   "metadata": {
    "ExecuteTime": {
     "end_time": "2021-12-02T13:49:01.447122Z",
     "start_time": "2021-12-02T13:49:01.429469Z"
    }
   },
   "outputs": [
    {
     "data": {
      "text/plain": [
       "'TestTestTest'"
      ]
     },
     "execution_count": 31,
     "metadata": {},
     "output_type": "execute_result"
    }
   ],
   "source": [
    "result"
   ]
  },
  {
   "cell_type": "code",
   "execution_count": 32,
   "metadata": {
    "ExecuteTime": {
     "end_time": "2021-12-02T13:50:25.343340Z",
     "start_time": "2021-12-02T13:50:25.330265Z"
    }
   },
   "outputs": [
    {
     "data": {
      "text/plain": [
       "9.5"
      ]
     },
     "execution_count": 32,
     "metadata": {},
     "output_type": "execute_result"
    }
   ],
   "source": [
    "19 / 2"
   ]
  },
  {
   "cell_type": "code",
   "execution_count": 33,
   "metadata": {
    "ExecuteTime": {
     "end_time": "2021-12-02T13:50:32.085838Z",
     "start_time": "2021-12-02T13:50:32.066528Z"
    }
   },
   "outputs": [
    {
     "data": {
      "text/plain": [
       "9"
      ]
     },
     "execution_count": 33,
     "metadata": {},
     "output_type": "execute_result"
    }
   ],
   "source": [
    "19 // 2"
   ]
  },
  {
   "cell_type": "code",
   "execution_count": 34,
   "metadata": {
    "ExecuteTime": {
     "end_time": "2021-12-02T13:50:40.682877Z",
     "start_time": "2021-12-02T13:50:40.669136Z"
    }
   },
   "outputs": [
    {
     "data": {
      "text/plain": [
       "1"
      ]
     },
     "execution_count": 34,
     "metadata": {},
     "output_type": "execute_result"
    }
   ],
   "source": [
    "19 % 2 # Modulus Operation, Remainder"
   ]
  },
  {
   "cell_type": "code",
   "execution_count": 35,
   "metadata": {
    "ExecuteTime": {
     "end_time": "2021-12-02T13:51:45.172362Z",
     "start_time": "2021-12-02T13:51:45.148639Z"
    }
   },
   "outputs": [
    {
     "ename": "ZeroDivisionError",
     "evalue": "division by zero",
     "output_type": "error",
     "traceback": [
      "\u001b[1;31m---------------------------------------------------------------------------\u001b[0m",
      "\u001b[1;31mZeroDivisionError\u001b[0m                         Traceback (most recent call last)",
      "\u001b[1;32m<ipython-input-35-036a0cbb8a51>\u001b[0m in \u001b[0;36m<module>\u001b[1;34m\u001b[0m\n\u001b[1;32m----> 1\u001b[1;33m \u001b[1;36m19\u001b[0m \u001b[1;33m/\u001b[0m \u001b[1;36m0\u001b[0m\u001b[1;33m\u001b[0m\u001b[1;33m\u001b[0m\u001b[0m\n\u001b[0m",
      "\u001b[1;31mZeroDivisionError\u001b[0m: division by zero"
     ]
    }
   ],
   "source": [
    "19 / 0"
   ]
  },
  {
   "cell_type": "code",
   "execution_count": 36,
   "metadata": {
    "ExecuteTime": {
     "end_time": "2021-12-02T13:51:57.962019Z",
     "start_time": "2021-12-02T13:51:57.956506Z"
    }
   },
   "outputs": [
    {
     "data": {
      "text/plain": [
       "7.6"
      ]
     },
     "execution_count": 36,
     "metadata": {},
     "output_type": "execute_result"
    }
   ],
   "source": [
    "19 / 2.5"
   ]
  },
  {
   "cell_type": "code",
   "execution_count": 37,
   "metadata": {
    "ExecuteTime": {
     "end_time": "2021-12-02T13:52:30.857394Z",
     "start_time": "2021-12-02T13:52:30.853714Z"
    }
   },
   "outputs": [],
   "source": [
    "languages = []"
   ]
  },
  {
   "cell_type": "code",
   "execution_count": 38,
   "metadata": {
    "ExecuteTime": {
     "end_time": "2021-12-02T13:52:43.044120Z",
     "start_time": "2021-12-02T13:52:43.029119Z"
    }
   },
   "outputs": [
    {
     "data": {
      "text/plain": [
       "0"
      ]
     },
     "execution_count": 38,
     "metadata": {},
     "output_type": "execute_result"
    }
   ],
   "source": [
    "len(languages)"
   ]
  },
  {
   "cell_type": "code",
   "execution_count": 39,
   "metadata": {
    "ExecuteTime": {
     "end_time": "2021-12-02T13:52:55.652097Z",
     "start_time": "2021-12-02T13:52:55.639964Z"
    }
   },
   "outputs": [],
   "source": [
    "# Add elements to the list\n",
    "languages.append(\"Java\")"
   ]
  },
  {
   "cell_type": "code",
   "execution_count": 40,
   "metadata": {
    "ExecuteTime": {
     "end_time": "2021-12-02T13:53:07.135986Z",
     "start_time": "2021-12-02T13:53:07.120071Z"
    }
   },
   "outputs": [
    {
     "data": {
      "text/plain": [
       "['Java']"
      ]
     },
     "execution_count": 40,
     "metadata": {},
     "output_type": "execute_result"
    }
   ],
   "source": [
    "languages"
   ]
  },
  {
   "cell_type": "code",
   "execution_count": null,
   "metadata": {},
   "outputs": [],
   "source": []
  },
  {
   "cell_type": "code",
   "execution_count": 41,
   "metadata": {
    "ExecuteTime": {
     "end_time": "2021-12-02T13:53:26.985979Z",
     "start_time": "2021-12-02T13:53:26.968188Z"
    }
   },
   "outputs": [],
   "source": [
    "s = \"WELCOME\""
   ]
  },
  {
   "cell_type": "code",
   "execution_count": 42,
   "metadata": {
    "ExecuteTime": {
     "end_time": "2021-12-02T13:53:29.555725Z",
     "start_time": "2021-12-02T13:53:29.547025Z"
    }
   },
   "outputs": [
    {
     "data": {
      "text/plain": [
       "7"
      ]
     },
     "execution_count": 42,
     "metadata": {},
     "output_type": "execute_result"
    }
   ],
   "source": [
    "len(s)"
   ]
  },
  {
   "cell_type": "code",
   "execution_count": 43,
   "metadata": {
    "ExecuteTime": {
     "end_time": "2021-12-02T13:53:49.140804Z",
     "start_time": "2021-12-02T13:53:49.124197Z"
    }
   },
   "outputs": [
    {
     "data": {
      "text/plain": [
       "'W'"
      ]
     },
     "execution_count": 43,
     "metadata": {},
     "output_type": "execute_result"
    }
   ],
   "source": [
    "s[0]"
   ]
  },
  {
   "cell_type": "code",
   "execution_count": 44,
   "metadata": {
    "ExecuteTime": {
     "end_time": "2021-12-02T13:54:10.413811Z",
     "start_time": "2021-12-02T13:54:10.408193Z"
    }
   },
   "outputs": [],
   "source": [
    "# valid index range 0 - 6"
   ]
  },
  {
   "cell_type": "code",
   "execution_count": 45,
   "metadata": {
    "ExecuteTime": {
     "end_time": "2021-12-02T13:54:13.113058Z",
     "start_time": "2021-12-02T13:54:13.096203Z"
    }
   },
   "outputs": [
    {
     "data": {
      "text/plain": [
       "'E'"
      ]
     },
     "execution_count": 45,
     "metadata": {},
     "output_type": "execute_result"
    }
   ],
   "source": [
    "s[6]"
   ]
  },
  {
   "cell_type": "code",
   "execution_count": 46,
   "metadata": {
    "ExecuteTime": {
     "end_time": "2021-12-02T13:54:23.389012Z",
     "start_time": "2021-12-02T13:54:23.368789Z"
    }
   },
   "outputs": [
    {
     "ename": "IndexError",
     "evalue": "string index out of range",
     "output_type": "error",
     "traceback": [
      "\u001b[1;31m---------------------------------------------------------------------------\u001b[0m",
      "\u001b[1;31mIndexError\u001b[0m                                Traceback (most recent call last)",
      "\u001b[1;32m<ipython-input-46-b035325af127>\u001b[0m in \u001b[0;36m<module>\u001b[1;34m\u001b[0m\n\u001b[1;32m----> 1\u001b[1;33m \u001b[0ms\u001b[0m\u001b[1;33m[\u001b[0m\u001b[1;36m7\u001b[0m\u001b[1;33m]\u001b[0m\u001b[1;33m\u001b[0m\u001b[1;33m\u001b[0m\u001b[0m\n\u001b[0m",
      "\u001b[1;31mIndexError\u001b[0m: string index out of range"
     ]
    }
   ],
   "source": [
    "s[7]"
   ]
  },
  {
   "cell_type": "code",
   "execution_count": null,
   "metadata": {},
   "outputs": [],
   "source": []
  },
  {
   "cell_type": "code",
   "execution_count": 47,
   "metadata": {
    "ExecuteTime": {
     "end_time": "2021-12-02T13:55:00.018656Z",
     "start_time": "2021-12-02T13:55:00.013899Z"
    }
   },
   "outputs": [],
   "source": [
    "# Slicing => substring"
   ]
  },
  {
   "cell_type": "code",
   "execution_count": 48,
   "metadata": {
    "ExecuteTime": {
     "end_time": "2021-12-02T13:55:00.856555Z",
     "start_time": "2021-12-02T13:55:00.840552Z"
    }
   },
   "outputs": [
    {
     "data": {
      "text/plain": [
       "'WELCOME'"
      ]
     },
     "execution_count": 48,
     "metadata": {},
     "output_type": "execute_result"
    }
   ],
   "source": [
    "s"
   ]
  },
  {
   "cell_type": "code",
   "execution_count": 49,
   "metadata": {
    "ExecuteTime": {
     "end_time": "2021-12-02T13:55:32.968853Z",
     "start_time": "2021-12-02T13:55:32.958670Z"
    }
   },
   "outputs": [],
   "source": [
    "# [] => Subscript Operator"
   ]
  },
  {
   "cell_type": "code",
   "execution_count": 50,
   "metadata": {
    "ExecuteTime": {
     "end_time": "2021-12-02T13:55:34.364086Z",
     "start_time": "2021-12-02T13:55:34.348878Z"
    }
   },
   "outputs": [
    {
     "data": {
      "text/plain": [
       "'WELCOME'"
      ]
     },
     "execution_count": 50,
     "metadata": {},
     "output_type": "execute_result"
    }
   ],
   "source": [
    "s"
   ]
  },
  {
   "cell_type": "code",
   "execution_count": 51,
   "metadata": {
    "ExecuteTime": {
     "end_time": "2021-12-02T13:55:41.719306Z",
     "start_time": "2021-12-02T13:55:41.707283Z"
    }
   },
   "outputs": [
    {
     "data": {
      "text/plain": [
       "'WEL'"
      ]
     },
     "execution_count": 51,
     "metadata": {},
     "output_type": "execute_result"
    }
   ],
   "source": [
    "s[0:3] "
   ]
  },
  {
   "cell_type": "code",
   "execution_count": 52,
   "metadata": {
    "ExecuteTime": {
     "end_time": "2021-12-02T13:55:49.504992Z",
     "start_time": "2021-12-02T13:55:49.502122Z"
    }
   },
   "outputs": [],
   "source": [
    "# W E L C O M E\n",
    "# 0 1 2 3 4 5 6"
   ]
  },
  {
   "cell_type": "code",
   "execution_count": 53,
   "metadata": {
    "ExecuteTime": {
     "end_time": "2021-12-02T13:56:48.529798Z",
     "start_time": "2021-12-02T13:56:48.517051Z"
    }
   },
   "outputs": [
    {
     "data": {
      "text/plain": [
       "'COME'"
      ]
     },
     "execution_count": 53,
     "metadata": {},
     "output_type": "execute_result"
    }
   ],
   "source": [
    "s[3:7]"
   ]
  },
  {
   "cell_type": "code",
   "execution_count": 54,
   "metadata": {
    "ExecuteTime": {
     "end_time": "2021-12-02T13:56:57.394872Z",
     "start_time": "2021-12-02T13:56:57.375870Z"
    }
   },
   "outputs": [
    {
     "data": {
      "text/plain": [
       "'COME'"
      ]
     },
     "execution_count": 54,
     "metadata": {},
     "output_type": "execute_result"
    }
   ],
   "source": [
    "s[3:100]"
   ]
  },
  {
   "cell_type": "code",
   "execution_count": 55,
   "metadata": {
    "ExecuteTime": {
     "end_time": "2021-12-02T13:57:43.411463Z",
     "start_time": "2021-12-02T13:57:43.398461Z"
    }
   },
   "outputs": [
    {
     "data": {
      "text/plain": [
       "'COME'"
      ]
     },
     "execution_count": 55,
     "metadata": {},
     "output_type": "execute_result"
    }
   ],
   "source": [
    "s[3:]"
   ]
  },
  {
   "cell_type": "code",
   "execution_count": 56,
   "metadata": {
    "ExecuteTime": {
     "end_time": "2021-12-02T13:57:53.954496Z",
     "start_time": "2021-12-02T13:57:53.941165Z"
    }
   },
   "outputs": [
    {
     "data": {
      "text/plain": [
       "'WEL'"
      ]
     },
     "execution_count": 56,
     "metadata": {},
     "output_type": "execute_result"
    }
   ],
   "source": [
    "s[:3]"
   ]
  },
  {
   "cell_type": "code",
   "execution_count": 57,
   "metadata": {
    "ExecuteTime": {
     "end_time": "2021-12-02T14:00:29.614127Z",
     "start_time": "2021-12-02T14:00:29.608128Z"
    }
   },
   "outputs": [
    {
     "data": {
      "text/plain": [
       "'WELCOME'"
      ]
     },
     "execution_count": 57,
     "metadata": {},
     "output_type": "execute_result"
    }
   ],
   "source": [
    "s[:]"
   ]
  },
  {
   "cell_type": "code",
   "execution_count": 58,
   "metadata": {
    "ExecuteTime": {
     "end_time": "2021-12-02T14:00:43.314321Z",
     "start_time": "2021-12-02T14:00:43.300323Z"
    }
   },
   "outputs": [
    {
     "ename": "SyntaxError",
     "evalue": "invalid syntax (<ipython-input-58-d5d19ff545f3>, line 1)",
     "output_type": "error",
     "traceback": [
      "\u001b[1;36m  File \u001b[1;32m\"<ipython-input-58-d5d19ff545f3>\"\u001b[1;36m, line \u001b[1;32m1\u001b[0m\n\u001b[1;33m    s[]\u001b[0m\n\u001b[1;37m      ^\u001b[0m\n\u001b[1;31mSyntaxError\u001b[0m\u001b[1;31m:\u001b[0m invalid syntax\n"
     ]
    }
   ],
   "source": [
    "s[]"
   ]
  },
  {
   "cell_type": "code",
   "execution_count": 59,
   "metadata": {
    "ExecuteTime": {
     "end_time": "2021-12-02T14:00:52.464252Z",
     "start_time": "2021-12-02T14:00:52.448654Z"
    }
   },
   "outputs": [
    {
     "data": {
      "text/plain": [
       "'WELCOME'"
      ]
     },
     "execution_count": 59,
     "metadata": {},
     "output_type": "execute_result"
    }
   ],
   "source": [
    "s"
   ]
  },
  {
   "cell_type": "code",
   "execution_count": 60,
   "metadata": {
    "ExecuteTime": {
     "end_time": "2021-12-02T14:00:58.979003Z",
     "start_time": "2021-12-02T14:00:58.958280Z"
    }
   },
   "outputs": [
    {
     "data": {
      "text/plain": [
       "'E'"
      ]
     },
     "execution_count": 60,
     "metadata": {},
     "output_type": "execute_result"
    }
   ],
   "source": [
    "s[-1]"
   ]
  },
  {
   "cell_type": "code",
   "execution_count": 61,
   "metadata": {
    "ExecuteTime": {
     "end_time": "2021-12-02T14:01:23.758841Z",
     "start_time": "2021-12-02T14:01:23.752006Z"
    }
   },
   "outputs": [],
   "source": [
    "# W E L C O M E\n",
    "# 0 1 2 3 4 5 6 => Positive Indexing\n",
    "# 7 6 5 4 3 2 1 (-) => Negative Indexing"
   ]
  },
  {
   "cell_type": "code",
   "execution_count": 62,
   "metadata": {
    "ExecuteTime": {
     "end_time": "2021-12-02T14:02:10.501972Z",
     "start_time": "2021-12-02T14:02:10.489922Z"
    }
   },
   "outputs": [
    {
     "data": {
      "text/plain": [
       "''"
      ]
     },
     "execution_count": 62,
     "metadata": {},
     "output_type": "execute_result"
    }
   ],
   "source": [
    "s[-1: -3]"
   ]
  },
  {
   "cell_type": "code",
   "execution_count": 64,
   "metadata": {
    "ExecuteTime": {
     "end_time": "2021-12-02T14:03:14.283251Z",
     "start_time": "2021-12-02T14:03:14.272444Z"
    }
   },
   "outputs": [
    {
     "data": {
      "text/plain": [
       "'EM'"
      ]
     },
     "execution_count": 64,
     "metadata": {},
     "output_type": "execute_result"
    }
   ],
   "source": [
    "# Slicing always works from LEFT to RIGHT\n",
    "# There is an option to change the direction\n",
    "# Last option => Skip Count / Direction\n",
    "s[-1: -3: -1]"
   ]
  },
  {
   "cell_type": "code",
   "execution_count": 65,
   "metadata": {
    "ExecuteTime": {
     "end_time": "2021-12-02T14:03:16.399579Z",
     "start_time": "2021-12-02T14:03:16.379068Z"
    }
   },
   "outputs": [
    {
     "data": {
      "text/plain": [
       "'WELCOME'"
      ]
     },
     "execution_count": 65,
     "metadata": {},
     "output_type": "execute_result"
    }
   ],
   "source": [
    "s"
   ]
  },
  {
   "cell_type": "code",
   "execution_count": 66,
   "metadata": {
    "ExecuteTime": {
     "end_time": "2021-12-02T14:03:21.022604Z",
     "start_time": "2021-12-02T14:03:21.003283Z"
    }
   },
   "outputs": [
    {
     "data": {
      "text/plain": [
       "'WLOE'"
      ]
     },
     "execution_count": 66,
     "metadata": {},
     "output_type": "execute_result"
    }
   ],
   "source": [
    "s[::2]"
   ]
  },
  {
   "cell_type": "code",
   "execution_count": 67,
   "metadata": {
    "ExecuteTime": {
     "end_time": "2021-12-02T14:03:52.140376Z",
     "start_time": "2021-12-02T14:03:52.119998Z"
    }
   },
   "outputs": [
    {
     "data": {
      "text/plain": [
       "'EOLW'"
      ]
     },
     "execution_count": 67,
     "metadata": {},
     "output_type": "execute_result"
    }
   ],
   "source": [
    "s[::-2]"
   ]
  },
  {
   "cell_type": "code",
   "execution_count": 68,
   "metadata": {
    "ExecuteTime": {
     "end_time": "2021-12-02T14:04:09.784541Z",
     "start_time": "2021-12-02T14:04:09.767544Z"
    }
   },
   "outputs": [
    {
     "data": {
      "text/plain": [
       "'EMOCLEW'"
      ]
     },
     "execution_count": 68,
     "metadata": {},
     "output_type": "execute_result"
    }
   ],
   "source": [
    "s[::-1]"
   ]
  },
  {
   "cell_type": "code",
   "execution_count": 69,
   "metadata": {
    "ExecuteTime": {
     "end_time": "2021-12-02T14:04:30.497843Z",
     "start_time": "2021-12-02T14:04:30.486488Z"
    }
   },
   "outputs": [
    {
     "data": {
      "text/plain": [
       "'WELCOM'"
      ]
     },
     "execution_count": 69,
     "metadata": {},
     "output_type": "execute_result"
    }
   ],
   "source": [
    "s[:-1:]"
   ]
  },
  {
   "cell_type": "code",
   "execution_count": 70,
   "metadata": {
    "ExecuteTime": {
     "end_time": "2021-12-02T14:06:14.762576Z",
     "start_time": "2021-12-02T14:06:14.743963Z"
    }
   },
   "outputs": [
    {
     "data": {
      "text/plain": [
       "'WELCOME'"
      ]
     },
     "execution_count": 70,
     "metadata": {},
     "output_type": "execute_result"
    }
   ],
   "source": [
    "s"
   ]
  },
  {
   "cell_type": "code",
   "execution_count": 71,
   "metadata": {
    "ExecuteTime": {
     "end_time": "2021-12-02T14:06:17.173132Z",
     "start_time": "2021-12-02T14:06:17.159767Z"
    }
   },
   "outputs": [
    {
     "data": {
      "text/plain": [
       "'WCE'"
      ]
     },
     "execution_count": 71,
     "metadata": {},
     "output_type": "execute_result"
    }
   ],
   "source": [
    "s[::3]"
   ]
  },
  {
   "cell_type": "code",
   "execution_count": 72,
   "metadata": {
    "ExecuteTime": {
     "end_time": "2021-12-02T14:06:29.341221Z",
     "start_time": "2021-12-02T14:06:29.324323Z"
    }
   },
   "outputs": [
    {
     "data": {
      "text/plain": [
       "'ECW'"
      ]
     },
     "execution_count": 72,
     "metadata": {},
     "output_type": "execute_result"
    }
   ],
   "source": [
    "s[::-3]"
   ]
  },
  {
   "cell_type": "code",
   "execution_count": 73,
   "metadata": {
    "ExecuteTime": {
     "end_time": "2021-12-02T14:06:48.319152Z",
     "start_time": "2021-12-02T14:06:48.299681Z"
    }
   },
   "outputs": [
    {
     "data": {
      "text/plain": [
       "''"
      ]
     },
     "execution_count": 73,
     "metadata": {},
     "output_type": "execute_result"
    }
   ],
   "source": [
    "s[4:2]"
   ]
  },
  {
   "cell_type": "code",
   "execution_count": 74,
   "metadata": {
    "ExecuteTime": {
     "end_time": "2021-12-02T14:06:52.606612Z",
     "start_time": "2021-12-02T14:06:52.598968Z"
    }
   },
   "outputs": [
    {
     "data": {
      "text/plain": [
       "'WELCOME'"
      ]
     },
     "execution_count": 74,
     "metadata": {},
     "output_type": "execute_result"
    }
   ],
   "source": [
    "s"
   ]
  },
  {
   "cell_type": "code",
   "execution_count": 75,
   "metadata": {
    "ExecuteTime": {
     "end_time": "2021-12-02T14:07:10.429741Z",
     "start_time": "2021-12-02T14:07:10.410231Z"
    }
   },
   "outputs": [
    {
     "data": {
      "text/plain": [
       "'OC'"
      ]
     },
     "execution_count": 75,
     "metadata": {},
     "output_type": "execute_result"
    }
   ],
   "source": [
    "s[4:2:-1]"
   ]
  },
  {
   "cell_type": "code",
   "execution_count": 76,
   "metadata": {
    "ExecuteTime": {
     "end_time": "2021-12-02T14:07:29.811739Z",
     "start_time": "2021-12-02T14:07:29.792625Z"
    }
   },
   "outputs": [
    {
     "data": {
      "text/plain": [
       "['Java']"
      ]
     },
     "execution_count": 76,
     "metadata": {},
     "output_type": "execute_result"
    }
   ],
   "source": [
    "languages"
   ]
  },
  {
   "cell_type": "code",
   "execution_count": 77,
   "metadata": {
    "ExecuteTime": {
     "end_time": "2021-12-02T14:08:06.022620Z",
     "start_time": "2021-12-02T14:08:06.012619Z"
    }
   },
   "outputs": [],
   "source": [
    "languages.append(\"Python\")"
   ]
  },
  {
   "cell_type": "code",
   "execution_count": 78,
   "metadata": {
    "ExecuteTime": {
     "end_time": "2021-12-02T14:08:07.564560Z",
     "start_time": "2021-12-02T14:08:07.547044Z"
    }
   },
   "outputs": [
    {
     "data": {
      "text/plain": [
       "['Java', 'Python']"
      ]
     },
     "execution_count": 78,
     "metadata": {},
     "output_type": "execute_result"
    }
   ],
   "source": [
    "languages"
   ]
  },
  {
   "cell_type": "code",
   "execution_count": 79,
   "metadata": {
    "ExecuteTime": {
     "end_time": "2021-12-02T14:08:15.483438Z",
     "start_time": "2021-12-02T14:08:15.465937Z"
    }
   },
   "outputs": [
    {
     "data": {
      "text/plain": [
       "2"
      ]
     },
     "execution_count": 79,
     "metadata": {},
     "output_type": "execute_result"
    }
   ],
   "source": [
    "len(languages)"
   ]
  },
  {
   "cell_type": "code",
   "execution_count": 80,
   "metadata": {
    "ExecuteTime": {
     "end_time": "2021-12-02T14:08:32.525163Z",
     "start_time": "2021-12-02T14:08:32.511036Z"
    }
   },
   "outputs": [
    {
     "data": {
      "text/plain": [
       "'P'"
      ]
     },
     "execution_count": 80,
     "metadata": {},
     "output_type": "execute_result"
    }
   ],
   "source": [
    "languages[1][0]"
   ]
  },
  {
   "cell_type": "code",
   "execution_count": 81,
   "metadata": {
    "ExecuteTime": {
     "end_time": "2021-12-02T14:09:24.958727Z",
     "start_time": "2021-12-02T14:09:24.954452Z"
    }
   },
   "outputs": [],
   "source": [
    "languages.insert(1, \"C#\")"
   ]
  },
  {
   "cell_type": "code",
   "execution_count": 82,
   "metadata": {
    "ExecuteTime": {
     "end_time": "2021-12-02T14:09:26.328694Z",
     "start_time": "2021-12-02T14:09:26.313370Z"
    }
   },
   "outputs": [
    {
     "data": {
      "text/plain": [
       "['Java', 'C#', 'Python']"
      ]
     },
     "execution_count": 82,
     "metadata": {},
     "output_type": "execute_result"
    }
   ],
   "source": [
    "languages"
   ]
  },
  {
   "cell_type": "code",
   "execution_count": 83,
   "metadata": {
    "ExecuteTime": {
     "end_time": "2021-12-02T14:09:47.726896Z",
     "start_time": "2021-12-02T14:09:47.718621Z"
    }
   },
   "outputs": [],
   "source": [
    "c = [100, 200, 300]"
   ]
  },
  {
   "cell_type": "code",
   "execution_count": 84,
   "metadata": {
    "ExecuteTime": {
     "end_time": "2021-12-02T14:09:50.955299Z",
     "start_time": "2021-12-02T14:09:50.937894Z"
    }
   },
   "outputs": [
    {
     "data": {
      "text/plain": [
       "3"
      ]
     },
     "execution_count": 84,
     "metadata": {},
     "output_type": "execute_result"
    }
   ],
   "source": [
    "len(numList)"
   ]
  },
  {
   "cell_type": "code",
   "execution_count": 85,
   "metadata": {
    "ExecuteTime": {
     "end_time": "2021-12-02T14:10:06.396195Z",
     "start_time": "2021-12-02T14:10:06.381780Z"
    }
   },
   "outputs": [],
   "source": [
    "languages.append(numList)"
   ]
  },
  {
   "cell_type": "code",
   "execution_count": 86,
   "metadata": {
    "ExecuteTime": {
     "end_time": "2021-12-02T14:10:08.273272Z",
     "start_time": "2021-12-02T14:10:08.264267Z"
    }
   },
   "outputs": [
    {
     "data": {
      "text/plain": [
       "['Java', 'C#', 'Python', [100, 200, 300]]"
      ]
     },
     "execution_count": 86,
     "metadata": {},
     "output_type": "execute_result"
    }
   ],
   "source": [
    "languages"
   ]
  },
  {
   "cell_type": "code",
   "execution_count": 87,
   "metadata": {
    "ExecuteTime": {
     "end_time": "2021-12-02T14:10:28.294016Z",
     "start_time": "2021-12-02T14:10:28.279014Z"
    }
   },
   "outputs": [
    {
     "data": {
      "text/plain": [
       "'WELCOME'"
      ]
     },
     "execution_count": 87,
     "metadata": {},
     "output_type": "execute_result"
    }
   ],
   "source": [
    "s"
   ]
  },
  {
   "cell_type": "code",
   "execution_count": 88,
   "metadata": {
    "ExecuteTime": {
     "end_time": "2021-12-02T14:10:35.591411Z",
     "start_time": "2021-12-02T14:10:35.586322Z"
    }
   },
   "outputs": [],
   "source": [
    "languages.append(s)"
   ]
  },
  {
   "cell_type": "code",
   "execution_count": 92,
   "metadata": {
    "ExecuteTime": {
     "end_time": "2021-12-02T14:11:24.959265Z",
     "start_time": "2021-12-02T14:11:24.939264Z"
    }
   },
   "outputs": [
    {
     "data": {
      "text/plain": [
       "['Java', 'C#', 'Python', [100, 200, 300], 'WELCOME']"
      ]
     },
     "execution_count": 92,
     "metadata": {},
     "output_type": "execute_result"
    }
   ],
   "source": [
    "languages"
   ]
  },
  {
   "cell_type": "code",
   "execution_count": 93,
   "metadata": {
    "ExecuteTime": {
     "end_time": "2021-12-02T14:11:27.594018Z",
     "start_time": "2021-12-02T14:11:27.578281Z"
    }
   },
   "outputs": [
    {
     "data": {
      "text/plain": [
       "[100, 200, 300]"
      ]
     },
     "execution_count": 93,
     "metadata": {},
     "output_type": "execute_result"
    }
   ],
   "source": [
    "languages[3]"
   ]
  },
  {
   "cell_type": "code",
   "execution_count": 90,
   "metadata": {
    "ExecuteTime": {
     "end_time": "2021-12-02T14:10:54.288120Z",
     "start_time": "2021-12-02T14:10:54.276120Z"
    }
   },
   "outputs": [
    {
     "data": {
      "text/plain": [
       "200"
      ]
     },
     "execution_count": 90,
     "metadata": {},
     "output_type": "execute_result"
    }
   ],
   "source": [
    "languages[3][1]"
   ]
  },
  {
   "cell_type": "code",
   "execution_count": 91,
   "metadata": {
    "ExecuteTime": {
     "end_time": "2021-12-02T14:11:00.953732Z",
     "start_time": "2021-12-02T14:11:00.944471Z"
    }
   },
   "outputs": [
    {
     "data": {
      "text/plain": [
       "200"
      ]
     },
     "execution_count": 91,
     "metadata": {},
     "output_type": "execute_result"
    }
   ],
   "source": [
    "languages[-2][1]"
   ]
  },
  {
   "cell_type": "code",
   "execution_count": 94,
   "metadata": {
    "ExecuteTime": {
     "end_time": "2021-12-02T14:11:50.581606Z",
     "start_time": "2021-12-02T14:11:50.572471Z"
    }
   },
   "outputs": [],
   "source": [
    "languages[3].append(400)"
   ]
  },
  {
   "cell_type": "code",
   "execution_count": 95,
   "metadata": {
    "ExecuteTime": {
     "end_time": "2021-12-02T14:11:52.289903Z",
     "start_time": "2021-12-02T14:11:52.277896Z"
    }
   },
   "outputs": [
    {
     "data": {
      "text/plain": [
       "['Java', 'C#', 'Python', [100, 200, 300, 400], 'WELCOME']"
      ]
     },
     "execution_count": 95,
     "metadata": {},
     "output_type": "execute_result"
    }
   ],
   "source": [
    "languages"
   ]
  },
  {
   "cell_type": "code",
   "execution_count": 96,
   "metadata": {
    "ExecuteTime": {
     "end_time": "2021-12-02T14:12:32.936193Z",
     "start_time": "2021-12-02T14:12:32.918145Z"
    }
   },
   "outputs": [],
   "source": [
    "languages[3].append(\"word\")"
   ]
  },
  {
   "cell_type": "code",
   "execution_count": 97,
   "metadata": {
    "ExecuteTime": {
     "end_time": "2021-12-02T14:12:34.860330Z",
     "start_time": "2021-12-02T14:12:34.842923Z"
    }
   },
   "outputs": [
    {
     "data": {
      "text/plain": [
       "['Java', 'C#', 'Python', [100, 200, 300, 400, 'word'], 'WELCOME']"
      ]
     },
     "execution_count": 97,
     "metadata": {},
     "output_type": "execute_result"
    }
   ],
   "source": [
    "languages"
   ]
  },
  {
   "cell_type": "code",
   "execution_count": 98,
   "metadata": {
    "ExecuteTime": {
     "end_time": "2021-12-02T14:12:44.318613Z",
     "start_time": "2021-12-02T14:12:44.309252Z"
    }
   },
   "outputs": [
    {
     "data": {
      "text/plain": [
       "'w'"
      ]
     },
     "execution_count": 98,
     "metadata": {},
     "output_type": "execute_result"
    }
   ],
   "source": [
    "languages[3][-1][0]"
   ]
  },
  {
   "cell_type": "code",
   "execution_count": 99,
   "metadata": {
    "ExecuteTime": {
     "end_time": "2021-12-02T14:13:15.721573Z",
     "start_time": "2021-12-02T14:13:15.703572Z"
    }
   },
   "outputs": [
    {
     "data": {
      "text/plain": [
       "'WELCOME'"
      ]
     },
     "execution_count": 99,
     "metadata": {},
     "output_type": "execute_result"
    }
   ],
   "source": [
    "languages[-1]"
   ]
  },
  {
   "cell_type": "code",
   "execution_count": 100,
   "metadata": {
    "ExecuteTime": {
     "end_time": "2021-12-02T14:14:21.788152Z",
     "start_time": "2021-12-02T14:14:21.779497Z"
    }
   },
   "outputs": [
    {
     "data": {
      "text/plain": [
       "[100, 200, 300, 400, 'word']"
      ]
     },
     "execution_count": 100,
     "metadata": {},
     "output_type": "execute_result"
    }
   ],
   "source": [
    "languages[-2]"
   ]
  },
  {
   "cell_type": "code",
   "execution_count": 101,
   "metadata": {
    "ExecuteTime": {
     "end_time": "2021-12-02T14:15:02.107770Z",
     "start_time": "2021-12-02T14:15:02.090680Z"
    }
   },
   "outputs": [
    {
     "data": {
      "text/plain": [
       "['Java', 'C#', 'Python', [100, 200, 300, 400, 'word'], 'WELCOME']"
      ]
     },
     "execution_count": 101,
     "metadata": {},
     "output_type": "execute_result"
    }
   ],
   "source": [
    "languages"
   ]
  },
  {
   "cell_type": "code",
   "execution_count": 102,
   "metadata": {
    "ExecuteTime": {
     "end_time": "2021-12-02T14:15:08.502753Z",
     "start_time": "2021-12-02T14:15:08.496714Z"
    }
   },
   "outputs": [],
   "source": [
    "# extend"
   ]
  },
  {
   "cell_type": "code",
   "execution_count": 104,
   "metadata": {
    "ExecuteTime": {
     "end_time": "2021-12-02T14:15:30.525188Z",
     "start_time": "2021-12-02T14:15:30.507311Z"
    }
   },
   "outputs": [
    {
     "data": {
      "text/plain": [
       "[100, 200, 300, 400, 'word']"
      ]
     },
     "execution_count": 104,
     "metadata": {},
     "output_type": "execute_result"
    }
   ],
   "source": [
    "numList"
   ]
  },
  {
   "cell_type": "code",
   "execution_count": 105,
   "metadata": {
    "ExecuteTime": {
     "end_time": "2021-12-02T14:15:32.419089Z",
     "start_time": "2021-12-02T14:15:32.403007Z"
    }
   },
   "outputs": [
    {
     "data": {
      "text/plain": [
       "'WELCOME'"
      ]
     },
     "execution_count": 105,
     "metadata": {},
     "output_type": "execute_result"
    }
   ],
   "source": [
    "s"
   ]
  },
  {
   "cell_type": "code",
   "execution_count": 107,
   "metadata": {
    "ExecuteTime": {
     "end_time": "2021-12-02T14:15:57.370300Z",
     "start_time": "2021-12-02T14:15:57.363351Z"
    }
   },
   "outputs": [],
   "source": [
    "languages.extend(numList)"
   ]
  },
  {
   "cell_type": "code",
   "execution_count": 108,
   "metadata": {
    "ExecuteTime": {
     "end_time": "2021-12-02T14:16:02.050763Z",
     "start_time": "2021-12-02T14:16:02.038637Z"
    }
   },
   "outputs": [
    {
     "data": {
      "text/plain": [
       "['Java',\n",
       " 'C#',\n",
       " 'Python',\n",
       " [100, 200, 300, 400, 'word'],\n",
       " 'WELCOME',\n",
       " 100,\n",
       " 200,\n",
       " 300,\n",
       " 400,\n",
       " 'word']"
      ]
     },
     "execution_count": 108,
     "metadata": {},
     "output_type": "execute_result"
    }
   ],
   "source": [
    "languages"
   ]
  },
  {
   "cell_type": "code",
   "execution_count": 109,
   "metadata": {
    "ExecuteTime": {
     "end_time": "2021-12-02T14:16:25.315715Z",
     "start_time": "2021-12-02T14:16:25.308430Z"
    }
   },
   "outputs": [
    {
     "data": {
      "text/plain": [
       "['Java',\n",
       " 'C#',\n",
       " 'Python',\n",
       " [100, 200, 300, 400, 'word'],\n",
       " 'WELCOME',\n",
       " 100,\n",
       " 200,\n",
       " 300,\n",
       " 400,\n",
       " 'word']"
      ]
     },
     "execution_count": 109,
     "metadata": {},
     "output_type": "execute_result"
    }
   ],
   "source": [
    "languages"
   ]
  },
  {
   "cell_type": "code",
   "execution_count": 110,
   "metadata": {
    "ExecuteTime": {
     "end_time": "2021-12-02T14:16:38.925358Z",
     "start_time": "2021-12-02T14:16:38.907739Z"
    }
   },
   "outputs": [],
   "source": [
    "languages.extend(s)"
   ]
  },
  {
   "cell_type": "code",
   "execution_count": 111,
   "metadata": {
    "ExecuteTime": {
     "end_time": "2021-12-02T14:16:40.120129Z",
     "start_time": "2021-12-02T14:16:40.107136Z"
    }
   },
   "outputs": [
    {
     "data": {
      "text/plain": [
       "['Java',\n",
       " 'C#',\n",
       " 'Python',\n",
       " [100, 200, 300, 400, 'word'],\n",
       " 'WELCOME',\n",
       " 100,\n",
       " 200,\n",
       " 300,\n",
       " 400,\n",
       " 'word',\n",
       " 'W',\n",
       " 'E',\n",
       " 'L',\n",
       " 'C',\n",
       " 'O',\n",
       " 'M',\n",
       " 'E']"
      ]
     },
     "execution_count": 111,
     "metadata": {},
     "output_type": "execute_result"
    }
   ],
   "source": [
    "languages"
   ]
  },
  {
   "cell_type": "code",
   "execution_count": 112,
   "metadata": {
    "ExecuteTime": {
     "end_time": "2021-12-02T14:18:00.291312Z",
     "start_time": "2021-12-02T14:18:00.284303Z"
    }
   },
   "outputs": [],
   "source": [
    "players = (\"Rohit\", \"Rahane\", \"Bhuvi\")"
   ]
  },
  {
   "cell_type": "code",
   "execution_count": 113,
   "metadata": {
    "ExecuteTime": {
     "end_time": "2021-12-02T14:18:43.308483Z",
     "start_time": "2021-12-02T14:18:43.302537Z"
    }
   },
   "outputs": [],
   "source": [
    "# IMMUTABLE Vs MUTABLE"
   ]
  },
  {
   "cell_type": "code",
   "execution_count": 114,
   "metadata": {
    "ExecuteTime": {
     "end_time": "2021-12-02T14:19:06.266213Z",
     "start_time": "2021-12-02T14:19:06.259360Z"
    }
   },
   "outputs": [
    {
     "data": {
      "text/plain": [
       "1"
      ]
     },
     "execution_count": 114,
     "metadata": {},
     "output_type": "execute_result"
    }
   ],
   "source": [
    "players.count(\"Rohit\")"
   ]
  },
  {
   "cell_type": "code",
   "execution_count": 115,
   "metadata": {
    "ExecuteTime": {
     "end_time": "2021-12-02T14:19:14.542031Z",
     "start_time": "2021-12-02T14:19:14.531834Z"
    }
   },
   "outputs": [
    {
     "data": {
      "text/plain": [
       "0"
      ]
     },
     "execution_count": 115,
     "metadata": {},
     "output_type": "execute_result"
    }
   ],
   "source": [
    "players.index(\"Rohit\")"
   ]
  },
  {
   "cell_type": "code",
   "execution_count": null,
   "metadata": {},
   "outputs": [],
   "source": []
  },
  {
   "cell_type": "code",
   "execution_count": 116,
   "metadata": {
    "ExecuteTime": {
     "end_time": "2021-12-02T14:21:22.543194Z",
     "start_time": "2021-12-02T14:21:22.524339Z"
    }
   },
   "outputs": [],
   "source": [
    "pd = (\"Rohit\", [100, 85, 65, 10], \"Tests\")"
   ]
  },
  {
   "cell_type": "code",
   "execution_count": 117,
   "metadata": {
    "ExecuteTime": {
     "end_time": "2021-12-02T14:21:26.974706Z",
     "start_time": "2021-12-02T14:21:26.958261Z"
    }
   },
   "outputs": [
    {
     "data": {
      "text/plain": [
       "tuple"
      ]
     },
     "execution_count": 117,
     "metadata": {},
     "output_type": "execute_result"
    }
   ],
   "source": [
    "type(pd)"
   ]
  },
  {
   "cell_type": "code",
   "execution_count": 118,
   "metadata": {
    "ExecuteTime": {
     "end_time": "2021-12-02T14:21:54.314913Z",
     "start_time": "2021-12-02T14:21:54.301812Z"
    }
   },
   "outputs": [],
   "source": [
    "pd[1].append(123)"
   ]
  },
  {
   "cell_type": "code",
   "execution_count": 119,
   "metadata": {
    "ExecuteTime": {
     "end_time": "2021-12-02T14:21:55.994286Z",
     "start_time": "2021-12-02T14:21:55.985764Z"
    }
   },
   "outputs": [
    {
     "data": {
      "text/plain": [
       "('Rohit', [100, 85, 65, 10, 123], 'Tests')"
      ]
     },
     "execution_count": 119,
     "metadata": {},
     "output_type": "execute_result"
    }
   ],
   "source": [
    "pd"
   ]
  },
  {
   "cell_type": "code",
   "execution_count": 120,
   "metadata": {
    "ExecuteTime": {
     "end_time": "2021-12-02T14:22:18.818644Z",
     "start_time": "2021-12-02T14:22:18.803559Z"
    }
   },
   "outputs": [
    {
     "ename": "TypeError",
     "evalue": "'tuple' object does not support item assignment",
     "output_type": "error",
     "traceback": [
      "\u001b[1;31m---------------------------------------------------------------------------\u001b[0m",
      "\u001b[1;31mTypeError\u001b[0m                                 Traceback (most recent call last)",
      "\u001b[1;32m<ipython-input-120-d8047e0149ac>\u001b[0m in \u001b[0;36m<module>\u001b[1;34m\u001b[0m\n\u001b[1;32m----> 1\u001b[1;33m \u001b[0mpd\u001b[0m\u001b[1;33m[\u001b[0m\u001b[1;36m1\u001b[0m\u001b[1;33m]\u001b[0m \u001b[1;33m=\u001b[0m \u001b[1;34m\"Runs\"\u001b[0m\u001b[1;33m\u001b[0m\u001b[1;33m\u001b[0m\u001b[0m\n\u001b[0m",
      "\u001b[1;31mTypeError\u001b[0m: 'tuple' object does not support item assignment"
     ]
    }
   ],
   "source": [
    "pd[1] = \"Runs\""
   ]
  },
  {
   "cell_type": "code",
   "execution_count": 121,
   "metadata": {
    "ExecuteTime": {
     "end_time": "2021-12-02T14:22:34.362918Z",
     "start_time": "2021-12-02T14:22:34.342991Z"
    }
   },
   "outputs": [
    {
     "data": {
      "text/plain": [
       "[100, 200, 300, 400, 'word']"
      ]
     },
     "execution_count": 121,
     "metadata": {},
     "output_type": "execute_result"
    }
   ],
   "source": [
    "numList"
   ]
  },
  {
   "cell_type": "code",
   "execution_count": 122,
   "metadata": {
    "ExecuteTime": {
     "end_time": "2021-12-02T14:22:40.651972Z",
     "start_time": "2021-12-02T14:22:40.643970Z"
    }
   },
   "outputs": [],
   "source": [
    "numList[-1] = 500"
   ]
  },
  {
   "cell_type": "code",
   "execution_count": 123,
   "metadata": {
    "ExecuteTime": {
     "end_time": "2021-12-02T14:22:42.946503Z",
     "start_time": "2021-12-02T14:22:42.939652Z"
    }
   },
   "outputs": [
    {
     "data": {
      "text/plain": [
       "[100, 200, 300, 400, 500]"
      ]
     },
     "execution_count": 123,
     "metadata": {},
     "output_type": "execute_result"
    }
   ],
   "source": [
    "numList"
   ]
  },
  {
   "cell_type": "code",
   "execution_count": 124,
   "metadata": {
    "ExecuteTime": {
     "end_time": "2021-12-02T14:23:58.821307Z",
     "start_time": "2021-12-02T14:23:58.808939Z"
    }
   },
   "outputs": [
    {
     "data": {
      "text/plain": [
       "('Rohit', [100, 85, 65, 10, 123], 'Tests')"
      ]
     },
     "execution_count": 124,
     "metadata": {},
     "output_type": "execute_result"
    }
   ],
   "source": [
    "pd"
   ]
  },
  {
   "cell_type": "code",
   "execution_count": 125,
   "metadata": {
    "ExecuteTime": {
     "end_time": "2021-12-02T14:24:06.092490Z",
     "start_time": "2021-12-02T14:24:06.074989Z"
    }
   },
   "outputs": [
    {
     "data": {
      "text/plain": [
       "'Tests'"
      ]
     },
     "execution_count": 125,
     "metadata": {},
     "output_type": "execute_result"
    }
   ],
   "source": [
    "pd[-1]"
   ]
  },
  {
   "cell_type": "code",
   "execution_count": null,
   "metadata": {},
   "outputs": [],
   "source": []
  },
  {
   "cell_type": "code",
   "execution_count": 126,
   "metadata": {
    "ExecuteTime": {
     "end_time": "2021-12-02T14:24:56.004846Z",
     "start_time": "2021-12-02T14:24:55.999737Z"
    }
   },
   "outputs": [],
   "source": [
    "b = \"Rohit\", 100, \"Tests\""
   ]
  },
  {
   "cell_type": "code",
   "execution_count": 127,
   "metadata": {
    "ExecuteTime": {
     "end_time": "2021-12-02T14:25:01.660081Z",
     "start_time": "2021-12-02T14:25:01.642344Z"
    }
   },
   "outputs": [
    {
     "data": {
      "text/plain": [
       "tuple"
      ]
     },
     "execution_count": 127,
     "metadata": {},
     "output_type": "execute_result"
    }
   ],
   "source": [
    "type(b)"
   ]
  },
  {
   "cell_type": "code",
   "execution_count": 128,
   "metadata": {
    "ExecuteTime": {
     "end_time": "2021-12-02T14:25:03.795585Z",
     "start_time": "2021-12-02T14:25:03.783731Z"
    }
   },
   "outputs": [
    {
     "data": {
      "text/plain": [
       "('Rohit', 100, 'Tests')"
      ]
     },
     "execution_count": 128,
     "metadata": {},
     "output_type": "execute_result"
    }
   ],
   "source": [
    "b"
   ]
  },
  {
   "cell_type": "code",
   "execution_count": 129,
   "metadata": {
    "ExecuteTime": {
     "end_time": "2021-12-02T14:25:15.279516Z",
     "start_time": "2021-12-02T14:25:15.276515Z"
    }
   },
   "outputs": [],
   "source": [
    "# Packing"
   ]
  },
  {
   "cell_type": "code",
   "execution_count": 130,
   "metadata": {
    "ExecuteTime": {
     "end_time": "2021-12-02T14:25:36.531581Z",
     "start_time": "2021-12-02T14:25:36.521627Z"
    }
   },
   "outputs": [],
   "source": [
    "n, r, t = \"Rohit\", 100, \"Tests\""
   ]
  },
  {
   "cell_type": "code",
   "execution_count": 131,
   "metadata": {
    "ExecuteTime": {
     "end_time": "2021-12-02T14:25:38.222711Z",
     "start_time": "2021-12-02T14:25:38.214106Z"
    }
   },
   "outputs": [
    {
     "data": {
      "text/plain": [
       "'Rohit'"
      ]
     },
     "execution_count": 131,
     "metadata": {},
     "output_type": "execute_result"
    }
   ],
   "source": [
    "n"
   ]
  },
  {
   "cell_type": "code",
   "execution_count": 132,
   "metadata": {
    "ExecuteTime": {
     "end_time": "2021-12-02T14:25:39.735936Z",
     "start_time": "2021-12-02T14:25:39.724443Z"
    }
   },
   "outputs": [
    {
     "data": {
      "text/plain": [
       "100"
      ]
     },
     "execution_count": 132,
     "metadata": {},
     "output_type": "execute_result"
    }
   ],
   "source": [
    "r"
   ]
  },
  {
   "cell_type": "code",
   "execution_count": 133,
   "metadata": {
    "ExecuteTime": {
     "end_time": "2021-12-02T14:25:40.888396Z",
     "start_time": "2021-12-02T14:25:40.873279Z"
    }
   },
   "outputs": [
    {
     "data": {
      "text/plain": [
       "'Tests'"
      ]
     },
     "execution_count": 133,
     "metadata": {},
     "output_type": "execute_result"
    }
   ],
   "source": [
    "t"
   ]
  },
  {
   "cell_type": "code",
   "execution_count": 134,
   "metadata": {
    "ExecuteTime": {
     "end_time": "2021-12-02T14:26:04.875097Z",
     "start_time": "2021-12-02T14:26:04.856097Z"
    }
   },
   "outputs": [
    {
     "ename": "ValueError",
     "evalue": "too many values to unpack (expected 3)",
     "output_type": "error",
     "traceback": [
      "\u001b[1;31m---------------------------------------------------------------------------\u001b[0m",
      "\u001b[1;31mValueError\u001b[0m                                Traceback (most recent call last)",
      "\u001b[1;32m<ipython-input-134-5b7537d9a164>\u001b[0m in \u001b[0;36m<module>\u001b[1;34m\u001b[0m\n\u001b[1;32m----> 1\u001b[1;33m \u001b[0mn\u001b[0m\u001b[1;33m,\u001b[0m \u001b[0mr\u001b[0m\u001b[1;33m,\u001b[0m \u001b[0mt\u001b[0m \u001b[1;33m=\u001b[0m \u001b[1;34m\"Rohit\"\u001b[0m\u001b[1;33m\u001b[0m\u001b[1;33m\u001b[0m\u001b[0m\n\u001b[0m",
      "\u001b[1;31mValueError\u001b[0m: too many values to unpack (expected 3)"
     ]
    }
   ],
   "source": [
    "n, r, t = \"Rohit\""
   ]
  },
  {
   "cell_type": "code",
   "execution_count": null,
   "metadata": {},
   "outputs": [],
   "source": []
  },
  {
   "cell_type": "code",
   "execution_count": 135,
   "metadata": {
    "ExecuteTime": {
     "end_time": "2021-12-02T14:27:04.795016Z",
     "start_time": "2021-12-02T14:27:04.788524Z"
    }
   },
   "outputs": [],
   "source": [
    "# Dict\n",
    "# Key value pairs\n",
    "# Unordered collection\n",
    "# MUTABLE"
   ]
  },
  {
   "cell_type": "code",
   "execution_count": 136,
   "metadata": {
    "ExecuteTime": {
     "end_time": "2021-12-02T14:27:34.926144Z",
     "start_time": "2021-12-02T14:27:34.917491Z"
    }
   },
   "outputs": [],
   "source": [
    "fruits = {}"
   ]
  },
  {
   "cell_type": "code",
   "execution_count": 137,
   "metadata": {
    "ExecuteTime": {
     "end_time": "2021-12-02T14:27:38.873223Z",
     "start_time": "2021-12-02T14:27:38.864833Z"
    }
   },
   "outputs": [
    {
     "name": "stdout",
     "output_type": "stream",
     "text": [
      "<class 'dict'>\n"
     ]
    }
   ],
   "source": [
    "print(type(fruits))"
   ]
  },
  {
   "cell_type": "code",
   "execution_count": 138,
   "metadata": {
    "ExecuteTime": {
     "end_time": "2021-12-02T14:27:53.334430Z",
     "start_time": "2021-12-02T14:27:53.319179Z"
    }
   },
   "outputs": [],
   "source": [
    "fruits[\"a\"] = \"Apple\""
   ]
  },
  {
   "cell_type": "code",
   "execution_count": 139,
   "metadata": {
    "ExecuteTime": {
     "end_time": "2021-12-02T14:27:54.762114Z",
     "start_time": "2021-12-02T14:27:54.746621Z"
    }
   },
   "outputs": [
    {
     "data": {
      "text/plain": [
       "{'a': 'Apple'}"
      ]
     },
     "execution_count": 139,
     "metadata": {},
     "output_type": "execute_result"
    }
   ],
   "source": [
    "fruits"
   ]
  },
  {
   "cell_type": "code",
   "execution_count": 140,
   "metadata": {
    "ExecuteTime": {
     "end_time": "2021-12-02T14:28:01.625942Z",
     "start_time": "2021-12-02T14:28:01.618434Z"
    }
   },
   "outputs": [],
   "source": [
    "fruits[\"b\"] = \"Banana\""
   ]
  },
  {
   "cell_type": "code",
   "execution_count": 141,
   "metadata": {
    "ExecuteTime": {
     "end_time": "2021-12-02T14:28:03.595772Z",
     "start_time": "2021-12-02T14:28:03.589436Z"
    }
   },
   "outputs": [
    {
     "data": {
      "text/plain": [
       "{'a': 'Apple', 'b': 'Banana'}"
      ]
     },
     "execution_count": 141,
     "metadata": {},
     "output_type": "execute_result"
    }
   ],
   "source": [
    "fruits"
   ]
  },
  {
   "cell_type": "code",
   "execution_count": 142,
   "metadata": {
    "ExecuteTime": {
     "end_time": "2021-12-02T14:28:09.105636Z",
     "start_time": "2021-12-02T14:28:09.087631Z"
    }
   },
   "outputs": [
    {
     "data": {
      "text/plain": [
       "2"
      ]
     },
     "execution_count": 142,
     "metadata": {},
     "output_type": "execute_result"
    }
   ],
   "source": [
    "len(fruits)"
   ]
  },
  {
   "cell_type": "code",
   "execution_count": 143,
   "metadata": {
    "ExecuteTime": {
     "end_time": "2021-12-02T14:28:41.956190Z",
     "start_time": "2021-12-02T14:28:41.942645Z"
    }
   },
   "outputs": [],
   "source": [
    "fruits[1] = \"One\""
   ]
  },
  {
   "cell_type": "code",
   "execution_count": 144,
   "metadata": {
    "ExecuteTime": {
     "end_time": "2021-12-02T14:28:45.163653Z",
     "start_time": "2021-12-02T14:28:45.152826Z"
    }
   },
   "outputs": [
    {
     "data": {
      "text/plain": [
       "{'a': 'Apple', 'b': 'Banana', 1: 'One'}"
      ]
     },
     "execution_count": 144,
     "metadata": {},
     "output_type": "execute_result"
    }
   ],
   "source": [
    "fruits"
   ]
  },
  {
   "cell_type": "code",
   "execution_count": 145,
   "metadata": {
    "ExecuteTime": {
     "end_time": "2021-12-02T14:29:00.603514Z",
     "start_time": "2021-12-02T14:29:00.591301Z"
    }
   },
   "outputs": [
    {
     "data": {
      "text/plain": [
       "'One'"
      ]
     },
     "execution_count": 145,
     "metadata": {},
     "output_type": "execute_result"
    }
   ],
   "source": [
    "fruits[1]"
   ]
  },
  {
   "cell_type": "code",
   "execution_count": 146,
   "metadata": {
    "ExecuteTime": {
     "end_time": "2021-12-02T14:30:09.742513Z",
     "start_time": "2021-12-02T14:30:09.725484Z"
    }
   },
   "outputs": [],
   "source": [
    "# fruits = {\"a\": \"apple\"}"
   ]
  },
  {
   "cell_type": "code",
   "execution_count": 147,
   "metadata": {
    "ExecuteTime": {
     "end_time": "2021-12-02T14:30:29.103464Z",
     "start_time": "2021-12-02T14:30:29.094243Z"
    }
   },
   "outputs": [
    {
     "data": {
      "text/plain": [
       "('Rohit', 'Rahane', 'Bhuvi')"
      ]
     },
     "execution_count": 147,
     "metadata": {},
     "output_type": "execute_result"
    }
   ],
   "source": [
    "players"
   ]
  },
  {
   "cell_type": "code",
   "execution_count": 148,
   "metadata": {
    "ExecuteTime": {
     "end_time": "2021-12-02T14:30:46.275331Z",
     "start_time": "2021-12-02T14:30:46.264043Z"
    }
   },
   "outputs": [
    {
     "ename": "NameError",
     "evalue": "name 'nation' is not defined",
     "output_type": "error",
     "traceback": [
      "\u001b[1;31m---------------------------------------------------------------------------\u001b[0m",
      "\u001b[1;31mNameError\u001b[0m                                 Traceback (most recent call last)",
      "\u001b[1;32m<ipython-input-148-5e199a835782>\u001b[0m in \u001b[0;36m<module>\u001b[1;34m\u001b[0m\n\u001b[1;32m----> 1\u001b[1;33m \u001b[0mnation\u001b[0m\u001b[1;33m\u001b[0m\u001b[1;33m\u001b[0m\u001b[0m\n\u001b[0m",
      "\u001b[1;31mNameError\u001b[0m: name 'nation' is not defined"
     ]
    }
   ],
   "source": [
    "nation"
   ]
  },
  {
   "cell_type": "code",
   "execution_count": 149,
   "metadata": {
    "ExecuteTime": {
     "end_time": "2021-12-02T14:31:38.861069Z",
     "start_time": "2021-12-02T14:31:38.849067Z"
    }
   },
   "outputs": [
    {
     "data": {
      "text/plain": [
       "{'a': 'Apple', 'b': 'Banana', 1: 'One'}"
      ]
     },
     "execution_count": 149,
     "metadata": {},
     "output_type": "execute_result"
    }
   ],
   "source": [
    "fruits"
   ]
  },
  {
   "cell_type": "code",
   "execution_count": 150,
   "metadata": {
    "ExecuteTime": {
     "end_time": "2021-12-02T14:32:00.195269Z",
     "start_time": "2021-12-02T14:32:00.180955Z"
    }
   },
   "outputs": [
    {
     "ename": "KeyError",
     "evalue": "'c'",
     "output_type": "error",
     "traceback": [
      "\u001b[1;31m---------------------------------------------------------------------------\u001b[0m",
      "\u001b[1;31mKeyError\u001b[0m                                  Traceback (most recent call last)",
      "\u001b[1;32m<ipython-input-150-308c3ddf4134>\u001b[0m in \u001b[0;36m<module>\u001b[1;34m\u001b[0m\n\u001b[1;32m----> 1\u001b[1;33m \u001b[0mfruits\u001b[0m\u001b[1;33m[\u001b[0m\u001b[1;34m\"c\"\u001b[0m\u001b[1;33m]\u001b[0m\u001b[1;33m\u001b[0m\u001b[1;33m\u001b[0m\u001b[0m\n\u001b[0m",
      "\u001b[1;31mKeyError\u001b[0m: 'c'"
     ]
    }
   ],
   "source": [
    "fruits[\"c\"]"
   ]
  },
  {
   "cell_type": "code",
   "execution_count": 151,
   "metadata": {
    "ExecuteTime": {
     "end_time": "2021-12-02T14:32:58.284113Z",
     "start_time": "2021-12-02T14:32:58.274582Z"
    }
   },
   "outputs": [
    {
     "data": {
      "text/plain": [
       "('Rohit', 'Rahane', 'Bhuvi')"
      ]
     },
     "execution_count": 151,
     "metadata": {},
     "output_type": "execute_result"
    }
   ],
   "source": [
    "players"
   ]
  },
  {
   "cell_type": "code",
   "execution_count": 152,
   "metadata": {
    "ExecuteTime": {
     "end_time": "2021-12-02T14:33:08.768063Z",
     "start_time": "2021-12-02T14:33:08.763059Z"
    }
   },
   "outputs": [],
   "source": [
    "fruits[\"p\"] = players"
   ]
  },
  {
   "cell_type": "code",
   "execution_count": 153,
   "metadata": {
    "ExecuteTime": {
     "end_time": "2021-12-02T14:33:10.072935Z",
     "start_time": "2021-12-02T14:33:10.057395Z"
    }
   },
   "outputs": [
    {
     "data": {
      "text/plain": [
       "{'a': 'Apple', 'b': 'Banana', 1: 'One', 'p': ('Rohit', 'Rahane', 'Bhuvi')}"
      ]
     },
     "execution_count": 153,
     "metadata": {},
     "output_type": "execute_result"
    }
   ],
   "source": [
    "fruits"
   ]
  },
  {
   "cell_type": "code",
   "execution_count": 154,
   "metadata": {
    "ExecuteTime": {
     "end_time": "2021-12-02T14:33:32.507316Z",
     "start_time": "2021-12-02T14:33:32.495317Z"
    }
   },
   "outputs": [
    {
     "data": {
      "text/plain": [
       "'Rahane'"
      ]
     },
     "execution_count": 154,
     "metadata": {},
     "output_type": "execute_result"
    }
   ],
   "source": [
    "fruits[\"p\"][1]"
   ]
  },
  {
   "cell_type": "code",
   "execution_count": 156,
   "metadata": {
    "ExecuteTime": {
     "end_time": "2021-12-02T14:34:33.923624Z",
     "start_time": "2021-12-02T14:34:33.914312Z"
    }
   },
   "outputs": [
    {
     "name": "stdout",
     "output_type": "stream",
     "text": [
      "a Apple\n",
      "b Banana\n",
      "1 One\n",
      "p ('Rohit', 'Rahane', 'Bhuvi')\n"
     ]
    }
   ],
   "source": [
    "for k, v in fruits.items():\n",
    "    print(k, v)"
   ]
  },
  {
   "cell_type": "code",
   "execution_count": 157,
   "metadata": {
    "ExecuteTime": {
     "end_time": "2021-12-02T14:35:04.207680Z",
     "start_time": "2021-12-02T14:35:04.188950Z"
    }
   },
   "outputs": [
    {
     "name": "stdout",
     "output_type": "stream",
     "text": [
      "('a', 'Apple')\n",
      "('b', 'Banana')\n",
      "(1, 'One')\n",
      "('p', ('Rohit', 'Rahane', 'Bhuvi'))\n"
     ]
    }
   ],
   "source": [
    "for item in fruits.items():\n",
    "    print(item)"
   ]
  },
  {
   "cell_type": "code",
   "execution_count": 158,
   "metadata": {
    "ExecuteTime": {
     "end_time": "2021-12-02T14:36:47.420616Z",
     "start_time": "2021-12-02T14:36:47.416615Z"
    }
   },
   "outputs": [],
   "source": [
    "# k, v = item"
   ]
  },
  {
   "cell_type": "code",
   "execution_count": 159,
   "metadata": {
    "ExecuteTime": {
     "end_time": "2021-12-02T14:36:51.092560Z",
     "start_time": "2021-12-02T14:36:51.078565Z"
    }
   },
   "outputs": [
    {
     "data": {
      "text/plain": [
       "{'a': 'Apple', 'b': 'Banana', 1: 'One', 'p': ('Rohit', 'Rahane', 'Bhuvi')}"
      ]
     },
     "execution_count": 159,
     "metadata": {},
     "output_type": "execute_result"
    }
   ],
   "source": [
    "fruits"
   ]
  },
  {
   "cell_type": "code",
   "execution_count": 160,
   "metadata": {
    "ExecuteTime": {
     "end_time": "2021-12-02T14:37:13.556994Z",
     "start_time": "2021-12-02T14:37:13.547378Z"
    }
   },
   "outputs": [],
   "source": [
    "t = (1, 2)"
   ]
  },
  {
   "cell_type": "code",
   "execution_count": 161,
   "metadata": {
    "ExecuteTime": {
     "end_time": "2021-12-02T14:37:25.347531Z",
     "start_time": "2021-12-02T14:37:25.334242Z"
    }
   },
   "outputs": [],
   "source": [
    "fruits[t] = \"Some Random Value\""
   ]
  },
  {
   "cell_type": "code",
   "execution_count": 162,
   "metadata": {
    "ExecuteTime": {
     "end_time": "2021-12-02T14:37:26.854500Z",
     "start_time": "2021-12-02T14:37:26.838079Z"
    }
   },
   "outputs": [
    {
     "data": {
      "text/plain": [
       "{'a': 'Apple',\n",
       " 'b': 'Banana',\n",
       " 1: 'One',\n",
       " 'p': ('Rohit', 'Rahane', 'Bhuvi'),\n",
       " (1, 2): 'Some Random Value'}"
      ]
     },
     "execution_count": 162,
     "metadata": {},
     "output_type": "execute_result"
    }
   ],
   "source": [
    "fruits"
   ]
  },
  {
   "cell_type": "code",
   "execution_count": 163,
   "metadata": {
    "ExecuteTime": {
     "end_time": "2021-12-02T14:37:46.471587Z",
     "start_time": "2021-12-02T14:37:46.451863Z"
    }
   },
   "outputs": [
    {
     "data": {
      "text/plain": [
       "'Some Random Value'"
      ]
     },
     "execution_count": 163,
     "metadata": {},
     "output_type": "execute_result"
    }
   ],
   "source": [
    "fruits[(1, 2)]"
   ]
  },
  {
   "cell_type": "code",
   "execution_count": null,
   "metadata": {},
   "outputs": [],
   "source": []
  },
  {
   "cell_type": "code",
   "execution_count": 164,
   "metadata": {
    "ExecuteTime": {
     "end_time": "2021-12-02T14:38:51.850356Z",
     "start_time": "2021-12-02T14:38:51.834357Z"
    }
   },
   "outputs": [
    {
     "data": {
      "text/plain": [
       "'Apple'"
      ]
     },
     "execution_count": 164,
     "metadata": {},
     "output_type": "execute_result"
    }
   ],
   "source": [
    "fruits[\"a\"]"
   ]
  },
  {
   "cell_type": "code",
   "execution_count": 165,
   "metadata": {
    "ExecuteTime": {
     "end_time": "2021-12-02T14:38:58.772665Z",
     "start_time": "2021-12-02T14:38:58.766972Z"
    }
   },
   "outputs": [],
   "source": [
    "fruits[\"a\"] = \"Apricot\""
   ]
  },
  {
   "cell_type": "code",
   "execution_count": 166,
   "metadata": {
    "ExecuteTime": {
     "end_time": "2021-12-02T14:39:00.813145Z",
     "start_time": "2021-12-02T14:39:00.798146Z"
    }
   },
   "outputs": [
    {
     "data": {
      "text/plain": [
       "{'a': 'Apricot',\n",
       " 'b': 'Banana',\n",
       " 1: 'One',\n",
       " 'p': ('Rohit', 'Rahane', 'Bhuvi'),\n",
       " (1, 2): 'Some Random Value'}"
      ]
     },
     "execution_count": 166,
     "metadata": {},
     "output_type": "execute_result"
    }
   ],
   "source": [
    "fruits"
   ]
  },
  {
   "cell_type": "code",
   "execution_count": null,
   "metadata": {},
   "outputs": [],
   "source": []
  },
  {
   "cell_type": "code",
   "execution_count": 167,
   "metadata": {
    "ExecuteTime": {
     "end_time": "2021-12-02T14:40:34.329810Z",
     "start_time": "2021-12-02T14:40:34.318812Z"
    }
   },
   "outputs": [],
   "source": [
    "nd  = {\"a\": \"apricot\", \"a\": \"apple\"}"
   ]
  },
  {
   "cell_type": "code",
   "execution_count": 168,
   "metadata": {
    "ExecuteTime": {
     "end_time": "2021-12-02T14:40:36.334710Z",
     "start_time": "2021-12-02T14:40:36.326377Z"
    }
   },
   "outputs": [
    {
     "data": {
      "text/plain": [
       "{'a': 'apple'}"
      ]
     },
     "execution_count": 168,
     "metadata": {},
     "output_type": "execute_result"
    }
   ],
   "source": [
    "nd"
   ]
  },
  {
   "cell_type": "code",
   "execution_count": null,
   "metadata": {},
   "outputs": [],
   "source": []
  },
  {
   "cell_type": "code",
   "execution_count": 170,
   "metadata": {
    "ExecuteTime": {
     "end_time": "2021-12-02T14:40:59.737829Z",
     "start_time": "2021-12-02T14:40:59.720752Z"
    }
   },
   "outputs": [
    {
     "data": {
      "text/plain": [
       "{'a': 'Apricot',\n",
       " 'b': 'Banana',\n",
       " 1: 'One',\n",
       " 'p': ('Rohit', 'Rahane', 'Bhuvi'),\n",
       " (1, 2): 'Some Random Value'}"
      ]
     },
     "execution_count": 170,
     "metadata": {},
     "output_type": "execute_result"
    }
   ],
   "source": [
    "fruits"
   ]
  },
  {
   "cell_type": "code",
   "execution_count": 172,
   "metadata": {
    "ExecuteTime": {
     "end_time": "2021-12-02T14:41:16.938213Z",
     "start_time": "2021-12-02T14:41:16.926991Z"
    }
   },
   "outputs": [
    {
     "data": {
      "text/plain": [
       "'Apricot'"
      ]
     },
     "execution_count": 172,
     "metadata": {},
     "output_type": "execute_result"
    }
   ],
   "source": [
    "fruits.get(\"a\")"
   ]
  },
  {
   "cell_type": "code",
   "execution_count": 177,
   "metadata": {
    "ExecuteTime": {
     "end_time": "2021-12-02T14:41:51.838023Z",
     "start_time": "2021-12-02T14:41:51.834025Z"
    }
   },
   "outputs": [],
   "source": [
    "fruits.get(\"z\")"
   ]
  },
  {
   "cell_type": "code",
   "execution_count": 176,
   "metadata": {
    "ExecuteTime": {
     "end_time": "2021-12-02T14:41:44.893911Z",
     "start_time": "2021-12-02T14:41:44.876783Z"
    }
   },
   "outputs": [
    {
     "ename": "KeyError",
     "evalue": "'z'",
     "output_type": "error",
     "traceback": [
      "\u001b[1;31m---------------------------------------------------------------------------\u001b[0m",
      "\u001b[1;31mKeyError\u001b[0m                                  Traceback (most recent call last)",
      "\u001b[1;32m<ipython-input-176-782105e8a749>\u001b[0m in \u001b[0;36m<module>\u001b[1;34m\u001b[0m\n\u001b[1;32m----> 1\u001b[1;33m \u001b[0mfruits\u001b[0m\u001b[1;33m[\u001b[0m\u001b[1;34m\"z\"\u001b[0m\u001b[1;33m]\u001b[0m\u001b[1;33m\u001b[0m\u001b[1;33m\u001b[0m\u001b[0m\n\u001b[0m",
      "\u001b[1;31mKeyError\u001b[0m: 'z'"
     ]
    }
   ],
   "source": [
    "fruits[\"z\"]"
   ]
  },
  {
   "cell_type": "code",
   "execution_count": 178,
   "metadata": {
    "ExecuteTime": {
     "end_time": "2021-12-02T14:41:53.672776Z",
     "start_time": "2021-12-02T14:41:53.664376Z"
    }
   },
   "outputs": [],
   "source": [
    "result = fruits.get(\"z\")"
   ]
  },
  {
   "cell_type": "code",
   "execution_count": 180,
   "metadata": {
    "ExecuteTime": {
     "end_time": "2021-12-02T14:42:05.309051Z",
     "start_time": "2021-12-02T14:42:05.302048Z"
    }
   },
   "outputs": [
    {
     "name": "stdout",
     "output_type": "stream",
     "text": [
      "None\n"
     ]
    }
   ],
   "source": [
    "print(result)"
   ]
  },
  {
   "cell_type": "code",
   "execution_count": 182,
   "metadata": {
    "ExecuteTime": {
     "end_time": "2021-12-02T14:42:27.843081Z",
     "start_time": "2021-12-02T14:42:27.826417Z"
    }
   },
   "outputs": [
    {
     "data": {
      "text/plain": [
       "'Mango'"
      ]
     },
     "execution_count": 182,
     "metadata": {},
     "output_type": "execute_result"
    }
   ],
   "source": [
    "fruits.get(\"z\", \"Mango\")"
   ]
  },
  {
   "cell_type": "code",
   "execution_count": 184,
   "metadata": {
    "ExecuteTime": {
     "end_time": "2021-12-02T14:42:46.020282Z",
     "start_time": "2021-12-02T14:42:46.012210Z"
    }
   },
   "outputs": [
    {
     "data": {
      "text/plain": [
       "'Apricot'"
      ]
     },
     "execution_count": 184,
     "metadata": {},
     "output_type": "execute_result"
    }
   ],
   "source": [
    "fruits.get(\"a\", \"Mango\")"
   ]
  },
  {
   "cell_type": "code",
   "execution_count": 186,
   "metadata": {
    "ExecuteTime": {
     "end_time": "2021-12-02T14:44:57.899919Z",
     "start_time": "2021-12-02T14:44:57.888822Z"
    }
   },
   "outputs": [
    {
     "data": {
      "text/plain": [
       "{'a': 'Apricot',\n",
       " 'b': 'Banana',\n",
       " 1: 'One',\n",
       " 'p': ('Rohit', 'Rahane', 'Bhuvi'),\n",
       " (1, 2): 'Some Random Value'}"
      ]
     },
     "execution_count": 186,
     "metadata": {},
     "output_type": "execute_result"
    }
   ],
   "source": [
    "fruits"
   ]
  },
  {
   "cell_type": "code",
   "execution_count": null,
   "metadata": {},
   "outputs": [],
   "source": []
  },
  {
   "cell_type": "code",
   "execution_count": 187,
   "metadata": {
    "ExecuteTime": {
     "end_time": "2021-12-02T14:46:10.450280Z",
     "start_time": "2021-12-02T14:46:10.440958Z"
    }
   },
   "outputs": [],
   "source": [
    "# Control Structures"
   ]
  },
  {
   "cell_type": "code",
   "execution_count": 188,
   "metadata": {
    "ExecuteTime": {
     "end_time": "2021-12-02T14:46:29.498685Z",
     "start_time": "2021-12-02T14:46:29.492686Z"
    }
   },
   "outputs": [
    {
     "name": "stdout",
     "output_type": "stream",
     "text": [
      "The key z doesn't exist in fruits dict\n"
     ]
    }
   ],
   "source": [
    "if fruits.get(\"z\") == None:\n",
    "    print(\"The key z doesn't exist in fruits dict\")"
   ]
  },
  {
   "cell_type": "code",
   "execution_count": 189,
   "metadata": {
    "ExecuteTime": {
     "end_time": "2021-12-02T14:47:10.538694Z",
     "start_time": "2021-12-02T14:47:10.521693Z"
    }
   },
   "outputs": [],
   "source": [
    "# Set \n",
    "# Set Algebra\n",
    "# Union | Intersection | "
   ]
  },
  {
   "cell_type": "code",
   "execution_count": 190,
   "metadata": {
    "ExecuteTime": {
     "end_time": "2021-12-02T14:47:18.061771Z",
     "start_time": "2021-12-02T14:47:18.052699Z"
    }
   },
   "outputs": [],
   "source": [
    "a = set(\"BANGALORE\")"
   ]
  },
  {
   "cell_type": "code",
   "execution_count": 191,
   "metadata": {
    "ExecuteTime": {
     "end_time": "2021-12-02T14:47:19.169159Z",
     "start_time": "2021-12-02T14:47:19.157707Z"
    }
   },
   "outputs": [
    {
     "data": {
      "text/plain": [
       "{'A', 'B', 'E', 'G', 'L', 'N', 'O', 'R'}"
      ]
     },
     "execution_count": 191,
     "metadata": {},
     "output_type": "execute_result"
    }
   ],
   "source": [
    "a"
   ]
  },
  {
   "cell_type": "code",
   "execution_count": 192,
   "metadata": {
    "ExecuteTime": {
     "end_time": "2021-12-02T14:48:22.482803Z",
     "start_time": "2021-12-02T14:48:22.471804Z"
    }
   },
   "outputs": [],
   "source": [
    "a.add(\"Z\")"
   ]
  },
  {
   "cell_type": "code",
   "execution_count": 193,
   "metadata": {
    "ExecuteTime": {
     "end_time": "2021-12-02T14:48:23.539443Z",
     "start_time": "2021-12-02T14:48:23.520559Z"
    }
   },
   "outputs": [
    {
     "data": {
      "text/plain": [
       "{'A', 'B', 'E', 'G', 'L', 'N', 'O', 'R', 'Z'}"
      ]
     },
     "execution_count": 193,
     "metadata": {},
     "output_type": "execute_result"
    }
   ],
   "source": [
    "a"
   ]
  },
  {
   "cell_type": "code",
   "execution_count": null,
   "metadata": {},
   "outputs": [],
   "source": []
  },
  {
   "cell_type": "code",
   "execution_count": 194,
   "metadata": {
    "ExecuteTime": {
     "end_time": "2021-12-02T14:50:21.574982Z",
     "start_time": "2021-12-02T14:50:21.553796Z"
    }
   },
   "outputs": [
    {
     "data": {
      "text/plain": [
       "{'a': 'Apricot',\n",
       " 'b': 'Banana',\n",
       " 1: 'One',\n",
       " 'p': ('Rohit', 'Rahane', 'Bhuvi'),\n",
       " (1, 2): 'Some Random Value'}"
      ]
     },
     "execution_count": 194,
     "metadata": {},
     "output_type": "execute_result"
    }
   ],
   "source": [
    "fruits"
   ]
  },
  {
   "cell_type": "code",
   "execution_count": 195,
   "metadata": {
    "ExecuteTime": {
     "end_time": "2021-12-02T14:50:24.401017Z",
     "start_time": "2021-12-02T14:50:24.388373Z"
    }
   },
   "outputs": [
    {
     "data": {
      "text/plain": [
       "5"
      ]
     },
     "execution_count": 195,
     "metadata": {},
     "output_type": "execute_result"
    }
   ],
   "source": [
    "len(fruits)"
   ]
  },
  {
   "cell_type": "code",
   "execution_count": 196,
   "metadata": {
    "ExecuteTime": {
     "end_time": "2021-12-02T14:50:31.161320Z",
     "start_time": "2021-12-02T14:50:31.146789Z"
    }
   },
   "outputs": [
    {
     "data": {
      "text/plain": [
       "dict_keys(['a', 'b', 1, 'p', (1, 2)])"
      ]
     },
     "execution_count": 196,
     "metadata": {},
     "output_type": "execute_result"
    }
   ],
   "source": [
    "fruits.keys()"
   ]
  },
  {
   "cell_type": "code",
   "execution_count": 197,
   "metadata": {
    "ExecuteTime": {
     "end_time": "2021-12-02T14:50:36.086298Z",
     "start_time": "2021-12-02T14:50:36.067279Z"
    }
   },
   "outputs": [
    {
     "data": {
      "text/plain": [
       "dict_values(['Apricot', 'Banana', 'One', ('Rohit', 'Rahane', 'Bhuvi'), 'Some Random Value'])"
      ]
     },
     "execution_count": 197,
     "metadata": {},
     "output_type": "execute_result"
    }
   ],
   "source": [
    "fruits.values()"
   ]
  },
  {
   "cell_type": "code",
   "execution_count": null,
   "metadata": {},
   "outputs": [],
   "source": []
  },
  {
   "cell_type": "code",
   "execution_count": 198,
   "metadata": {
    "ExecuteTime": {
     "end_time": "2021-12-02T14:51:18.180847Z",
     "start_time": "2021-12-02T14:51:18.167141Z"
    }
   },
   "outputs": [],
   "source": [
    "# Control Structures"
   ]
  },
  {
   "cell_type": "code",
   "execution_count": 199,
   "metadata": {
    "ExecuteTime": {
     "end_time": "2021-12-02T14:51:40.409438Z",
     "start_time": "2021-12-02T14:51:40.401269Z"
    }
   },
   "outputs": [
    {
     "data": {
      "text/plain": [
       "'WELCOME'"
      ]
     },
     "execution_count": 199,
     "metadata": {},
     "output_type": "execute_result"
    }
   ],
   "source": [
    "s "
   ]
  },
  {
   "cell_type": "code",
   "execution_count": 200,
   "metadata": {
    "ExecuteTime": {
     "end_time": "2021-12-02T14:52:35.206847Z",
     "start_time": "2021-12-02T14:52:35.187705Z"
    }
   },
   "outputs": [
    {
     "name": "stdout",
     "output_type": "stream",
     "text": [
      "W\n",
      "E\n",
      "L\n",
      "C\n",
      "O\n",
      "M\n",
      "E\n"
     ]
    }
   ],
   "source": [
    "for item in s:\n",
    "    print(item)"
   ]
  },
  {
   "cell_type": "code",
   "execution_count": 201,
   "metadata": {
    "ExecuteTime": {
     "end_time": "2021-12-02T14:52:41.980288Z",
     "start_time": "2021-12-02T14:52:41.969980Z"
    }
   },
   "outputs": [
    {
     "data": {
      "text/plain": [
       "['Java',\n",
       " 'C#',\n",
       " 'Python',\n",
       " [100, 200, 300, 400, 500],\n",
       " 'WELCOME',\n",
       " 100,\n",
       " 200,\n",
       " 300,\n",
       " 400,\n",
       " 'word',\n",
       " 'W',\n",
       " 'E',\n",
       " 'L',\n",
       " 'C',\n",
       " 'O',\n",
       " 'M',\n",
       " 'E']"
      ]
     },
     "execution_count": 201,
     "metadata": {},
     "output_type": "execute_result"
    }
   ],
   "source": [
    "languages"
   ]
  },
  {
   "cell_type": "code",
   "execution_count": 202,
   "metadata": {
    "ExecuteTime": {
     "end_time": "2021-12-02T14:52:50.859601Z",
     "start_time": "2021-12-02T14:52:50.849073Z"
    }
   },
   "outputs": [
    {
     "name": "stdout",
     "output_type": "stream",
     "text": [
      "Java\n",
      "C#\n",
      "Python\n",
      "[100, 200, 300, 400, 500]\n",
      "WELCOME\n",
      "100\n",
      "200\n",
      "300\n",
      "400\n",
      "word\n",
      "W\n",
      "E\n",
      "L\n",
      "C\n",
      "O\n",
      "M\n",
      "E\n"
     ]
    }
   ],
   "source": [
    "for item in languages:\n",
    "    print(item)"
   ]
  },
  {
   "cell_type": "code",
   "execution_count": 203,
   "metadata": {
    "ExecuteTime": {
     "end_time": "2021-12-02T14:53:02.353988Z",
     "start_time": "2021-12-02T14:53:02.346123Z"
    }
   },
   "outputs": [
    {
     "data": {
      "text/plain": [
       "('Rohit', 'Rahane', 'Bhuvi')"
      ]
     },
     "execution_count": 203,
     "metadata": {},
     "output_type": "execute_result"
    }
   ],
   "source": [
    "players"
   ]
  },
  {
   "cell_type": "code",
   "execution_count": 204,
   "metadata": {
    "ExecuteTime": {
     "end_time": "2021-12-02T14:53:11.306590Z",
     "start_time": "2021-12-02T14:53:11.300944Z"
    }
   },
   "outputs": [
    {
     "name": "stdout",
     "output_type": "stream",
     "text": [
      "Rohit\n",
      "Rahane\n",
      "Bhuvi\n"
     ]
    }
   ],
   "source": [
    "for item in players:\n",
    "    print(item)"
   ]
  },
  {
   "cell_type": "code",
   "execution_count": 205,
   "metadata": {
    "ExecuteTime": {
     "end_time": "2021-12-02T14:53:18.074877Z",
     "start_time": "2021-12-02T14:53:18.058730Z"
    }
   },
   "outputs": [
    {
     "data": {
      "text/plain": [
       "{'a': 'Apricot',\n",
       " 'b': 'Banana',\n",
       " 1: 'One',\n",
       " 'p': ('Rohit', 'Rahane', 'Bhuvi'),\n",
       " (1, 2): 'Some Random Value'}"
      ]
     },
     "execution_count": 205,
     "metadata": {},
     "output_type": "execute_result"
    }
   ],
   "source": [
    "fruits"
   ]
  },
  {
   "cell_type": "code",
   "execution_count": 206,
   "metadata": {
    "ExecuteTime": {
     "end_time": "2021-12-02T14:53:23.717633Z",
     "start_time": "2021-12-02T14:53:23.703842Z"
    }
   },
   "outputs": [
    {
     "name": "stdout",
     "output_type": "stream",
     "text": [
      "a\n",
      "b\n",
      "1\n",
      "p\n",
      "(1, 2)\n"
     ]
    }
   ],
   "source": [
    "for item in fruits:\n",
    "    print(item)"
   ]
  },
  {
   "cell_type": "code",
   "execution_count": 207,
   "metadata": {
    "ExecuteTime": {
     "end_time": "2021-12-02T14:53:37.153019Z",
     "start_time": "2021-12-02T14:53:37.143021Z"
    }
   },
   "outputs": [
    {
     "name": "stdout",
     "output_type": "stream",
     "text": [
      "('a', 'Apricot')\n",
      "('b', 'Banana')\n",
      "(1, 'One')\n",
      "('p', ('Rohit', 'Rahane', 'Bhuvi'))\n",
      "((1, 2), 'Some Random Value')\n"
     ]
    }
   ],
   "source": [
    "for item in fruits.items():\n",
    "    print(item)"
   ]
  },
  {
   "cell_type": "code",
   "execution_count": 208,
   "metadata": {
    "ExecuteTime": {
     "end_time": "2021-12-02T14:54:19.278098Z",
     "start_time": "2021-12-02T14:54:19.269987Z"
    }
   },
   "outputs": [
    {
     "data": {
      "text/plain": [
       "dict_items([('a', 'Apricot'), ('b', 'Banana'), (1, 'One'), ('p', ('Rohit', 'Rahane', 'Bhuvi')), ((1, 2), 'Some Random Value')])"
      ]
     },
     "execution_count": 208,
     "metadata": {},
     "output_type": "execute_result"
    }
   ],
   "source": [
    "fruits.items()"
   ]
  },
  {
   "cell_type": "code",
   "execution_count": null,
   "metadata": {},
   "outputs": [],
   "source": [
    "# Generators"
   ]
  },
  {
   "cell_type": "code",
   "execution_count": 209,
   "metadata": {
    "ExecuteTime": {
     "end_time": "2021-12-02T14:57:53.561545Z",
     "start_time": "2021-12-02T14:57:53.543636Z"
    }
   },
   "outputs": [
    {
     "name": "stdout",
     "output_type": "stream",
     "text": [
      "a\n",
      "b\n",
      "1\n",
      "p\n",
      "(1, 2)\n"
     ]
    }
   ],
   "source": [
    "for item in fruits.keys():\n",
    "    print(item)"
   ]
  },
  {
   "cell_type": "code",
   "execution_count": 210,
   "metadata": {
    "ExecuteTime": {
     "end_time": "2021-12-02T14:58:07.437422Z",
     "start_time": "2021-12-02T14:58:07.418388Z"
    }
   },
   "outputs": [
    {
     "name": "stdout",
     "output_type": "stream",
     "text": [
      "Apricot\n",
      "Banana\n",
      "One\n",
      "('Rohit', 'Rahane', 'Bhuvi')\n",
      "Some Random Value\n"
     ]
    }
   ],
   "source": [
    "for item in fruits.values():\n",
    "    print(item)"
   ]
  },
  {
   "cell_type": "code",
   "execution_count": null,
   "metadata": {},
   "outputs": [],
   "source": []
  },
  {
   "cell_type": "code",
   "execution_count": 211,
   "metadata": {
    "ExecuteTime": {
     "end_time": "2021-12-02T14:58:21.305742Z",
     "start_time": "2021-12-02T14:58:21.291087Z"
    }
   },
   "outputs": [
    {
     "name": "stdout",
     "output_type": "stream",
     "text": [
      "W\n",
      "E\n",
      "L\n",
      "C\n",
      "O\n",
      "M\n",
      "E\n"
     ]
    }
   ],
   "source": [
    "for item in s:\n",
    "    print(item)"
   ]
  },
  {
   "cell_type": "code",
   "execution_count": 213,
   "metadata": {
    "ExecuteTime": {
     "end_time": "2021-12-02T14:58:42.639909Z",
     "start_time": "2021-12-02T14:58:42.619555Z"
    }
   },
   "outputs": [
    {
     "name": "stdout",
     "output_type": "stream",
     "text": [
      "0\n",
      "1\n",
      "2\n",
      "3\n",
      "4\n",
      "5\n",
      "6\n"
     ]
    }
   ],
   "source": [
    "for item in range(len(s)):\n",
    "    print(item)"
   ]
  },
  {
   "cell_type": "code",
   "execution_count": 214,
   "metadata": {
    "ExecuteTime": {
     "end_time": "2021-12-02T14:59:31.011484Z",
     "start_time": "2021-12-02T14:59:30.997793Z"
    }
   },
   "outputs": [
    {
     "name": "stdout",
     "output_type": "stream",
     "text": [
      "W\n",
      "E\n",
      "L\n",
      "C\n",
      "O\n",
      "M\n",
      "E\n"
     ]
    }
   ],
   "source": [
    "for item in range(len(s)):\n",
    "    print(s[item])"
   ]
  },
  {
   "cell_type": "code",
   "execution_count": 215,
   "metadata": {
    "ExecuteTime": {
     "end_time": "2021-12-02T14:59:55.475100Z",
     "start_time": "2021-12-02T14:59:55.469069Z"
    }
   },
   "outputs": [
    {
     "data": {
      "text/plain": [
       "['Java',\n",
       " 'C#',\n",
       " 'Python',\n",
       " [100, 200, 300, 400, 500],\n",
       " 'WELCOME',\n",
       " 100,\n",
       " 200,\n",
       " 300,\n",
       " 400,\n",
       " 'word',\n",
       " 'W',\n",
       " 'E',\n",
       " 'L',\n",
       " 'C',\n",
       " 'O',\n",
       " 'M',\n",
       " 'E']"
      ]
     },
     "execution_count": 215,
     "metadata": {},
     "output_type": "execute_result"
    }
   ],
   "source": [
    "languages"
   ]
  },
  {
   "cell_type": "code",
   "execution_count": 216,
   "metadata": {
    "ExecuteTime": {
     "end_time": "2021-12-02T15:00:08.228248Z",
     "start_time": "2021-12-02T15:00:08.217249Z"
    }
   },
   "outputs": [
    {
     "name": "stdout",
     "output_type": "stream",
     "text": [
      "Java\n",
      "C#\n",
      "Python\n",
      "[100, 200, 300, 400, 500]\n",
      "WELCOME\n",
      "100\n",
      "200\n",
      "300\n",
      "400\n",
      "word\n",
      "W\n",
      "E\n",
      "L\n",
      "C\n",
      "O\n",
      "M\n",
      "E\n"
     ]
    }
   ],
   "source": [
    "for item in range(len(languages)):\n",
    "    print(languages[item])"
   ]
  },
  {
   "cell_type": "code",
   "execution_count": 217,
   "metadata": {
    "ExecuteTime": {
     "end_time": "2021-12-02T15:00:45.903872Z",
     "start_time": "2021-12-02T15:00:45.892877Z"
    }
   },
   "outputs": [
    {
     "name": "stdout",
     "output_type": "stream",
     "text": [
      "Java\n",
      "Python\n",
      "WELCOME\n",
      "200\n",
      "400\n",
      "W\n",
      "L\n",
      "O\n",
      "E\n"
     ]
    }
   ],
   "source": [
    "for item in range(0, len(languages), 2):\n",
    "    print(languages[item])"
   ]
  },
  {
   "cell_type": "code",
   "execution_count": 221,
   "metadata": {
    "ExecuteTime": {
     "end_time": "2021-12-02T15:01:29.477888Z",
     "start_time": "2021-12-02T15:01:29.464039Z"
    }
   },
   "outputs": [
    {
     "name": "stdout",
     "output_type": "stream",
     "text": [
      "E\n",
      "M\n",
      "O\n",
      "C\n",
      "L\n",
      "E\n",
      "W\n",
      "word\n",
      "400\n",
      "300\n",
      "200\n",
      "100\n",
      "WELCOME\n",
      "[100, 200, 300, 400, 500]\n",
      "Python\n",
      "C#\n",
      "Java\n"
     ]
    }
   ],
   "source": [
    "for item in range(len(languages)-1, -1, -1):\n",
    "    print(languages[item])"
   ]
  },
  {
   "cell_type": "code",
   "execution_count": 222,
   "metadata": {
    "ExecuteTime": {
     "end_time": "2021-12-02T15:02:18.746775Z",
     "start_time": "2021-12-02T15:02:18.738774Z"
    }
   },
   "outputs": [
    {
     "data": {
      "text/plain": [
       "[0, 1, 2, 3, 4, 5, 6]"
      ]
     },
     "execution_count": 222,
     "metadata": {},
     "output_type": "execute_result"
    }
   ],
   "source": [
    "list(range(0, 7))"
   ]
  },
  {
   "cell_type": "code",
   "execution_count": 223,
   "metadata": {
    "ExecuteTime": {
     "end_time": "2021-12-02T15:02:30.917984Z",
     "start_time": "2021-12-02T15:02:30.902344Z"
    }
   },
   "outputs": [
    {
     "data": {
      "text/plain": [
       "[6, 5, 4, 3, 2, 1, 0]"
      ]
     },
     "execution_count": 223,
     "metadata": {},
     "output_type": "execute_result"
    }
   ],
   "source": [
    "list(range(6, -1, -1))"
   ]
  },
  {
   "cell_type": "code",
   "execution_count": null,
   "metadata": {},
   "outputs": [],
   "source": []
  },
  {
   "cell_type": "code",
   "execution_count": 224,
   "metadata": {
    "ExecuteTime": {
     "end_time": "2021-12-02T15:03:46.530954Z",
     "start_time": "2021-12-02T15:03:46.523245Z"
    }
   },
   "outputs": [
    {
     "name": "stdout",
     "output_type": "stream",
     "text": [
      "1,11,21,31,41,51,61,71,81,91,"
     ]
    }
   ],
   "source": [
    "for item in range(1, 100, 10):\n",
    "    print(item, end=\",\")"
   ]
  },
  {
   "cell_type": "code",
   "execution_count": 225,
   "metadata": {
    "ExecuteTime": {
     "end_time": "2021-12-02T15:04:06.901544Z",
     "start_time": "2021-12-02T15:04:06.892026Z"
    }
   },
   "outputs": [
    {
     "name": "stdout",
     "output_type": "stream",
     "text": [
      "1,11,21,31,41,51,61,71,81,91,"
     ]
    }
   ],
   "source": [
    "for item in list(range(1, 100, 10)):\n",
    "    print(item, end=\",\")"
   ]
  },
  {
   "cell_type": "code",
   "execution_count": 226,
   "metadata": {
    "ExecuteTime": {
     "end_time": "2021-12-02T15:04:49.662874Z",
     "start_time": "2021-12-02T15:04:49.643455Z"
    }
   },
   "outputs": [
    {
     "data": {
      "text/plain": [
       "[1, 11, 21, 31, 41, 51, 61, 71, 81, 91]"
      ]
     },
     "execution_count": 226,
     "metadata": {},
     "output_type": "execute_result"
    }
   ],
   "source": [
    "list(range(1, 100, 10))"
   ]
  },
  {
   "cell_type": "code",
   "execution_count": 227,
   "metadata": {
    "ExecuteTime": {
     "end_time": "2021-12-02T15:06:01.840167Z",
     "start_time": "2021-12-02T15:06:01.821227Z"
    }
   },
   "outputs": [],
   "source": [
    "r = range(1, 100, 10)"
   ]
  },
  {
   "cell_type": "code",
   "execution_count": 228,
   "metadata": {
    "ExecuteTime": {
     "end_time": "2021-12-02T15:06:03.762896Z",
     "start_time": "2021-12-02T15:06:03.752802Z"
    }
   },
   "outputs": [
    {
     "data": {
      "text/plain": [
       "range"
      ]
     },
     "execution_count": 228,
     "metadata": {},
     "output_type": "execute_result"
    }
   ],
   "source": [
    "type(r)"
   ]
  },
  {
   "cell_type": "code",
   "execution_count": 229,
   "metadata": {
    "ExecuteTime": {
     "end_time": "2021-12-02T15:06:51.366760Z",
     "start_time": "2021-12-02T15:06:51.355216Z"
    }
   },
   "outputs": [
    {
     "name": "stdout",
     "output_type": "stream",
     "text": [
      "range(1, 100, 10)\n"
     ]
    }
   ],
   "source": [
    "print(r)"
   ]
  },
  {
   "cell_type": "code",
   "execution_count": 230,
   "metadata": {
    "ExecuteTime": {
     "end_time": "2021-12-02T15:07:52.336934Z",
     "start_time": "2021-12-02T15:07:52.326290Z"
    }
   },
   "outputs": [],
   "source": [
    "lstScores = [10, 5, 39, 78, 65, 33, 45]"
   ]
  },
  {
   "cell_type": "code",
   "execution_count": 231,
   "metadata": {
    "ExecuteTime": {
     "end_time": "2021-12-02T15:07:57.288611Z",
     "start_time": "2021-12-02T15:07:57.272827Z"
    }
   },
   "outputs": [
    {
     "data": {
      "text/plain": [
       "[10, 39, 65, 45]"
      ]
     },
     "execution_count": 231,
     "metadata": {},
     "output_type": "execute_result"
    }
   ],
   "source": [
    "lstScores[::2]"
   ]
  },
  {
   "cell_type": "code",
   "execution_count": 233,
   "metadata": {
    "ExecuteTime": {
     "end_time": "2021-12-02T15:08:17.769746Z",
     "start_time": "2021-12-02T15:08:17.756430Z"
    }
   },
   "outputs": [
    {
     "name": "stdout",
     "output_type": "stream",
     "text": [
      "10\n",
      "39\n",
      "65\n",
      "45\n"
     ]
    }
   ],
   "source": [
    "for item in range(0, len(lstScores), 2):\n",
    "    print(lstScores[item])"
   ]
  },
  {
   "cell_type": "code",
   "execution_count": 236,
   "metadata": {
    "ExecuteTime": {
     "end_time": "2021-12-02T15:09:10.624420Z",
     "start_time": "2021-12-02T15:09:10.619335Z"
    }
   },
   "outputs": [],
   "source": [
    "newScores = []\n",
    "for item in range(0, len(lstScores), 2):\n",
    "    newScores.append(lstScores[item])"
   ]
  },
  {
   "cell_type": "code",
   "execution_count": 237,
   "metadata": {
    "ExecuteTime": {
     "end_time": "2021-12-02T15:09:11.182976Z",
     "start_time": "2021-12-02T15:09:11.178352Z"
    }
   },
   "outputs": [
    {
     "name": "stdout",
     "output_type": "stream",
     "text": [
      "[10, 39, 65, 45]\n"
     ]
    }
   ],
   "source": [
    "print(newScores)"
   ]
  },
  {
   "cell_type": "code",
   "execution_count": 238,
   "metadata": {
    "ExecuteTime": {
     "end_time": "2021-12-02T15:10:05.551844Z",
     "start_time": "2021-12-02T15:10:05.544797Z"
    }
   },
   "outputs": [],
   "source": [
    "newScores = list(range(0, 10))"
   ]
  },
  {
   "cell_type": "code",
   "execution_count": 239,
   "metadata": {
    "ExecuteTime": {
     "end_time": "2021-12-02T15:10:07.706420Z",
     "start_time": "2021-12-02T15:10:07.697420Z"
    }
   },
   "outputs": [
    {
     "data": {
      "text/plain": [
       "[0, 1, 2, 3, 4, 5, 6, 7, 8, 9]"
      ]
     },
     "execution_count": 239,
     "metadata": {},
     "output_type": "execute_result"
    }
   ],
   "source": [
    "newScores"
   ]
  },
  {
   "cell_type": "code",
   "execution_count": null,
   "metadata": {},
   "outputs": [],
   "source": []
  },
  {
   "cell_type": "code",
   "execution_count": 243,
   "metadata": {
    "ExecuteTime": {
     "end_time": "2021-12-02T15:14:03.517993Z",
     "start_time": "2021-12-02T15:14:03.510485Z"
    }
   },
   "outputs": [],
   "source": []
  },
  {
   "cell_type": "code",
   "execution_count": 247,
   "metadata": {
    "ExecuteTime": {
     "end_time": "2021-12-02T15:15:51.877860Z",
     "start_time": "2021-12-02T15:15:51.858346Z"
    }
   },
   "outputs": [
    {
     "name": "stdout",
     "output_type": "stream",
     "text": [
      "10\n",
      "5\n",
      "39\n",
      "78\n",
      "65\n",
      "33\n",
      "45\n"
     ]
    }
   ],
   "source": [
    "index = 0\n",
    "while index < len(lstScores):\n",
    "    print(lstScores[index])\n",
    "    index += 1"
   ]
  },
  {
   "cell_type": "code",
   "execution_count": 249,
   "metadata": {
    "ExecuteTime": {
     "end_time": "2021-12-02T15:16:18.217812Z",
     "start_time": "2021-12-02T15:16:18.206819Z"
    }
   },
   "outputs": [
    {
     "name": "stdout",
     "output_type": "stream",
     "text": [
      "0,1,2,3,4,5,6,7,8,9,10,"
     ]
    }
   ],
   "source": [
    "for item in range(0, 11):\n",
    "    print(item, end=\",\")"
   ]
  },
  {
   "cell_type": "code",
   "execution_count": 250,
   "metadata": {
    "ExecuteTime": {
     "end_time": "2021-12-02T15:16:47.240368Z",
     "start_time": "2021-12-02T15:16:47.226216Z"
    }
   },
   "outputs": [
    {
     "name": "stdout",
     "output_type": "stream",
     "text": [
      "0\n",
      "2\n",
      "4\n",
      "6\n",
      "8\n",
      "10\n"
     ]
    }
   ],
   "source": [
    "for item in range(0, 11):\n",
    "    if item % 2 == 0:\n",
    "        print(item)"
   ]
  },
  {
   "cell_type": "code",
   "execution_count": 251,
   "metadata": {
    "ExecuteTime": {
     "end_time": "2021-12-02T15:17:16.349795Z",
     "start_time": "2021-12-02T15:17:16.337271Z"
    }
   },
   "outputs": [
    {
     "name": "stdout",
     "output_type": "stream",
     "text": [
      "1\n",
      "3\n",
      "5\n",
      "7\n",
      "9\n"
     ]
    }
   ],
   "source": [
    "for item in range(0, 11):\n",
    "    if item % 2 == 0:\n",
    "        continue\n",
    "    print(item)"
   ]
  },
  {
   "cell_type": "code",
   "execution_count": 253,
   "metadata": {
    "ExecuteTime": {
     "end_time": "2021-12-02T15:19:40.882009Z",
     "start_time": "2021-12-02T15:19:40.872199Z"
    }
   },
   "outputs": [
    {
     "name": "stdout",
     "output_type": "stream",
     "text": [
      "0\n",
      "1\n",
      "2\n",
      "3\n",
      "4\n",
      "5\n"
     ]
    }
   ],
   "source": [
    "for item in range(0, 11):\n",
    "    print(item)\n",
    "    if item == 5:\n",
    "        break\n",
    "    "
   ]
  },
  {
   "cell_type": "code",
   "execution_count": 254,
   "metadata": {
    "ExecuteTime": {
     "end_time": "2021-12-02T15:20:47.056543Z",
     "start_time": "2021-12-02T15:20:47.037892Z"
    }
   },
   "outputs": [],
   "source": [
    "def printNumbers():\n",
    "    for item in range(0, 11):\n",
    "        if item % 2 == 0:\n",
    "            continue\n",
    "        print(item)"
   ]
  },
  {
   "cell_type": "code",
   "execution_count": 255,
   "metadata": {
    "ExecuteTime": {
     "end_time": "2021-12-02T15:20:52.099874Z",
     "start_time": "2021-12-02T15:20:52.084915Z"
    }
   },
   "outputs": [
    {
     "name": "stdout",
     "output_type": "stream",
     "text": [
      "1\n",
      "3\n",
      "5\n",
      "7\n",
      "9\n"
     ]
    }
   ],
   "source": [
    "printNumbers()"
   ]
  },
  {
   "cell_type": "code",
   "execution_count": 256,
   "metadata": {
    "ExecuteTime": {
     "end_time": "2021-12-02T15:21:01.875955Z",
     "start_time": "2021-12-02T15:21:01.855951Z"
    }
   },
   "outputs": [],
   "source": []
  },
  {
   "cell_type": "code",
   "execution_count": 258,
   "metadata": {
    "ExecuteTime": {
     "end_time": "2021-12-02T15:22:06.529337Z",
     "start_time": "2021-12-02T15:22:06.511430Z"
    }
   },
   "outputs": [],
   "source": [
    "result = printNumbers()"
   ]
  },
  {
   "cell_type": "code",
   "execution_count": 259,
   "metadata": {
    "ExecuteTime": {
     "end_time": "2021-12-02T15:22:10.259625Z",
     "start_time": "2021-12-02T15:22:10.246045Z"
    }
   },
   "outputs": [
    {
     "name": "stdout",
     "output_type": "stream",
     "text": [
      "None\n"
     ]
    }
   ],
   "source": [
    "print(result)"
   ]
  },
  {
   "cell_type": "code",
   "execution_count": 263,
   "metadata": {
    "ExecuteTime": {
     "end_time": "2021-12-02T15:23:40.045890Z",
     "start_time": "2021-12-02T15:23:40.032991Z"
    }
   },
   "outputs": [],
   "source": [
    "def printDetails():\n",
    "    for item in range(1, 11):\n",
    "        return"
   ]
  },
  {
   "cell_type": "code",
   "execution_count": 264,
   "metadata": {
    "ExecuteTime": {
     "end_time": "2021-12-02T15:23:40.939642Z",
     "start_time": "2021-12-02T15:23:40.921082Z"
    }
   },
   "outputs": [],
   "source": [
    "result = printDetails()"
   ]
  },
  {
   "cell_type": "code",
   "execution_count": 265,
   "metadata": {
    "ExecuteTime": {
     "end_time": "2021-12-02T15:23:41.436926Z",
     "start_time": "2021-12-02T15:23:41.418923Z"
    }
   },
   "outputs": [
    {
     "name": "stdout",
     "output_type": "stream",
     "text": [
      "None\n"
     ]
    }
   ],
   "source": [
    "print(result)"
   ]
  },
  {
   "cell_type": "code",
   "execution_count": null,
   "metadata": {},
   "outputs": [],
   "source": []
  },
  {
   "cell_type": "code",
   "execution_count": 266,
   "metadata": {
    "ExecuteTime": {
     "end_time": "2021-12-02T15:24:58.181894Z",
     "start_time": "2021-12-02T15:24:58.168222Z"
    }
   },
   "outputs": [
    {
     "ename": "SyntaxError",
     "evalue": "unexpected EOF while parsing (<ipython-input-266-00be587fff1c>, line 2)",
     "output_type": "error",
     "traceback": [
      "\u001b[1;36m  File \u001b[1;32m\"<ipython-input-266-00be587fff1c>\"\u001b[1;36m, line \u001b[1;32m2\u001b[0m\n\u001b[1;33m    \u001b[0m\n\u001b[1;37m    ^\u001b[0m\n\u001b[1;31mSyntaxError\u001b[0m\u001b[1;31m:\u001b[0m unexpected EOF while parsing\n"
     ]
    }
   ],
   "source": [
    "for item in range(1, 11):\n",
    "    "
   ]
  },
  {
   "cell_type": "code",
   "execution_count": 267,
   "metadata": {
    "ExecuteTime": {
     "end_time": "2021-12-02T15:25:12.656119Z",
     "start_time": "2021-12-02T15:25:12.642040Z"
    }
   },
   "outputs": [],
   "source": [
    "for item in range(1, 11):\n",
    "    pass"
   ]
  },
  {
   "cell_type": "code",
   "execution_count": 268,
   "metadata": {
    "ExecuteTime": {
     "end_time": "2021-12-02T15:25:26.824785Z",
     "start_time": "2021-12-02T15:25:26.821784Z"
    }
   },
   "outputs": [],
   "source": [
    "# pass is keyword\n",
    "# It does nothing, basically a syntax filler"
   ]
  },
  {
   "cell_type": "code",
   "execution_count": 269,
   "metadata": {
    "ExecuteTime": {
     "end_time": "2021-12-02T15:26:00.045024Z",
     "start_time": "2021-12-02T15:26:00.032681Z"
    }
   },
   "outputs": [
    {
     "name": "stdout",
     "output_type": "stream",
     "text": [
      "1\n",
      "2\n",
      "3\n",
      "4\n",
      "5\n",
      "6\n",
      "7\n",
      "8\n",
      "9\n",
      "10\n"
     ]
    }
   ],
   "source": [
    "for item in range(1, 11):\n",
    "    pass\n",
    "    print(item)"
   ]
  },
  {
   "cell_type": "code",
   "execution_count": 270,
   "metadata": {
    "ExecuteTime": {
     "end_time": "2021-12-02T15:26:39.098656Z",
     "start_time": "2021-12-02T15:26:39.086743Z"
    }
   },
   "outputs": [],
   "source": [
    "for item in range(1, 11):\n",
    "    ..."
   ]
  },
  {
   "cell_type": "code",
   "execution_count": 271,
   "metadata": {
    "ExecuteTime": {
     "end_time": "2021-12-02T15:27:29.029343Z",
     "start_time": "2021-12-02T15:27:29.012342Z"
    }
   },
   "outputs": [],
   "source": [
    "def printDetails():\n",
    "    for item in range(1, 11):\n",
    "        return \n",
    "        "
   ]
  },
  {
   "cell_type": "code",
   "execution_count": 272,
   "metadata": {
    "ExecuteTime": {
     "end_time": "2021-12-02T15:29:05.568957Z",
     "start_time": "2021-12-02T15:29:05.552937Z"
    }
   },
   "outputs": [
    {
     "name": "stdout",
     "output_type": "stream",
     "text": [
      "1\n",
      "2\n",
      "3\n",
      "4\n",
      "5\n",
      "6\n",
      "7\n",
      "8\n",
      "9\n",
      "10\n"
     ]
    }
   ],
   "source": [
    "for item in range(1, 11):\n",
    "    print(item)\n",
    "    pass\n"
   ]
  },
  {
   "cell_type": "code",
   "execution_count": 273,
   "metadata": {
    "ExecuteTime": {
     "end_time": "2021-12-02T15:29:21.459973Z",
     "start_time": "2021-12-02T15:29:21.440254Z"
    }
   },
   "outputs": [
    {
     "ename": "SyntaxError",
     "evalue": "invalid syntax (<ipython-input-273-9e740df462fe>, line 3)",
     "output_type": "error",
     "traceback": [
      "\u001b[1;36m  File \u001b[1;32m\"<ipython-input-273-9e740df462fe>\"\u001b[1;36m, line \u001b[1;32m3\u001b[0m\n\u001b[1;33m    pass print(item)\u001b[0m\n\u001b[1;37m         ^\u001b[0m\n\u001b[1;31mSyntaxError\u001b[0m\u001b[1;31m:\u001b[0m invalid syntax\n"
     ]
    }
   ],
   "source": [
    "for item in range(1, 11):\n",
    "    print(item)\n",
    "    pass print(item)"
   ]
  },
  {
   "cell_type": "code",
   "execution_count": 274,
   "metadata": {
    "ExecuteTime": {
     "end_time": "2021-12-02T15:30:47.072216Z",
     "start_time": "2021-12-02T15:30:47.062220Z"
    }
   },
   "outputs": [],
   "source": [
    "a = \"Bhuvi\""
   ]
  },
  {
   "cell_type": "code",
   "execution_count": 275,
   "metadata": {
    "ExecuteTime": {
     "end_time": "2021-12-02T15:30:50.359911Z",
     "start_time": "2021-12-02T15:30:50.352435Z"
    }
   },
   "outputs": [],
   "source": [
    "b = \"Kumar\""
   ]
  },
  {
   "cell_type": "code",
   "execution_count": 276,
   "metadata": {
    "ExecuteTime": {
     "end_time": "2021-12-02T15:30:52.425178Z",
     "start_time": "2021-12-02T15:30:52.419173Z"
    }
   },
   "outputs": [
    {
     "data": {
      "text/plain": [
       "'BhuviKumar'"
      ]
     },
     "execution_count": 276,
     "metadata": {},
     "output_type": "execute_result"
    }
   ],
   "source": [
    "a + b"
   ]
  },
  {
   "cell_type": "code",
   "execution_count": 277,
   "metadata": {
    "ExecuteTime": {
     "end_time": "2021-12-02T15:31:11.596110Z",
     "start_time": "2021-12-02T15:31:11.585112Z"
    }
   },
   "outputs": [],
   "source": [
    "# Employee"
   ]
  },
  {
   "cell_type": "code",
   "execution_count": 278,
   "metadata": {
    "ExecuteTime": {
     "end_time": "2021-12-02T15:37:01.607699Z",
     "start_time": "2021-12-02T15:37:01.603099Z"
    }
   },
   "outputs": [],
   "source": [
    "# e1 + e2\n",
    "# __init__\n",
    "# __str__\n",
    "# __a"
   ]
  },
  {
   "cell_type": "code",
   "execution_count": 280,
   "metadata": {
    "ExecuteTime": {
     "end_time": "2021-12-02T15:37:34.158511Z",
     "start_time": "2021-12-02T15:37:34.154512Z"
    }
   },
   "outputs": [],
   "source": [
    "runs_scored = [ 10, 25, 7, 2, 12, 6, 9, 13, 21, 26]"
   ]
  },
  {
   "cell_type": "code",
   "execution_count": null,
   "metadata": {},
   "outputs": [],
   "source": [
    "# total score at the end of each over:\n",
    "# 10, 35, 42, 44, 56, 62, 71, ..."
   ]
  }
 ],
 "metadata": {
  "kernelspec": {
   "display_name": "Python 3",
   "language": "python",
   "name": "python3"
  },
  "language_info": {
   "codemirror_mode": {
    "name": "ipython",
    "version": 3
   },
   "file_extension": ".py",
   "mimetype": "text/x-python",
   "name": "python",
   "nbconvert_exporter": "python",
   "pygments_lexer": "ipython3",
   "version": "3.8.3"
  },
  "toc": {
   "base_numbering": 1,
   "nav_menu": {},
   "number_sections": true,
   "sideBar": true,
   "skip_h1_title": false,
   "title_cell": "Table of Contents",
   "title_sidebar": "Contents",
   "toc_cell": false,
   "toc_position": {},
   "toc_section_display": true,
   "toc_window_display": false
  }
 },
 "nbformat": 4,
 "nbformat_minor": 4
}
