{
 "cells": [
  {
   "cell_type": "markdown",
   "id": "1b08a9dc",
   "metadata": {},
   "source": [
    "### Importing Libraries"
   ]
  },
  {
   "cell_type": "code",
   "execution_count": 1,
   "id": "837d8914",
   "metadata": {},
   "outputs": [],
   "source": [
    "#Importing all the required libraries\n",
    "import pandas as pd\n",
    "from pandas import Series, DataFrame\n",
    "import numpy as np\n",
    "import matplotlib\n",
    "import seaborn as sns\n",
    "import bokeh as bk\n",
    "import matplotlib.pyplot as plt\n",
    "from sklearn.model_selection import train_test_split\n",
    "from sklearn import metrics\n",
    "from sklearn.linear_model import LogisticRegression\n",
    "from sklearn.preprocessing import StandardScaler\n",
    "from sklearn.decomposition import PCA\n",
    "from sklearn.ensemble import RandomForestClassifier\n",
    "from sklearn.metrics import accuracy_score\n",
    "from numpy.linalg import eig\n",
    "from sklearn.decomposition import PCA\n",
    "from sklearn.discriminant_analysis import LinearDiscriminantAnalysis as LDA\n",
    "from sklearn.tree import DecisionTreeClassifier\n",
    "from sklearn.metrics import accuracy_score, roc_auc_score\n",
    "from sklearn.ensemble import RandomForestClassifier"
   ]
  },
  {
   "cell_type": "markdown",
   "id": "8ef08851",
   "metadata": {},
   "source": [
    "### Importing Dataset"
   ]
  },
  {
   "cell_type": "code",
   "execution_count": 2,
   "id": "5891d790",
   "metadata": {},
   "outputs": [],
   "source": [
    "#Reading the dataset into a Pandas Dataframe\n",
    "#df = pd.read_csv('sales_sample_data.csv')\n",
    "#working_dir=\"/Users/pwaghray/SEDS - IIITH/Part B - Data Science/Week - 4/\"\n",
    "df = pd.read_csv(\"sales_sample_data.csv\", sep=\",\", encoding='unicode_escape')"
   ]
  },
  {
   "cell_type": "markdown",
   "id": "d1a7535c",
   "metadata": {},
   "source": [
    "### Pre-processing and Descriptive Analysis"
   ]
  },
  {
   "cell_type": "code",
   "execution_count": 3,
   "id": "a038baef",
   "metadata": {},
   "outputs": [],
   "source": [
    "#Updating the settings of the dataframe to accommodate more rows and columns in the output\n",
    "pd.set_option('display.max_columns', 500)\n",
    "pd.set_option('display.max_rows', 500)"
   ]
  },
  {
   "cell_type": "code",
   "execution_count": 4,
   "id": "98099db0",
   "metadata": {},
   "outputs": [
    {
     "data": {
      "text/plain": [
       "(2823, 25)"
      ]
     },
     "execution_count": 4,
     "metadata": {},
     "output_type": "execute_result"
    }
   ],
   "source": [
    "#Checking the dimensions of the dataset\n",
    "df.shape"
   ]
  },
  {
   "cell_type": "code",
   "execution_count": 5,
   "id": "a4cc69b0",
   "metadata": {},
   "outputs": [
    {
     "name": "stdout",
     "output_type": "stream",
     "text": [
      "<class 'pandas.core.frame.DataFrame'>\n",
      "RangeIndex: 2823 entries, 0 to 2822\n",
      "Data columns (total 25 columns):\n",
      " #   Column            Non-Null Count  Dtype  \n",
      "---  ------            --------------  -----  \n",
      " 0   ORDERNUMBER       2823 non-null   int64  \n",
      " 1   QUANTITYORDERED   2823 non-null   int64  \n",
      " 2   PRICEEACH         2823 non-null   float64\n",
      " 3   ORDERLINENUMBER   2823 non-null   int64  \n",
      " 4   SALES             2823 non-null   float64\n",
      " 5   ORDERDATE         2823 non-null   object \n",
      " 6   STATUS            2823 non-null   object \n",
      " 7   QTR_ID            2823 non-null   int64  \n",
      " 8   MONTH_ID          2823 non-null   int64  \n",
      " 9   YEAR_ID           2823 non-null   int64  \n",
      " 10  PRODUCTLINE       2823 non-null   object \n",
      " 11  MSRP              2823 non-null   int64  \n",
      " 12  PRODUCTCODE       2823 non-null   object \n",
      " 13  CUSTOMERNAME      2823 non-null   object \n",
      " 14  PHONE             2823 non-null   object \n",
      " 15  ADDRESSLINE1      2823 non-null   object \n",
      " 16  ADDRESSLINE2      302 non-null    object \n",
      " 17  CITY              2823 non-null   object \n",
      " 18  STATE             1337 non-null   object \n",
      " 19  POSTALCODE        2747 non-null   object \n",
      " 20  COUNTRY           2823 non-null   object \n",
      " 21  TERRITORY         1749 non-null   object \n",
      " 22  CONTACTLASTNAME   2823 non-null   object \n",
      " 23  CONTACTFIRSTNAME  2823 non-null   object \n",
      " 24  DEALSIZE          2823 non-null   object \n",
      "dtypes: float64(2), int64(7), object(16)\n",
      "memory usage: 551.5+ KB\n"
     ]
    }
   ],
   "source": [
    "#Reviewing the data\n",
    "df.info()"
   ]
  },
  {
   "cell_type": "code",
   "execution_count": 6,
   "id": "c1a65985",
   "metadata": {},
   "outputs": [
    {
     "data": {
      "text/html": [
       "<div>\n",
       "<style scoped>\n",
       "    .dataframe tbody tr th:only-of-type {\n",
       "        vertical-align: middle;\n",
       "    }\n",
       "\n",
       "    .dataframe tbody tr th {\n",
       "        vertical-align: top;\n",
       "    }\n",
       "\n",
       "    .dataframe thead th {\n",
       "        text-align: right;\n",
       "    }\n",
       "</style>\n",
       "<table border=\"1\" class=\"dataframe\">\n",
       "  <thead>\n",
       "    <tr style=\"text-align: right;\">\n",
       "      <th></th>\n",
       "      <th>ORDERNUMBER</th>\n",
       "      <th>QUANTITYORDERED</th>\n",
       "      <th>PRICEEACH</th>\n",
       "      <th>ORDERLINENUMBER</th>\n",
       "      <th>SALES</th>\n",
       "      <th>QTR_ID</th>\n",
       "      <th>MONTH_ID</th>\n",
       "      <th>YEAR_ID</th>\n",
       "      <th>MSRP</th>\n",
       "    </tr>\n",
       "  </thead>\n",
       "  <tbody>\n",
       "    <tr>\n",
       "      <th>count</th>\n",
       "      <td>2823.000000</td>\n",
       "      <td>2823.000000</td>\n",
       "      <td>2823.000000</td>\n",
       "      <td>2823.000000</td>\n",
       "      <td>2823.000000</td>\n",
       "      <td>2823.000000</td>\n",
       "      <td>2823.000000</td>\n",
       "      <td>2823.00000</td>\n",
       "      <td>2823.000000</td>\n",
       "    </tr>\n",
       "    <tr>\n",
       "      <th>mean</th>\n",
       "      <td>10258.725115</td>\n",
       "      <td>35.092809</td>\n",
       "      <td>83.658544</td>\n",
       "      <td>6.466171</td>\n",
       "      <td>3553.889072</td>\n",
       "      <td>2.717676</td>\n",
       "      <td>7.092455</td>\n",
       "      <td>2003.81509</td>\n",
       "      <td>100.715551</td>\n",
       "    </tr>\n",
       "    <tr>\n",
       "      <th>std</th>\n",
       "      <td>92.085478</td>\n",
       "      <td>9.741443</td>\n",
       "      <td>20.174277</td>\n",
       "      <td>4.225841</td>\n",
       "      <td>1841.865106</td>\n",
       "      <td>1.203878</td>\n",
       "      <td>3.656633</td>\n",
       "      <td>0.69967</td>\n",
       "      <td>40.187912</td>\n",
       "    </tr>\n",
       "    <tr>\n",
       "      <th>min</th>\n",
       "      <td>10100.000000</td>\n",
       "      <td>6.000000</td>\n",
       "      <td>26.880000</td>\n",
       "      <td>1.000000</td>\n",
       "      <td>482.130000</td>\n",
       "      <td>1.000000</td>\n",
       "      <td>1.000000</td>\n",
       "      <td>2003.00000</td>\n",
       "      <td>33.000000</td>\n",
       "    </tr>\n",
       "    <tr>\n",
       "      <th>25%</th>\n",
       "      <td>10180.000000</td>\n",
       "      <td>27.000000</td>\n",
       "      <td>68.860000</td>\n",
       "      <td>3.000000</td>\n",
       "      <td>2203.430000</td>\n",
       "      <td>2.000000</td>\n",
       "      <td>4.000000</td>\n",
       "      <td>2003.00000</td>\n",
       "      <td>68.000000</td>\n",
       "    </tr>\n",
       "    <tr>\n",
       "      <th>50%</th>\n",
       "      <td>10262.000000</td>\n",
       "      <td>35.000000</td>\n",
       "      <td>95.700000</td>\n",
       "      <td>6.000000</td>\n",
       "      <td>3184.800000</td>\n",
       "      <td>3.000000</td>\n",
       "      <td>8.000000</td>\n",
       "      <td>2004.00000</td>\n",
       "      <td>99.000000</td>\n",
       "    </tr>\n",
       "    <tr>\n",
       "      <th>75%</th>\n",
       "      <td>10333.500000</td>\n",
       "      <td>43.000000</td>\n",
       "      <td>100.000000</td>\n",
       "      <td>9.000000</td>\n",
       "      <td>4508.000000</td>\n",
       "      <td>4.000000</td>\n",
       "      <td>11.000000</td>\n",
       "      <td>2004.00000</td>\n",
       "      <td>124.000000</td>\n",
       "    </tr>\n",
       "    <tr>\n",
       "      <th>max</th>\n",
       "      <td>10425.000000</td>\n",
       "      <td>97.000000</td>\n",
       "      <td>100.000000</td>\n",
       "      <td>18.000000</td>\n",
       "      <td>14082.800000</td>\n",
       "      <td>4.000000</td>\n",
       "      <td>12.000000</td>\n",
       "      <td>2005.00000</td>\n",
       "      <td>214.000000</td>\n",
       "    </tr>\n",
       "  </tbody>\n",
       "</table>\n",
       "</div>"
      ],
      "text/plain": [
       "        ORDERNUMBER  QUANTITYORDERED    PRICEEACH  ORDERLINENUMBER  \\\n",
       "count   2823.000000      2823.000000  2823.000000      2823.000000   \n",
       "mean   10258.725115        35.092809    83.658544         6.466171   \n",
       "std       92.085478         9.741443    20.174277         4.225841   \n",
       "min    10100.000000         6.000000    26.880000         1.000000   \n",
       "25%    10180.000000        27.000000    68.860000         3.000000   \n",
       "50%    10262.000000        35.000000    95.700000         6.000000   \n",
       "75%    10333.500000        43.000000   100.000000         9.000000   \n",
       "max    10425.000000        97.000000   100.000000        18.000000   \n",
       "\n",
       "              SALES       QTR_ID     MONTH_ID     YEAR_ID         MSRP  \n",
       "count   2823.000000  2823.000000  2823.000000  2823.00000  2823.000000  \n",
       "mean    3553.889072     2.717676     7.092455  2003.81509   100.715551  \n",
       "std     1841.865106     1.203878     3.656633     0.69967    40.187912  \n",
       "min      482.130000     1.000000     1.000000  2003.00000    33.000000  \n",
       "25%     2203.430000     2.000000     4.000000  2003.00000    68.000000  \n",
       "50%     3184.800000     3.000000     8.000000  2004.00000    99.000000  \n",
       "75%     4508.000000     4.000000    11.000000  2004.00000   124.000000  \n",
       "max    14082.800000     4.000000    12.000000  2005.00000   214.000000  "
      ]
     },
     "execution_count": 6,
     "metadata": {},
     "output_type": "execute_result"
    }
   ],
   "source": [
    "#Reviewing the data by looking at count, mean, min, max etc\n",
    "df.describe()"
   ]
  },
  {
   "cell_type": "code",
   "execution_count": 7,
   "id": "3073a8ea",
   "metadata": {},
   "outputs": [
    {
     "data": {
      "text/plain": [
       "ORDERNUMBER           int64\n",
       "QUANTITYORDERED       int64\n",
       "PRICEEACH           float64\n",
       "ORDERLINENUMBER       int64\n",
       "SALES               float64\n",
       "ORDERDATE            object\n",
       "STATUS               object\n",
       "QTR_ID                int64\n",
       "MONTH_ID              int64\n",
       "YEAR_ID               int64\n",
       "PRODUCTLINE          object\n",
       "MSRP                  int64\n",
       "PRODUCTCODE          object\n",
       "CUSTOMERNAME         object\n",
       "PHONE                object\n",
       "ADDRESSLINE1         object\n",
       "ADDRESSLINE2         object\n",
       "CITY                 object\n",
       "STATE                object\n",
       "POSTALCODE           object\n",
       "COUNTRY              object\n",
       "TERRITORY            object\n",
       "CONTACTLASTNAME      object\n",
       "CONTACTFIRSTNAME     object\n",
       "DEALSIZE             object\n",
       "dtype: object"
      ]
     },
     "execution_count": 7,
     "metadata": {},
     "output_type": "execute_result"
    }
   ],
   "source": [
    "#Reviewing the datatypes\n",
    "df.dtypes"
   ]
  },
  {
   "cell_type": "code",
   "execution_count": 8,
   "id": "cd3d5f94",
   "metadata": {},
   "outputs": [
    {
     "data": {
      "text/html": [
       "<div>\n",
       "<style scoped>\n",
       "    .dataframe tbody tr th:only-of-type {\n",
       "        vertical-align: middle;\n",
       "    }\n",
       "\n",
       "    .dataframe tbody tr th {\n",
       "        vertical-align: top;\n",
       "    }\n",
       "\n",
       "    .dataframe thead th {\n",
       "        text-align: right;\n",
       "    }\n",
       "</style>\n",
       "<table border=\"1\" class=\"dataframe\">\n",
       "  <thead>\n",
       "    <tr style=\"text-align: right;\">\n",
       "      <th></th>\n",
       "      <th>ORDERNUMBER</th>\n",
       "      <th>QUANTITYORDERED</th>\n",
       "      <th>PRICEEACH</th>\n",
       "      <th>ORDERLINENUMBER</th>\n",
       "      <th>SALES</th>\n",
       "      <th>ORDERDATE</th>\n",
       "      <th>STATUS</th>\n",
       "      <th>QTR_ID</th>\n",
       "      <th>MONTH_ID</th>\n",
       "      <th>YEAR_ID</th>\n",
       "      <th>PRODUCTLINE</th>\n",
       "      <th>MSRP</th>\n",
       "      <th>PRODUCTCODE</th>\n",
       "      <th>CUSTOMERNAME</th>\n",
       "      <th>PHONE</th>\n",
       "      <th>ADDRESSLINE1</th>\n",
       "      <th>ADDRESSLINE2</th>\n",
       "      <th>CITY</th>\n",
       "      <th>STATE</th>\n",
       "      <th>POSTALCODE</th>\n",
       "      <th>COUNTRY</th>\n",
       "      <th>TERRITORY</th>\n",
       "      <th>CONTACTLASTNAME</th>\n",
       "      <th>CONTACTFIRSTNAME</th>\n",
       "      <th>DEALSIZE</th>\n",
       "    </tr>\n",
       "  </thead>\n",
       "  <tbody>\n",
       "    <tr>\n",
       "      <th>0</th>\n",
       "      <td>10107</td>\n",
       "      <td>30</td>\n",
       "      <td>95.70</td>\n",
       "      <td>2</td>\n",
       "      <td>2871.00</td>\n",
       "      <td>2/24/2003 0:00</td>\n",
       "      <td>Shipped</td>\n",
       "      <td>1</td>\n",
       "      <td>2</td>\n",
       "      <td>2003</td>\n",
       "      <td>Motorcycles</td>\n",
       "      <td>95</td>\n",
       "      <td>S10_1678</td>\n",
       "      <td>Land of Toys Inc.</td>\n",
       "      <td>2125557818</td>\n",
       "      <td>897 Long Airport Avenue</td>\n",
       "      <td>NaN</td>\n",
       "      <td>NYC</td>\n",
       "      <td>NY</td>\n",
       "      <td>10022</td>\n",
       "      <td>USA</td>\n",
       "      <td>NaN</td>\n",
       "      <td>Yu</td>\n",
       "      <td>Kwai</td>\n",
       "      <td>Small</td>\n",
       "    </tr>\n",
       "    <tr>\n",
       "      <th>1</th>\n",
       "      <td>10121</td>\n",
       "      <td>34</td>\n",
       "      <td>81.35</td>\n",
       "      <td>5</td>\n",
       "      <td>2765.90</td>\n",
       "      <td>5/7/2003 0:00</td>\n",
       "      <td>Shipped</td>\n",
       "      <td>2</td>\n",
       "      <td>5</td>\n",
       "      <td>2003</td>\n",
       "      <td>Motorcycles</td>\n",
       "      <td>95</td>\n",
       "      <td>S10_1678</td>\n",
       "      <td>Reims Collectables</td>\n",
       "      <td>26.47.1555</td>\n",
       "      <td>59 rue de l'Abbaye</td>\n",
       "      <td>NaN</td>\n",
       "      <td>Reims</td>\n",
       "      <td>NaN</td>\n",
       "      <td>51100</td>\n",
       "      <td>France</td>\n",
       "      <td>EMEA</td>\n",
       "      <td>Henriot</td>\n",
       "      <td>Paul</td>\n",
       "      <td>Small</td>\n",
       "    </tr>\n",
       "    <tr>\n",
       "      <th>2</th>\n",
       "      <td>10134</td>\n",
       "      <td>41</td>\n",
       "      <td>94.74</td>\n",
       "      <td>2</td>\n",
       "      <td>3884.34</td>\n",
       "      <td>7/1/2003 0:00</td>\n",
       "      <td>Shipped</td>\n",
       "      <td>3</td>\n",
       "      <td>7</td>\n",
       "      <td>2003</td>\n",
       "      <td>Motorcycles</td>\n",
       "      <td>95</td>\n",
       "      <td>S10_1678</td>\n",
       "      <td>Lyon Souveniers</td>\n",
       "      <td>+33 1 46 62 7555</td>\n",
       "      <td>27 rue du Colonel Pierre Avia</td>\n",
       "      <td>NaN</td>\n",
       "      <td>Paris</td>\n",
       "      <td>NaN</td>\n",
       "      <td>75508</td>\n",
       "      <td>France</td>\n",
       "      <td>EMEA</td>\n",
       "      <td>Da Cunha</td>\n",
       "      <td>Daniel</td>\n",
       "      <td>Medium</td>\n",
       "    </tr>\n",
       "    <tr>\n",
       "      <th>3</th>\n",
       "      <td>10145</td>\n",
       "      <td>45</td>\n",
       "      <td>83.26</td>\n",
       "      <td>6</td>\n",
       "      <td>3746.70</td>\n",
       "      <td>8/25/2003 0:00</td>\n",
       "      <td>Shipped</td>\n",
       "      <td>3</td>\n",
       "      <td>8</td>\n",
       "      <td>2003</td>\n",
       "      <td>Motorcycles</td>\n",
       "      <td>95</td>\n",
       "      <td>S10_1678</td>\n",
       "      <td>Toys4GrownUps.com</td>\n",
       "      <td>6265557265</td>\n",
       "      <td>78934 Hillside Dr.</td>\n",
       "      <td>NaN</td>\n",
       "      <td>Pasadena</td>\n",
       "      <td>CA</td>\n",
       "      <td>90003</td>\n",
       "      <td>USA</td>\n",
       "      <td>NaN</td>\n",
       "      <td>Young</td>\n",
       "      <td>Julie</td>\n",
       "      <td>Medium</td>\n",
       "    </tr>\n",
       "    <tr>\n",
       "      <th>4</th>\n",
       "      <td>10159</td>\n",
       "      <td>49</td>\n",
       "      <td>100.00</td>\n",
       "      <td>14</td>\n",
       "      <td>5205.27</td>\n",
       "      <td>10/10/2003 0:00</td>\n",
       "      <td>Shipped</td>\n",
       "      <td>4</td>\n",
       "      <td>10</td>\n",
       "      <td>2003</td>\n",
       "      <td>Motorcycles</td>\n",
       "      <td>95</td>\n",
       "      <td>S10_1678</td>\n",
       "      <td>Corporate Gift Ideas Co.</td>\n",
       "      <td>6505551386</td>\n",
       "      <td>7734 Strong St.</td>\n",
       "      <td>NaN</td>\n",
       "      <td>San Francisco</td>\n",
       "      <td>CA</td>\n",
       "      <td>NaN</td>\n",
       "      <td>USA</td>\n",
       "      <td>NaN</td>\n",
       "      <td>Brown</td>\n",
       "      <td>Julie</td>\n",
       "      <td>Medium</td>\n",
       "    </tr>\n",
       "  </tbody>\n",
       "</table>\n",
       "</div>"
      ],
      "text/plain": [
       "   ORDERNUMBER  QUANTITYORDERED  PRICEEACH  ORDERLINENUMBER    SALES  \\\n",
       "0        10107               30      95.70                2  2871.00   \n",
       "1        10121               34      81.35                5  2765.90   \n",
       "2        10134               41      94.74                2  3884.34   \n",
       "3        10145               45      83.26                6  3746.70   \n",
       "4        10159               49     100.00               14  5205.27   \n",
       "\n",
       "         ORDERDATE   STATUS  QTR_ID  MONTH_ID  YEAR_ID  PRODUCTLINE  MSRP  \\\n",
       "0   2/24/2003 0:00  Shipped       1         2     2003  Motorcycles    95   \n",
       "1    5/7/2003 0:00  Shipped       2         5     2003  Motorcycles    95   \n",
       "2    7/1/2003 0:00  Shipped       3         7     2003  Motorcycles    95   \n",
       "3   8/25/2003 0:00  Shipped       3         8     2003  Motorcycles    95   \n",
       "4  10/10/2003 0:00  Shipped       4        10     2003  Motorcycles    95   \n",
       "\n",
       "  PRODUCTCODE              CUSTOMERNAME             PHONE  \\\n",
       "0    S10_1678         Land of Toys Inc.        2125557818   \n",
       "1    S10_1678        Reims Collectables        26.47.1555   \n",
       "2    S10_1678           Lyon Souveniers  +33 1 46 62 7555   \n",
       "3    S10_1678         Toys4GrownUps.com        6265557265   \n",
       "4    S10_1678  Corporate Gift Ideas Co.        6505551386   \n",
       "\n",
       "                    ADDRESSLINE1 ADDRESSLINE2           CITY STATE POSTALCODE  \\\n",
       "0        897 Long Airport Avenue          NaN            NYC    NY      10022   \n",
       "1             59 rue de l'Abbaye          NaN          Reims   NaN      51100   \n",
       "2  27 rue du Colonel Pierre Avia          NaN          Paris   NaN      75508   \n",
       "3             78934 Hillside Dr.          NaN       Pasadena    CA      90003   \n",
       "4                7734 Strong St.          NaN  San Francisco    CA        NaN   \n",
       "\n",
       "  COUNTRY TERRITORY CONTACTLASTNAME CONTACTFIRSTNAME DEALSIZE  \n",
       "0     USA       NaN              Yu             Kwai    Small  \n",
       "1  France      EMEA         Henriot             Paul    Small  \n",
       "2  France      EMEA        Da Cunha           Daniel   Medium  \n",
       "3     USA       NaN           Young            Julie   Medium  \n",
       "4     USA       NaN           Brown            Julie   Medium  "
      ]
     },
     "execution_count": 8,
     "metadata": {},
     "output_type": "execute_result"
    }
   ],
   "source": [
    "#Displaying top 5 rows\n",
    "df.head(5)"
   ]
  },
  {
   "cell_type": "code",
   "execution_count": 9,
   "id": "f55eeb2a",
   "metadata": {},
   "outputs": [
    {
     "data": {
      "text/plain": [
       "0"
      ]
     },
     "execution_count": 9,
     "metadata": {},
     "output_type": "execute_result"
    }
   ],
   "source": [
    "#Checking for duplicate rows\n",
    "df.duplicated().sum()"
   ]
  },
  {
   "cell_type": "code",
   "execution_count": 10,
   "id": "a7a0b11e",
   "metadata": {},
   "outputs": [
    {
     "data": {
      "text/plain": [
       "ADDRESSLINE2        2521\n",
       "STATE               1486\n",
       "TERRITORY           1074\n",
       "POSTALCODE            76\n",
       "ORDERNUMBER            0\n",
       "CUSTOMERNAME           0\n",
       "CONTACTFIRSTNAME       0\n",
       "CONTACTLASTNAME        0\n",
       "COUNTRY                0\n",
       "CITY                   0\n",
       "ADDRESSLINE1           0\n",
       "PHONE                  0\n",
       "PRODUCTCODE            0\n",
       "QUANTITYORDERED        0\n",
       "MSRP                   0\n",
       "PRODUCTLINE            0\n",
       "YEAR_ID                0\n",
       "MONTH_ID               0\n",
       "QTR_ID                 0\n",
       "STATUS                 0\n",
       "ORDERDATE              0\n",
       "SALES                  0\n",
       "ORDERLINENUMBER        0\n",
       "PRICEEACH              0\n",
       "DEALSIZE               0\n",
       "dtype: int64"
      ]
     },
     "execution_count": 10,
     "metadata": {},
     "output_type": "execute_result"
    }
   ],
   "source": [
    "#Checking if the dataset has any null values\n",
    "df.isnull().sum().sort_values(ascending=False)"
   ]
  },
  {
   "cell_type": "code",
   "execution_count": 11,
   "id": "2233f506",
   "metadata": {},
   "outputs": [
    {
     "data": {
      "text/html": [
       "<div>\n",
       "<style scoped>\n",
       "    .dataframe tbody tr th:only-of-type {\n",
       "        vertical-align: middle;\n",
       "    }\n",
       "\n",
       "    .dataframe tbody tr th {\n",
       "        vertical-align: top;\n",
       "    }\n",
       "\n",
       "    .dataframe thead th {\n",
       "        text-align: right;\n",
       "    }\n",
       "</style>\n",
       "<table border=\"1\" class=\"dataframe\">\n",
       "  <thead>\n",
       "    <tr style=\"text-align: right;\">\n",
       "      <th></th>\n",
       "      <th>Percent Missing</th>\n",
       "    </tr>\n",
       "  </thead>\n",
       "  <tbody>\n",
       "    <tr>\n",
       "      <th>ORDERNUMBER</th>\n",
       "      <td>0.000000</td>\n",
       "    </tr>\n",
       "    <tr>\n",
       "      <th>QUANTITYORDERED</th>\n",
       "      <td>0.000000</td>\n",
       "    </tr>\n",
       "    <tr>\n",
       "      <th>PRICEEACH</th>\n",
       "      <td>0.000000</td>\n",
       "    </tr>\n",
       "    <tr>\n",
       "      <th>ORDERLINENUMBER</th>\n",
       "      <td>0.000000</td>\n",
       "    </tr>\n",
       "    <tr>\n",
       "      <th>SALES</th>\n",
       "      <td>0.000000</td>\n",
       "    </tr>\n",
       "    <tr>\n",
       "      <th>ORDERDATE</th>\n",
       "      <td>0.000000</td>\n",
       "    </tr>\n",
       "    <tr>\n",
       "      <th>STATUS</th>\n",
       "      <td>0.000000</td>\n",
       "    </tr>\n",
       "    <tr>\n",
       "      <th>QTR_ID</th>\n",
       "      <td>0.000000</td>\n",
       "    </tr>\n",
       "    <tr>\n",
       "      <th>MONTH_ID</th>\n",
       "      <td>0.000000</td>\n",
       "    </tr>\n",
       "    <tr>\n",
       "      <th>YEAR_ID</th>\n",
       "      <td>0.000000</td>\n",
       "    </tr>\n",
       "    <tr>\n",
       "      <th>PRODUCTLINE</th>\n",
       "      <td>0.000000</td>\n",
       "    </tr>\n",
       "    <tr>\n",
       "      <th>MSRP</th>\n",
       "      <td>0.000000</td>\n",
       "    </tr>\n",
       "    <tr>\n",
       "      <th>PRODUCTCODE</th>\n",
       "      <td>0.000000</td>\n",
       "    </tr>\n",
       "    <tr>\n",
       "      <th>CUSTOMERNAME</th>\n",
       "      <td>0.000000</td>\n",
       "    </tr>\n",
       "    <tr>\n",
       "      <th>PHONE</th>\n",
       "      <td>0.000000</td>\n",
       "    </tr>\n",
       "    <tr>\n",
       "      <th>ADDRESSLINE1</th>\n",
       "      <td>0.000000</td>\n",
       "    </tr>\n",
       "    <tr>\n",
       "      <th>ADDRESSLINE2</th>\n",
       "      <td>89.302161</td>\n",
       "    </tr>\n",
       "    <tr>\n",
       "      <th>CITY</th>\n",
       "      <td>0.000000</td>\n",
       "    </tr>\n",
       "    <tr>\n",
       "      <th>STATE</th>\n",
       "      <td>52.639036</td>\n",
       "    </tr>\n",
       "    <tr>\n",
       "      <th>POSTALCODE</th>\n",
       "      <td>2.692171</td>\n",
       "    </tr>\n",
       "    <tr>\n",
       "      <th>COUNTRY</th>\n",
       "      <td>0.000000</td>\n",
       "    </tr>\n",
       "    <tr>\n",
       "      <th>TERRITORY</th>\n",
       "      <td>38.044633</td>\n",
       "    </tr>\n",
       "    <tr>\n",
       "      <th>CONTACTLASTNAME</th>\n",
       "      <td>0.000000</td>\n",
       "    </tr>\n",
       "    <tr>\n",
       "      <th>CONTACTFIRSTNAME</th>\n",
       "      <td>0.000000</td>\n",
       "    </tr>\n",
       "    <tr>\n",
       "      <th>DEALSIZE</th>\n",
       "      <td>0.000000</td>\n",
       "    </tr>\n",
       "  </tbody>\n",
       "</table>\n",
       "</div>"
      ],
      "text/plain": [
       "                  Percent Missing\n",
       "ORDERNUMBER              0.000000\n",
       "QUANTITYORDERED          0.000000\n",
       "PRICEEACH                0.000000\n",
       "ORDERLINENUMBER          0.000000\n",
       "SALES                    0.000000\n",
       "ORDERDATE                0.000000\n",
       "STATUS                   0.000000\n",
       "QTR_ID                   0.000000\n",
       "MONTH_ID                 0.000000\n",
       "YEAR_ID                  0.000000\n",
       "PRODUCTLINE              0.000000\n",
       "MSRP                     0.000000\n",
       "PRODUCTCODE              0.000000\n",
       "CUSTOMERNAME             0.000000\n",
       "PHONE                    0.000000\n",
       "ADDRESSLINE1             0.000000\n",
       "ADDRESSLINE2            89.302161\n",
       "CITY                     0.000000\n",
       "STATE                   52.639036\n",
       "POSTALCODE               2.692171\n",
       "COUNTRY                  0.000000\n",
       "TERRITORY               38.044633\n",
       "CONTACTLASTNAME          0.000000\n",
       "CONTACTFIRSTNAME         0.000000\n",
       "DEALSIZE                 0.000000"
      ]
     },
     "execution_count": 11,
     "metadata": {},
     "output_type": "execute_result"
    }
   ],
   "source": [
    "#Calculating the percentage of null values in each column\n",
    "percent_missing = df.isnull().sum() * 100 / len(df)\n",
    "missing_value_df = pd.DataFrame({'Percent Missing': percent_missing})\n",
    "missing_value_df"
   ]
  },
  {
   "cell_type": "code",
   "execution_count": 12,
   "id": "299f676d",
   "metadata": {},
   "outputs": [],
   "source": [
    "#removing extra spaces in the columns\n",
    "df.columns = df.columns.str.strip()"
   ]
  },
  {
   "cell_type": "markdown",
   "id": "a61529cb",
   "metadata": {},
   "source": [
    "#### Imputing null values in STATE, POSTALCODE, TERRITORY and filling them with each column's mode"
   ]
  },
  {
   "cell_type": "code",
   "execution_count": 13,
   "id": "d8c1675f",
   "metadata": {},
   "outputs": [],
   "source": [
    "#Defining a function to impute null values\n",
    "def null_impute(col):\n",
    "    print(\"Checking for unique values:\\n\", df[\"{}\".format(col)].unique())\n",
    "    df[\"{}\".format(col)].replace(to_replace='', value=np.nan, inplace=True)\n",
    "    print(\"Number of null values before imputation:\\n\", df[\"{}\".format(col)].isnull().sum())\n",
    "    print(\"Imputing null values now using mode\\n\")\n",
    "    df[\"{}\".format(col)].fillna(df[\"{}\".format(col)].mode()[0], inplace=True)\n",
    "    print(\"Null values imputed and number of null values are:\\n\", df[\"{}\".format(col)].isnull().sum())\n",
    "    "
   ]
  },
  {
   "cell_type": "code",
   "execution_count": 14,
   "id": "f6ae5006",
   "metadata": {},
   "outputs": [
    {
     "name": "stdout",
     "output_type": "stream",
     "text": [
      "Checking for unique values:\n",
      " ['NY' nan 'CA' 'Victoria' 'NJ' 'CT' 'MA' 'PA' 'NSW' 'Queensland' 'BC'\n",
      " 'Tokyo' 'NH' 'Quebec' 'Osaka' 'Isle of Wight' 'NV']\n",
      "Number of null values before imputation:\n",
      " 1486\n",
      "Imputing null values now using mode\n",
      "\n",
      "Null values imputed and number of null values are:\n",
      " 0\n"
     ]
    }
   ],
   "source": [
    "null_impute('STATE')"
   ]
  },
  {
   "cell_type": "code",
   "execution_count": 15,
   "id": "6eedb4e7",
   "metadata": {},
   "outputs": [
    {
     "name": "stdout",
     "output_type": "stream",
     "text": [
      "Checking for unique values:\n",
      " ['10022' '51100' '75508' '90003' nan '94217' '59000' 'N 5804' '75016'\n",
      " '3004' '94019' '97562' '44000' '51247' '21240' '4110' '70267' '5020'\n",
      " '2067' '50553' 'WX1 6LT' '28034' 'S-958 22' '28023' '79903' '4101'\n",
      " '71270' '69004' 'V3F 2K1' '97823' '106-0032' '10100' 'S-844 67' '78000'\n",
      " '62005' '58339' '2060' 'H1J 1C3' '530-0003' '24067' '1734' 'WX3 6FW'\n",
      " '31000' 'WA1 1DP' '8022' '91217' 'B-1180' 'T2F 8M4' '51003' 'PO31 7PJ'\n",
      " '90110' '75012' '8010' '69045' '1227 MM' '13008' '50739' '1203' '42100'\n",
      " '60528' 'FIN-02271' '2' 'EC2 5NT' '8200' '92561' '41101' '67000' '83030'\n",
      " 'N 0106' '24100' '3150' '97561' '80686' 'B-6000']\n",
      "Number of null values before imputation:\n",
      " 76\n",
      "Imputing null values now using mode\n",
      "\n",
      "Null values imputed and number of null values are:\n",
      " 0\n"
     ]
    }
   ],
   "source": [
    "null_impute('POSTALCODE')"
   ]
  },
  {
   "cell_type": "code",
   "execution_count": 16,
   "id": "d79a3c9d",
   "metadata": {},
   "outputs": [
    {
     "name": "stdout",
     "output_type": "stream",
     "text": [
      "Checking for unique values:\n",
      " [nan 'EMEA' 'APAC' 'Japan']\n",
      "Number of null values before imputation:\n",
      " 1074\n",
      "Imputing null values now using mode\n",
      "\n",
      "Null values imputed and number of null values are:\n",
      " 0\n"
     ]
    }
   ],
   "source": [
    "null_impute('TERRITORY')"
   ]
  },
  {
   "cell_type": "code",
   "execution_count": 17,
   "id": "be935751",
   "metadata": {},
   "outputs": [
    {
     "data": {
      "text/html": [
       "<div>\n",
       "<style scoped>\n",
       "    .dataframe tbody tr th:only-of-type {\n",
       "        vertical-align: middle;\n",
       "    }\n",
       "\n",
       "    .dataframe tbody tr th {\n",
       "        vertical-align: top;\n",
       "    }\n",
       "\n",
       "    .dataframe thead th {\n",
       "        text-align: right;\n",
       "    }\n",
       "</style>\n",
       "<table border=\"1\" class=\"dataframe\">\n",
       "  <thead>\n",
       "    <tr style=\"text-align: right;\">\n",
       "      <th></th>\n",
       "      <th>percent_missing</th>\n",
       "    </tr>\n",
       "  </thead>\n",
       "  <tbody>\n",
       "    <tr>\n",
       "      <th>ORDERNUMBER</th>\n",
       "      <td>0.000000</td>\n",
       "    </tr>\n",
       "    <tr>\n",
       "      <th>QUANTITYORDERED</th>\n",
       "      <td>0.000000</td>\n",
       "    </tr>\n",
       "    <tr>\n",
       "      <th>PRICEEACH</th>\n",
       "      <td>0.000000</td>\n",
       "    </tr>\n",
       "    <tr>\n",
       "      <th>ORDERLINENUMBER</th>\n",
       "      <td>0.000000</td>\n",
       "    </tr>\n",
       "    <tr>\n",
       "      <th>SALES</th>\n",
       "      <td>0.000000</td>\n",
       "    </tr>\n",
       "    <tr>\n",
       "      <th>ORDERDATE</th>\n",
       "      <td>0.000000</td>\n",
       "    </tr>\n",
       "    <tr>\n",
       "      <th>STATUS</th>\n",
       "      <td>0.000000</td>\n",
       "    </tr>\n",
       "    <tr>\n",
       "      <th>QTR_ID</th>\n",
       "      <td>0.000000</td>\n",
       "    </tr>\n",
       "    <tr>\n",
       "      <th>MONTH_ID</th>\n",
       "      <td>0.000000</td>\n",
       "    </tr>\n",
       "    <tr>\n",
       "      <th>YEAR_ID</th>\n",
       "      <td>0.000000</td>\n",
       "    </tr>\n",
       "    <tr>\n",
       "      <th>PRODUCTLINE</th>\n",
       "      <td>0.000000</td>\n",
       "    </tr>\n",
       "    <tr>\n",
       "      <th>MSRP</th>\n",
       "      <td>0.000000</td>\n",
       "    </tr>\n",
       "    <tr>\n",
       "      <th>PRODUCTCODE</th>\n",
       "      <td>0.000000</td>\n",
       "    </tr>\n",
       "    <tr>\n",
       "      <th>CUSTOMERNAME</th>\n",
       "      <td>0.000000</td>\n",
       "    </tr>\n",
       "    <tr>\n",
       "      <th>PHONE</th>\n",
       "      <td>0.000000</td>\n",
       "    </tr>\n",
       "    <tr>\n",
       "      <th>ADDRESSLINE1</th>\n",
       "      <td>0.000000</td>\n",
       "    </tr>\n",
       "    <tr>\n",
       "      <th>ADDRESSLINE2</th>\n",
       "      <td>89.302161</td>\n",
       "    </tr>\n",
       "    <tr>\n",
       "      <th>CITY</th>\n",
       "      <td>0.000000</td>\n",
       "    </tr>\n",
       "    <tr>\n",
       "      <th>STATE</th>\n",
       "      <td>0.000000</td>\n",
       "    </tr>\n",
       "    <tr>\n",
       "      <th>POSTALCODE</th>\n",
       "      <td>0.000000</td>\n",
       "    </tr>\n",
       "    <tr>\n",
       "      <th>COUNTRY</th>\n",
       "      <td>0.000000</td>\n",
       "    </tr>\n",
       "    <tr>\n",
       "      <th>TERRITORY</th>\n",
       "      <td>0.000000</td>\n",
       "    </tr>\n",
       "    <tr>\n",
       "      <th>CONTACTLASTNAME</th>\n",
       "      <td>0.000000</td>\n",
       "    </tr>\n",
       "    <tr>\n",
       "      <th>CONTACTFIRSTNAME</th>\n",
       "      <td>0.000000</td>\n",
       "    </tr>\n",
       "    <tr>\n",
       "      <th>DEALSIZE</th>\n",
       "      <td>0.000000</td>\n",
       "    </tr>\n",
       "  </tbody>\n",
       "</table>\n",
       "</div>"
      ],
      "text/plain": [
       "                  percent_missing\n",
       "ORDERNUMBER              0.000000\n",
       "QUANTITYORDERED          0.000000\n",
       "PRICEEACH                0.000000\n",
       "ORDERLINENUMBER          0.000000\n",
       "SALES                    0.000000\n",
       "ORDERDATE                0.000000\n",
       "STATUS                   0.000000\n",
       "QTR_ID                   0.000000\n",
       "MONTH_ID                 0.000000\n",
       "YEAR_ID                  0.000000\n",
       "PRODUCTLINE              0.000000\n",
       "MSRP                     0.000000\n",
       "PRODUCTCODE              0.000000\n",
       "CUSTOMERNAME             0.000000\n",
       "PHONE                    0.000000\n",
       "ADDRESSLINE1             0.000000\n",
       "ADDRESSLINE2            89.302161\n",
       "CITY                     0.000000\n",
       "STATE                    0.000000\n",
       "POSTALCODE               0.000000\n",
       "COUNTRY                  0.000000\n",
       "TERRITORY                0.000000\n",
       "CONTACTLASTNAME          0.000000\n",
       "CONTACTFIRSTNAME         0.000000\n",
       "DEALSIZE                 0.000000"
      ]
     },
     "execution_count": 17,
     "metadata": {},
     "output_type": "execute_result"
    }
   ],
   "source": [
    "percent_missing = df.isnull().sum() * 100 / len(df)\n",
    "missing_value_df = pd.DataFrame({'percent_missing': percent_missing})\n",
    "missing_value_df"
   ]
  },
  {
   "cell_type": "markdown",
   "id": "dbc0be2f",
   "metadata": {},
   "source": [
    "#### Dropping Addressline2, orderdate and phone columns as they do not add any value to our dataset"
   ]
  },
  {
   "cell_type": "code",
   "execution_count": 18,
   "id": "0f21f616",
   "metadata": {},
   "outputs": [],
   "source": [
    "df = df.drop([\"ADDRESSLINE2\", \"ORDERDATE\", \"PHONE\"], axis=1)"
   ]
  },
  {
   "cell_type": "markdown",
   "id": "f2dd38ef",
   "metadata": {},
   "source": [
    "#### Replacing the values in Status with 1 for Shipped and 0 for everything else"
   ]
  },
  {
   "cell_type": "code",
   "execution_count": 19,
   "id": "5789c02e",
   "metadata": {},
   "outputs": [
    {
     "data": {
      "text/plain": [
       "array(['Shipped', 'Disputed', 'In Process', 'Cancelled', 'On Hold',\n",
       "       'Resolved'], dtype=object)"
      ]
     },
     "execution_count": 19,
     "metadata": {},
     "output_type": "execute_result"
    }
   ],
   "source": [
    "df['STATUS'].unique()"
   ]
  },
  {
   "cell_type": "code",
   "execution_count": 20,
   "id": "696f5f78",
   "metadata": {},
   "outputs": [
    {
     "data": {
      "text/plain": [
       "Shipped       2617\n",
       "Cancelled       60\n",
       "Resolved        47\n",
       "On Hold         44\n",
       "In Process      41\n",
       "Disputed        14\n",
       "Name: STATUS, dtype: int64"
      ]
     },
     "execution_count": 20,
     "metadata": {},
     "output_type": "execute_result"
    }
   ],
   "source": [
    "df['STATUS'].value_counts()"
   ]
  },
  {
   "cell_type": "code",
   "execution_count": 21,
   "id": "eb091894",
   "metadata": {},
   "outputs": [],
   "source": [
    "df['STATUS']= df['STATUS'].replace({\"Shipped\" : 1, \"Disputed\" :0, \"In Process\":0, \"Cancelled\":0, \"On Hold\": 0, \"Resolved\" :0})"
   ]
  },
  {
   "cell_type": "code",
   "execution_count": 22,
   "id": "d5113149",
   "metadata": {},
   "outputs": [
    {
     "data": {
      "text/plain": [
       "1    2617\n",
       "0     206\n",
       "Name: STATUS, dtype: int64"
      ]
     },
     "execution_count": 22,
     "metadata": {},
     "output_type": "execute_result"
    }
   ],
   "source": [
    "df['STATUS'].value_counts()"
   ]
  },
  {
   "cell_type": "markdown",
   "id": "60c3a091",
   "metadata": {},
   "source": [
    "#### Storing STATUS column in another df and then dropping it"
   ]
  },
  {
   "cell_type": "code",
   "execution_count": 23,
   "id": "d8525d51",
   "metadata": {},
   "outputs": [],
   "source": [
    "df_status = df['STATUS']"
   ]
  },
  {
   "cell_type": "code",
   "execution_count": 24,
   "id": "890a4197",
   "metadata": {},
   "outputs": [],
   "source": [
    "df = df.drop('STATUS', axis=1)"
   ]
  },
  {
   "cell_type": "code",
   "execution_count": 25,
   "id": "b19e7daf",
   "metadata": {},
   "outputs": [
    {
     "data": {
      "text/html": [
       "<div>\n",
       "<style scoped>\n",
       "    .dataframe tbody tr th:only-of-type {\n",
       "        vertical-align: middle;\n",
       "    }\n",
       "\n",
       "    .dataframe tbody tr th {\n",
       "        vertical-align: top;\n",
       "    }\n",
       "\n",
       "    .dataframe thead th {\n",
       "        text-align: right;\n",
       "    }\n",
       "</style>\n",
       "<table border=\"1\" class=\"dataframe\">\n",
       "  <thead>\n",
       "    <tr style=\"text-align: right;\">\n",
       "      <th></th>\n",
       "      <th>ORDERNUMBER</th>\n",
       "      <th>QUANTITYORDERED</th>\n",
       "      <th>PRICEEACH</th>\n",
       "      <th>ORDERLINENUMBER</th>\n",
       "      <th>SALES</th>\n",
       "      <th>QTR_ID</th>\n",
       "      <th>MONTH_ID</th>\n",
       "      <th>YEAR_ID</th>\n",
       "      <th>PRODUCTLINE</th>\n",
       "      <th>MSRP</th>\n",
       "      <th>PRODUCTCODE</th>\n",
       "      <th>CUSTOMERNAME</th>\n",
       "      <th>ADDRESSLINE1</th>\n",
       "      <th>CITY</th>\n",
       "      <th>STATE</th>\n",
       "      <th>POSTALCODE</th>\n",
       "      <th>COUNTRY</th>\n",
       "      <th>TERRITORY</th>\n",
       "      <th>CONTACTLASTNAME</th>\n",
       "      <th>CONTACTFIRSTNAME</th>\n",
       "      <th>DEALSIZE</th>\n",
       "    </tr>\n",
       "  </thead>\n",
       "  <tbody>\n",
       "    <tr>\n",
       "      <th>0</th>\n",
       "      <td>10107</td>\n",
       "      <td>30</td>\n",
       "      <td>95.70</td>\n",
       "      <td>2</td>\n",
       "      <td>2871.00</td>\n",
       "      <td>1</td>\n",
       "      <td>2</td>\n",
       "      <td>2003</td>\n",
       "      <td>Motorcycles</td>\n",
       "      <td>95</td>\n",
       "      <td>S10_1678</td>\n",
       "      <td>Land of Toys Inc.</td>\n",
       "      <td>897 Long Airport Avenue</td>\n",
       "      <td>NYC</td>\n",
       "      <td>NY</td>\n",
       "      <td>10022</td>\n",
       "      <td>USA</td>\n",
       "      <td>EMEA</td>\n",
       "      <td>Yu</td>\n",
       "      <td>Kwai</td>\n",
       "      <td>Small</td>\n",
       "    </tr>\n",
       "    <tr>\n",
       "      <th>1</th>\n",
       "      <td>10121</td>\n",
       "      <td>34</td>\n",
       "      <td>81.35</td>\n",
       "      <td>5</td>\n",
       "      <td>2765.90</td>\n",
       "      <td>2</td>\n",
       "      <td>5</td>\n",
       "      <td>2003</td>\n",
       "      <td>Motorcycles</td>\n",
       "      <td>95</td>\n",
       "      <td>S10_1678</td>\n",
       "      <td>Reims Collectables</td>\n",
       "      <td>59 rue de l'Abbaye</td>\n",
       "      <td>Reims</td>\n",
       "      <td>CA</td>\n",
       "      <td>51100</td>\n",
       "      <td>France</td>\n",
       "      <td>EMEA</td>\n",
       "      <td>Henriot</td>\n",
       "      <td>Paul</td>\n",
       "      <td>Small</td>\n",
       "    </tr>\n",
       "    <tr>\n",
       "      <th>2</th>\n",
       "      <td>10134</td>\n",
       "      <td>41</td>\n",
       "      <td>94.74</td>\n",
       "      <td>2</td>\n",
       "      <td>3884.34</td>\n",
       "      <td>3</td>\n",
       "      <td>7</td>\n",
       "      <td>2003</td>\n",
       "      <td>Motorcycles</td>\n",
       "      <td>95</td>\n",
       "      <td>S10_1678</td>\n",
       "      <td>Lyon Souveniers</td>\n",
       "      <td>27 rue du Colonel Pierre Avia</td>\n",
       "      <td>Paris</td>\n",
       "      <td>CA</td>\n",
       "      <td>75508</td>\n",
       "      <td>France</td>\n",
       "      <td>EMEA</td>\n",
       "      <td>Da Cunha</td>\n",
       "      <td>Daniel</td>\n",
       "      <td>Medium</td>\n",
       "    </tr>\n",
       "    <tr>\n",
       "      <th>3</th>\n",
       "      <td>10145</td>\n",
       "      <td>45</td>\n",
       "      <td>83.26</td>\n",
       "      <td>6</td>\n",
       "      <td>3746.70</td>\n",
       "      <td>3</td>\n",
       "      <td>8</td>\n",
       "      <td>2003</td>\n",
       "      <td>Motorcycles</td>\n",
       "      <td>95</td>\n",
       "      <td>S10_1678</td>\n",
       "      <td>Toys4GrownUps.com</td>\n",
       "      <td>78934 Hillside Dr.</td>\n",
       "      <td>Pasadena</td>\n",
       "      <td>CA</td>\n",
       "      <td>90003</td>\n",
       "      <td>USA</td>\n",
       "      <td>EMEA</td>\n",
       "      <td>Young</td>\n",
       "      <td>Julie</td>\n",
       "      <td>Medium</td>\n",
       "    </tr>\n",
       "    <tr>\n",
       "      <th>4</th>\n",
       "      <td>10159</td>\n",
       "      <td>49</td>\n",
       "      <td>100.00</td>\n",
       "      <td>14</td>\n",
       "      <td>5205.27</td>\n",
       "      <td>4</td>\n",
       "      <td>10</td>\n",
       "      <td>2003</td>\n",
       "      <td>Motorcycles</td>\n",
       "      <td>95</td>\n",
       "      <td>S10_1678</td>\n",
       "      <td>Corporate Gift Ideas Co.</td>\n",
       "      <td>7734 Strong St.</td>\n",
       "      <td>San Francisco</td>\n",
       "      <td>CA</td>\n",
       "      <td>28034</td>\n",
       "      <td>USA</td>\n",
       "      <td>EMEA</td>\n",
       "      <td>Brown</td>\n",
       "      <td>Julie</td>\n",
       "      <td>Medium</td>\n",
       "    </tr>\n",
       "    <tr>\n",
       "      <th>...</th>\n",
       "      <td>...</td>\n",
       "      <td>...</td>\n",
       "      <td>...</td>\n",
       "      <td>...</td>\n",
       "      <td>...</td>\n",
       "      <td>...</td>\n",
       "      <td>...</td>\n",
       "      <td>...</td>\n",
       "      <td>...</td>\n",
       "      <td>...</td>\n",
       "      <td>...</td>\n",
       "      <td>...</td>\n",
       "      <td>...</td>\n",
       "      <td>...</td>\n",
       "      <td>...</td>\n",
       "      <td>...</td>\n",
       "      <td>...</td>\n",
       "      <td>...</td>\n",
       "      <td>...</td>\n",
       "      <td>...</td>\n",
       "      <td>...</td>\n",
       "    </tr>\n",
       "    <tr>\n",
       "      <th>2818</th>\n",
       "      <td>10350</td>\n",
       "      <td>20</td>\n",
       "      <td>100.00</td>\n",
       "      <td>15</td>\n",
       "      <td>2244.40</td>\n",
       "      <td>4</td>\n",
       "      <td>12</td>\n",
       "      <td>2004</td>\n",
       "      <td>Ships</td>\n",
       "      <td>54</td>\n",
       "      <td>S72_3212</td>\n",
       "      <td>Euro Shopping Channel</td>\n",
       "      <td>C/ Moralzarzal, 86</td>\n",
       "      <td>Madrid</td>\n",
       "      <td>CA</td>\n",
       "      <td>28034</td>\n",
       "      <td>Spain</td>\n",
       "      <td>EMEA</td>\n",
       "      <td>Freyre</td>\n",
       "      <td>Diego</td>\n",
       "      <td>Small</td>\n",
       "    </tr>\n",
       "    <tr>\n",
       "      <th>2819</th>\n",
       "      <td>10373</td>\n",
       "      <td>29</td>\n",
       "      <td>100.00</td>\n",
       "      <td>1</td>\n",
       "      <td>3978.51</td>\n",
       "      <td>1</td>\n",
       "      <td>1</td>\n",
       "      <td>2005</td>\n",
       "      <td>Ships</td>\n",
       "      <td>54</td>\n",
       "      <td>S72_3212</td>\n",
       "      <td>Oulu Toy Supplies, Inc.</td>\n",
       "      <td>Torikatu 38</td>\n",
       "      <td>Oulu</td>\n",
       "      <td>CA</td>\n",
       "      <td>90110</td>\n",
       "      <td>Finland</td>\n",
       "      <td>EMEA</td>\n",
       "      <td>Koskitalo</td>\n",
       "      <td>Pirkko</td>\n",
       "      <td>Medium</td>\n",
       "    </tr>\n",
       "    <tr>\n",
       "      <th>2820</th>\n",
       "      <td>10386</td>\n",
       "      <td>43</td>\n",
       "      <td>100.00</td>\n",
       "      <td>4</td>\n",
       "      <td>5417.57</td>\n",
       "      <td>1</td>\n",
       "      <td>3</td>\n",
       "      <td>2005</td>\n",
       "      <td>Ships</td>\n",
       "      <td>54</td>\n",
       "      <td>S72_3212</td>\n",
       "      <td>Euro Shopping Channel</td>\n",
       "      <td>C/ Moralzarzal, 86</td>\n",
       "      <td>Madrid</td>\n",
       "      <td>CA</td>\n",
       "      <td>28034</td>\n",
       "      <td>Spain</td>\n",
       "      <td>EMEA</td>\n",
       "      <td>Freyre</td>\n",
       "      <td>Diego</td>\n",
       "      <td>Medium</td>\n",
       "    </tr>\n",
       "    <tr>\n",
       "      <th>2821</th>\n",
       "      <td>10397</td>\n",
       "      <td>34</td>\n",
       "      <td>62.24</td>\n",
       "      <td>1</td>\n",
       "      <td>2116.16</td>\n",
       "      <td>1</td>\n",
       "      <td>3</td>\n",
       "      <td>2005</td>\n",
       "      <td>Ships</td>\n",
       "      <td>54</td>\n",
       "      <td>S72_3212</td>\n",
       "      <td>Alpha Cognac</td>\n",
       "      <td>1 rue Alsace-Lorraine</td>\n",
       "      <td>Toulouse</td>\n",
       "      <td>CA</td>\n",
       "      <td>31000</td>\n",
       "      <td>France</td>\n",
       "      <td>EMEA</td>\n",
       "      <td>Roulet</td>\n",
       "      <td>Annette</td>\n",
       "      <td>Small</td>\n",
       "    </tr>\n",
       "    <tr>\n",
       "      <th>2822</th>\n",
       "      <td>10414</td>\n",
       "      <td>47</td>\n",
       "      <td>65.52</td>\n",
       "      <td>9</td>\n",
       "      <td>3079.44</td>\n",
       "      <td>2</td>\n",
       "      <td>5</td>\n",
       "      <td>2005</td>\n",
       "      <td>Ships</td>\n",
       "      <td>54</td>\n",
       "      <td>S72_3212</td>\n",
       "      <td>Gifts4AllAges.com</td>\n",
       "      <td>8616 Spinnaker Dr.</td>\n",
       "      <td>Boston</td>\n",
       "      <td>MA</td>\n",
       "      <td>51003</td>\n",
       "      <td>USA</td>\n",
       "      <td>EMEA</td>\n",
       "      <td>Yoshido</td>\n",
       "      <td>Juri</td>\n",
       "      <td>Medium</td>\n",
       "    </tr>\n",
       "  </tbody>\n",
       "</table>\n",
       "<p>2823 rows × 21 columns</p>\n",
       "</div>"
      ],
      "text/plain": [
       "      ORDERNUMBER  QUANTITYORDERED  PRICEEACH  ORDERLINENUMBER    SALES  \\\n",
       "0           10107               30      95.70                2  2871.00   \n",
       "1           10121               34      81.35                5  2765.90   \n",
       "2           10134               41      94.74                2  3884.34   \n",
       "3           10145               45      83.26                6  3746.70   \n",
       "4           10159               49     100.00               14  5205.27   \n",
       "...           ...              ...        ...              ...      ...   \n",
       "2818        10350               20     100.00               15  2244.40   \n",
       "2819        10373               29     100.00                1  3978.51   \n",
       "2820        10386               43     100.00                4  5417.57   \n",
       "2821        10397               34      62.24                1  2116.16   \n",
       "2822        10414               47      65.52                9  3079.44   \n",
       "\n",
       "      QTR_ID  MONTH_ID  YEAR_ID  PRODUCTLINE  MSRP PRODUCTCODE  \\\n",
       "0          1         2     2003  Motorcycles    95    S10_1678   \n",
       "1          2         5     2003  Motorcycles    95    S10_1678   \n",
       "2          3         7     2003  Motorcycles    95    S10_1678   \n",
       "3          3         8     2003  Motorcycles    95    S10_1678   \n",
       "4          4        10     2003  Motorcycles    95    S10_1678   \n",
       "...      ...       ...      ...          ...   ...         ...   \n",
       "2818       4        12     2004        Ships    54    S72_3212   \n",
       "2819       1         1     2005        Ships    54    S72_3212   \n",
       "2820       1         3     2005        Ships    54    S72_3212   \n",
       "2821       1         3     2005        Ships    54    S72_3212   \n",
       "2822       2         5     2005        Ships    54    S72_3212   \n",
       "\n",
       "                  CUSTOMERNAME                   ADDRESSLINE1           CITY  \\\n",
       "0            Land of Toys Inc.        897 Long Airport Avenue            NYC   \n",
       "1           Reims Collectables             59 rue de l'Abbaye          Reims   \n",
       "2              Lyon Souveniers  27 rue du Colonel Pierre Avia          Paris   \n",
       "3            Toys4GrownUps.com             78934 Hillside Dr.       Pasadena   \n",
       "4     Corporate Gift Ideas Co.                7734 Strong St.  San Francisco   \n",
       "...                        ...                            ...            ...   \n",
       "2818     Euro Shopping Channel             C/ Moralzarzal, 86         Madrid   \n",
       "2819   Oulu Toy Supplies, Inc.                    Torikatu 38           Oulu   \n",
       "2820     Euro Shopping Channel             C/ Moralzarzal, 86         Madrid   \n",
       "2821              Alpha Cognac          1 rue Alsace-Lorraine       Toulouse   \n",
       "2822         Gifts4AllAges.com             8616 Spinnaker Dr.         Boston   \n",
       "\n",
       "     STATE POSTALCODE  COUNTRY TERRITORY CONTACTLASTNAME CONTACTFIRSTNAME  \\\n",
       "0       NY      10022      USA      EMEA              Yu             Kwai   \n",
       "1       CA      51100   France      EMEA         Henriot             Paul   \n",
       "2       CA      75508   France      EMEA        Da Cunha           Daniel   \n",
       "3       CA      90003      USA      EMEA           Young            Julie   \n",
       "4       CA      28034      USA      EMEA           Brown            Julie   \n",
       "...    ...        ...      ...       ...             ...              ...   \n",
       "2818    CA      28034    Spain      EMEA          Freyre            Diego   \n",
       "2819    CA      90110  Finland      EMEA       Koskitalo           Pirkko   \n",
       "2820    CA      28034    Spain      EMEA          Freyre            Diego   \n",
       "2821    CA      31000   France      EMEA          Roulet          Annette   \n",
       "2822    MA      51003      USA      EMEA         Yoshido             Juri   \n",
       "\n",
       "     DEALSIZE  \n",
       "0       Small  \n",
       "1       Small  \n",
       "2      Medium  \n",
       "3      Medium  \n",
       "4      Medium  \n",
       "...       ...  \n",
       "2818    Small  \n",
       "2819   Medium  \n",
       "2820   Medium  \n",
       "2821    Small  \n",
       "2822   Medium  \n",
       "\n",
       "[2823 rows x 21 columns]"
      ]
     },
     "execution_count": 25,
     "metadata": {},
     "output_type": "execute_result"
    }
   ],
   "source": [
    "#Reviewing the dataframe and their datatypes\n",
    "df"
   ]
  },
  {
   "cell_type": "code",
   "execution_count": 26,
   "id": "a3d6f9e0",
   "metadata": {},
   "outputs": [
    {
     "data": {
      "text/plain": [
       "ORDERNUMBER           int64\n",
       "QUANTITYORDERED       int64\n",
       "PRICEEACH           float64\n",
       "ORDERLINENUMBER       int64\n",
       "SALES               float64\n",
       "QTR_ID                int64\n",
       "MONTH_ID              int64\n",
       "YEAR_ID               int64\n",
       "PRODUCTLINE          object\n",
       "MSRP                  int64\n",
       "PRODUCTCODE          object\n",
       "CUSTOMERNAME         object\n",
       "ADDRESSLINE1         object\n",
       "CITY                 object\n",
       "STATE                object\n",
       "POSTALCODE           object\n",
       "COUNTRY              object\n",
       "TERRITORY            object\n",
       "CONTACTLASTNAME      object\n",
       "CONTACTFIRSTNAME     object\n",
       "DEALSIZE             object\n",
       "dtype: object"
      ]
     },
     "execution_count": 26,
     "metadata": {},
     "output_type": "execute_result"
    }
   ],
   "source": [
    "#Reviewing datatypes\n",
    "df.dtypes"
   ]
  },
  {
   "cell_type": "code",
   "execution_count": 27,
   "id": "ebaf8218",
   "metadata": {},
   "outputs": [
    {
     "data": {
      "text/plain": [
       "(2823, 21)"
      ]
     },
     "execution_count": 27,
     "metadata": {},
     "output_type": "execute_result"
    }
   ],
   "source": [
    "#Reviewing size of the dataset\n",
    "df.shape"
   ]
  },
  {
   "cell_type": "code",
   "execution_count": 28,
   "id": "b8b9ad59",
   "metadata": {},
   "outputs": [
    {
     "name": "stdout",
     "output_type": "stream",
     "text": [
      "<class 'pandas.core.frame.DataFrame'>\n",
      "RangeIndex: 2823 entries, 0 to 2822\n",
      "Data columns (total 21 columns):\n",
      " #   Column            Non-Null Count  Dtype  \n",
      "---  ------            --------------  -----  \n",
      " 0   ORDERNUMBER       2823 non-null   int64  \n",
      " 1   QUANTITYORDERED   2823 non-null   int64  \n",
      " 2   PRICEEACH         2823 non-null   float64\n",
      " 3   ORDERLINENUMBER   2823 non-null   int64  \n",
      " 4   SALES             2823 non-null   float64\n",
      " 5   QTR_ID            2823 non-null   int64  \n",
      " 6   MONTH_ID          2823 non-null   int64  \n",
      " 7   YEAR_ID           2823 non-null   int64  \n",
      " 8   PRODUCTLINE       2823 non-null   object \n",
      " 9   MSRP              2823 non-null   int64  \n",
      " 10  PRODUCTCODE       2823 non-null   object \n",
      " 11  CUSTOMERNAME      2823 non-null   object \n",
      " 12  ADDRESSLINE1      2823 non-null   object \n",
      " 13  CITY              2823 non-null   object \n",
      " 14  STATE             2823 non-null   object \n",
      " 15  POSTALCODE        2823 non-null   object \n",
      " 16  COUNTRY           2823 non-null   object \n",
      " 17  TERRITORY         2823 non-null   object \n",
      " 18  CONTACTLASTNAME   2823 non-null   object \n",
      " 19  CONTACTFIRSTNAME  2823 non-null   object \n",
      " 20  DEALSIZE          2823 non-null   object \n",
      "dtypes: float64(2), int64(7), object(12)\n",
      "memory usage: 463.3+ KB\n"
     ]
    }
   ],
   "source": [
    "#Reviewing the details of the dataset\n",
    "df.info()"
   ]
  },
  {
   "cell_type": "markdown",
   "id": "a6da9ca3",
   "metadata": {},
   "source": [
    "### Applying Standard Scalar transformation along with One Hot Encoding"
   ]
  },
  {
   "cell_type": "code",
   "execution_count": 29,
   "id": "5e22c76a",
   "metadata": {},
   "outputs": [
    {
     "data": {
      "text/plain": [
       "Index(['ORDERNUMBER', 'QUANTITYORDERED', 'PRICEEACH', 'ORDERLINENUMBER',\n",
       "       'SALES', 'QTR_ID', 'MONTH_ID', 'YEAR_ID', 'PRODUCTLINE', 'MSRP',\n",
       "       'PRODUCTCODE', 'CUSTOMERNAME', 'ADDRESSLINE1', 'CITY', 'STATE',\n",
       "       'POSTALCODE', 'COUNTRY', 'TERRITORY', 'CONTACTLASTNAME',\n",
       "       'CONTACTFIRSTNAME', 'DEALSIZE'],\n",
       "      dtype='object')"
      ]
     },
     "execution_count": 29,
     "metadata": {},
     "output_type": "execute_result"
    }
   ],
   "source": [
    "df.columns"
   ]
  },
  {
   "cell_type": "code",
   "execution_count": 30,
   "id": "062ffc60",
   "metadata": {},
   "outputs": [],
   "source": [
    "# Import libraries and download example data\n",
    "from sklearn.preprocessing import StandardScaler, OneHotEncoder\n",
    "\n",
    "# Define which columns should be encoded vs scaled\n",
    "columns_to_encode = ['PRODUCTCODE', 'CUSTOMERNAME','ADDRESSLINE1', 'CITY',\n",
    "                    'STATE', 'POSTALCODE', 'COUNTRY', 'TERRITORY','CONTACTLASTNAME',\n",
    "                    'CONTACTFIRSTNAME', 'DEALSIZE']\n",
    "\n",
    "columns_to_scale  = ['ORDERNUMBER', 'QUANTITYORDERED', 'PRICEEACH', 'ORDERLINENUMBER',  \n",
    "                  'SALES', 'YEAR_ID', 'MSRP',\n",
    "                  'QTR_ID', 'MONTH_ID']\n",
    "\n",
    "# Instantiate encoder/scaler\n",
    "scaler = StandardScaler()\n",
    "ohe    = OneHotEncoder(sparse=False)\n",
    "\n",
    "# Scale and Encode Separate Columns\n",
    "scaled_columns  = scaler.fit_transform(df[columns_to_scale]) \n",
    "encoded_columns = ohe.fit_transform(df[columns_to_encode])\n",
    "\n",
    "# Concatenate (Column-Bind) Processed Columns Back Together\n",
    "df = np.concatenate([scaled_columns, encoded_columns], axis=1)"
   ]
  },
  {
   "cell_type": "markdown",
   "id": "3c5bcedf",
   "metadata": {},
   "source": [
    "### PCA FOR VISUALIZATION"
   ]
  },
  {
   "cell_type": "code",
   "execution_count": 31,
   "id": "e1fa189c",
   "metadata": {},
   "outputs": [
    {
     "data": {
      "text/plain": [
       "array([0.14847149, 0.13916491])"
      ]
     },
     "execution_count": 31,
     "metadata": {},
     "output_type": "execute_result"
    }
   ],
   "source": [
    "pca1 = PCA(n_components=2)  \n",
    "\n",
    "# # fit the PCA and transform the standardized data\n",
    "pc1 = pca1.fit_transform(df)\n",
    "\n",
    "pca1.explained_variance_ratio_"
   ]
  },
  {
   "cell_type": "code",
   "execution_count": 32,
   "id": "e2a6bebf",
   "metadata": {},
   "outputs": [
    {
     "data": {
      "image/png": "[encoded data removed]",
      "text/plain": [
       "<Figure size 432x288 with 1 Axes>"
      ]
     },
     "metadata": {
      "needs_background": "light"
     },
     "output_type": "display_data"
    }
   ],
   "source": [
    "# create the dataframe using the 'DataFrame()'\n",
    "# pass the required column names to the parameter 'columns'\n",
    "df_pca = pd.DataFrame(pc1, columns=['PC1', 'PC2'])\n",
    "\n",
    "# plot a scatterplot to visualize the dataset\n",
    "# pass the variables on x and y axes to the parameter 'x' and 'y' respectively\n",
    "# pass the dataframe to the parameter 'data'\n",
    "# pass the target variable to the parameter 'hue' to display the classes of the target variables with different colors\n",
    "sns.scatterplot(x='PC1', y='PC2', data=df_pca, hue=df_status)\n",
    "\n",
    "# set the plot title and axes labels\n",
    "# set the text size using 'fontsize'\n",
    "plt.title('Transformed Data', fontsize = 15)\n",
    "plt.xlabel('First Principal Component', fontsize = 15)\n",
    "plt.ylabel('Second Principal Component', fontsize = 15)\n",
    "\n",
    "# display the plot\n",
    "plt.show()"
   ]
  },
  {
   "cell_type": "markdown",
   "id": "f6c5e490",
   "metadata": {},
   "source": [
    "#### Intuitions about the scatter plot \n",
    "PCA has simplified the model features into fewer, uncorrelated features to help visualize patterns in data and help it run faster. The first and second principal components carry more than 50% of the explained variance. We should expect to achieve no less than 90% of the original accuracy as using the full set of features."
   ]
  },
  {
   "cell_type": "markdown",
   "id": "c566e078",
   "metadata": {},
   "source": [
    "### PCA for dimension reduction"
   ]
  },
  {
   "cell_type": "code",
   "execution_count": 33,
   "id": "eedd00bf",
   "metadata": {},
   "outputs": [],
   "source": [
    "#Applying the PCA on our DF\n",
    "pca2 = PCA(n_components=72)\n",
    "pc2 = pca2.fit_transform(df)"
   ]
  },
  {
   "cell_type": "code",
   "execution_count": 34,
   "id": "e6293d7a",
   "metadata": {},
   "outputs": [
    {
     "data": {
      "text/plain": [
       "array([0.14847149, 0.2876364 , 0.3730633 , 0.43731755, 0.49291251,\n",
       "       0.529614  , 0.55525388, 0.57721581, 0.59854156, 0.61618727,\n",
       "       0.62887369, 0.63916184, 0.64875558, 0.65759849, 0.66576452,\n",
       "       0.67328838, 0.68079968, 0.68744058, 0.69405073, 0.70048979,\n",
       "       0.70654144, 0.71231653, 0.71807352, 0.72364177, 0.72909385,\n",
       "       0.73450231, 0.73987566, 0.74516594, 0.75037677, 0.75554227,\n",
       "       0.76049786, 0.76530675, 0.76999936, 0.77457145, 0.77910102,\n",
       "       0.78354003, 0.78784465, 0.79214057, 0.79639229, 0.80053523,\n",
       "       0.80459237, 0.80853378, 0.81241845, 0.81617713, 0.81988747,\n",
       "       0.8235148 , 0.8271146 , 0.83071035, 0.83426919, 0.83781685,\n",
       "       0.84126918, 0.84470693, 0.8480601 , 0.8513843 , 0.85467505,\n",
       "       0.85792279, 0.86110206, 0.8642309 , 0.86734074, 0.87040777,\n",
       "       0.87342964, 0.87644139, 0.87934655, 0.88222804, 0.88503922,\n",
       "       0.88769594, 0.89030515, 0.89289001, 0.89539784, 0.89778302,\n",
       "       0.90015596, 0.90250256])"
      ]
     },
     "execution_count": 34,
     "metadata": {},
     "output_type": "execute_result"
    }
   ],
   "source": [
    "#cumulative explained variance\n",
    "np.cumsum(pca2.explained_variance_ratio_)"
   ]
  },
  {
   "cell_type": "code",
   "execution_count": 35,
   "id": "5b8a70c1",
   "metadata": {},
   "outputs": [
    {
     "data": {
      "text/plain": [
       "array([[-3.05577850e-01,  2.02893267e-01,  2.70671447e+00, ...,\n",
       "        -2.71211542e-02, -1.00209844e-01, -7.62065771e-02],\n",
       "       [-7.73023608e-01, -3.58204745e-01,  1.93292581e+00, ...,\n",
       "         9.74371920e-03,  1.72037741e-02,  5.75802288e-02],\n",
       "       [ 4.24090852e-01, -1.25298859e+00,  1.18997909e+00, ...,\n",
       "        -2.74459301e-01, -1.07887938e-01,  5.70205932e-01],\n",
       "       ...,\n",
       "       [ 1.47078514e+00,  2.83983263e+00, -5.87675994e-01, ...,\n",
       "        -1.36877266e-03,  6.42516210e-03, -5.19621250e-03],\n",
       "       [-1.09762870e+00,  3.23288175e+00, -6.35333791e-01, ...,\n",
       "         1.06784777e+00, -1.05446576e+00,  3.05204547e-03],\n",
       "       [-1.75081460e-01,  2.29095215e+00, -1.48461740e+00, ...,\n",
       "        -6.48213436e-02, -7.00191675e-02,  9.84683091e-03]])"
      ]
     },
     "execution_count": 35,
     "metadata": {},
     "output_type": "execute_result"
    }
   ],
   "source": [
    "#viewing the principal components\n",
    "pc2"
   ]
  },
  {
   "cell_type": "code",
   "execution_count": 36,
   "id": "bb8b0f2d",
   "metadata": {},
   "outputs": [
    {
     "name": "stdout",
     "output_type": "stream",
     "text": [
      "Variance of each component: [0.14847149 0.13916491 0.0854269  0.06425426 0.05559496 0.03670149\n",
      " 0.02563988 0.02196193 0.02132574 0.01764572 0.01268642 0.01028814\n",
      " 0.00959375 0.00884291 0.00816604 0.00752386 0.0075113  0.00664089\n",
      " 0.00661015 0.00643906 0.00605166 0.00577508 0.00575699 0.00556824\n",
      " 0.00545208 0.00540846 0.00537336 0.00529028 0.00521083 0.0051655\n",
      " 0.00495558 0.0048089  0.0046926  0.0045721  0.00452956 0.00443901\n",
      " 0.00430462 0.00429592 0.00425172 0.00414294 0.00405714 0.00394141\n",
      " 0.00388468 0.00375867 0.00371034 0.00362733 0.00359979 0.00359575\n",
      " 0.00355884 0.00354766 0.00345232 0.00343775 0.00335317 0.0033242\n",
      " 0.00329075 0.00324774 0.00317926 0.00312884 0.00310984 0.00306703\n",
      " 0.00302187 0.00301175 0.00290516 0.00288148 0.00281118 0.00265672\n",
      " 0.00260921 0.00258486 0.00250783 0.00238518 0.00237294 0.0023466 ]\n",
      "Cumulative Explained Variance: 90.25\n"
     ]
    }
   ],
   "source": [
    "# Calculate the variance explained by principle components\n",
    "print('Variance of each component:', pca2.explained_variance_ratio_)\n",
    "print('Cumulative Explained Variance:', round(sum(list(pca2.explained_variance_ratio_))*100, 2))"
   ]
  },
  {
   "cell_type": "code",
   "execution_count": 37,
   "id": "e6990547",
   "metadata": {},
   "outputs": [
    {
     "name": "stdout",
     "output_type": "stream",
     "text": [
      "16.451087751828748\n",
      "15.419890629988009\n",
      "9.465557892453134\n",
      "7.119564872887525\n",
      "6.160088671963299\n",
      "4.066635854257562\n",
      "2.8409758230891513\n",
      "2.433447903288936\n",
      "2.3629563946787098\n",
      "1.955198767169473\n",
      "1.405693342016757\n",
      "1.1399571368864805\n",
      "1.0630159777692847\n",
      "0.9798204901179882\n",
      "0.9048213399412001\n",
      "0.833666379248991\n",
      "0.8322743324292434\n",
      "0.7358311195276632\n",
      "0.7324250467418192\n",
      "0.7134668176141327\n",
      "0.6705418754933556\n",
      "0.6398967552234262\n",
      "0.6378921399505987\n",
      "0.6169782324921705\n",
      "0.6041072911774622\n",
      "0.5992731988505107\n",
      "0.5953839249770735\n",
      "0.5861786161786566\n",
      "0.5773759358637103\n",
      "0.5723533546662181\n",
      "0.5490936557183256\n",
      "0.5328401637977341\n",
      "0.5199542885935605\n",
      "0.5066024129712425\n",
      "0.5018893368424217\n",
      "0.49185551705715846\n",
      "0.47696493332577417\n",
      "0.47600088657470385\n",
      "0.47110328896017617\n",
      "0.45905060067038944\n",
      "0.44954335957751523\n",
      "0.43671976241032984\n",
      "0.430433841732883\n",
      "0.4164723286170468\n",
      "0.41111674016698224\n",
      "0.40191958940722766\n",
      "0.39886798053601713\n",
      "0.398420175064428\n",
      "0.39433054787529975\n",
      "0.3930916884975562\n",
      "0.382527979468318\n",
      "0.38091345803756227\n",
      "0.37154154929063016\n",
      "0.36833141588360147\n",
      "0.3646247089076574\n",
      "0.3598595319186936\n",
      "0.35227212814002773\n",
      "0.34668475338919263\n",
      "0.3445794701271346\n",
      "0.33983634481483516\n",
      "0.3348325012389038\n",
      "0.3337107850682118\n",
      "0.3219010060366782\n",
      "0.3192770778300445\n",
      "0.3114870743448084\n",
      "0.2943727796678783\n",
      "0.28910881586582254\n",
      "0.286409923159007\n",
      "0.2778756593379593\n",
      "0.2642846341326589\n",
      "0.26292931311117057\n",
      "0.2600101230611485\n"
     ]
    }
   ],
   "source": [
    "for i in pca2.explained_variance_:\n",
    "    var = i/sum(pca2.explained_variance_)*100\n",
    "    print(var)"
   ]
  },
  {
   "cell_type": "markdown",
   "id": "56209879",
   "metadata": {},
   "source": [
    "#### Observation:\n",
    "In the first 11 dimensions we are able to see the maximum variance (approximately 90%)."
   ]
  },
  {
   "cell_type": "code",
   "execution_count": 38,
   "id": "115d538d",
   "metadata": {},
   "outputs": [
    {
     "data": {
      "text/plain": [
       "Text(0, 0.5, 'Explained variance')"
      ]
     },
     "execution_count": 38,
     "metadata": {},
     "output_type": "execute_result"
    },
    {
     "data": {
      "image/png": "[encoded data removed]",
      "text/plain": [
       "<Figure size 432x288 with 1 Axes>"
      ]
     },
     "metadata": {
      "needs_background": "light"
     },
     "output_type": "display_data"
    }
   ],
   "source": [
    "#plot between n_components and cumulative explained variance\n",
    "plt.plot(np.cumsum(pca2.explained_variance_ratio_))\n",
    "#To show the plot\n",
    "#plt.show()\n",
    "plt.xlabel('Number of components')\n",
    "plt.ylabel('Explained variance')\n",
    "#plt.savefig('elbow_plot.png', dpi=100)"
   ]
  },
  {
   "cell_type": "markdown",
   "id": "58941246",
   "metadata": {},
   "source": [
    "### LDA"
   ]
  },
  {
   "cell_type": "code",
   "execution_count": 39,
   "id": "1525a642",
   "metadata": {},
   "outputs": [],
   "source": [
    "#Defining a function to test, train and predict the model on our dataset\n",
    "def model_accuracy(df, df2, test_size, random_state, model):\n",
    "    X_train, X_test, Y_train, Y_test = train_test_split(df, df2, test_size=test_size, random_state=random_state)\n",
    "    model.fit(X_train, Y_train)\n",
    "    X_pred = model.predict(X_test)\n",
    "    print(\"Accuracy score for Test data: \", accuracy_score(Y_test, X_pred))"
   ]
  },
  {
   "cell_type": "code",
   "execution_count": 40,
   "id": "4da1667b",
   "metadata": {},
   "outputs": [
    {
     "name": "stdout",
     "output_type": "stream",
     "text": [
      "Accuracy score for Test data:  0.9026548672566371\n"
     ]
    }
   ],
   "source": [
    "#Defining the LDA model with n_components = 1 and applying it to the train test data\n",
    "lda = LDA(n_components = 1)\n",
    "model_accuracy(df, df_status, 0.2, 42, lda)"
   ]
  },
  {
   "cell_type": "code",
   "execution_count": 41,
   "id": "f6102c71",
   "metadata": {},
   "outputs": [
    {
     "name": "stdout",
     "output_type": "stream",
     "text": [
      "Accuracy score for Test data:  0.984070796460177\n"
     ]
    }
   ],
   "source": [
    "#Defining the RandomForestClassifier model and applying it to the train test data\n",
    "rfc = RandomForestClassifier()\n",
    "model_accuracy(df, df_status, 0.2, 42, rfc)"
   ]
  }
 ],
 "metadata": {
  "kernelspec": {
   "display_name": "Python 3 (ipykernel)",
   "language": "python",
   "name": "python3"
  },
  "language_info": {
   "codemirror_mode": {
    "name": "ipython",
    "version": 3
   },
   "file_extension": ".py",
   "mimetype": "text/x-python",
   "name": "python",
   "nbconvert_exporter": "python",
   "pygments_lexer": "ipython3",
   "version": "3.9.7"
  }
 },
 "nbformat": 4,
 "nbformat_minor": 5
}
