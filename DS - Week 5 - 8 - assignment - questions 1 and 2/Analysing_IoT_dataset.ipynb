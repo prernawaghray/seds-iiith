{
  "nbformat": 4,
  "nbformat_minor": 0,
  "metadata": {
    "colab": {
      "name": "Analysing IoT dataset.ipynb",
      "provenance": [],
      "collapsed_sections": []
    },
    "kernelspec": {
      "name": "python3",
      "display_name": "Python 3"
    },
    "language_info": {
      "name": "python"
    }
  },
  "cells": [
    {
      "cell_type": "markdown",
      "source": [
        "Analysing IoT Data with Spark Sql"
      ],
      "metadata": {
        "id": "ndrrlTpbhAdu"
      }
    },
    {
      "cell_type": "code",
      "source": [
        "# Mounting Google Drive\n",
        "from google.colab import drive\n",
        "drive.mount('/content/drive')"
      ],
      "metadata": {
        "colab": {
          "base_uri": "https://localhost:8080/"
        },
        "id": "AIi0-I9vhC_i",
        "outputId": "70aa15c8-8204-465b-cf54-8be09b6c4ab5"
      },
      "execution_count": null,
      "outputs": [
        {
          "output_type": "stream",
          "name": "stdout",
          "text": [
            "Mounted at /content/drive\n"
          ]
        }
      ]
    },
    {
      "cell_type": "code",
      "source": [
        "# Installing findspark\n",
        "!pip install findspark"
      ],
      "metadata": {
        "colab": {
          "base_uri": "https://localhost:8080/"
        },
        "id": "jB2QmJNMhFq6",
        "outputId": "43eddf5a-c934-437e-9126-efbaec052009"
      },
      "execution_count": null,
      "outputs": [
        {
          "output_type": "stream",
          "name": "stdout",
          "text": [
            "Looking in indexes: https://pypi.org/simple, https://us-python.pkg.dev/colab-wheels/public/simple/\n",
            "Collecting findspark\n",
            "  Downloading findspark-2.0.1-py2.py3-none-any.whl (4.4 kB)\n",
            "Installing collected packages: findspark\n",
            "Successfully installed findspark-2.0.1\n"
          ]
        }
      ]
    },
    {
      "cell_type": "code",
      "source": [
        "# Installing pyspark\n",
        "!pip install pyspark"
      ],
      "metadata": {
        "colab": {
          "base_uri": "https://localhost:8080/"
        },
        "id": "b1qtj6-NhJjt",
        "outputId": "d7089ed6-1b3e-49c3-cbd2-57049ea64e32"
      },
      "execution_count": null,
      "outputs": [
        {
          "output_type": "stream",
          "name": "stdout",
          "text": [
            "Looking in indexes: https://pypi.org/simple, https://us-python.pkg.dev/colab-wheels/public/simple/\n",
            "Collecting pyspark\n",
            "  Downloading pyspark-3.3.0.tar.gz (281.3 MB)\n",
            "\u001b[K     |████████████████████████████████| 281.3 MB 41 kB/s \n",
            "\u001b[?25hCollecting py4j==0.10.9.5\n",
            "  Downloading py4j-0.10.9.5-py2.py3-none-any.whl (199 kB)\n",
            "\u001b[K     |████████████████████████████████| 199 kB 59.4 MB/s \n",
            "\u001b[?25hBuilding wheels for collected packages: pyspark\n",
            "  Building wheel for pyspark (setup.py) ... \u001b[?25l\u001b[?25hdone\n",
            "  Created wheel for pyspark: filename=pyspark-3.3.0-py2.py3-none-any.whl size=281764026 sha256=ae313fff398a779e1e4b769a73b1775bff230094de9ca3877aa3c95ad1ef5b56\n",
            "  Stored in directory: /root/.cache/pip/wheels/7a/8e/1b/f73a52650d2e5f337708d9f6a1750d451a7349a867f928b885\n",
            "Successfully built pyspark\n",
            "Installing collected packages: py4j, pyspark\n",
            "Successfully installed py4j-0.10.9.5 pyspark-3.3.0\n"
          ]
        }
      ]
    },
    {
      "cell_type": "code",
      "source": [
        "# Installing java\n",
        "!apt-get install openjdk-8-jdk-headless -qq > /dev/null"
      ],
      "metadata": {
        "id": "qmlEwFOFhLIz"
      },
      "execution_count": null,
      "outputs": []
    },
    {
      "cell_type": "code",
      "source": [
        "import findspark\n",
        "findspark.init()"
      ],
      "metadata": {
        "id": "tnTpxilbhM0-"
      },
      "execution_count": null,
      "outputs": []
    },
    {
      "cell_type": "code",
      "source": [
        "import pyspark.sql.functions as pyf"
      ],
      "metadata": {
        "id": "YdqugoFnhOOO"
      },
      "execution_count": null,
      "outputs": []
    },
    {
      "cell_type": "code",
      "source": [
        "# Creating a spark session\n",
        "from pyspark.sql import DataFrame, SparkSession\n",
        "spark = SparkSession.builder.appName(\"House Price Prediction\").getOrCreate()\n",
        "spark"
      ],
      "metadata": {
        "id": "eDuFJgzkhPzf",
        "colab": {
          "base_uri": "https://localhost:8080/",
          "height": 219
        },
        "outputId": "7be7b3fa-1a8d-4347-84dd-68d91d6b2084"
      },
      "execution_count": null,
      "outputs": [
        {
          "output_type": "execute_result",
          "data": {
            "text/plain": [
              "<pyspark.sql.session.SparkSession at 0x7f4e84017d10>"
            ],
            "text/html": [
              "\n",
              "            <div>\n",
              "                <p><b>SparkSession - in-memory</b></p>\n",
              "                \n",
              "        <div>\n",
              "            <p><b>SparkContext</b></p>\n",
              "\n",
              "            <p><a href=\"http://f22fbf2fa269:4040\">Spark UI</a></p>\n",
              "\n",
              "            <dl>\n",
              "              <dt>Version</dt>\n",
              "                <dd><code>v3.3.0</code></dd>\n",
              "              <dt>Master</dt>\n",
              "                <dd><code>local[*]</code></dd>\n",
              "              <dt>AppName</dt>\n",
              "                <dd><code>House Price Prediction</code></dd>\n",
              "            </dl>\n",
              "        </div>\n",
              "        \n",
              "            </div>\n",
              "        "
            ]
          },
          "metadata": {},
          "execution_count": 7
        }
      ]
    },
    {
      "cell_type": "code",
      "source": [
        "# Specifying the file path\n",
        "file_location = \"/content/drive/MyDrive/ColabNotebooks/iot_devices.json\""
      ],
      "metadata": {
        "id": "soYCGHXHhRsv"
      },
      "execution_count": null,
      "outputs": []
    },
    {
      "cell_type": "code",
      "source": [
        "# Reading the dataset to a dataframe\n",
        "df = spark.read.json(file_location)"
      ],
      "metadata": {
        "id": "LtS6Wb4thT25"
      },
      "execution_count": null,
      "outputs": []
    },
    {
      "cell_type": "code",
      "source": [
        "# Displaying the number of rows and columns\n",
        "print((df.distinct().count(), len(df.columns)))"
      ],
      "metadata": {
        "colab": {
          "base_uri": "https://localhost:8080/"
        },
        "id": "ql0DRd7whVZZ",
        "outputId": "522a92cf-09b3-4802-9bab-a2f58eb335fa"
      },
      "execution_count": null,
      "outputs": [
        {
          "output_type": "stream",
          "name": "stdout",
          "text": [
            "(30072, 16)\n"
          ]
        }
      ]
    },
    {
      "cell_type": "code",
      "source": [
        "df.show()"
      ],
      "metadata": {
        "colab": {
          "base_uri": "https://localhost:8080/"
        },
        "id": "xyMhSj8SxlUb",
        "outputId": "2113aef4-0572-4aff-fe7c-1f7d5f550ce4"
      },
      "execution_count": null,
      "outputs": [
        {
          "output_type": "stream",
          "name": "stdout",
          "text": [
            "+---------------+-------------+---------+----+----+-------------+---------+--------------------+--------+---------------+--------+------+---------+-------+----+-------------+\n",
            "|_corrupt_record|battery_level|c02_level|cca2|cca3|           cn|device_id|         device_name|humidity|             ip|latitude|   lcd|longitude|  scale|temp|    timestamp|\n",
            "+---------------+-------------+---------+----+----+-------------+---------+--------------------+--------+---------------+--------+------+---------+-------+----+-------------+\n",
            "|           null|            8|      868|  US| USA|United States|        1|meter-gauge-1xbYRYcj|      51|   68.161.225.1|    38.0| green|    -97.0|Celsius|  34|1458444054093|\n",
            "|           null|            7|     1473|  NO| NOR|       Norway|        2|   sensor-pad-2n2Pea|      70|  213.161.254.1|   62.47|   red|     6.15|Celsius|  11|1458444054119|\n",
            "|           null|            2|     1556|  IT| ITA|        Italy|        3| device-mac-36TWSKiT|      44|      88.36.5.1|   42.83|   red|    12.83|Celsius|  19|1458444054120|\n",
            "|           null|            6|     1080|  US| USA|United States|        4|   sensor-pad-4mzWkz|      32|  66.39.173.154|   44.06|yellow|  -121.32|Celsius|  28|1458444054121|\n",
            "|           null|            4|      931|  PH| PHL|  Philippines|        5|therm-stick-5gimp...|      62|    203.82.41.9|   14.58| green|   120.97|Celsius|  25|1458444054122|\n",
            "|           null|            3|     1210|  US| USA|United States|        6|sensor-pad-6al7RT...|      51| 204.116.105.67|   35.93|yellow|   -85.46|Celsius|  27|1458444054122|\n",
            "|           null|            3|     1129|  CN| CHN|        China|        7|meter-gauge-7GeDoanM|      26|  220.173.179.1|   22.82|yellow|   108.32|Celsius|  18|1458444054123|\n",
            "|           null|            0|     1536|  JP| JPN|        Japan|        8|sensor-pad-8xUD6p...|      35|  210.173.177.1|   35.69|   red|   139.69|Celsius|  27|1458444054123|\n",
            "|           null|            3|      807|  JP| JPN|        Japan|        9| device-mac-9GcjZ2pw|      85|  118.23.68.227|   35.69| green|   139.69|Celsius|  13|1458444054124|\n",
            "|           null|            7|     1470|  US| USA|United States|       10|sensor-pad-10Bsyw...|      56|208.109.163.218|   33.61|   red|  -111.89|Celsius|  26|1458444054125|\n",
            "|           null|            3|     1544|  IT| ITA|        Italy|       11|meter-gauge-11dlM...|      85|  88.213.191.34|   42.83|   red|    12.83|Celsius|  16|1458444054125|\n",
            "|           null|            0|     1260|  US| USA|United States|       12|sensor-pad-12Y2kIm0o|      92|    68.28.91.22|    38.0|yellow|    -97.0|Celsius|  12|1458444054126|\n",
            "|           null|            6|     1007|  IN| IND|        India|       13|meter-gauge-13Gro...|      92| 59.144.114.250|    28.6|yellow|     77.2|Celsius|  13|1458444054127|\n",
            "|           null|            1|     1346|  NO| NOR|       Norway|       14|sensor-pad-14QL93...|      90| 193.156.90.200|   59.95|yellow|    10.75|Celsius|  16|1458444054127|\n",
            "|           null|            9|     1259|  US| USA|United States|       15|  device-mac-15se6mZ|      70|    67.185.72.1|   47.41|yellow|   -122.0|Celsius|  13|1458444054128|\n",
            "|           null|            4|     1425|  US| USA|United States|       16|sensor-pad-16aXmI...|      53|   68.85.85.106|    38.0|   red|    -97.0|Celsius|  15|1458444054128|\n",
            "|           null|            0|     1466|  US| USA|United States|       17|meter-gauge-17zb8...|      98|161.188.212.254|   39.95|   red|   -75.16|Celsius|  31|1458444054129|\n",
            "|           null|            4|     1096|  CN| CHN|        China|       18|sensor-pad-18XULN9Xv|      25|  221.3.128.242|   25.04|yellow|   102.72|Celsius|  31|1458444054130|\n",
            "|           null|            9|     1531|  US| USA|United States|       19|meter-gauge-19eg1...|      75| 64.124.180.215|    38.0|   red|    -97.0|Celsius|  29|1458444054130|\n",
            "|           null|            7|     1155|  US| USA|United States|       20|sensor-pad-20gFNf...|      33|  66.153.162.66|   33.94|yellow|   -78.92|Celsius|  10|1458444054131|\n",
            "+---------------+-------------+---------+----+----+-------------+---------+--------------------+--------+---------------+--------+------+---------+-------+----+-------------+\n",
            "only showing top 20 rows\n",
            "\n"
          ]
        }
      ]
    },
    {
      "cell_type": "code",
      "source": [
        "df.printSchema()"
      ],
      "metadata": {
        "colab": {
          "base_uri": "https://localhost:8080/"
        },
        "id": "MtcdpS6ghZsO",
        "outputId": "5feb9dba-ef49-40f0-8b7d-60afb56a9a39"
      },
      "execution_count": null,
      "outputs": [
        {
          "output_type": "stream",
          "name": "stdout",
          "text": [
            "root\n",
            " |-- _corrupt_record: string (nullable = true)\n",
            " |-- battery_level: long (nullable = true)\n",
            " |-- c02_level: long (nullable = true)\n",
            " |-- cca2: string (nullable = true)\n",
            " |-- cca3: string (nullable = true)\n",
            " |-- cn: string (nullable = true)\n",
            " |-- device_id: long (nullable = true)\n",
            " |-- device_name: string (nullable = true)\n",
            " |-- humidity: long (nullable = true)\n",
            " |-- ip: string (nullable = true)\n",
            " |-- latitude: double (nullable = true)\n",
            " |-- lcd: string (nullable = true)\n",
            " |-- longitude: double (nullable = true)\n",
            " |-- scale: string (nullable = true)\n",
            " |-- temp: long (nullable = true)\n",
            " |-- timestamp: long (nullable = true)\n",
            "\n"
          ]
        }
      ]
    },
    {
      "cell_type": "code",
      "source": [
        "# Creating a temporary view called iot\n",
        "df.createOrReplaceTempView(\"iot\")"
      ],
      "metadata": {
        "id": "0787WoIhhgmm"
      },
      "execution_count": null,
      "outputs": []
    },
    {
      "cell_type": "code",
      "source": [
        "# Count how many devices are there from each country and display the output.\n",
        "spark.sql(\"SELECT cn, COUNT(DISTINCT device_id) as Number_of_devices FROM iot GROUP BY cn ORDER BY Number_of_devices DESC\").show()"
      ],
      "metadata": {
        "colab": {
          "base_uri": "https://localhost:8080/"
        },
        "id": "qz9DzkIl1MZy",
        "outputId": "ef60a288-87c8-405a-db5f-5f97cdd19ddf"
      },
      "execution_count": null,
      "outputs": [
        {
          "output_type": "stream",
          "name": "stdout",
          "text": [
            "+-----------------+-----------------+\n",
            "|               cn|Number_of_devices|\n",
            "+-----------------+-----------------+\n",
            "|    United States|            10348|\n",
            "|            China|             2164|\n",
            "|            Japan|             1858|\n",
            "|Republic of Korea|             1774|\n",
            "|          Germany|             1260|\n",
            "|   United Kingdom|              988|\n",
            "|           Russia|              933|\n",
            "|           Canada|              892|\n",
            "|           France|              816|\n",
            "|           Brazil|              506|\n",
            "|            Italy|              476|\n",
            "|        Australia|              449|\n",
            "|           Sweden|              433|\n",
            "|           Poland|              400|\n",
            "|      Netherlands|              395|\n",
            "|           Taiwan|              348|\n",
            "|            Spain|              330|\n",
            "|            India|              278|\n",
            "|                 |              253|\n",
            "|          Austria|              236|\n",
            "+-----------------+-----------------+\n",
            "only showing top 20 rows\n",
            "\n"
          ]
        }
      ]
    },
    {
      "cell_type": "code",
      "source": [
        "# All the countries whose carbon dioxide level is more than 1400. Sort the output in descending order.\n",
        "spark.sql(\"SELECT cn FROM iot WHERE c02_level > 1400 ORDER BY c02_level DESC\").show()"
      ],
      "metadata": {
        "id": "5ZCP_KXqkKnJ",
        "colab": {
          "base_uri": "https://localhost:8080/"
        },
        "outputId": "bfd249c9-b798-4507-c7a8-523bf5929652"
      },
      "execution_count": null,
      "outputs": [
        {
          "output_type": "stream",
          "name": "stdout",
          "text": [
            "+--------------+\n",
            "|            cn|\n",
            "+--------------+\n",
            "|        France|\n",
            "|        Canada|\n",
            "| United States|\n",
            "|       Germany|\n",
            "|   Philippines|\n",
            "|        Canada|\n",
            "| United States|\n",
            "|         Spain|\n",
            "|         Japan|\n",
            "|        Poland|\n",
            "| United States|\n",
            "| United States|\n",
            "|United Kingdom|\n",
            "|United Kingdom|\n",
            "| United States|\n",
            "| United States|\n",
            "|         China|\n",
            "| United States|\n",
            "| United States|\n",
            "|         China|\n",
            "+--------------+\n",
            "only showing top 20 rows\n",
            "\n"
          ]
        }
      ]
    },
    {
      "cell_type": "code",
      "source": [
        "# Select all countries' devices with high-levels of C02 and group by cca3 and order by device_ids\n",
        "spark.sql(\"SELECT device_name,device_id,cca3 FROM iot WHERE lcd = 'red' GROUP BY device_name,device_id,cca3 ORDER BY device_id\").show()"
      ],
      "metadata": {
        "colab": {
          "base_uri": "https://localhost:8080/"
        },
        "id": "kJ9o1XsgmJPy",
        "outputId": "16bdadcc-9177-499b-cd25-2e37bfee4af8"
      },
      "execution_count": null,
      "outputs": [
        {
          "output_type": "stream",
          "name": "stdout",
          "text": [
            "+--------------------+---------+----+\n",
            "|         device_name|device_id|cca3|\n",
            "+--------------------+---------+----+\n",
            "|   sensor-pad-2n2Pea|        2| NOR|\n",
            "| device-mac-36TWSKiT|        3| ITA|\n",
            "|sensor-pad-8xUD6p...|        8| JPN|\n",
            "|sensor-pad-10Bsyw...|       10| USA|\n",
            "|meter-gauge-11dlM...|       11| ITA|\n",
            "|sensor-pad-16aXmI...|       16| USA|\n",
            "|meter-gauge-17zb8...|       17| USA|\n",
            "|meter-gauge-19eg1...|       19| USA|\n",
            "|  sensor-pad-22oWV2D|       22| JPN|\n",
            "|sensor-pad-24Pytz...|       24| CAN|\n",
            "|  device-mac-27P5wf2|       27| KOR|\n",
            "|sensor-pad-28Tsud...|       28| KOR|\n",
            "|meter-gauge-47WsF9s8|       47| UKR|\n",
            "|meter-gauge-534fD...|       53| SWE|\n",
            "|sensor-pad-5410CW...|       54| USA|\n",
            "|device-mac-57tRB0...|       57| USA|\n",
            "|  sensor-pad-64djcIn|       64| USA|\n",
            "|sensor-pad-663dzo...|       66| CZE|\n",
            "|meter-gauge-77IKW...|       77| IND|\n",
            "|sensor-pad-78PkeI...|       78| KOR|\n",
            "+--------------------+---------+----+\n",
            "only showing top 20 rows\n",
            "\n"
          ]
        }
      ]
    },
    {
      "cell_type": "code",
      "source": [
        "# All devices in countries whose batteries need replacements.\n",
        "spark.sql(\"SELECT device_name as Device_Battery_Dead, device_id FROM iot WHERE battery_level = 0 GROUP BY Device_Battery_Dead, device_id\").show()"
      ],
      "metadata": {
        "colab": {
          "base_uri": "https://localhost:8080/"
        },
        "id": "1B_0RJLJqoYa",
        "outputId": "c7626a03-33a0-4b3b-c861-925405365352"
      },
      "execution_count": null,
      "outputs": [
        {
          "output_type": "stream",
          "name": "stdout",
          "text": [
            "+--------------------+---------+\n",
            "| Device_Battery_Dead|device_id|\n",
            "+--------------------+---------+\n",
            "|meter-gauge-1075K...|      107|\n",
            "|sensor-pad-354ztT...|      354|\n",
            "|device-mac-2757kb...|     2757|\n",
            "|meter-gauge-41092...|     4109|\n",
            "|therm-stick-5485e...|     5485|\n",
            "|sensor-pad-9038r8...|     9038|\n",
            "|sensor-pad-11448P...|    11448|\n",
            "|sensor-pad-12444M...|    12444|\n",
            "|sensor-pad-16942T...|    16942|\n",
            "|sensor-pad-180044...|    18004|\n",
            "|device-mac-18129q...|    18129|\n",
            "|sensor-pad-18532R...|    18532|\n",
            "|device-mac-111WYt...|      111|\n",
            "|sensor-pad-1054chHSf|     1054|\n",
            "|sensor-pad-13970q...|    13970|\n",
            "|meter-gauge-18037...|    18037|\n",
            "|meter-gauge-19661...|    19661|\n",
            "|meter-gauge-253jo...|      253|\n",
            "|sensor-pad-62442c...|     6244|\n",
            "|meter-gauge-6929z...|     6929|\n",
            "+--------------------+---------+\n",
            "only showing top 20 rows\n",
            "\n"
          ]
        }
      ]
    }
  ]
}