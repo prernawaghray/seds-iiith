{
  "cells": [
    {
      "cell_type": "markdown",
      "source": [
        "### Setup the Spark VM and complete the below assignment\n",
        "\n",
        "Objective:- Build a ML model to predict the employee compensation.\n",
        "The application should be modelled using Spark.\n",
        "\n",
        "You can refer to the below links for spark commands:- \n",
        "- https://spark.apache.org/docs/latest/ml-pipeline.html\n",
        "\n",
        "- https://github.com/spark-in-action/first-edition\n",
        "\n",
        "- https://github.com/FavioVazquez/first_spark_model"
      ],
      "metadata": {
        "id": "dOMqSrk_Q-xH"
      }
    },
    {
      "cell_type": "markdown",
      "metadata": {
        "application/vnd.databricks.v1+cell": {
          "inputWidgets": {},
          "nuid": "2f9c04dd-cf52-4c53-aecd-bfe96f9529af",
          "showTitle": false,
          "title": ""
        },
        "id": "lAEn9f14QP0a"
      },
      "source": [
        "# Predicting Employee Compensation"
      ]
    },
    {
      "cell_type": "markdown",
      "metadata": {
        "application/vnd.databricks.v1+cell": {
          "inputWidgets": {},
          "nuid": "0ad7374a-5b59-4f1d-9a73-ecdf72f93ffd",
          "showTitle": false,
          "title": ""
        },
        "id": "SsDAS5vxQP0c"
      },
      "source": [
        "## Data Dictionary\n",
        "<br>**Year Type** - Fiscal (July through June) or Calendar (January through December)\n",
        "<br>**Year** - An accounting period of 12 months. The City and County of San Francisco operates on a fiscal year that begins on July 1 and ends on June 30 the following year. The Fiscal Year ending June 30, 2012 is represented as FY2011-2012.\n",
        "<br>**Organization Group Code** - Org Group is a group of Departments. For example, the Public Protection Org Group includes departments such as the Police,Fire, Adult Probation, District Attorney, and Sheriff.\n",
        "<br> **Organization Group** - Org Group is a group of Departments. For example, the Public Protection Org Group includes departments such as the Police,\n",
        "Fire, Adult Probation, District Attorney, and Sheriff.\n",
        "<br>**Department Code** - Departments are the primary organizational unit used by the Cityand County of San Francisco. Examples include Recreation and\n",
        "Parks, Public Works, and the Police Department.\n",
        "<br>**Department Code** - Departments are the primary organizational unit used by the City and County of San Francisco. Examples include Recreation and Parks, Public Works, and the Police Department.\n",
        "<br>**Union Code** - Unions represent employees in collective bargaining agreements. A job belongs to one union, although some jobs are unrepresented (usually temporarily).\n",
        "<br>**Union** - Unions represent employees in collective bargaining agreements. A job belongs to one union, although some jobs are unrepresented (usually temporarily).\n",
        "<br>**Job Family Code** Job Family combines similar Jobs into meaningful groups.\n",
        "<br>**Job Family** Job Family combines similar Jobs into meaningful groups.\n",
        "<br>**Employee Identifier** Each distinct number in the “Employee Identifier” column represents one employee. These identifying numbers are not meaningful but rather are randomly assigned for the purpose of building this dataset. The column does not appear on the\n",
        "Employee Compensation report hosted on openbook.sfgov.org,\n",
        "but that report does show one row for each employee. Employee\n",
        "ID has been included here to allow users to reconstruct the\n",
        "original report. Note that each employee’s identifier will change\n",
        "each time this dataset is updated, so comparisons by employee\n",
        "across multiple versions of the dataset are not possible.\n",
        "<br>**Salaries** - Normal salaries paid to permanent or temporary City employees.\n",
        "<br>**Overtime** - Amounts paid to City employees working in excess of 40 hours\n",
        "per week.\n",
        "<br>**Other Salaries** - Various irregular payments made to City employees including premium pay, incentive pay, or other one-time payments. Total Salary Number The sum of all salaries paid to City employees.\n",
        "<br>**Retirement** City contributions to employee retirement plans.\n",
        "<br>**Health/Dental** City-paid premiums to health and dental insurance plans covering City employees. To protect confidentiality as legally required, pro-rated citywide averages are presented in lieu of employee-specific health and dental benefits.\n",
        "<br>**Other Benefits** Mandatory benefits paid on behalf of employees, such as Social Security (FICA and Medicare) contributions, unemployment\n",
        "insurance premiums, and minor discretionary benefits not included in the above categories.\n",
        "<br>**Total Benefits** The sum of all benefits paid to City employees.\n",
        "<br>**Total Compensation** The sum of all salaries and benefits paid to City employees."
      ]
    },
    {
      "cell_type": "markdown",
      "metadata": {
        "id": "v_3QapC-QP0d"
      },
      "source": [
        "Read the data and answer the following questions to predict employee compensation"
      ]
    },
    {
      "cell_type": "markdown",
      "metadata": {
        "application/vnd.databricks.v1+cell": {
          "inputWidgets": {},
          "nuid": "ffb92bbb-6e3b-46ec-885e-bb4471538c0c",
          "showTitle": false,
          "title": ""
        },
        "id": "_nMVTM8BQP0d"
      },
      "source": [
        "## 1. Read the Data"
      ]
    },
    {
      "cell_type": "code",
      "source": [
        "# Mounting Google Drive\n",
        "from google.colab import drive\n",
        "drive.mount('/content/drive')"
      ],
      "metadata": {
        "id": "PW5bNl6qRY4r",
        "colab": {
          "base_uri": "https://localhost:8080/"
        },
        "outputId": "7298a137-bdfc-4d7d-92a9-1aec1396f309"
      },
      "execution_count": 1,
      "outputs": [
        {
          "output_type": "stream",
          "name": "stdout",
          "text": [
            "Mounted at /content/drive\n"
          ]
        }
      ]
    },
    {
      "cell_type": "code",
      "source": [
        "# Installing findspark\n",
        "!pip install findspark"
      ],
      "metadata": {
        "id": "oKyTtwSqRY7b",
        "colab": {
          "base_uri": "https://localhost:8080/"
        },
        "outputId": "1c7d54a2-5e08-43d0-d889-618da5e8c771"
      },
      "execution_count": 2,
      "outputs": [
        {
          "output_type": "stream",
          "name": "stdout",
          "text": [
            "Looking in indexes: https://pypi.org/simple, https://us-python.pkg.dev/colab-wheels/public/simple/\n",
            "Collecting findspark\n",
            "  Downloading findspark-2.0.1-py2.py3-none-any.whl (4.4 kB)\n",
            "Installing collected packages: findspark\n",
            "Successfully installed findspark-2.0.1\n"
          ]
        }
      ]
    },
    {
      "cell_type": "code",
      "source": [
        "# Installing pyspark\n",
        "!pip install pyspark"
      ],
      "metadata": {
        "colab": {
          "base_uri": "https://localhost:8080/"
        },
        "id": "5bTclaLqasMh",
        "outputId": "bfc85ac3-cec5-4ba2-98ca-a22f512fbf21"
      },
      "execution_count": 3,
      "outputs": [
        {
          "output_type": "stream",
          "name": "stdout",
          "text": [
            "Looking in indexes: https://pypi.org/simple, https://us-python.pkg.dev/colab-wheels/public/simple/\n",
            "Collecting pyspark\n",
            "  Downloading pyspark-3.3.0.tar.gz (281.3 MB)\n",
            "\u001b[K     |████████████████████████████████| 281.3 MB 42 kB/s \n",
            "\u001b[?25hCollecting py4j==0.10.9.5\n",
            "  Downloading py4j-0.10.9.5-py2.py3-none-any.whl (199 kB)\n",
            "\u001b[K     |████████████████████████████████| 199 kB 52.3 MB/s \n",
            "\u001b[?25hBuilding wheels for collected packages: pyspark\n",
            "  Building wheel for pyspark (setup.py) ... \u001b[?25l\u001b[?25hdone\n",
            "  Created wheel for pyspark: filename=pyspark-3.3.0-py2.py3-none-any.whl size=281764026 sha256=8c8f3f554f01338f3134890d058e11c2bc38194057e19deb5cc56a7905e74844\n",
            "  Stored in directory: /root/.cache/pip/wheels/7a/8e/1b/f73a52650d2e5f337708d9f6a1750d451a7349a867f928b885\n",
            "Successfully built pyspark\n",
            "Installing collected packages: py4j, pyspark\n",
            "Successfully installed py4j-0.10.9.5 pyspark-3.3.0\n"
          ]
        }
      ]
    },
    {
      "cell_type": "code",
      "source": [
        "!apt-get update"
      ],
      "metadata": {
        "colab": {
          "base_uri": "https://localhost:8080/"
        },
        "id": "7o-1Lho1hyT4",
        "outputId": "bc483ac6-4b3e-43dd-b75e-6c4b162ebdef"
      },
      "execution_count": 4,
      "outputs": [
        {
          "output_type": "stream",
          "name": "stdout",
          "text": [
            "\r0% [Working]\r            \rGet:1 https://cloud.r-project.org/bin/linux/ubuntu bionic-cran40/ InRelease [3,626 B]\n",
            "\r0% [Connecting to archive.ubuntu.com] [Waiting for headers] [1 InRelease 0 B/3,\r                                                                               \rGet:2 http://security.ubuntu.com/ubuntu bionic-security InRelease [88.7 kB]\n",
            "\r0% [Connecting to archive.ubuntu.com] [2 InRelease 14.2 kB/88.7 kB 16%] [1 InRe\r0% [Connecting to archive.ubuntu.com] [2 InRelease 14.2 kB/88.7 kB 16%] [Waitin\r0% [1 InRelease gpgv 3,626 B] [Connecting to archive.ubuntu.com] [2 InRelease 1\r                                                                               \rIgn:3 https://developer.download.nvidia.com/compute/machine-learning/repos/ubuntu1804/x86_64  InRelease\n",
            "Get:4 https://developer.download.nvidia.com/compute/cuda/repos/ubuntu1804/x86_64  InRelease [1,581 B]\n",
            "Hit:5 https://developer.download.nvidia.com/compute/machine-learning/repos/ubuntu1804/x86_64  Release\n",
            "Get:6 http://ppa.launchpad.net/c2d4u.team/c2d4u4.0+/ubuntu bionic InRelease [15.9 kB]\n",
            "Hit:7 http://archive.ubuntu.com/ubuntu bionic InRelease\n",
            "Get:8 http://archive.ubuntu.com/ubuntu bionic-updates InRelease [88.7 kB]\n",
            "Get:9 https://developer.download.nvidia.com/compute/cuda/repos/ubuntu1804/x86_64  Packages [902 kB]\n",
            "Hit:10 http://ppa.launchpad.net/cran/libgit2/ubuntu bionic InRelease\n",
            "Hit:11 http://ppa.launchpad.net/deadsnakes/ppa/ubuntu bionic InRelease\n",
            "Get:12 http://archive.ubuntu.com/ubuntu bionic-backports InRelease [74.6 kB]\n",
            "Hit:14 http://ppa.launchpad.net/graphics-drivers/ppa/ubuntu bionic InRelease\n",
            "Get:15 http://security.ubuntu.com/ubuntu bionic-security/main amd64 Packages [2,905 kB]\n",
            "Get:16 http://security.ubuntu.com/ubuntu bionic-security/universe amd64 Packages [1,528 kB]\n",
            "Get:17 http://ppa.launchpad.net/c2d4u.team/c2d4u4.0+/ubuntu bionic/main Sources [2,077 kB]\n",
            "Get:18 http://archive.ubuntu.com/ubuntu bionic-updates/universe amd64 Packages [2,306 kB]\n",
            "Get:19 http://ppa.launchpad.net/c2d4u.team/c2d4u4.0+/ubuntu bionic/main amd64 Packages [1,064 kB]\n",
            "Get:20 http://archive.ubuntu.com/ubuntu bionic-updates/main amd64 Packages [3,336 kB]\n",
            "Fetched 14.4 MB in 4s (3,848 kB/s)\n",
            "Reading package lists... Done\n"
          ]
        }
      ]
    },
    {
      "cell_type": "code",
      "source": [
        "# Installing java\n",
        "!apt-get install openjdk-8-jdk-headless -qq > /dev/null "
      ],
      "metadata": {
        "id": "vn2SMDGeasnV"
      },
      "execution_count": 5,
      "outputs": []
    },
    {
      "cell_type": "code",
      "source": [
        "import findspark\n",
        "findspark.init()"
      ],
      "metadata": {
        "id": "QRwlT3uRa0a2"
      },
      "execution_count": 6,
      "outputs": []
    },
    {
      "cell_type": "code",
      "source": [
        "import pyspark.sql.functions as pyf"
      ],
      "metadata": {
        "id": "Ok1ZG1KUa-Hc"
      },
      "execution_count": 7,
      "outputs": []
    },
    {
      "cell_type": "code",
      "source": [
        "# Creating a spark session\n",
        "from pyspark.sql import DataFrame, SparkSession\n",
        "spark = SparkSession.builder.appName(\"Assignment 5 - 8\").getOrCreate()\n",
        "spark"
      ],
      "metadata": {
        "colab": {
          "base_uri": "https://localhost:8080/",
          "height": 216
        },
        "id": "qUQa1Tt5bBx1",
        "outputId": "09c6bc25-b3ff-4f5b-ceca-51c2996d6fdf"
      },
      "execution_count": 8,
      "outputs": [
        {
          "output_type": "execute_result",
          "data": {
            "text/plain": [
              "<pyspark.sql.session.SparkSession at 0x7f643d533850>"
            ],
            "text/html": [
              "\n",
              "            <div>\n",
              "                <p><b>SparkSession - in-memory</b></p>\n",
              "                \n",
              "        <div>\n",
              "            <p><b>SparkContext</b></p>\n",
              "\n",
              "            <p><a href=\"http://647fda47d5fb:4040\">Spark UI</a></p>\n",
              "\n",
              "            <dl>\n",
              "              <dt>Version</dt>\n",
              "                <dd><code>v3.3.0</code></dd>\n",
              "              <dt>Master</dt>\n",
              "                <dd><code>local[*]</code></dd>\n",
              "              <dt>AppName</dt>\n",
              "                <dd><code>Assignment 5 - 8</code></dd>\n",
              "            </dl>\n",
              "        </div>\n",
              "        \n",
              "            </div>\n",
              "        "
            ]
          },
          "metadata": {},
          "execution_count": 8
        }
      ]
    },
    {
      "cell_type": "markdown",
      "source": [
        "1.Read the Data\n"
      ],
      "metadata": {
        "id": "KYCp6mEcgBvv"
      }
    },
    {
      "cell_type": "code",
      "source": [
        "# Specifying the file path\n",
        "file_location = \"/content/drive/MyDrive/ColabNotebooks/Employee_Compensation.csv\""
      ],
      "metadata": {
        "id": "yCb8DXyGbHbU"
      },
      "execution_count": 9,
      "outputs": []
    },
    {
      "cell_type": "code",
      "source": [
        "# Reading the dataset to a dataframe\n",
        "df = spark.read.option('header',True).csv(file_location)"
      ],
      "metadata": {
        "id": "XTv6kjmCboib"
      },
      "execution_count": 10,
      "outputs": []
    },
    {
      "cell_type": "markdown",
      "source": [
        "### 1.1 Display the number of rows and columns in the dataset"
      ],
      "metadata": {
        "id": "aWQ3YZi0RdP_"
      }
    },
    {
      "cell_type": "code",
      "source": [
        "print((df.distinct().count(), len(df.columns)))"
      ],
      "metadata": {
        "id": "hdbFw58TRjQd",
        "colab": {
          "base_uri": "https://localhost:8080/"
        },
        "outputId": "e9ac1339-361f-4976-b2d1-4a2a554941e3"
      },
      "execution_count": 11,
      "outputs": [
        {
          "output_type": "stream",
          "name": "stdout",
          "text": [
            "(291825, 22)\n"
          ]
        }
      ]
    },
    {
      "cell_type": "markdown",
      "source": [
        "### 1.2 Check the datatype of the variables"
      ],
      "metadata": {
        "id": "cZYaCB4cRjjg"
      }
    },
    {
      "cell_type": "code",
      "source": [
        "df.printSchema()"
      ],
      "metadata": {
        "id": "jdPpc_mgRpva",
        "colab": {
          "base_uri": "https://localhost:8080/"
        },
        "outputId": "cd372e78-7ba0-42e4-c318-678f4150a0dc"
      },
      "execution_count": 12,
      "outputs": [
        {
          "output_type": "stream",
          "name": "stdout",
          "text": [
            "root\n",
            " |-- Year Type: string (nullable = true)\n",
            " |-- Year: string (nullable = true)\n",
            " |-- Organization Group Code: string (nullable = true)\n",
            " |-- Organization Group: string (nullable = true)\n",
            " |-- Department Code: string (nullable = true)\n",
            " |-- Department: string (nullable = true)\n",
            " |-- Union Code: string (nullable = true)\n",
            " |-- Union: string (nullable = true)\n",
            " |-- Job Family Code: string (nullable = true)\n",
            " |-- Job Family: string (nullable = true)\n",
            " |-- Job Code: string (nullable = true)\n",
            " |-- Job: string (nullable = true)\n",
            " |-- Employee Identifier: string (nullable = true)\n",
            " |-- Salaries: string (nullable = true)\n",
            " |-- Overtime: string (nullable = true)\n",
            " |-- Other Salaries: string (nullable = true)\n",
            " |-- Total Salary: string (nullable = true)\n",
            " |-- Retirement: string (nullable = true)\n",
            " |-- Health/Dental: string (nullable = true)\n",
            " |-- Other Benefits: string (nullable = true)\n",
            " |-- Total Benefits: string (nullable = true)\n",
            " |-- Total Compensation: string (nullable = true)\n",
            "\n"
          ]
        }
      ]
    },
    {
      "cell_type": "markdown",
      "metadata": {
        "id": "re0TB8PAQP0f"
      },
      "source": [
        "### 2. Convert the incorrect column type into its suitable column type. And drop the redundant features"
      ]
    },
    {
      "cell_type": "code",
      "execution_count": 13,
      "metadata": {
        "collapsed": true,
        "id": "173LNkp7QP0f",
        "colab": {
          "base_uri": "https://localhost:8080/"
        },
        "outputId": "6c9c7a6b-db27-4054-8062-2f947bed70a9"
      },
      "outputs": [
        {
          "output_type": "stream",
          "name": "stdout",
          "text": [
            "+---------+----+-----------------------+--------------------+---------------+--------------------+----------+--------------------+---------------+--------------------+--------+--------------------+-------------------+---------+--------+--------------+------------+----------+-------------+--------------+--------------+------------------+\n",
            "|Year Type|Year|Organization Group Code|  Organization Group|Department Code|          Department|Union Code|               Union|Job Family Code|          Job Family|Job Code|                 Job|Employee Identifier| Salaries|Overtime|Other Salaries|Total Salary|Retirement|Health/Dental|Other Benefits|Total Benefits|Total Compensation|\n",
            "+---------+----+-----------------------+--------------------+---------------+--------------------+----------+--------------------+---------------+--------------------+--------+--------------------+-------------------+---------+--------+--------------+------------+----------+-------------+--------------+--------------+------------------+\n",
            "|   Fiscal|2016|                     01|   Public Protection|            DAT|   District Attorney|       311|Municipal Attorne...|           8100|       Legal & Court|    8177|Attorney (Civil/C...|              49919|114473.16|       0|          1500|   115973.16|  21025.98|      13068.8|       9368.71|      43463.49|         159436.65|\n",
            "| Calendar|2013|                     05|Culture & Recreation|            ART|     Arts Commission|       790|SEIU - Miscellane...|           1800|Budget, Admn & St...|    1844|Senior Management...|               1225| 84077.11|       0|             0|    84077.11|   16587.3|     12457.73|       6931.91|      35976.94|         120054.05|\n",
            "| Calendar|2015|                     04|    Community Health|            DPH|       Public Health|       535|SEIU - Human Serv...|           2900|      Human Services|    2903|  Eligibility Worker|              34873|  9980.17|       0|        798.43|     10778.6|         0|      2254.93|        835.11|       3090.04|          13868.64|\n",
            "|   Fiscal|2015|                     04|    Community Health|            DPH|       Public Health|       250|SEIU - Health Wor...|           2200|    Medical & Dental|    2202|         Dental Aide|              51145|  2873.41|       0|             0|     2873.41|         0|       622.63|        222.46|        845.09|            3718.5|\n",
            "|   Fiscal|2014|                     05|Culture & Recreation|            REC|Recreation and Pa...|       790|SEIU - Miscellane...|           3200|          Recreation|    3279|   Recreation Leader|              48705|  6701.85|       0|         176.7|     6878.55|         0|      2711.66|        538.43|       3250.09|          10128.64|\n",
            "|   Fiscal|2013|                     02|Public Works, Tra...|            DPW|General Services ...|       021|Prof & Tech Engin...|           5300|Sub-Professional ...|    5380|Stdntdsgntrain1, ...|              19801| 45321.18|       0|             0|    45321.18|   9386.03|      11780.6|       3486.34|      24652.97|          69974.15|\n",
            "|   Fiscal|2015|                     05|Culture & Recreation|            LIB|      Public Library|       790|SEIU - Miscellane...|           3600|             Library|    3610|   Library Assistant|              14135|  28305.5|       0|       1193.14|    29498.64|   6616.52|      5793.48|       2430.74|      14840.74|          44339.38|\n",
            "|   Fiscal|2014|                     06|General Administr...|            ASR|   Assessor/Recorder|       021|Prof & Tech Engin...|           4200|Appraisal & Taxation|    4261|Real Property App...|              37352| 39938.09|       0|           800|    40738.09|   8685.34|      7269.02|       3277.52|      19231.88|          59969.97|\n",
            "| Calendar|2015|                     01|   Public Protection|            POL|              Police|       911|Police Officers' ...|           Q000|     Police Services|    Q060|Lieutenant (Polic...|              13380|    23112| 2312.73|      20944.16|    46368.89|   4183.12|      1911.46|         68.84|       6163.42|          52532.31|\n",
            "|   Fiscal|2014|                     01|   Public Protection|            SHF|             Sheriff|       498|Deputy Sheriffs' ...|           8300|Correction & Dete...|    8304|      Deputy Sheriff|              46569| 89101.22| 6856.77|       5563.78|   101521.77|  17596.33|     12512.55|       1627.91|      31736.79|         133258.56|\n",
            "|   Fiscal|2015|                     02|Public Works, Tra...|            AIR|  Airport Commission|       790|SEIU - Miscellane...|           9900| Public Service Aide|    9920|Publ Svc Aide-Ass...|              38170|  7091.33|       0|             0|     7091.33|         0|      2361.82|        549.01|       2910.83|          10002.16|\n",
            "|   Fiscal|2013|                     02|Public Works, Tra...|            DPW|General Services ...|       021|Prof & Tech Engin...|           6200|Public Safety Ins...|    6230|    Street Inspector|              28940| 57467.12|  355.65|             0|    57822.77|  11901.38|     11933.98|       4691.34|       28526.7|          86349.47|\n",
            "| Calendar|2015|                     05|Culture & Recreation|            REC|Recreation and Pa...|       261| Laborers, Local 261|           3400|Agriculture & Hor...|    3422|Park Section Supe...|              10817|    80357| 5612.97|           7.9|    85977.87|  16562.14|      12424.5|       7091.69|      36078.33|          122056.2|\n",
            "|   Fiscal|2013|                     02|Public Works, Tra...|            MTA|Municipal Transpo...|       253|Transport Workers...|           9100|      Street Transit|    9163|    Transit Operator|              21370| 64170.89|13128.97|       2677.81|    79977.67|  17109.68|     13379.17|       6204.01|      36692.86|         116670.53|\n",
            "|   Fiscal|2016|                     03|Human Welfare & N...|            DSS|      Human Services|       022|Prof & Tech Engin...|           1200|           Personnel|    1241|   Personnel Analyst|              37341| 83038.01|       0|           200|    83238.01|  15490.62|      13068.8|       6525.06|      35084.48|         118322.49|\n",
            "| Calendar|2014|                     06|General Administr...|            ADM|General Services ...|       016|Theatrical and St...|           1700|Computer Operatns...|    1777|Media/Security Sy...|              34486| 92530.82|       0|      13412.58|    105943.4|  20224.21|     13054.94|       8450.17|      41729.32|         147672.72|\n",
            "| Calendar|2015|                     02|Public Works, Tra...|            MTA|Municipal Transpo...|       253|Transport Workers...|           9100|      Street Transit|    9163|    Transit Operator|               4273| 44381.77|11166.58|       2694.49|    58242.84|   13602.2|       8826.1|        4423.7|         26852|          85094.84|\n",
            "|   Fiscal|2014|                     02|Public Works, Tra...|            MTA|Municipal Transpo...|       790|SEIU - Miscellane...|           9100|      Street Transit|    9131|Station Agent, Mu...|              13061|  78639.3|20332.03|       7821.87|    106793.2|  17683.84|     12512.54|       8707.07|      38903.45|         145696.65|\n",
            "|   Fiscal|2014|                     01|   Public Protection|            DAT|   District Attorney|       311|Municipal Attorne...|           8100|       Legal & Court|    8177|Attorney (Civil/C...|              10747|176267.41|       0|          1250|   177517.41|  36959.07|     12512.55|      10479.18|       59950.8|         237468.21|\n",
            "|   Fiscal|2015|                     02|Public Works, Tra...|            WTR|PUC Water Department|       038|Plumbers and Pipe...|           7300|    Journeyman Trade|    7316|Water Service Ins...|              37594|100655.41| 8240.09|      16911.85|   125807.35|  24354.06|     12500.56|       9962.73|      46817.35|          172624.7|\n",
            "+---------+----+-----------------------+--------------------+---------------+--------------------+----------+--------------------+---------------+--------------------+--------+--------------------+-------------------+---------+--------+--------------+------------+----------+-------------+--------------+--------------+------------------+\n",
            "only showing top 20 rows\n",
            "\n"
          ]
        }
      ],
      "source": [
        "df.show()"
      ]
    },
    {
      "cell_type": "code",
      "source": [
        "# Changing datatypes can be tedious when done for multiple columns, instaed, we can read the csv file into another dataframe using inferSchema functionality.\n",
        "df1 = spark.read.option('header',True).option('inferSchema',True).csv(file_location)"
      ],
      "metadata": {
        "id": "wiWc85jPj-aV"
      },
      "execution_count": 14,
      "outputs": []
    },
    {
      "cell_type": "code",
      "source": [
        "# Drropping \"Year\" and \"Year Type\" columns as they don't add much value to our dataset for prediction\n",
        "df2 = df1.drop(\"Year\", \"Year Type\")"
      ],
      "metadata": {
        "id": "ipUfT9vRe5I3"
      },
      "execution_count": 15,
      "outputs": []
    },
    {
      "cell_type": "code",
      "source": [
        "df2.show()"
      ],
      "metadata": {
        "colab": {
          "base_uri": "https://localhost:8080/"
        },
        "id": "mKg4W6uIe5Ca",
        "outputId": "360ceb80-23b2-4a50-a7e4-929fa34fcc05"
      },
      "execution_count": 16,
      "outputs": [
        {
          "output_type": "stream",
          "name": "stdout",
          "text": [
            "+-----------------------+--------------------+---------------+--------------------+----------+--------------------+---------------+--------------------+--------+--------------------+-------------------+---------+--------+--------------+------------+----------+-------------+--------------+--------------+------------------+\n",
            "|Organization Group Code|  Organization Group|Department Code|          Department|Union Code|               Union|Job Family Code|          Job Family|Job Code|                 Job|Employee Identifier| Salaries|Overtime|Other Salaries|Total Salary|Retirement|Health/Dental|Other Benefits|Total Benefits|Total Compensation|\n",
            "+-----------------------+--------------------+---------------+--------------------+----------+--------------------+---------------+--------------------+--------+--------------------+-------------------+---------+--------+--------------+------------+----------+-------------+--------------+--------------+------------------+\n",
            "|                      1|   Public Protection|            DAT|   District Attorney|       311|Municipal Attorne...|           8100|       Legal & Court|    8177|Attorney (Civil/C...|              49919|114473.16|     0.0|        1500.0|   115973.16|  21025.98|      13068.8|       9368.71|      43463.49|         159436.65|\n",
            "|                      5|Culture & Recreation|            ART|     Arts Commission|       790|SEIU - Miscellane...|           1800|Budget, Admn & St...|    1844|Senior Management...|               1225| 84077.11|     0.0|           0.0|    84077.11|   16587.3|     12457.73|       6931.91|      35976.94|         120054.05|\n",
            "|                      4|    Community Health|            DPH|       Public Health|       535|SEIU - Human Serv...|           2900|      Human Services|    2903|  Eligibility Worker|              34873|  9980.17|     0.0|        798.43|     10778.6|       0.0|      2254.93|        835.11|       3090.04|          13868.64|\n",
            "|                      4|    Community Health|            DPH|       Public Health|       250|SEIU - Health Wor...|           2200|    Medical & Dental|    2202|         Dental Aide|              51145|  2873.41|     0.0|           0.0|     2873.41|       0.0|       622.63|        222.46|        845.09|            3718.5|\n",
            "|                      5|Culture & Recreation|            REC|Recreation and Pa...|       790|SEIU - Miscellane...|           3200|          Recreation|    3279|   Recreation Leader|              48705|  6701.85|     0.0|         176.7|     6878.55|       0.0|      2711.66|        538.43|       3250.09|          10128.64|\n",
            "|                      2|Public Works, Tra...|            DPW|General Services ...|        21|Prof & Tech Engin...|           5300|Sub-Professional ...|    5380|Stdntdsgntrain1, ...|              19801| 45321.18|     0.0|           0.0|    45321.18|   9386.03|      11780.6|       3486.34|      24652.97|          69974.15|\n",
            "|                      5|Culture & Recreation|            LIB|      Public Library|       790|SEIU - Miscellane...|           3600|             Library|    3610|   Library Assistant|              14135|  28305.5|     0.0|       1193.14|    29498.64|   6616.52|      5793.48|       2430.74|      14840.74|          44339.38|\n",
            "|                      6|General Administr...|            ASR|   Assessor/Recorder|        21|Prof & Tech Engin...|           4200|Appraisal & Taxation|    4261|Real Property App...|              37352| 39938.09|     0.0|         800.0|    40738.09|   8685.34|      7269.02|       3277.52|      19231.88|          59969.97|\n",
            "|                      1|   Public Protection|            POL|              Police|       911|Police Officers' ...|           Q000|     Police Services|    Q060|Lieutenant (Polic...|              13380|  23112.0| 2312.73|      20944.16|    46368.89|   4183.12|      1911.46|         68.84|       6163.42|          52532.31|\n",
            "|                      1|   Public Protection|            SHF|             Sheriff|       498|Deputy Sheriffs' ...|           8300|Correction & Dete...|    8304|      Deputy Sheriff|              46569| 89101.22| 6856.77|       5563.78|   101521.77|  17596.33|     12512.55|       1627.91|      31736.79|         133258.56|\n",
            "|                      2|Public Works, Tra...|            AIR|  Airport Commission|       790|SEIU - Miscellane...|           9900| Public Service Aide|    9920|Publ Svc Aide-Ass...|              38170|  7091.33|     0.0|           0.0|     7091.33|       0.0|      2361.82|        549.01|       2910.83|          10002.16|\n",
            "|                      2|Public Works, Tra...|            DPW|General Services ...|        21|Prof & Tech Engin...|           6200|Public Safety Ins...|    6230|    Street Inspector|              28940| 57467.12|  355.65|           0.0|    57822.77|  11901.38|     11933.98|       4691.34|       28526.7|          86349.47|\n",
            "|                      5|Culture & Recreation|            REC|Recreation and Pa...|       261| Laborers, Local 261|           3400|Agriculture & Hor...|    3422|Park Section Supe...|              10817|  80357.0| 5612.97|           7.9|    85977.87|  16562.14|      12424.5|       7091.69|      36078.33|          122056.2|\n",
            "|                      2|Public Works, Tra...|            MTA|Municipal Transpo...|       253|Transport Workers...|           9100|      Street Transit|    9163|    Transit Operator|              21370| 64170.89|13128.97|       2677.81|    79977.67|  17109.68|     13379.17|       6204.01|      36692.86|         116670.53|\n",
            "|                      3|Human Welfare & N...|            DSS|      Human Services|        22|Prof & Tech Engin...|           1200|           Personnel|    1241|   Personnel Analyst|              37341| 83038.01|     0.0|         200.0|    83238.01|  15490.62|      13068.8|       6525.06|      35084.48|         118322.49|\n",
            "|                      6|General Administr...|            ADM|General Services ...|        16|Theatrical and St...|           1700|Computer Operatns...|    1777|Media/Security Sy...|              34486| 92530.82|     0.0|      13412.58|    105943.4|  20224.21|     13054.94|       8450.17|      41729.32|         147672.72|\n",
            "|                      2|Public Works, Tra...|            MTA|Municipal Transpo...|       253|Transport Workers...|           9100|      Street Transit|    9163|    Transit Operator|               4273| 44381.77|11166.58|       2694.49|    58242.84|   13602.2|       8826.1|        4423.7|       26852.0|          85094.84|\n",
            "|                      2|Public Works, Tra...|            MTA|Municipal Transpo...|       790|SEIU - Miscellane...|           9100|      Street Transit|    9131|Station Agent, Mu...|              13061|  78639.3|20332.03|       7821.87|    106793.2|  17683.84|     12512.54|       8707.07|      38903.45|         145696.65|\n",
            "|                      1|   Public Protection|            DAT|   District Attorney|       311|Municipal Attorne...|           8100|       Legal & Court|    8177|Attorney (Civil/C...|              10747|176267.41|     0.0|        1250.0|   177517.41|  36959.07|     12512.55|      10479.18|       59950.8|         237468.21|\n",
            "|                      2|Public Works, Tra...|            WTR|PUC Water Department|        38|Plumbers and Pipe...|           7300|    Journeyman Trade|    7316|Water Service Ins...|              37594|100655.41| 8240.09|      16911.85|   125807.35|  24354.06|     12500.56|       9962.73|      46817.35|          172624.7|\n",
            "+-----------------------+--------------------+---------------+--------------------+----------+--------------------+---------------+--------------------+--------+--------------------+-------------------+---------+--------+--------------+------------+----------+-------------+--------------+--------------+------------------+\n",
            "only showing top 20 rows\n",
            "\n"
          ]
        }
      ]
    },
    {
      "cell_type": "code",
      "source": [
        "df2.printSchema()"
      ],
      "metadata": {
        "colab": {
          "base_uri": "https://localhost:8080/"
        },
        "id": "NHhI9lhuke8P",
        "outputId": "234fb59e-0792-4352-9d78-50c8f48a1fd4"
      },
      "execution_count": 17,
      "outputs": [
        {
          "output_type": "stream",
          "name": "stdout",
          "text": [
            "root\n",
            " |-- Organization Group Code: integer (nullable = true)\n",
            " |-- Organization Group: string (nullable = true)\n",
            " |-- Department Code: string (nullable = true)\n",
            " |-- Department: string (nullable = true)\n",
            " |-- Union Code: integer (nullable = true)\n",
            " |-- Union: string (nullable = true)\n",
            " |-- Job Family Code: string (nullable = true)\n",
            " |-- Job Family: string (nullable = true)\n",
            " |-- Job Code: string (nullable = true)\n",
            " |-- Job: string (nullable = true)\n",
            " |-- Employee Identifier: integer (nullable = true)\n",
            " |-- Salaries: double (nullable = true)\n",
            " |-- Overtime: double (nullable = true)\n",
            " |-- Other Salaries: double (nullable = true)\n",
            " |-- Total Salary: double (nullable = true)\n",
            " |-- Retirement: double (nullable = true)\n",
            " |-- Health/Dental: double (nullable = true)\n",
            " |-- Other Benefits: double (nullable = true)\n",
            " |-- Total Benefits: double (nullable = true)\n",
            " |-- Total Compensation: double (nullable = true)\n",
            "\n"
          ]
        }
      ]
    },
    {
      "cell_type": "markdown",
      "metadata": {
        "application/vnd.databricks.v1+cell": {
          "inputWidgets": {},
          "nuid": "28154731-5e40-46a7-b9b3-9444c20c97e8",
          "showTitle": false,
          "title": ""
        },
        "id": "LYYQFu0dQP0g"
      },
      "source": [
        "### 3. Check basic statistics and perform necessary data preprocessing (Like removing negative amount)"
      ]
    },
    {
      "cell_type": "code",
      "execution_count": 18,
      "metadata": {
        "id": "DbrJKqGqQP0g",
        "colab": {
          "base_uri": "https://localhost:8080/"
        },
        "outputId": "0594f281-58d0-4d1c-b7c8-3e057d52871a"
      },
      "outputs": [
        {
          "output_type": "stream",
          "name": "stdout",
          "text": [
            "+-------+-----------------------+--------------------+---------------+-------------------+-----------------+--------------------+------------------+--------------------+------------------+------------------+-------------------+-----------------+------------------+-----------------+------------------+------------------+-----------------+------------------+------------------+------------------+\n",
            "|summary|Organization Group Code|  Organization Group|Department Code|         Department|       Union Code|               Union|   Job Family Code|          Job Family|          Job Code|               Job|Employee Identifier|         Salaries|          Overtime|   Other Salaries|      Total Salary|        Retirement|    Health/Dental|    Other Benefits|    Total Benefits|Total Compensation|\n",
            "+-------+-----------------------+--------------------+---------------+-------------------+-----------------+--------------------+------------------+--------------------+------------------+------------------+-------------------+-----------------+------------------+-----------------+------------------+------------------+-----------------+------------------+------------------+------------------+\n",
            "|  count|                 291825|              291825|         291825|             291825|           291782|              291782|            291780|              291780|            291825|            291825|             291825|           291825|            291825|           291825|            291825|            291825|           291825|            291825|            291825|            291825|\n",
            "|   mean|     2.9770513150004283|                null|           null|               null|489.5060764543392|                null|4778.5595401977025|                null| 4911.798751534337|              null|  26917.83031611411|63210.17288680958| 4406.877439766992|3781.032869870591| 71398.08319644183|12937.728957114685|8921.893731721031|4644.2764069562145|26503.899095793855| 97901.98229222857|\n",
            "| stddev|     1.5777709265315083|                null|           null|               null|333.7611361507317|                null|  3090.28317174425|                null|3128.4123150253026|              null| 15548.201986568694|44660.46230493864|11079.405928192673|7697.665317297405|52224.214098750745|  9785.06480840167|4900.318082757292|3787.9070104212783|16800.143146558938| 67777.54915227571|\n",
            "|    min|                      1|    Community Health|            AAM|Academy of Sciences|                1|Automotive Machin...|              0900|Administrative & ...|              0109|     Account Clerk|                  1|        -68771.78|         -12308.66|         -19131.1|         -68771.78|         -30621.43|         -2940.47|          -10636.5|         -21295.15|         -74082.61|\n",
            "|    25%|                      2|                null|           null|               null|              216|                null|            2300.0|                null|            2312.0|              null|              13444|         23290.93|               0.0|              0.0|          25282.48|           3546.45|           4314.7|           1587.15|            9604.5|          35802.22|\n",
            "|    50%|                      2|                null|           null|               null|              535|                null|            3200.0|                null|            3417.0|              null|              27001|         62519.37|               0.0|           696.68|          67853.62|          13167.05|         11966.38|           4348.59|          30315.39|          98009.95|\n",
            "|    75%|                      4|                null|           null|               null|              790|                null|            8100.0|                null|            8201.0|              null|              40395|         92886.07|           2765.08|          4619.86|         103122.09|          19567.91|         12801.79|           6828.56|          38720.99|         142056.94|\n",
            "|    max|                      7|Public Works, Tra...|            WTR|       War Memorial|              990|Transportation Wo...|              SFRA|Supervisory-Labor...|              Q082|Youth Comm Advisor|              53794|         515101.8|         227313.62|        342802.63|          515101.8|         105052.98|          21872.8|          35157.63|         141043.64|         653498.15|\n",
            "+-------+-----------------------+--------------------+---------------+-------------------+-----------------+--------------------+------------------+--------------------+------------------+------------------+-------------------+-----------------+------------------+-----------------+------------------+------------------+-----------------+------------------+------------------+------------------+\n",
            "\n"
          ]
        }
      ],
      "source": [
        "df2.summary().show()"
      ]
    },
    {
      "cell_type": "code",
      "source": [
        "# Checking for the columns having -ve values, one at a time\n",
        "df2.filter(pyf.col(\"Salaries\") < 0).count()"
      ],
      "metadata": {
        "colab": {
          "base_uri": "https://localhost:8080/"
        },
        "id": "J34a9K-GsDJH",
        "outputId": "91e62683-b1ff-4bda-8985-f0a49204d87b"
      },
      "execution_count": 19,
      "outputs": [
        {
          "output_type": "execute_result",
          "data": {
            "text/plain": [
              "79"
            ]
          },
          "metadata": {},
          "execution_count": 19
        }
      ]
    },
    {
      "cell_type": "code",
      "source": [
        "# Handling negative values by just removing the '-' sign so that we don't lost the data\n",
        "from pyspark.sql.functions import *\n",
        "df3 = df2.withColumn('Salaries', regexp_replace('Salaries', '-', '').cast(\"double\"))\\\n",
        "      .withColumn('Overtime', regexp_replace('Overtime', '-', '').cast(\"double\"))\\\n",
        "      .withColumn('Other Salaries', regexp_replace('Other Salaries', '-', '').cast(\"double\"))\\\n",
        "      .withColumn('Total Salary', regexp_replace('Total Salary', '-', '').cast(\"double\"))\\\n",
        "      .withColumn('Retirement', regexp_replace('Retirement', '-', '').cast(\"double\"))\\\n",
        "      .withColumn('Health/Dental', regexp_replace('Health/Dental', '-', '').cast(\"double\"))\\\n",
        "      .withColumn('Other Benefits', regexp_replace('Other Benefits', '-', '').cast(\"double\"))\\\n",
        "      .withColumn('Total Benefits', regexp_replace('Total Benefits', '-', '').cast(\"double\"))\\\n",
        "      .withColumn('Total Compensation', regexp_replace('Total Compensation', '-', '').cast(\"double\"))"
      ],
      "metadata": {
        "id": "24hXuinfxmg6"
      },
      "execution_count": 20,
      "outputs": []
    },
    {
      "cell_type": "code",
      "source": [
        "df3.printSchema()"
      ],
      "metadata": {
        "colab": {
          "base_uri": "https://localhost:8080/"
        },
        "id": "IUKjetX2sQK0",
        "outputId": "b77b47a4-2653-4ca2-a284-01834316ebb3"
      },
      "execution_count": 21,
      "outputs": [
        {
          "output_type": "stream",
          "name": "stdout",
          "text": [
            "root\n",
            " |-- Organization Group Code: integer (nullable = true)\n",
            " |-- Organization Group: string (nullable = true)\n",
            " |-- Department Code: string (nullable = true)\n",
            " |-- Department: string (nullable = true)\n",
            " |-- Union Code: integer (nullable = true)\n",
            " |-- Union: string (nullable = true)\n",
            " |-- Job Family Code: string (nullable = true)\n",
            " |-- Job Family: string (nullable = true)\n",
            " |-- Job Code: string (nullable = true)\n",
            " |-- Job: string (nullable = true)\n",
            " |-- Employee Identifier: integer (nullable = true)\n",
            " |-- Salaries: double (nullable = true)\n",
            " |-- Overtime: double (nullable = true)\n",
            " |-- Other Salaries: double (nullable = true)\n",
            " |-- Total Salary: double (nullable = true)\n",
            " |-- Retirement: double (nullable = true)\n",
            " |-- Health/Dental: double (nullable = true)\n",
            " |-- Other Benefits: double (nullable = true)\n",
            " |-- Total Benefits: double (nullable = true)\n",
            " |-- Total Compensation: double (nullable = true)\n",
            "\n"
          ]
        }
      ]
    },
    {
      "cell_type": "code",
      "source": [
        "# Reviewing if the negative values are handled one column at a time\n",
        "df3.filter(col(\"Salaries\") < 0).count()"
      ],
      "metadata": {
        "colab": {
          "base_uri": "https://localhost:8080/"
        },
        "id": "I8mutvYLxyzq",
        "outputId": "d33dce5d-0bfa-4937-db21-1fb879140f85"
      },
      "execution_count": 22,
      "outputs": [
        {
          "output_type": "execute_result",
          "data": {
            "text/plain": [
              "0"
            ]
          },
          "metadata": {},
          "execution_count": 22
        }
      ]
    },
    {
      "cell_type": "markdown",
      "metadata": {
        "application/vnd.databricks.v1+cell": {
          "inputWidgets": {},
          "nuid": "5b4a36b1-7f14-4a99-851e-492fd8ebb193",
          "showTitle": false,
          "title": ""
        },
        "id": "woI-NVRxQP0g"
      },
      "source": [
        "### 4. Perform Missing Value Analysis"
      ]
    },
    {
      "cell_type": "code",
      "source": [
        "# Checking for null values\n",
        "from pyspark.sql.functions import isnull, when, count, col\n",
        "df3.select([count(when(isnull(c), c)).alias(c) for c in df3.columns]).show()"
      ],
      "metadata": {
        "colab": {
          "base_uri": "https://localhost:8080/"
        },
        "id": "OHnqw2cc6Qdh",
        "outputId": "3b251c87-5dcb-4016-f7b0-3a6024fbbcb9"
      },
      "execution_count": 23,
      "outputs": [
        {
          "output_type": "stream",
          "name": "stdout",
          "text": [
            "+-----------------------+------------------+---------------+----------+----------+-----+---------------+----------+--------+---+-------------------+--------+--------+--------------+------------+----------+-------------+--------------+--------------+------------------+\n",
            "|Organization Group Code|Organization Group|Department Code|Department|Union Code|Union|Job Family Code|Job Family|Job Code|Job|Employee Identifier|Salaries|Overtime|Other Salaries|Total Salary|Retirement|Health/Dental|Other Benefits|Total Benefits|Total Compensation|\n",
            "+-----------------------+------------------+---------------+----------+----------+-----+---------------+----------+--------+---+-------------------+--------+--------+--------------+------------+----------+-------------+--------------+--------------+------------------+\n",
            "|                      0|                 0|              0|         0|        43|   43|             45|        45|       0|  0|                  0|       0|       0|             0|           0|         0|            0|             0|             0|                 0|\n",
            "+-----------------------+------------------+---------------+----------+----------+-----+---------------+----------+--------+---+-------------------+--------+--------+--------------+------------+----------+-------------+--------------+--------------+------------------+\n",
            "\n"
          ]
        }
      ]
    },
    {
      "cell_type": "code",
      "source": [
        "# Checking the maximum occurrence of each column values\n",
        "df3.groupBy('Union').count().sort(desc(\"count\")).show(truncate=False)"
      ],
      "metadata": {
        "colab": {
          "base_uri": "https://localhost:8080/"
        },
        "id": "vtvEKNta_35o",
        "outputId": "e0a2cff2-a166-4384-d48b-afa981a0adac"
      },
      "execution_count": 24,
      "outputs": [
        {
          "output_type": "stream",
          "name": "stdout",
          "text": [
            "+--------------------------------------------------+-----+\n",
            "|Union                                             |count|\n",
            "+--------------------------------------------------+-----+\n",
            "|SEIU - Miscellaneous, Local 1021                  |82307|\n",
            "|Prof & Tech Engineers - Miscellaneous, Local 21   |36729|\n",
            "|SEIU - Staff and Per Diem Nurses, Local 1021      |21944|\n",
            "|Police Officers' Association                      |19221|\n",
            "|Transport Workers - Transit Operators, Local 250-A|17987|\n",
            "|SEIU - Health Workers, Local 1021                 |16558|\n",
            "|SEIU - Human Services, Local 1021                 |12833|\n",
            "|Firefighters - Miscellaneous, Local 798           |10670|\n",
            "|Municipal Executive Association - Miscellaneous   |8499 |\n",
            "|Laborers, Local 261                               |7175 |\n",
            "|Miscellaneous Unrepresented Employees             |7016 |\n",
            "|Electrical Workers, Local 6                       |6088 |\n",
            "|Deputy Sheriffs' Association                      |5356 |\n",
            "|Stationary Engineers, Local 39                    |4755 |\n",
            "|Prof & Tech Engineers - Personnel, Local 21       |3359 |\n",
            "|Municipal Attorneys' Association                  |3311 |\n",
            "|Automotive Machinists, Local 1414                 |3077 |\n",
            "|Plumbers and Pipefitters, Local 38                |2363 |\n",
            "|Transportation Workers, Local 200                 |2322 |\n",
            "|SEIU - Court Employees, Local 1021                |2279 |\n",
            "+--------------------------------------------------+-----+\n",
            "only showing top 20 rows\n",
            "\n"
          ]
        }
      ]
    },
    {
      "cell_type": "code",
      "source": [
        "# Checking the dependency of other columns on one particular department\n",
        "df3.filter(\"Union == 'SEIU - Staff and Per Diem Nurses, Local 1021' \").show(truncate=False)"
      ],
      "metadata": {
        "colab": {
          "base_uri": "https://localhost:8080/"
        },
        "id": "yGWJLV5qDfUX",
        "outputId": "0594437b-f3a4-4115-a9e0-d7efe379e9c8"
      },
      "execution_count": 25,
      "outputs": [
        {
          "output_type": "stream",
          "name": "stdout",
          "text": [
            "+-----------------------+------------------+---------------+-------------+----------+--------------------------------------------+---------------+----------+--------+-------------------------+-------------------+---------+--------+--------------+------------+----------+-------------+--------------+--------------+------------------+\n",
            "|Organization Group Code|Organization Group|Department Code|Department   |Union Code|Union                                       |Job Family Code|Job Family|Job Code|Job                      |Employee Identifier|Salaries |Overtime|Other Salaries|Total Salary|Retirement|Health/Dental|Other Benefits|Total Benefits|Total Compensation|\n",
            "+-----------------------+------------------+---------------+-------------+----------+--------------------------------------------+---------------+----------+--------+-------------------------+-------------------+---------+--------+--------------+------------+----------+-------------+--------------+--------------+------------------+\n",
            "|4                      |Community Health  |DPH            |Public Health|791       |SEIU - Staff and Per Diem Nurses, Local 1021|2300           |Nursing   |P103    |Special Nurse            |49930              |57272.29 |0.0     |9765.52       |67037.81    |0.0       |4171.29      |3334.9        |7506.19       |74544.0           |\n",
            "|4                      |Community Health  |DPH            |Public Health|791       |SEIU - Staff and Per Diem Nurses, Local 1021|2300           |Nursing   |P103    |Special Nurse            |22337              |852.23   |0.0     |0.0           |852.23      |2322.44   |0.0          |759.54        |3081.98       |3934.21           |\n",
            "|4                      |Community Health  |DPH            |Public Health|791       |SEIU - Staff and Per Diem Nurses, Local 1021|2300           |Nursing   |2320    |Registered Nurse         |16287              |64134.67 |0.0     |250.0         |64384.67    |12550.62  |5636.72      |5406.6        |23593.94      |87978.61          |\n",
            "|4                      |Community Health  |DPH            |Public Health|791       |SEIU - Staff and Per Diem Nurses, Local 1021|2300           |Nursing   |2328    |Nurse Practitioner       |20576              |158276.28|0.0     |5588.07       |163864.35   |27123.24  |10502.29     |7268.0        |44893.53      |208757.88         |\n",
            "|4                      |Community Health  |DPH            |Public Health|791       |SEIU - Staff and Per Diem Nurses, Local 1021|2300           |Nursing   |2320    |Registered Nurse         |20855              |6620.05  |0.0     |0.0           |6620.05     |1294.75   |741.61       |581.97        |2618.33       |9238.38           |\n",
            "|4                      |Community Health  |DPH            |Public Health|791       |SEIU - Staff and Per Diem Nurses, Local 1021|2300           |Nursing   |2320    |Registered Nurse         |20884              |103762.7 |0.0     |12356.61      |116119.31   |19135.14  |11313.03     |7737.68       |38185.85      |154305.16         |\n",
            "|4                      |Community Health  |DPH            |Public Health|791       |SEIU - Staff and Per Diem Nurses, Local 1021|2300           |Nursing   |2320    |Registered Nurse         |22488              |122171.73|2215.13 |20157.74      |144544.6    |23294.6   |11447.68     |8695.79       |43438.07      |187982.67         |\n",
            "|4                      |Community Health  |DPH            |Public Health|791       |SEIU - Staff and Per Diem Nurses, Local 1021|2300           |Nursing   |2320    |Registered Nurse         |19785              |81657.47 |0.0     |21436.99      |103094.46   |16770.75  |7418.55      |6388.64       |30577.94      |133672.4          |\n",
            "|4                      |Community Health  |DPH            |Public Health|791       |SEIU - Staff and Per Diem Nurses, Local 1021|2300           |Nursing   |P103    |Special Nurse            |39647              |11991.29 |0.0     |175.71        |12167.0     |9871.23   |1016.59      |4010.22       |14898.04      |27065.04          |\n",
            "|4                      |Community Health  |DPH            |Public Health|791       |SEIU - Staff and Per Diem Nurses, Local 1021|2300           |Nursing   |2320    |Registered Nurse         |29                 |146611.24|1249.44 |34934.4       |182795.08   |34539.81  |12218.43     |7242.72       |54000.96      |236796.04         |\n",
            "|4                      |Community Health  |DPH            |Public Health|791       |SEIU - Staff and Per Diem Nurses, Local 1021|2300           |Nursing   |P103    |Special Nurse            |48356              |13764.98 |0.0     |3519.63       |17284.61    |947.92    |0.0          |2915.18       |3863.1        |21147.71          |\n",
            "|4                      |Community Health  |DPH            |Public Health|791       |SEIU - Staff and Per Diem Nurses, Local 1021|2300           |Nursing   |P103    |Special Nurse            |7338               |41663.95 |4246.49 |3511.43       |49421.87    |0.0       |3610.87      |3835.92       |7446.79       |56868.66          |\n",
            "|4                      |Community Health  |DPH            |Public Health|791       |SEIU - Staff and Per Diem Nurses, Local 1021|2300           |Nursing   |P103    |Special Nurse            |37405              |39308.7  |0.0     |1610.82       |40919.52    |5344.36   |0.0          |0.05          |5344.41       |46263.93          |\n",
            "|4                      |Community Health  |DPH            |Public Health|791       |SEIU - Staff and Per Diem Nurses, Local 1021|2300           |Nursing   |P103    |Special Nurse            |16674              |46645.33 |0.0     |458.0         |47103.33    |0.0       |4446.51      |3411.77       |7858.28       |54961.61          |\n",
            "|4                      |Community Health  |DPH            |Public Health|791       |SEIU - Staff and Per Diem Nurses, Local 1021|2300           |Nursing   |2320    |Registered Nurse         |53635              |152113.6 |0.0     |24227.36      |176340.96   |31563.08  |13007.82     |14139.18      |58710.08      |235051.04         |\n",
            "|4                      |Community Health  |DPH            |Public Health|791       |SEIU - Staff and Per Diem Nurses, Local 1021|2300           |Nursing   |2323    |Clinical Nurse Specialist|5886               |178435.99|2544.95 |4902.56       |185883.5    |39478.82  |12894.32     |10575.95      |62949.09      |248832.59         |\n",
            "|4                      |Community Health  |DPH            |Public Health|791       |SEIU - Staff and Per Diem Nurses, Local 1021|2300           |Nursing   |P103    |Special Nurse            |23028              |8860.96  |0.0     |146.48        |9007.44     |12567.03  |742.73       |188.44        |13498.2       |22505.64          |\n",
            "|4                      |Community Health  |DPH            |Public Health|791       |SEIU - Staff and Per Diem Nurses, Local 1021|2300           |Nursing   |P103    |Special Nurse            |45022              |36397.6  |173.08  |9963.4        |46534.08    |0.0       |2643.7       |2473.49       |5117.19       |51651.27          |\n",
            "|4                      |Community Health  |DPH            |Public Health|791       |SEIU - Staff and Per Diem Nurses, Local 1021|2300           |Nursing   |P103    |Special Nurse            |49930              |45542.15 |0.0     |7708.48       |53250.63    |491.84    |0.0          |2247.25       |2739.09       |55989.72          |\n",
            "|4                      |Community Health  |DPH            |Public Health|791       |SEIU - Staff and Per Diem Nurses, Local 1021|2300           |Nursing   |2320    |Registered Nurse         |46529              |118319.31|833.91  |7154.82       |126308.04   |21878.39  |11687.11     |10061.14      |43626.64      |169934.68         |\n",
            "+-----------------------+------------------+---------------+-------------+----------+--------------------------------------------+---------------+----------+--------+-------------------------+-------------------+---------+--------+--------------+------------+----------+-------------+--------------+--------------+------------------+\n",
            "only showing top 20 rows\n",
            "\n"
          ]
        }
      ]
    },
    {
      "cell_type": "code",
      "source": [
        "# On reviewing, it was found that all these departments are interdependent on each other, so the max occurrence is taken for null values imputation\n",
        "df3.groupBy('Department','Union Code', 'Union', 'Job Family', 'Job Family Code').count().sort(desc(\"count\")).show(truncate=False)"
      ],
      "metadata": {
        "colab": {
          "base_uri": "https://localhost:8080/"
        },
        "id": "juFbIVYq7Bme",
        "outputId": "2c12d188-6be3-47b9-9cff-d915c46efd9b"
      },
      "execution_count": 26,
      "outputs": [
        {
          "output_type": "stream",
          "name": "stdout",
          "text": [
            "+-------------------------------+----------+--------------------------------------------------+-----------------------------+---------------+-----+\n",
            "|Department                     |Union Code|Union                                             |Job Family                   |Job Family Code|count|\n",
            "+-------------------------------+----------+--------------------------------------------------+-----------------------------+---------------+-----+\n",
            "|Public Health                  |791       |SEIU - Staff and Per Diem Nurses, Local 1021      |Nursing                      |2300           |21476|\n",
            "|Police                         |911       |Police Officers' Association                      |Police Services              |Q000           |18861|\n",
            "|Municipal Transportation Agency|253       |Transport Workers - Transit Operators, Local 250-A|Street Transit               |9100           |17829|\n",
            "|Fire Department                |798       |Firefighters - Miscellaneous, Local 798           |Fire Services                |H000           |10655|\n",
            "|Human Services                 |535       |SEIU - Human Services, Local 1021                 |Human Services               |2900           |9884 |\n",
            "|Recreation and Park Commission |790       |SEIU - Miscellaneous, Local 1021                  |Recreation                   |3200           |8224 |\n",
            "|Public Health                  |250       |SEIU - Health Workers, Local 1021                 |Nursing                      |2300           |7647 |\n",
            "|Human Services                 |1         |Miscellaneous Unrepresented Employees             |Public Service Aide          |9900           |5905 |\n",
            "|Public Library                 |790       |SEIU - Miscellaneous, Local 1021                  |Library                      |3600           |5346 |\n",
            "|Sheriff                        |498       |Deputy Sheriffs' Association                      |Correction & Detention       |8300           |5339 |\n",
            "|Municipal Transportation Agency|790       |SEIU - Miscellaneous, Local 1021                  |Protection & Apprehension    |8200           |3755 |\n",
            "|Airport Commission             |790       |SEIU - Miscellaneous, Local 1021                  |Housekeeping & Laundry       |2700           |3200 |\n",
            "|Municipal Transportation Agency|6         |Electrical Workers, Local 6                       |Journeyman Trade             |7300           |3151 |\n",
            "|Public Health                  |790       |SEIU - Miscellaneous, Local 1021                  |Med Therapy & Auxiliary      |2500           |3116 |\n",
            "|Public Health                  |250       |SEIU - Health Workers, Local 1021                 |Housekeeping & Laundry       |2700           |2647 |\n",
            "|Public Health                  |250       |SEIU - Health Workers, Local 1021                 |Lab, Pharmacy & Med Techs    |2400           |2440 |\n",
            "|Recreation and Park Commission |790       |SEIU - Miscellaneous, Local 1021                  |Public Service Aide          |9900           |2376 |\n",
            "|Public Health                  |790       |SEIU - Miscellaneous, Local 1021                  |Human Services               |2900           |2360 |\n",
            "|Recreation and Park Commission |261       |Laborers, Local 261                               |Agriculture & Horticulture   |3400           |2267 |\n",
            "|Human Services                 |790       |SEIU - Miscellaneous, Local 1021                  |Clerical, Secretarial & Steno|1400           |2245 |\n",
            "+-------------------------------+----------+--------------------------------------------------+-----------------------------+---------------+-----+\n",
            "only showing top 20 rows\n",
            "\n"
          ]
        }
      ]
    },
    {
      "cell_type": "code",
      "source": [
        "# Null value imputation using the data found above\n",
        "df4 = df3.na.fill(791,[\"Union Code\"]).na.fill(\"SEIU - Staff and Per Diem Nurses, Local 1021\",[\"Union\"])\\\n",
        "      .na.fill(\"2300\",[\"Job Family Code\"]).na.fill(\"Nursing\",[\"Job Family\"])"
      ],
      "metadata": {
        "id": "CEGM56Wg_4sp"
      },
      "execution_count": 27,
      "outputs": []
    },
    {
      "cell_type": "code",
      "source": [
        "df4.show()"
      ],
      "metadata": {
        "colab": {
          "base_uri": "https://localhost:8080/"
        },
        "id": "ea9rzUlP_4pq",
        "outputId": "fe34aa05-63ac-4480-bd6c-1d6bdc95d96b"
      },
      "execution_count": 28,
      "outputs": [
        {
          "output_type": "stream",
          "name": "stdout",
          "text": [
            "+-----------------------+--------------------+---------------+--------------------+----------+--------------------+---------------+--------------------+--------+--------------------+-------------------+---------+--------+--------------+------------+----------+-------------+--------------+--------------+------------------+\n",
            "|Organization Group Code|  Organization Group|Department Code|          Department|Union Code|               Union|Job Family Code|          Job Family|Job Code|                 Job|Employee Identifier| Salaries|Overtime|Other Salaries|Total Salary|Retirement|Health/Dental|Other Benefits|Total Benefits|Total Compensation|\n",
            "+-----------------------+--------------------+---------------+--------------------+----------+--------------------+---------------+--------------------+--------+--------------------+-------------------+---------+--------+--------------+------------+----------+-------------+--------------+--------------+------------------+\n",
            "|                      1|   Public Protection|            DAT|   District Attorney|       311|Municipal Attorne...|           8100|       Legal & Court|    8177|Attorney (Civil/C...|              49919|114473.16|     0.0|        1500.0|   115973.16|  21025.98|      13068.8|       9368.71|      43463.49|         159436.65|\n",
            "|                      5|Culture & Recreation|            ART|     Arts Commission|       790|SEIU - Miscellane...|           1800|Budget, Admn & St...|    1844|Senior Management...|               1225| 84077.11|     0.0|           0.0|    84077.11|   16587.3|     12457.73|       6931.91|      35976.94|         120054.05|\n",
            "|                      4|    Community Health|            DPH|       Public Health|       535|SEIU - Human Serv...|           2900|      Human Services|    2903|  Eligibility Worker|              34873|  9980.17|     0.0|        798.43|     10778.6|       0.0|      2254.93|        835.11|       3090.04|          13868.64|\n",
            "|                      4|    Community Health|            DPH|       Public Health|       250|SEIU - Health Wor...|           2200|    Medical & Dental|    2202|         Dental Aide|              51145|  2873.41|     0.0|           0.0|     2873.41|       0.0|       622.63|        222.46|        845.09|            3718.5|\n",
            "|                      5|Culture & Recreation|            REC|Recreation and Pa...|       790|SEIU - Miscellane...|           3200|          Recreation|    3279|   Recreation Leader|              48705|  6701.85|     0.0|         176.7|     6878.55|       0.0|      2711.66|        538.43|       3250.09|          10128.64|\n",
            "|                      2|Public Works, Tra...|            DPW|General Services ...|        21|Prof & Tech Engin...|           5300|Sub-Professional ...|    5380|Stdntdsgntrain1, ...|              19801| 45321.18|     0.0|           0.0|    45321.18|   9386.03|      11780.6|       3486.34|      24652.97|          69974.15|\n",
            "|                      5|Culture & Recreation|            LIB|      Public Library|       790|SEIU - Miscellane...|           3600|             Library|    3610|   Library Assistant|              14135|  28305.5|     0.0|       1193.14|    29498.64|   6616.52|      5793.48|       2430.74|      14840.74|          44339.38|\n",
            "|                      6|General Administr...|            ASR|   Assessor/Recorder|        21|Prof & Tech Engin...|           4200|Appraisal & Taxation|    4261|Real Property App...|              37352| 39938.09|     0.0|         800.0|    40738.09|   8685.34|      7269.02|       3277.52|      19231.88|          59969.97|\n",
            "|                      1|   Public Protection|            POL|              Police|       911|Police Officers' ...|           Q000|     Police Services|    Q060|Lieutenant (Polic...|              13380|  23112.0| 2312.73|      20944.16|    46368.89|   4183.12|      1911.46|         68.84|       6163.42|          52532.31|\n",
            "|                      1|   Public Protection|            SHF|             Sheriff|       498|Deputy Sheriffs' ...|           8300|Correction & Dete...|    8304|      Deputy Sheriff|              46569| 89101.22| 6856.77|       5563.78|   101521.77|  17596.33|     12512.55|       1627.91|      31736.79|         133258.56|\n",
            "|                      2|Public Works, Tra...|            AIR|  Airport Commission|       790|SEIU - Miscellane...|           9900| Public Service Aide|    9920|Publ Svc Aide-Ass...|              38170|  7091.33|     0.0|           0.0|     7091.33|       0.0|      2361.82|        549.01|       2910.83|          10002.16|\n",
            "|                      2|Public Works, Tra...|            DPW|General Services ...|        21|Prof & Tech Engin...|           6200|Public Safety Ins...|    6230|    Street Inspector|              28940| 57467.12|  355.65|           0.0|    57822.77|  11901.38|     11933.98|       4691.34|       28526.7|          86349.47|\n",
            "|                      5|Culture & Recreation|            REC|Recreation and Pa...|       261| Laborers, Local 261|           3400|Agriculture & Hor...|    3422|Park Section Supe...|              10817|  80357.0| 5612.97|           7.9|    85977.87|  16562.14|      12424.5|       7091.69|      36078.33|          122056.2|\n",
            "|                      2|Public Works, Tra...|            MTA|Municipal Transpo...|       253|Transport Workers...|           9100|      Street Transit|    9163|    Transit Operator|              21370| 64170.89|13128.97|       2677.81|    79977.67|  17109.68|     13379.17|       6204.01|      36692.86|         116670.53|\n",
            "|                      3|Human Welfare & N...|            DSS|      Human Services|        22|Prof & Tech Engin...|           1200|           Personnel|    1241|   Personnel Analyst|              37341| 83038.01|     0.0|         200.0|    83238.01|  15490.62|      13068.8|       6525.06|      35084.48|         118322.49|\n",
            "|                      6|General Administr...|            ADM|General Services ...|        16|Theatrical and St...|           1700|Computer Operatns...|    1777|Media/Security Sy...|              34486| 92530.82|     0.0|      13412.58|    105943.4|  20224.21|     13054.94|       8450.17|      41729.32|         147672.72|\n",
            "|                      2|Public Works, Tra...|            MTA|Municipal Transpo...|       253|Transport Workers...|           9100|      Street Transit|    9163|    Transit Operator|               4273| 44381.77|11166.58|       2694.49|    58242.84|   13602.2|       8826.1|        4423.7|       26852.0|          85094.84|\n",
            "|                      2|Public Works, Tra...|            MTA|Municipal Transpo...|       790|SEIU - Miscellane...|           9100|      Street Transit|    9131|Station Agent, Mu...|              13061|  78639.3|20332.03|       7821.87|    106793.2|  17683.84|     12512.54|       8707.07|      38903.45|         145696.65|\n",
            "|                      1|   Public Protection|            DAT|   District Attorney|       311|Municipal Attorne...|           8100|       Legal & Court|    8177|Attorney (Civil/C...|              10747|176267.41|     0.0|        1250.0|   177517.41|  36959.07|     12512.55|      10479.18|       59950.8|         237468.21|\n",
            "|                      2|Public Works, Tra...|            WTR|PUC Water Department|        38|Plumbers and Pipe...|           7300|    Journeyman Trade|    7316|Water Service Ins...|              37594|100655.41| 8240.09|      16911.85|   125807.35|  24354.06|     12500.56|       9962.73|      46817.35|          172624.7|\n",
            "+-----------------------+--------------------+---------------+--------------------+----------+--------------------+---------------+--------------------+--------+--------------------+-------------------+---------+--------+--------------+------------+----------+-------------+--------------+--------------+------------------+\n",
            "only showing top 20 rows\n",
            "\n"
          ]
        }
      ]
    },
    {
      "cell_type": "code",
      "source": [
        "# Checking for null values\n",
        "from pyspark.sql.functions import isnull, when, count, col\n",
        "df4.select([count(when(isnull(c), c)).alias(c) for c in df4.columns]).show()"
      ],
      "metadata": {
        "colab": {
          "base_uri": "https://localhost:8080/"
        },
        "id": "xsyl6AwCIf7T",
        "outputId": "1da13051-b828-4752-f5a4-e1cbad93e80b"
      },
      "execution_count": 29,
      "outputs": [
        {
          "output_type": "stream",
          "name": "stdout",
          "text": [
            "+-----------------------+------------------+---------------+----------+----------+-----+---------------+----------+--------+---+-------------------+--------+--------+--------------+------------+----------+-------------+--------------+--------------+------------------+\n",
            "|Organization Group Code|Organization Group|Department Code|Department|Union Code|Union|Job Family Code|Job Family|Job Code|Job|Employee Identifier|Salaries|Overtime|Other Salaries|Total Salary|Retirement|Health/Dental|Other Benefits|Total Benefits|Total Compensation|\n",
            "+-----------------------+------------------+---------------+----------+----------+-----+---------------+----------+--------+---+-------------------+--------+--------+--------------+------------+----------+-------------+--------------+--------------+------------------+\n",
            "|                      0|                 0|              0|         0|         0|    0|              0|         0|       0|  0|                  0|       0|       0|             0|           0|         0|            0|             0|             0|                 0|\n",
            "+-----------------------+------------------+---------------+----------+----------+-----+---------------+----------+--------+---+-------------------+--------+--------+--------------+------------+----------+-------------+--------------+--------------+------------------+\n",
            "\n"
          ]
        }
      ]
    },
    {
      "cell_type": "markdown",
      "metadata": {
        "application/vnd.databricks.v1+cell": {
          "inputWidgets": {},
          "nuid": "9cd43cd2-ed88-4edf-ba6f-7e7e6f2f65d1",
          "showTitle": false,
          "title": ""
        },
        "id": "K_KbHnjZQP0g"
      },
      "source": [
        "### 5. Exploratory Data Analysis"
      ]
    },
    {
      "cell_type": "markdown",
      "metadata": {
        "application/vnd.databricks.v1+cell": {
          "inputWidgets": {},
          "nuid": "44aa560c-5c6a-4188-a740-5e49cd147b26",
          "showTitle": false,
          "title": ""
        },
        "id": "5hea56hUQP0h"
      },
      "source": [
        "#### 5.1. Find top compensating organizations. Display using bar plot"
      ]
    },
    {
      "cell_type": "code",
      "source": [
        "import matplotlib.pyplot as plt"
      ],
      "metadata": {
        "id": "OuvgWSwe8dQ5"
      },
      "execution_count": 30,
      "outputs": []
    },
    {
      "cell_type": "code",
      "execution_count": 31,
      "metadata": {
        "collapsed": true,
        "id": "kpaIAoMQQP0h"
      },
      "outputs": [],
      "source": [
        "pandasDF  = df4.select(\"Organization Group\",\"Total Compensation\").groupby(\"Organization Group\").agg({\"Total Compensation\":\"max\"}).sort(desc(\"max(Total Compensation)\")).toPandas()"
      ]
    },
    {
      "cell_type": "code",
      "source": [
        "pandasDF.plot.bar(x=\"Organization Group\", y=\"max(Total Compensation)\")"
      ],
      "metadata": {
        "colab": {
          "base_uri": "https://localhost:8080/",
          "height": 518
        },
        "id": "l6Xt6RrI8KyD",
        "outputId": "5cbe08e7-9d8f-4558-f3eb-ef3e10a33317"
      },
      "execution_count": 32,
      "outputs": [
        {
          "output_type": "execute_result",
          "data": {
            "text/plain": [
              "<matplotlib.axes._subplots.AxesSubplot at 0x7f6436a47c50>"
            ]
          },
          "metadata": {},
          "execution_count": 32
        },
        {
          "output_type": "display_data",
          "data": {
            "text/plain": [
              "<Figure size 432x288 with 1 Axes>"
            ],
            "image/png": "[encoded data removed]"
          },
          "metadata": {
            "needs_background": "light"
          }
        }
      ]
    },
    {
      "cell_type": "markdown",
      "metadata": {
        "application/vnd.databricks.v1+cell": {
          "inputWidgets": {},
          "nuid": "c991e941-045b-4556-ba17-f9c5454fdf06",
          "showTitle": false,
          "title": ""
        },
        "id": "hijeAEfXQP0h"
      },
      "source": [
        "#### 5.2. Find top Compensating Jobs. Display using bar plot"
      ]
    },
    {
      "cell_type": "code",
      "execution_count": 33,
      "metadata": {
        "collapsed": true,
        "id": "AmdpJh5vQP0h"
      },
      "outputs": [],
      "source": [
        "pandasDF_jobs = df4.select(\"Job Family\",\"Total Compensation\").groupby(\"Job Family\").agg({\"Total Compensation\":\"max\"}).sort(desc(\"max(Total Compensation)\")).toPandas()"
      ]
    },
    {
      "cell_type": "code",
      "source": [
        "fig, ax = plt.subplots(figsize=(13,10))\n",
        "pandasDF_jobs.plot.bar(x=\"Job Family\", y=\"max(Total Compensation)\", ax=ax)\n",
        "ax.set_title('Top Compensationg Jobs', fontsize=16)\n",
        "plt.show()"
      ],
      "metadata": {
        "colab": {
          "base_uri": "https://localhost:8080/",
          "height": 780
        },
        "id": "OE79mfqkMLdU",
        "outputId": "d708f66b-9fa0-4d8d-a319-514b8a15a776"
      },
      "execution_count": 34,
      "outputs": [
        {
          "output_type": "display_data",
          "data": {
            "text/plain": [
              "<Figure size 936x720 with 1 Axes>"
            ],
            "image/png": "[encoded data removed]"
          },
          "metadata": {
            "needs_background": "light"
          }
        }
      ]
    },
    {
      "cell_type": "markdown",
      "metadata": {
        "application/vnd.databricks.v1+cell": {
          "inputWidgets": {},
          "nuid": "1ffac626-b0f9-45f4-b780-c1c06edf6dd1",
          "showTitle": false,
          "title": ""
        },
        "id": "txsSQSvNQP0h"
      },
      "source": [
        "#### 5.3. Check Correlation of Target Variable with Other Independent Variables. Plot Heatmap"
      ]
    },
    {
      "cell_type": "markdown",
      "source": [
        "Correlation heatmap with df4 numerical columns\n"
      ],
      "metadata": {
        "id": "36bUmXFTA8qE"
      }
    },
    {
      "cell_type": "code",
      "source": [
        "hmap_columns = [item[0] for item in df4.dtypes if not item[1].startswith('string')] "
      ],
      "metadata": {
        "id": "FhWkeRZXGiET"
      },
      "execution_count": 35,
      "outputs": []
    },
    {
      "cell_type": "code",
      "source": [
        "# Import VectorAssembler from pyspark.ml.feature package and Correlation from pyspark.ml.stat\n",
        "from pyspark.ml.feature import VectorAssembler\n",
        "from pyspark.ml.stat import Correlation\n",
        "\n",
        "# Create the VectorAssembler object\n",
        "assembler = VectorAssembler(inputCols=hmap_columns, outputCol=\"numerical_features\")\n",
        "assembled_df = assembler.transform(df4)\n",
        "matrix = Correlation.corr(assembled_df, \"numerical_features\", 'pearson')\n",
        "cor_np = matrix.collect()[0][matrix.columns[0]].toArray()\n"
      ],
      "metadata": {
        "id": "BBwl_qOGw43n"
      },
      "execution_count": 36,
      "outputs": []
    },
    {
      "cell_type": "code",
      "source": [
        "import seaborn as sns \n",
        "import matplotlib.pyplot as plt\n",
        "fig, ax = plt.subplots(figsize=(13,10))\n",
        "\n",
        "sns.heatmap(cor_np, linewidths=.5, cmap='Blues',ax=ax, annot=True,\n",
        "            xticklabels=hmap_columns, yticklabels=hmap_columns)\n",
        "ax.set_title('Correlation Matrix for Dependent numeric varibales and the Independent variable', fontsize=16)\n",
        "plt.show()\n"
      ],
      "metadata": {
        "colab": {
          "base_uri": "https://localhost:8080/",
          "height": 725
        },
        "id": "BMF8Fyy3RglD",
        "outputId": "8d09572b-6a9a-4b48-bf54-649f1571f80a"
      },
      "execution_count": 37,
      "outputs": [
        {
          "output_type": "display_data",
          "data": {
            "text/plain": [
              "<Figure size 936x720 with 2 Axes>"
            ],
            "image/png": "[encoded data removed]"
          },
          "metadata": {
            "needs_background": "light"
          }
        }
      ]
    },
    {
      "cell_type": "markdown",
      "metadata": {
        "application/vnd.databricks.v1+cell": {
          "inputWidgets": {},
          "nuid": "9f43beda-e255-4431-a35a-bb05a1f1e670",
          "showTitle": false,
          "title": ""
        },
        "id": "NiZX_Be8QP0h"
      },
      "source": [
        "### 6. Perform necessary data pre-processing and divide the data into train and test set"
      ]
    },
    {
      "cell_type": "markdown",
      "source": [
        "### 6.1 Categorise the attributes into its type (Use one hot encoding wherever required)"
      ],
      "metadata": {
        "id": "6p5egOcB-VnG"
      }
    },
    {
      "cell_type": "code",
      "source": [
        "df4.printSchema()"
      ],
      "metadata": {
        "colab": {
          "base_uri": "https://localhost:8080/"
        },
        "id": "K50M7ZaXR-1P",
        "outputId": "24186f85-724c-41fd-cdca-5ee8871898a9"
      },
      "execution_count": 38,
      "outputs": [
        {
          "output_type": "stream",
          "name": "stdout",
          "text": [
            "root\n",
            " |-- Organization Group Code: integer (nullable = true)\n",
            " |-- Organization Group: string (nullable = true)\n",
            " |-- Department Code: string (nullable = true)\n",
            " |-- Department: string (nullable = true)\n",
            " |-- Union Code: integer (nullable = true)\n",
            " |-- Union: string (nullable = false)\n",
            " |-- Job Family Code: string (nullable = false)\n",
            " |-- Job Family: string (nullable = false)\n",
            " |-- Job Code: string (nullable = true)\n",
            " |-- Job: string (nullable = true)\n",
            " |-- Employee Identifier: integer (nullable = true)\n",
            " |-- Salaries: double (nullable = true)\n",
            " |-- Overtime: double (nullable = true)\n",
            " |-- Other Salaries: double (nullable = true)\n",
            " |-- Total Salary: double (nullable = true)\n",
            " |-- Retirement: double (nullable = true)\n",
            " |-- Health/Dental: double (nullable = true)\n",
            " |-- Other Benefits: double (nullable = true)\n",
            " |-- Total Benefits: double (nullable = true)\n",
            " |-- Total Compensation: double (nullable = true)\n",
            "\n"
          ]
        }
      ]
    },
    {
      "cell_type": "code",
      "source": [
        "# Extracting columns \n",
        "columnList = [item[0] for item in df4.dtypes if item[1].startswith('string')]"
      ],
      "metadata": {
        "id": "RDQVGe4RR-4D"
      },
      "execution_count": 39,
      "outputs": []
    },
    {
      "cell_type": "code",
      "source": [
        "output_column_list = list(map(lambda x: x+\"_index\", columnList))"
      ],
      "metadata": {
        "id": "-_tpxBpdR-6v"
      },
      "execution_count": 40,
      "outputs": []
    },
    {
      "cell_type": "code",
      "source": [
        "# String indexer\n",
        "from pyspark.ml.feature import StringIndexer, OneHotEncoder\n",
        "indexers = StringIndexer(inputCols=columnList, \n",
        "                         outputCols=output_column_list)\n",
        "strindexedDF = indexers.fit(df4).transform(df4)\n",
        "df5 = strindexedDF.select(\"*\")\n",
        "df5.show()\n",
        "\n"
      ],
      "metadata": {
        "id": "NI4ShO3JR-9u",
        "colab": {
          "base_uri": "https://localhost:8080/"
        },
        "outputId": "cbf19e0e-3ca7-4a02-f235-822f60741616"
      },
      "execution_count": 41,
      "outputs": [
        {
          "output_type": "stream",
          "name": "stdout",
          "text": [
            "+-----------------------+--------------------+---------------+--------------------+----------+--------------------+---------------+--------------------+--------+--------------------+-------------------+---------+--------+--------------+------------+----------+-------------+--------------+--------------+------------------+------------------------+---------------------+----------------+-----------+---------------------+----------------+--------------+---------+\n",
            "|Organization Group Code|  Organization Group|Department Code|          Department|Union Code|               Union|Job Family Code|          Job Family|Job Code|                 Job|Employee Identifier| Salaries|Overtime|Other Salaries|Total Salary|Retirement|Health/Dental|Other Benefits|Total Benefits|Total Compensation|Organization Group_index|Department Code_index|Department_index|Union_index|Job Family Code_index|Job Family_index|Job Code_index|Job_index|\n",
            "+-----------------------+--------------------+---------------+--------------------+----------+--------------------+---------------+--------------------+--------+--------------------+-------------------+---------+--------+--------------+------------+----------+-------------+--------------+--------------+------------------+------------------------+---------------------+----------------+-----------+---------------------+----------------+--------------+---------+\n",
            "|                      1|   Public Protection|            DAT|   District Attorney|       311|Municipal Attorne...|           8100|       Legal & Court|    8177|Attorney (Civil/C...|              49919|114473.16|     0.0|        1500.0|   115973.16|  21025.98|      13068.8|       9368.71|      43463.49|         159436.65|                     2.0|                 19.0|            19.0|       15.0|                 16.0|            16.0|          15.0|     15.0|\n",
            "|                      5|Culture & Recreation|            ART|     Arts Commission|       790|SEIU - Miscellane...|           1800|Budget, Admn & St...|    1844|Senior Management...|               1225| 84077.11|     0.0|           0.0|    84077.11|   16587.3|     12457.73|       6931.91|      35976.94|         120054.05|                     4.0|                 43.0|            43.0|        0.0|                 14.0|            14.0|         135.0|    135.0|\n",
            "|                      4|    Community Health|            DPH|       Public Health|       535|SEIU - Human Serv...|           2900|      Human Services|    2903|  Eligibility Worker|              34873|  9980.17|     0.0|        798.43|     10778.6|       0.0|      2254.93|        835.11|       3090.04|          13868.64|                     1.0|                  0.0|             0.0|        6.0|                  5.0|             5.0|          20.0|     20.0|\n",
            "|                      4|    Community Health|            DPH|       Public Health|       250|SEIU - Health Wor...|           2200|    Medical & Dental|    2202|         Dental Aide|              51145|  2873.41|     0.0|           0.0|     2873.41|       0.0|       622.63|        222.46|        845.09|            3718.5|                     1.0|                  0.0|             0.0|        5.0|                 29.0|            29.0|         332.0|    331.0|\n",
            "|                      5|Culture & Recreation|            REC|Recreation and Pa...|       790|SEIU - Miscellane...|           3200|          Recreation|    3279|   Recreation Leader|              48705|  6701.85|     0.0|         176.7|     6878.55|       0.0|      2711.66|        538.43|       3250.09|          10128.64|                     4.0|                  4.0|             4.0|        0.0|                 11.0|            11.0|           8.0|      8.0|\n",
            "|                      2|Public Works, Tra...|            DPW|General Services ...|        21|Prof & Tech Engin...|           5300|Sub-Professional ...|    5380|Stdntdsgntrain1, ...|              19801| 45321.18|     0.0|           0.0|    45321.18|   9386.03|      11780.6|       3486.34|      24652.97|          69974.15|                     0.0|                  7.0|             7.0|        1.0|                 23.0|            23.0|          38.0|     38.0|\n",
            "|                      5|Culture & Recreation|            LIB|      Public Library|       790|SEIU - Miscellane...|           3600|             Library|    3610|   Library Assistant|              14135|  28305.5|     0.0|       1193.14|    29498.64|   6616.52|      5793.48|       2430.74|      14840.74|          44339.38|                     4.0|                 11.0|            11.0|        0.0|                 19.0|            19.0|          83.0|     83.0|\n",
            "|                      6|General Administr...|            ASR|   Assessor/Recorder|        21|Prof & Tech Engin...|           4200|Appraisal & Taxation|    4261|Real Property App...|              37352| 39938.09|     0.0|         800.0|    40738.09|   8685.34|      7269.02|       3277.52|      19231.88|          59969.97|                     5.0|                 29.0|            29.0|        1.0|                 34.0|            34.0|         207.0|    207.0|\n",
            "|                      1|   Public Protection|            POL|              Police|       911|Police Officers' ...|           Q000|     Police Services|    Q060|Lieutenant (Polic...|              13380|  23112.0| 2312.73|      20944.16|    46368.89|   4183.12|      1911.46|         68.84|       6163.42|          52532.31|                     2.0|                  3.0|             3.0|        3.0|                  2.0|             2.0|         414.0|    411.0|\n",
            "|                      1|   Public Protection|            SHF|             Sheriff|       498|Deputy Sheriffs' ...|           8300|Correction & Dete...|    8304|      Deputy Sheriff|              46569| 89101.22| 6856.77|       5563.78|   101521.77|  17596.33|     12512.55|       1627.91|      31736.79|         133258.56|                     2.0|                  8.0|             8.0|       12.0|                 13.0|            13.0|          11.0|     11.0|\n",
            "|                      2|Public Works, Tra...|            AIR|  Airport Commission|       790|SEIU - Miscellane...|           9900| Public Service Aide|    9920|Publ Svc Aide-Ass...|              38170|  7091.33|     0.0|           0.0|     7091.33|       0.0|      2361.82|        549.01|       2910.83|          10002.16|                     0.0|                  5.0|             5.0|        0.0|                  4.0|             4.0|          34.0|     34.0|\n",
            "|                      2|Public Works, Tra...|            DPW|General Services ...|        21|Prof & Tech Engin...|           6200|Public Safety Ins...|    6230|    Street Inspector|              28940| 57467.12|  355.65|           0.0|    57822.77|  11901.38|     11933.98|       4691.34|       28526.7|          86349.47|                     0.0|                  7.0|             7.0|        1.0|                 41.0|            41.0|         290.0|    290.0|\n",
            "|                      5|Culture & Recreation|            REC|Recreation and Pa...|       261| Laborers, Local 261|           3400|Agriculture & Hor...|    3422|Park Section Supe...|              10817|  80357.0| 5612.97|           7.9|    85977.87|  16562.14|      12424.5|       7091.69|      36078.33|          122056.2|                     4.0|                  4.0|             4.0|        9.0|                 25.0|            25.0|         204.0|    205.0|\n",
            "|                      2|Public Works, Tra...|            MTA|Municipal Transpo...|       253|Transport Workers...|           9100|      Street Transit|    9163|    Transit Operator|              21370| 64170.89|13128.97|       2677.81|    79977.67|  17109.68|     13379.17|       6204.01|      36692.86|         116670.53|                     0.0|                  1.0|             1.0|        4.0|                  1.0|             1.0|           0.0|      0.0|\n",
            "|                      3|Human Welfare & N...|            DSS|      Human Services|        22|Prof & Tech Engin...|           1200|           Personnel|    1241|   Personnel Analyst|              37341| 83038.01|     0.0|         200.0|    83238.01|  15490.62|      13068.8|       6525.06|      35084.48|         118322.49|                     3.0|                  2.0|             2.0|       14.0|                 21.0|            21.0|          76.0|     76.0|\n",
            "|                      6|General Administr...|            ADM|General Services ...|        16|Theatrical and St...|           1700|Computer Operatns...|    1777|Media/Security Sy...|              34486| 92530.82|     0.0|      13412.58|    105943.4|  20224.21|     13054.94|       8450.17|      41729.32|         147672.72|                     5.0|                  9.0|             9.0|       38.0|                 39.0|            39.0|         649.0|    649.0|\n",
            "|                      2|Public Works, Tra...|            MTA|Municipal Transpo...|       253|Transport Workers...|           9100|      Street Transit|    9163|    Transit Operator|               4273| 44381.77|11166.58|       2694.49|    58242.84|   13602.2|       8826.1|        4423.7|       26852.0|          85094.84|                     0.0|                  1.0|             1.0|        4.0|                  1.0|             1.0|           0.0|      0.0|\n",
            "|                      2|Public Works, Tra...|            MTA|Municipal Transpo...|       790|SEIU - Miscellane...|           9100|      Street Transit|    9131|Station Agent, Mu...|              13061|  78639.3|20332.03|       7821.87|    106793.2|  17683.84|     12512.54|       8707.07|      38903.45|         145696.65|                     0.0|                  1.0|             1.0|        0.0|                  1.0|             1.0|         147.0|    147.0|\n",
            "|                      1|   Public Protection|            DAT|   District Attorney|       311|Municipal Attorne...|           8100|       Legal & Court|    8177|Attorney (Civil/C...|              10747|176267.41|     0.0|        1250.0|   177517.41|  36959.07|     12512.55|      10479.18|       59950.8|         237468.21|                     2.0|                 19.0|            19.0|       15.0|                 16.0|            16.0|          15.0|     15.0|\n",
            "|                      2|Public Works, Tra...|            WTR|PUC Water Department|        38|Plumbers and Pipe...|           7300|    Journeyman Trade|    7316|Water Service Ins...|              37594|100655.41| 8240.09|      16911.85|   125807.35|  24354.06|     12500.56|       9962.73|      46817.35|          172624.7|                     0.0|                 12.0|            12.0|       17.0|                  3.0|             3.0|         249.0|    249.0|\n",
            "+-----------------------+--------------------+---------------+--------------------+----------+--------------------+---------------+--------------------+--------+--------------------+-------------------+---------+--------+--------------+------------+----------+-------------+--------------+--------------+------------------+------------------------+---------------------+----------------+-----------+---------------------+----------------+--------------+---------+\n",
            "only showing top 20 rows\n",
            "\n"
          ]
        }
      ]
    },
    {
      "cell_type": "code",
      "source": [
        "# Dropping columns post String Indexing\n",
        "df6 = df5.drop(*columnList)"
      ],
      "metadata": {
        "id": "kTE6bhx6owsk"
      },
      "execution_count": 42,
      "outputs": []
    },
    {
      "cell_type": "code",
      "source": [
        "op_column_list = list(map(lambda x: x+\"_vec\", columnList))"
      ],
      "metadata": {
        "id": "aFelo4cdrq3c"
      },
      "execution_count": 43,
      "outputs": []
    },
    {
      "cell_type": "code",
      "source": [
        "# One Hot Encoder\n",
        "from pyspark.ml.feature import OneHotEncoder\n",
        "encoder = OneHotEncoder(inputCols= output_column_list , \n",
        "                         outputCols=op_column_list)\n",
        "df7 = encoder.fit(df6).transform(df6)\n",
        "df7.select(\"*\").show(5, False)"
      ],
      "metadata": {
        "colab": {
          "base_uri": "https://localhost:8080/"
        },
        "id": "_FctP4c4ofm8",
        "outputId": "f384c3b3-78ce-4f0e-87b5-8728489c6fe9"
      },
      "execution_count": 44,
      "outputs": [
        {
          "output_type": "stream",
          "name": "stdout",
          "text": [
            "+-----------------------+----------+-------------------+---------+--------+--------------+------------+----------+-------------+--------------+--------------+------------------+------------------------+---------------------+----------------+-----------+---------------------+----------------+--------------+---------+----------------------+-------------------+---------------+---------------+-------------------+---------------+------------------+------------------+\n",
            "|Organization Group Code|Union Code|Employee Identifier|Salaries |Overtime|Other Salaries|Total Salary|Retirement|Health/Dental|Other Benefits|Total Benefits|Total Compensation|Organization Group_index|Department Code_index|Department_index|Union_index|Job Family Code_index|Job Family_index|Job Code_index|Job_index|Organization Group_vec|Department Code_vec|Department_vec |Union_vec      |Job Family Code_vec|Job Family_vec |Job Code_vec      |Job_vec           |\n",
            "+-----------------------+----------+-------------------+---------+--------+--------------+------------+----------+-------------+--------------+--------------+------------------+------------------------+---------------------+----------------+-----------+---------------------+----------------+--------------+---------+----------------------+-------------------+---------------+---------------+-------------------+---------------+------------------+------------------+\n",
            "|1                      |311       |49919              |114473.16|0.0     |1500.0        |115973.16   |21025.98  |13068.8      |9368.71       |43463.49      |159436.65         |2.0                     |19.0                 |19.0            |15.0       |16.0                 |16.0            |15.0          |15.0     |(6,[2],[1.0])         |(53,[19],[1.0])    |(53,[19],[1.0])|(72,[15],[1.0])|(55,[16],[1.0])    |(54,[16],[1.0])|(1132,[15],[1.0]) |(1138,[15],[1.0]) |\n",
            "|5                      |790       |1225               |84077.11 |0.0     |0.0           |84077.11    |16587.3   |12457.73     |6931.91       |35976.94      |120054.05         |4.0                     |43.0                 |43.0            |0.0        |14.0                 |14.0            |135.0         |135.0    |(6,[4],[1.0])         |(53,[43],[1.0])    |(53,[43],[1.0])|(72,[0],[1.0]) |(55,[14],[1.0])    |(54,[14],[1.0])|(1132,[135],[1.0])|(1138,[135],[1.0])|\n",
            "|4                      |535       |34873              |9980.17  |0.0     |798.43        |10778.6     |0.0       |2254.93      |835.11        |3090.04       |13868.64          |1.0                     |0.0                  |0.0             |6.0        |5.0                  |5.0             |20.0          |20.0     |(6,[1],[1.0])         |(53,[0],[1.0])     |(53,[0],[1.0]) |(72,[6],[1.0]) |(55,[5],[1.0])     |(54,[5],[1.0]) |(1132,[20],[1.0]) |(1138,[20],[1.0]) |\n",
            "|4                      |250       |51145              |2873.41  |0.0     |0.0           |2873.41     |0.0       |622.63       |222.46        |845.09        |3718.5            |1.0                     |0.0                  |0.0             |5.0        |29.0                 |29.0            |332.0         |331.0    |(6,[1],[1.0])         |(53,[0],[1.0])     |(53,[0],[1.0]) |(72,[5],[1.0]) |(55,[29],[1.0])    |(54,[29],[1.0])|(1132,[332],[1.0])|(1138,[331],[1.0])|\n",
            "|5                      |790       |48705              |6701.85  |0.0     |176.7         |6878.55     |0.0       |2711.66      |538.43        |3250.09       |10128.64          |4.0                     |4.0                  |4.0             |0.0        |11.0                 |11.0            |8.0           |8.0      |(6,[4],[1.0])         |(53,[4],[1.0])     |(53,[4],[1.0]) |(72,[0],[1.0]) |(55,[11],[1.0])    |(54,[11],[1.0])|(1132,[8],[1.0])  |(1138,[8],[1.0])  |\n",
            "+-----------------------+----------+-------------------+---------+--------+--------------+------------+----------+-------------+--------------+--------------+------------------+------------------------+---------------------+----------------+-----------+---------------------+----------------+--------------+---------+----------------------+-------------------+---------------+---------------+-------------------+---------------+------------------+------------------+\n",
            "only showing top 5 rows\n",
            "\n"
          ]
        }
      ]
    },
    {
      "cell_type": "code",
      "source": [
        "# Dropping columns post One hot Encoding\n",
        "df8 = df7.drop(*output_column_list)"
      ],
      "metadata": {
        "id": "E7VnJBjgss_6"
      },
      "execution_count": 45,
      "outputs": []
    },
    {
      "cell_type": "code",
      "source": [
        "df8.printSchema()"
      ],
      "metadata": {
        "colab": {
          "base_uri": "https://localhost:8080/"
        },
        "id": "bByEhxKyR_DE",
        "outputId": "bf34312f-c9c9-41fb-a5c5-122ac49cff27"
      },
      "execution_count": 46,
      "outputs": [
        {
          "output_type": "stream",
          "name": "stdout",
          "text": [
            "root\n",
            " |-- Organization Group Code: integer (nullable = true)\n",
            " |-- Union Code: integer (nullable = true)\n",
            " |-- Employee Identifier: integer (nullable = true)\n",
            " |-- Salaries: double (nullable = true)\n",
            " |-- Overtime: double (nullable = true)\n",
            " |-- Other Salaries: double (nullable = true)\n",
            " |-- Total Salary: double (nullable = true)\n",
            " |-- Retirement: double (nullable = true)\n",
            " |-- Health/Dental: double (nullable = true)\n",
            " |-- Other Benefits: double (nullable = true)\n",
            " |-- Total Benefits: double (nullable = true)\n",
            " |-- Total Compensation: double (nullable = true)\n",
            " |-- Organization Group_vec: vector (nullable = true)\n",
            " |-- Department Code_vec: vector (nullable = true)\n",
            " |-- Department_vec: vector (nullable = true)\n",
            " |-- Union_vec: vector (nullable = true)\n",
            " |-- Job Family Code_vec: vector (nullable = true)\n",
            " |-- Job Family_vec: vector (nullable = true)\n",
            " |-- Job Code_vec: vector (nullable = true)\n",
            " |-- Job_vec: vector (nullable = true)\n",
            "\n"
          ]
        }
      ]
    },
    {
      "cell_type": "code",
      "source": [
        "df8.show()"
      ],
      "metadata": {
        "colab": {
          "base_uri": "https://localhost:8080/"
        },
        "id": "sY_4kceeR_GM",
        "outputId": "23cc49b4-d845-44d2-868d-5f5dcc98822e"
      },
      "execution_count": 47,
      "outputs": [
        {
          "output_type": "stream",
          "name": "stdout",
          "text": [
            "+-----------------------+----------+-------------------+---------+--------+--------------+------------+----------+-------------+--------------+--------------+------------------+----------------------+-------------------+---------------+---------------+-------------------+---------------+------------------+------------------+\n",
            "|Organization Group Code|Union Code|Employee Identifier| Salaries|Overtime|Other Salaries|Total Salary|Retirement|Health/Dental|Other Benefits|Total Benefits|Total Compensation|Organization Group_vec|Department Code_vec| Department_vec|      Union_vec|Job Family Code_vec| Job Family_vec|      Job Code_vec|           Job_vec|\n",
            "+-----------------------+----------+-------------------+---------+--------+--------------+------------+----------+-------------+--------------+--------------+------------------+----------------------+-------------------+---------------+---------------+-------------------+---------------+------------------+------------------+\n",
            "|                      1|       311|              49919|114473.16|     0.0|        1500.0|   115973.16|  21025.98|      13068.8|       9368.71|      43463.49|         159436.65|         (6,[2],[1.0])|    (53,[19],[1.0])|(53,[19],[1.0])|(72,[15],[1.0])|    (55,[16],[1.0])|(54,[16],[1.0])| (1132,[15],[1.0])| (1138,[15],[1.0])|\n",
            "|                      5|       790|               1225| 84077.11|     0.0|           0.0|    84077.11|   16587.3|     12457.73|       6931.91|      35976.94|         120054.05|         (6,[4],[1.0])|    (53,[43],[1.0])|(53,[43],[1.0])| (72,[0],[1.0])|    (55,[14],[1.0])|(54,[14],[1.0])|(1132,[135],[1.0])|(1138,[135],[1.0])|\n",
            "|                      4|       535|              34873|  9980.17|     0.0|        798.43|     10778.6|       0.0|      2254.93|        835.11|       3090.04|          13868.64|         (6,[1],[1.0])|     (53,[0],[1.0])| (53,[0],[1.0])| (72,[6],[1.0])|     (55,[5],[1.0])| (54,[5],[1.0])| (1132,[20],[1.0])| (1138,[20],[1.0])|\n",
            "|                      4|       250|              51145|  2873.41|     0.0|           0.0|     2873.41|       0.0|       622.63|        222.46|        845.09|            3718.5|         (6,[1],[1.0])|     (53,[0],[1.0])| (53,[0],[1.0])| (72,[5],[1.0])|    (55,[29],[1.0])|(54,[29],[1.0])|(1132,[332],[1.0])|(1138,[331],[1.0])|\n",
            "|                      5|       790|              48705|  6701.85|     0.0|         176.7|     6878.55|       0.0|      2711.66|        538.43|       3250.09|          10128.64|         (6,[4],[1.0])|     (53,[4],[1.0])| (53,[4],[1.0])| (72,[0],[1.0])|    (55,[11],[1.0])|(54,[11],[1.0])|  (1132,[8],[1.0])|  (1138,[8],[1.0])|\n",
            "|                      2|        21|              19801| 45321.18|     0.0|           0.0|    45321.18|   9386.03|      11780.6|       3486.34|      24652.97|          69974.15|         (6,[0],[1.0])|     (53,[7],[1.0])| (53,[7],[1.0])| (72,[1],[1.0])|    (55,[23],[1.0])|(54,[23],[1.0])| (1132,[38],[1.0])| (1138,[38],[1.0])|\n",
            "|                      5|       790|              14135|  28305.5|     0.0|       1193.14|    29498.64|   6616.52|      5793.48|       2430.74|      14840.74|          44339.38|         (6,[4],[1.0])|    (53,[11],[1.0])|(53,[11],[1.0])| (72,[0],[1.0])|    (55,[19],[1.0])|(54,[19],[1.0])| (1132,[83],[1.0])| (1138,[83],[1.0])|\n",
            "|                      6|        21|              37352| 39938.09|     0.0|         800.0|    40738.09|   8685.34|      7269.02|       3277.52|      19231.88|          59969.97|         (6,[5],[1.0])|    (53,[29],[1.0])|(53,[29],[1.0])| (72,[1],[1.0])|    (55,[34],[1.0])|(54,[34],[1.0])|(1132,[207],[1.0])|(1138,[207],[1.0])|\n",
            "|                      1|       911|              13380|  23112.0| 2312.73|      20944.16|    46368.89|   4183.12|      1911.46|         68.84|       6163.42|          52532.31|         (6,[2],[1.0])|     (53,[3],[1.0])| (53,[3],[1.0])| (72,[3],[1.0])|     (55,[2],[1.0])| (54,[2],[1.0])|(1132,[414],[1.0])|(1138,[411],[1.0])|\n",
            "|                      1|       498|              46569| 89101.22| 6856.77|       5563.78|   101521.77|  17596.33|     12512.55|       1627.91|      31736.79|         133258.56|         (6,[2],[1.0])|     (53,[8],[1.0])| (53,[8],[1.0])|(72,[12],[1.0])|    (55,[13],[1.0])|(54,[13],[1.0])| (1132,[11],[1.0])| (1138,[11],[1.0])|\n",
            "|                      2|       790|              38170|  7091.33|     0.0|           0.0|     7091.33|       0.0|      2361.82|        549.01|       2910.83|          10002.16|         (6,[0],[1.0])|     (53,[5],[1.0])| (53,[5],[1.0])| (72,[0],[1.0])|     (55,[4],[1.0])| (54,[4],[1.0])| (1132,[34],[1.0])| (1138,[34],[1.0])|\n",
            "|                      2|        21|              28940| 57467.12|  355.65|           0.0|    57822.77|  11901.38|     11933.98|       4691.34|       28526.7|          86349.47|         (6,[0],[1.0])|     (53,[7],[1.0])| (53,[7],[1.0])| (72,[1],[1.0])|    (55,[41],[1.0])|(54,[41],[1.0])|(1132,[290],[1.0])|(1138,[290],[1.0])|\n",
            "|                      5|       261|              10817|  80357.0| 5612.97|           7.9|    85977.87|  16562.14|      12424.5|       7091.69|      36078.33|          122056.2|         (6,[4],[1.0])|     (53,[4],[1.0])| (53,[4],[1.0])| (72,[9],[1.0])|    (55,[25],[1.0])|(54,[25],[1.0])|(1132,[204],[1.0])|(1138,[205],[1.0])|\n",
            "|                      2|       253|              21370| 64170.89|13128.97|       2677.81|    79977.67|  17109.68|     13379.17|       6204.01|      36692.86|         116670.53|         (6,[0],[1.0])|     (53,[1],[1.0])| (53,[1],[1.0])| (72,[4],[1.0])|     (55,[1],[1.0])| (54,[1],[1.0])|  (1132,[0],[1.0])|  (1138,[0],[1.0])|\n",
            "|                      3|        22|              37341| 83038.01|     0.0|         200.0|    83238.01|  15490.62|      13068.8|       6525.06|      35084.48|         118322.49|         (6,[3],[1.0])|     (53,[2],[1.0])| (53,[2],[1.0])|(72,[14],[1.0])|    (55,[21],[1.0])|(54,[21],[1.0])| (1132,[76],[1.0])| (1138,[76],[1.0])|\n",
            "|                      6|        16|              34486| 92530.82|     0.0|      13412.58|    105943.4|  20224.21|     13054.94|       8450.17|      41729.32|         147672.72|         (6,[5],[1.0])|     (53,[9],[1.0])| (53,[9],[1.0])|(72,[38],[1.0])|    (55,[39],[1.0])|(54,[39],[1.0])|(1132,[649],[1.0])|(1138,[649],[1.0])|\n",
            "|                      2|       253|               4273| 44381.77|11166.58|       2694.49|    58242.84|   13602.2|       8826.1|        4423.7|       26852.0|          85094.84|         (6,[0],[1.0])|     (53,[1],[1.0])| (53,[1],[1.0])| (72,[4],[1.0])|     (55,[1],[1.0])| (54,[1],[1.0])|  (1132,[0],[1.0])|  (1138,[0],[1.0])|\n",
            "|                      2|       790|              13061|  78639.3|20332.03|       7821.87|    106793.2|  17683.84|     12512.54|       8707.07|      38903.45|         145696.65|         (6,[0],[1.0])|     (53,[1],[1.0])| (53,[1],[1.0])| (72,[0],[1.0])|     (55,[1],[1.0])| (54,[1],[1.0])|(1132,[147],[1.0])|(1138,[147],[1.0])|\n",
            "|                      1|       311|              10747|176267.41|     0.0|        1250.0|   177517.41|  36959.07|     12512.55|      10479.18|       59950.8|         237468.21|         (6,[2],[1.0])|    (53,[19],[1.0])|(53,[19],[1.0])|(72,[15],[1.0])|    (55,[16],[1.0])|(54,[16],[1.0])| (1132,[15],[1.0])| (1138,[15],[1.0])|\n",
            "|                      2|        38|              37594|100655.41| 8240.09|      16911.85|   125807.35|  24354.06|     12500.56|       9962.73|      46817.35|          172624.7|         (6,[0],[1.0])|    (53,[12],[1.0])|(53,[12],[1.0])|(72,[17],[1.0])|     (55,[3],[1.0])| (54,[3],[1.0])|(1132,[249],[1.0])|(1138,[249],[1.0])|\n",
            "+-----------------------+----------+-------------------+---------+--------+--------------+------------+----------+-------------+--------------+--------------+------------------+----------------------+-------------------+---------------+---------------+-------------------+---------------+------------------+------------------+\n",
            "only showing top 20 rows\n",
            "\n"
          ]
        }
      ]
    },
    {
      "cell_type": "code",
      "source": [
        "df8.columns"
      ],
      "metadata": {
        "colab": {
          "base_uri": "https://localhost:8080/"
        },
        "id": "lbwdyZUnt8dF",
        "outputId": "e5ee9bfd-07eb-4132-8ca5-dcb70402923b"
      },
      "execution_count": 48,
      "outputs": [
        {
          "output_type": "execute_result",
          "data": {
            "text/plain": [
              "['Organization Group Code',\n",
              " 'Union Code',\n",
              " 'Employee Identifier',\n",
              " 'Salaries',\n",
              " 'Overtime',\n",
              " 'Other Salaries',\n",
              " 'Total Salary',\n",
              " 'Retirement',\n",
              " 'Health/Dental',\n",
              " 'Other Benefits',\n",
              " 'Total Benefits',\n",
              " 'Total Compensation',\n",
              " 'Organization Group_vec',\n",
              " 'Department Code_vec',\n",
              " 'Department_vec',\n",
              " 'Union_vec',\n",
              " 'Job Family Code_vec',\n",
              " 'Job Family_vec',\n",
              " 'Job Code_vec',\n",
              " 'Job_vec']"
            ]
          },
          "metadata": {},
          "execution_count": 48
        }
      ]
    },
    {
      "cell_type": "code",
      "source": [
        "columns = ['Organization Group Code',\n",
        " 'Union Code',\n",
        " 'Employee Identifier',\n",
        " 'Salaries',\n",
        " 'Overtime',\n",
        " 'Other Salaries',\n",
        " 'Total Salary',\n",
        " 'Retirement',\n",
        " 'Health/Dental',\n",
        " 'Other Benefits',\n",
        " 'Total Benefits']"
      ],
      "metadata": {
        "id": "4enXkrJAuQcx"
      },
      "execution_count": 49,
      "outputs": []
    },
    {
      "cell_type": "code",
      "source": [
        "# Vectorizing the independent features\n",
        "from pyspark.ml.feature import VectorAssembler\n",
        "featureassembler=VectorAssembler(inputCols=columns,outputCol=\"Numeric_Features\")\n",
        "df9 = featureassembler.transform(df8)"
      ],
      "metadata": {
        "id": "MVvzuIxitnG4"
      },
      "execution_count": 51,
      "outputs": []
    },
    {
      "cell_type": "code",
      "source": [
        "df9.show()"
      ],
      "metadata": {
        "colab": {
          "base_uri": "https://localhost:8080/"
        },
        "id": "cJplYC7AR_Ix",
        "outputId": "f7947988-5f69-4e0e-da47-1117d6793e74"
      },
      "execution_count": 52,
      "outputs": [
        {
          "output_type": "stream",
          "name": "stdout",
          "text": [
            "+-----------------------+----------+-------------------+---------+--------+--------------+------------+----------+-------------+--------------+--------------+------------------+----------------------+-------------------+---------------+---------------+-------------------+---------------+------------------+------------------+--------------------+\n",
            "|Organization Group Code|Union Code|Employee Identifier| Salaries|Overtime|Other Salaries|Total Salary|Retirement|Health/Dental|Other Benefits|Total Benefits|Total Compensation|Organization Group_vec|Department Code_vec| Department_vec|      Union_vec|Job Family Code_vec| Job Family_vec|      Job Code_vec|           Job_vec|    Numeric_Features|\n",
            "+-----------------------+----------+-------------------+---------+--------+--------------+------------+----------+-------------+--------------+--------------+------------------+----------------------+-------------------+---------------+---------------+-------------------+---------------+------------------+------------------+--------------------+\n",
            "|                      1|       311|              49919|114473.16|     0.0|        1500.0|   115973.16|  21025.98|      13068.8|       9368.71|      43463.49|         159436.65|         (6,[2],[1.0])|    (53,[19],[1.0])|(53,[19],[1.0])|(72,[15],[1.0])|    (55,[16],[1.0])|(54,[16],[1.0])| (1132,[15],[1.0])| (1138,[15],[1.0])|[1.0,311.0,49919....|\n",
            "|                      5|       790|               1225| 84077.11|     0.0|           0.0|    84077.11|   16587.3|     12457.73|       6931.91|      35976.94|         120054.05|         (6,[4],[1.0])|    (53,[43],[1.0])|(53,[43],[1.0])| (72,[0],[1.0])|    (55,[14],[1.0])|(54,[14],[1.0])|(1132,[135],[1.0])|(1138,[135],[1.0])|[5.0,790.0,1225.0...|\n",
            "|                      4|       535|              34873|  9980.17|     0.0|        798.43|     10778.6|       0.0|      2254.93|        835.11|       3090.04|          13868.64|         (6,[1],[1.0])|     (53,[0],[1.0])| (53,[0],[1.0])| (72,[6],[1.0])|     (55,[5],[1.0])| (54,[5],[1.0])| (1132,[20],[1.0])| (1138,[20],[1.0])|[4.0,535.0,34873....|\n",
            "|                      4|       250|              51145|  2873.41|     0.0|           0.0|     2873.41|       0.0|       622.63|        222.46|        845.09|            3718.5|         (6,[1],[1.0])|     (53,[0],[1.0])| (53,[0],[1.0])| (72,[5],[1.0])|    (55,[29],[1.0])|(54,[29],[1.0])|(1132,[332],[1.0])|(1138,[331],[1.0])|[4.0,250.0,51145....|\n",
            "|                      5|       790|              48705|  6701.85|     0.0|         176.7|     6878.55|       0.0|      2711.66|        538.43|       3250.09|          10128.64|         (6,[4],[1.0])|     (53,[4],[1.0])| (53,[4],[1.0])| (72,[0],[1.0])|    (55,[11],[1.0])|(54,[11],[1.0])|  (1132,[8],[1.0])|  (1138,[8],[1.0])|[5.0,790.0,48705....|\n",
            "|                      2|        21|              19801| 45321.18|     0.0|           0.0|    45321.18|   9386.03|      11780.6|       3486.34|      24652.97|          69974.15|         (6,[0],[1.0])|     (53,[7],[1.0])| (53,[7],[1.0])| (72,[1],[1.0])|    (55,[23],[1.0])|(54,[23],[1.0])| (1132,[38],[1.0])| (1138,[38],[1.0])|[2.0,21.0,19801.0...|\n",
            "|                      5|       790|              14135|  28305.5|     0.0|       1193.14|    29498.64|   6616.52|      5793.48|       2430.74|      14840.74|          44339.38|         (6,[4],[1.0])|    (53,[11],[1.0])|(53,[11],[1.0])| (72,[0],[1.0])|    (55,[19],[1.0])|(54,[19],[1.0])| (1132,[83],[1.0])| (1138,[83],[1.0])|[5.0,790.0,14135....|\n",
            "|                      6|        21|              37352| 39938.09|     0.0|         800.0|    40738.09|   8685.34|      7269.02|       3277.52|      19231.88|          59969.97|         (6,[5],[1.0])|    (53,[29],[1.0])|(53,[29],[1.0])| (72,[1],[1.0])|    (55,[34],[1.0])|(54,[34],[1.0])|(1132,[207],[1.0])|(1138,[207],[1.0])|[6.0,21.0,37352.0...|\n",
            "|                      1|       911|              13380|  23112.0| 2312.73|      20944.16|    46368.89|   4183.12|      1911.46|         68.84|       6163.42|          52532.31|         (6,[2],[1.0])|     (53,[3],[1.0])| (53,[3],[1.0])| (72,[3],[1.0])|     (55,[2],[1.0])| (54,[2],[1.0])|(1132,[414],[1.0])|(1138,[411],[1.0])|[1.0,911.0,13380....|\n",
            "|                      1|       498|              46569| 89101.22| 6856.77|       5563.78|   101521.77|  17596.33|     12512.55|       1627.91|      31736.79|         133258.56|         (6,[2],[1.0])|     (53,[8],[1.0])| (53,[8],[1.0])|(72,[12],[1.0])|    (55,[13],[1.0])|(54,[13],[1.0])| (1132,[11],[1.0])| (1138,[11],[1.0])|[1.0,498.0,46569....|\n",
            "|                      2|       790|              38170|  7091.33|     0.0|           0.0|     7091.33|       0.0|      2361.82|        549.01|       2910.83|          10002.16|         (6,[0],[1.0])|     (53,[5],[1.0])| (53,[5],[1.0])| (72,[0],[1.0])|     (55,[4],[1.0])| (54,[4],[1.0])| (1132,[34],[1.0])| (1138,[34],[1.0])|[2.0,790.0,38170....|\n",
            "|                      2|        21|              28940| 57467.12|  355.65|           0.0|    57822.77|  11901.38|     11933.98|       4691.34|       28526.7|          86349.47|         (6,[0],[1.0])|     (53,[7],[1.0])| (53,[7],[1.0])| (72,[1],[1.0])|    (55,[41],[1.0])|(54,[41],[1.0])|(1132,[290],[1.0])|(1138,[290],[1.0])|[2.0,21.0,28940.0...|\n",
            "|                      5|       261|              10817|  80357.0| 5612.97|           7.9|    85977.87|  16562.14|      12424.5|       7091.69|      36078.33|          122056.2|         (6,[4],[1.0])|     (53,[4],[1.0])| (53,[4],[1.0])| (72,[9],[1.0])|    (55,[25],[1.0])|(54,[25],[1.0])|(1132,[204],[1.0])|(1138,[205],[1.0])|[5.0,261.0,10817....|\n",
            "|                      2|       253|              21370| 64170.89|13128.97|       2677.81|    79977.67|  17109.68|     13379.17|       6204.01|      36692.86|         116670.53|         (6,[0],[1.0])|     (53,[1],[1.0])| (53,[1],[1.0])| (72,[4],[1.0])|     (55,[1],[1.0])| (54,[1],[1.0])|  (1132,[0],[1.0])|  (1138,[0],[1.0])|[2.0,253.0,21370....|\n",
            "|                      3|        22|              37341| 83038.01|     0.0|         200.0|    83238.01|  15490.62|      13068.8|       6525.06|      35084.48|         118322.49|         (6,[3],[1.0])|     (53,[2],[1.0])| (53,[2],[1.0])|(72,[14],[1.0])|    (55,[21],[1.0])|(54,[21],[1.0])| (1132,[76],[1.0])| (1138,[76],[1.0])|[3.0,22.0,37341.0...|\n",
            "|                      6|        16|              34486| 92530.82|     0.0|      13412.58|    105943.4|  20224.21|     13054.94|       8450.17|      41729.32|         147672.72|         (6,[5],[1.0])|     (53,[9],[1.0])| (53,[9],[1.0])|(72,[38],[1.0])|    (55,[39],[1.0])|(54,[39],[1.0])|(1132,[649],[1.0])|(1138,[649],[1.0])|[6.0,16.0,34486.0...|\n",
            "|                      2|       253|               4273| 44381.77|11166.58|       2694.49|    58242.84|   13602.2|       8826.1|        4423.7|       26852.0|          85094.84|         (6,[0],[1.0])|     (53,[1],[1.0])| (53,[1],[1.0])| (72,[4],[1.0])|     (55,[1],[1.0])| (54,[1],[1.0])|  (1132,[0],[1.0])|  (1138,[0],[1.0])|[2.0,253.0,4273.0...|\n",
            "|                      2|       790|              13061|  78639.3|20332.03|       7821.87|    106793.2|  17683.84|     12512.54|       8707.07|      38903.45|         145696.65|         (6,[0],[1.0])|     (53,[1],[1.0])| (53,[1],[1.0])| (72,[0],[1.0])|     (55,[1],[1.0])| (54,[1],[1.0])|(1132,[147],[1.0])|(1138,[147],[1.0])|[2.0,790.0,13061....|\n",
            "|                      1|       311|              10747|176267.41|     0.0|        1250.0|   177517.41|  36959.07|     12512.55|      10479.18|       59950.8|         237468.21|         (6,[2],[1.0])|    (53,[19],[1.0])|(53,[19],[1.0])|(72,[15],[1.0])|    (55,[16],[1.0])|(54,[16],[1.0])| (1132,[15],[1.0])| (1138,[15],[1.0])|[1.0,311.0,10747....|\n",
            "|                      2|        38|              37594|100655.41| 8240.09|      16911.85|   125807.35|  24354.06|     12500.56|       9962.73|      46817.35|          172624.7|         (6,[0],[1.0])|    (53,[12],[1.0])|(53,[12],[1.0])|(72,[17],[1.0])|     (55,[3],[1.0])| (54,[3],[1.0])|(1132,[249],[1.0])|(1138,[249],[1.0])|[2.0,38.0,37594.0...|\n",
            "+-----------------------+----------+-------------------+---------+--------+--------------+------------+----------+-------------+--------------+--------------+------------------+----------------------+-------------------+---------------+---------------+-------------------+---------------+------------------+------------------+--------------------+\n",
            "only showing top 20 rows\n",
            "\n"
          ]
        }
      ]
    },
    {
      "cell_type": "code",
      "source": [
        "# Import StandardScaler from pyspark.ml.feature package\n",
        "from pyspark.ml.feature import StandardScaler\n",
        "\n",
        "# Create the StandardScaler object. It only take feature column (dense vector)\n",
        "stdscaler = StandardScaler(inputCol=\"Numeric_Features\", outputCol=\"Scaled_Features\")\n",
        "\n",
        "# Fit the StandardScaler object on the output of the dense vector data and transform\n",
        "df10 = stdscaler.fit(df9).transform(df9)\n",
        "df10.select(\"*\").show()"
      ],
      "metadata": {
        "colab": {
          "base_uri": "https://localhost:8080/"
        },
        "id": "XQknTiFqvrr4",
        "outputId": "0459e890-b6fc-4918-93f9-365373e55107"
      },
      "execution_count": 53,
      "outputs": [
        {
          "output_type": "stream",
          "name": "stdout",
          "text": [
            "+-----------------------+----------+-------------------+---------+--------+--------------+------------+----------+-------------+--------------+--------------+------------------+----------------------+-------------------+---------------+---------------+-------------------+---------------+------------------+------------------+--------------------+--------------------+\n",
            "|Organization Group Code|Union Code|Employee Identifier| Salaries|Overtime|Other Salaries|Total Salary|Retirement|Health/Dental|Other Benefits|Total Benefits|Total Compensation|Organization Group_vec|Department Code_vec| Department_vec|      Union_vec|Job Family Code_vec| Job Family_vec|      Job Code_vec|           Job_vec|    Numeric_Features|     Scaled_Features|\n",
            "+-----------------------+----------+-------------------+---------+--------+--------------+------------+----------+-------------+--------------+--------------+------------------+----------------------+-------------------+---------------+---------------+-------------------+---------------+------------------+------------------+--------------------+--------------------+\n",
            "|                      1|       311|              49919|114473.16|     0.0|        1500.0|   115973.16|  21025.98|      13068.8|       9368.71|      43463.49|         159436.65|         (6,[2],[1.0])|    (53,[19],[1.0])|(53,[19],[1.0])|(72,[15],[1.0])|    (55,[16],[1.0])|(54,[16],[1.0])| (1132,[15],[1.0])| (1138,[15],[1.0])|[1.0,311.0,49919....|[0.63380556910016...|\n",
            "|                      5|       790|               1225| 84077.11|     0.0|           0.0|    84077.11|   16587.3|     12457.73|       6931.91|      35976.94|         120054.05|         (6,[4],[1.0])|    (53,[43],[1.0])|(53,[43],[1.0])| (72,[0],[1.0])|    (55,[14],[1.0])|(54,[14],[1.0])|(1132,[135],[1.0])|(1138,[135],[1.0])|[5.0,790.0,1225.0...|[3.16902784550083...|\n",
            "|                      4|       535|              34873|  9980.17|     0.0|        798.43|     10778.6|       0.0|      2254.93|        835.11|       3090.04|          13868.64|         (6,[1],[1.0])|     (53,[0],[1.0])| (53,[0],[1.0])| (72,[6],[1.0])|     (55,[5],[1.0])| (54,[5],[1.0])| (1132,[20],[1.0])| (1138,[20],[1.0])|[4.0,535.0,34873....|[2.53522227640066...|\n",
            "|                      4|       250|              51145|  2873.41|     0.0|           0.0|     2873.41|       0.0|       622.63|        222.46|        845.09|            3718.5|         (6,[1],[1.0])|     (53,[0],[1.0])| (53,[0],[1.0])| (72,[5],[1.0])|    (55,[29],[1.0])|(54,[29],[1.0])|(1132,[332],[1.0])|(1138,[331],[1.0])|[4.0,250.0,51145....|[2.53522227640066...|\n",
            "|                      5|       790|              48705|  6701.85|     0.0|         176.7|     6878.55|       0.0|      2711.66|        538.43|       3250.09|          10128.64|         (6,[4],[1.0])|     (53,[4],[1.0])| (53,[4],[1.0])| (72,[0],[1.0])|    (55,[11],[1.0])|(54,[11],[1.0])|  (1132,[8],[1.0])|  (1138,[8],[1.0])|[5.0,790.0,48705....|[3.16902784550083...|\n",
            "|                      2|        21|              19801| 45321.18|     0.0|           0.0|    45321.18|   9386.03|      11780.6|       3486.34|      24652.97|          69974.15|         (6,[0],[1.0])|     (53,[7],[1.0])| (53,[7],[1.0])| (72,[1],[1.0])|    (55,[23],[1.0])|(54,[23],[1.0])| (1132,[38],[1.0])| (1138,[38],[1.0])|[2.0,21.0,19801.0...|[1.26761113820033...|\n",
            "|                      5|       790|              14135|  28305.5|     0.0|       1193.14|    29498.64|   6616.52|      5793.48|       2430.74|      14840.74|          44339.38|         (6,[4],[1.0])|    (53,[11],[1.0])|(53,[11],[1.0])| (72,[0],[1.0])|    (55,[19],[1.0])|(54,[19],[1.0])| (1132,[83],[1.0])| (1138,[83],[1.0])|[5.0,790.0,14135....|[3.16902784550083...|\n",
            "|                      6|        21|              37352| 39938.09|     0.0|         800.0|    40738.09|   8685.34|      7269.02|       3277.52|      19231.88|          59969.97|         (6,[5],[1.0])|    (53,[29],[1.0])|(53,[29],[1.0])| (72,[1],[1.0])|    (55,[34],[1.0])|(54,[34],[1.0])|(1132,[207],[1.0])|(1138,[207],[1.0])|[6.0,21.0,37352.0...|[3.80283341460100...|\n",
            "|                      1|       911|              13380|  23112.0| 2312.73|      20944.16|    46368.89|   4183.12|      1911.46|         68.84|       6163.42|          52532.31|         (6,[2],[1.0])|     (53,[3],[1.0])| (53,[3],[1.0])| (72,[3],[1.0])|     (55,[2],[1.0])| (54,[2],[1.0])|(1132,[414],[1.0])|(1138,[411],[1.0])|[1.0,911.0,13380....|[0.63380556910016...|\n",
            "|                      1|       498|              46569| 89101.22| 6856.77|       5563.78|   101521.77|  17596.33|     12512.55|       1627.91|      31736.79|         133258.56|         (6,[2],[1.0])|     (53,[8],[1.0])| (53,[8],[1.0])|(72,[12],[1.0])|    (55,[13],[1.0])|(54,[13],[1.0])| (1132,[11],[1.0])| (1138,[11],[1.0])|[1.0,498.0,46569....|[0.63380556910016...|\n",
            "|                      2|       790|              38170|  7091.33|     0.0|           0.0|     7091.33|       0.0|      2361.82|        549.01|       2910.83|          10002.16|         (6,[0],[1.0])|     (53,[5],[1.0])| (53,[5],[1.0])| (72,[0],[1.0])|     (55,[4],[1.0])| (54,[4],[1.0])| (1132,[34],[1.0])| (1138,[34],[1.0])|[2.0,790.0,38170....|[1.26761113820033...|\n",
            "|                      2|        21|              28940| 57467.12|  355.65|           0.0|    57822.77|  11901.38|     11933.98|       4691.34|       28526.7|          86349.47|         (6,[0],[1.0])|     (53,[7],[1.0])| (53,[7],[1.0])| (72,[1],[1.0])|    (55,[41],[1.0])|(54,[41],[1.0])|(1132,[290],[1.0])|(1138,[290],[1.0])|[2.0,21.0,28940.0...|[1.26761113820033...|\n",
            "|                      5|       261|              10817|  80357.0| 5612.97|           7.9|    85977.87|  16562.14|      12424.5|       7091.69|      36078.33|          122056.2|         (6,[4],[1.0])|     (53,[4],[1.0])| (53,[4],[1.0])| (72,[9],[1.0])|    (55,[25],[1.0])|(54,[25],[1.0])|(1132,[204],[1.0])|(1138,[205],[1.0])|[5.0,261.0,10817....|[3.16902784550083...|\n",
            "|                      2|       253|              21370| 64170.89|13128.97|       2677.81|    79977.67|  17109.68|     13379.17|       6204.01|      36692.86|         116670.53|         (6,[0],[1.0])|     (53,[1],[1.0])| (53,[1],[1.0])| (72,[4],[1.0])|     (55,[1],[1.0])| (54,[1],[1.0])|  (1132,[0],[1.0])|  (1138,[0],[1.0])|[2.0,253.0,21370....|[1.26761113820033...|\n",
            "|                      3|        22|              37341| 83038.01|     0.0|         200.0|    83238.01|  15490.62|      13068.8|       6525.06|      35084.48|         118322.49|         (6,[3],[1.0])|     (53,[2],[1.0])| (53,[2],[1.0])|(72,[14],[1.0])|    (55,[21],[1.0])|(54,[21],[1.0])| (1132,[76],[1.0])| (1138,[76],[1.0])|[3.0,22.0,37341.0...|[1.90141670730050...|\n",
            "|                      6|        16|              34486| 92530.82|     0.0|      13412.58|    105943.4|  20224.21|     13054.94|       8450.17|      41729.32|         147672.72|         (6,[5],[1.0])|     (53,[9],[1.0])| (53,[9],[1.0])|(72,[38],[1.0])|    (55,[39],[1.0])|(54,[39],[1.0])|(1132,[649],[1.0])|(1138,[649],[1.0])|[6.0,16.0,34486.0...|[3.80283341460100...|\n",
            "|                      2|       253|               4273| 44381.77|11166.58|       2694.49|    58242.84|   13602.2|       8826.1|        4423.7|       26852.0|          85094.84|         (6,[0],[1.0])|     (53,[1],[1.0])| (53,[1],[1.0])| (72,[4],[1.0])|     (55,[1],[1.0])| (54,[1],[1.0])|  (1132,[0],[1.0])|  (1138,[0],[1.0])|[2.0,253.0,4273.0...|[1.26761113820033...|\n",
            "|                      2|       790|              13061|  78639.3|20332.03|       7821.87|    106793.2|  17683.84|     12512.54|       8707.07|      38903.45|         145696.65|         (6,[0],[1.0])|     (53,[1],[1.0])| (53,[1],[1.0])| (72,[0],[1.0])|     (55,[1],[1.0])| (54,[1],[1.0])|(1132,[147],[1.0])|(1138,[147],[1.0])|[2.0,790.0,13061....|[1.26761113820033...|\n",
            "|                      1|       311|              10747|176267.41|     0.0|        1250.0|   177517.41|  36959.07|     12512.55|      10479.18|       59950.8|         237468.21|         (6,[2],[1.0])|    (53,[19],[1.0])|(53,[19],[1.0])|(72,[15],[1.0])|    (55,[16],[1.0])|(54,[16],[1.0])| (1132,[15],[1.0])| (1138,[15],[1.0])|[1.0,311.0,10747....|[0.63380556910016...|\n",
            "|                      2|        38|              37594|100655.41| 8240.09|      16911.85|   125807.35|  24354.06|     12500.56|       9962.73|      46817.35|          172624.7|         (6,[0],[1.0])|    (53,[12],[1.0])|(53,[12],[1.0])|(72,[17],[1.0])|     (55,[3],[1.0])| (54,[3],[1.0])|(1132,[249],[1.0])|(1138,[249],[1.0])|[2.0,38.0,37594.0...|[1.26761113820033...|\n",
            "+-----------------------+----------+-------------------+---------+--------+--------------+------------+----------+-------------+--------------+--------------+------------------+----------------------+-------------------+---------------+---------------+-------------------+---------------+------------------+------------------+--------------------+--------------------+\n",
            "only showing top 20 rows\n",
            "\n"
          ]
        }
      ]
    },
    {
      "cell_type": "code",
      "source": [
        "df11 = df10.drop(*columns, \"Independent_Features\")"
      ],
      "metadata": {
        "id": "5AQpf41Pvrme"
      },
      "execution_count": 54,
      "outputs": []
    },
    {
      "cell_type": "code",
      "source": [
        "df11.show()"
      ],
      "metadata": {
        "colab": {
          "base_uri": "https://localhost:8080/"
        },
        "id": "L6NP8WItvre6",
        "outputId": "e99481ab-bd57-4166-ec3c-b03fa3965866"
      },
      "execution_count": 55,
      "outputs": [
        {
          "output_type": "stream",
          "name": "stdout",
          "text": [
            "+------------------+----------------------+-------------------+---------------+---------------+-------------------+---------------+------------------+------------------+--------------------+--------------------+\n",
            "|Total Compensation|Organization Group_vec|Department Code_vec| Department_vec|      Union_vec|Job Family Code_vec| Job Family_vec|      Job Code_vec|           Job_vec|    Numeric_Features|     Scaled_Features|\n",
            "+------------------+----------------------+-------------------+---------------+---------------+-------------------+---------------+------------------+------------------+--------------------+--------------------+\n",
            "|         159436.65|         (6,[2],[1.0])|    (53,[19],[1.0])|(53,[19],[1.0])|(72,[15],[1.0])|    (55,[16],[1.0])|(54,[16],[1.0])| (1132,[15],[1.0])| (1138,[15],[1.0])|[1.0,311.0,49919....|[0.63380556910016...|\n",
            "|         120054.05|         (6,[4],[1.0])|    (53,[43],[1.0])|(53,[43],[1.0])| (72,[0],[1.0])|    (55,[14],[1.0])|(54,[14],[1.0])|(1132,[135],[1.0])|(1138,[135],[1.0])|[5.0,790.0,1225.0...|[3.16902784550083...|\n",
            "|          13868.64|         (6,[1],[1.0])|     (53,[0],[1.0])| (53,[0],[1.0])| (72,[6],[1.0])|     (55,[5],[1.0])| (54,[5],[1.0])| (1132,[20],[1.0])| (1138,[20],[1.0])|[4.0,535.0,34873....|[2.53522227640066...|\n",
            "|            3718.5|         (6,[1],[1.0])|     (53,[0],[1.0])| (53,[0],[1.0])| (72,[5],[1.0])|    (55,[29],[1.0])|(54,[29],[1.0])|(1132,[332],[1.0])|(1138,[331],[1.0])|[4.0,250.0,51145....|[2.53522227640066...|\n",
            "|          10128.64|         (6,[4],[1.0])|     (53,[4],[1.0])| (53,[4],[1.0])| (72,[0],[1.0])|    (55,[11],[1.0])|(54,[11],[1.0])|  (1132,[8],[1.0])|  (1138,[8],[1.0])|[5.0,790.0,48705....|[3.16902784550083...|\n",
            "|          69974.15|         (6,[0],[1.0])|     (53,[7],[1.0])| (53,[7],[1.0])| (72,[1],[1.0])|    (55,[23],[1.0])|(54,[23],[1.0])| (1132,[38],[1.0])| (1138,[38],[1.0])|[2.0,21.0,19801.0...|[1.26761113820033...|\n",
            "|          44339.38|         (6,[4],[1.0])|    (53,[11],[1.0])|(53,[11],[1.0])| (72,[0],[1.0])|    (55,[19],[1.0])|(54,[19],[1.0])| (1132,[83],[1.0])| (1138,[83],[1.0])|[5.0,790.0,14135....|[3.16902784550083...|\n",
            "|          59969.97|         (6,[5],[1.0])|    (53,[29],[1.0])|(53,[29],[1.0])| (72,[1],[1.0])|    (55,[34],[1.0])|(54,[34],[1.0])|(1132,[207],[1.0])|(1138,[207],[1.0])|[6.0,21.0,37352.0...|[3.80283341460100...|\n",
            "|          52532.31|         (6,[2],[1.0])|     (53,[3],[1.0])| (53,[3],[1.0])| (72,[3],[1.0])|     (55,[2],[1.0])| (54,[2],[1.0])|(1132,[414],[1.0])|(1138,[411],[1.0])|[1.0,911.0,13380....|[0.63380556910016...|\n",
            "|         133258.56|         (6,[2],[1.0])|     (53,[8],[1.0])| (53,[8],[1.0])|(72,[12],[1.0])|    (55,[13],[1.0])|(54,[13],[1.0])| (1132,[11],[1.0])| (1138,[11],[1.0])|[1.0,498.0,46569....|[0.63380556910016...|\n",
            "|          10002.16|         (6,[0],[1.0])|     (53,[5],[1.0])| (53,[5],[1.0])| (72,[0],[1.0])|     (55,[4],[1.0])| (54,[4],[1.0])| (1132,[34],[1.0])| (1138,[34],[1.0])|[2.0,790.0,38170....|[1.26761113820033...|\n",
            "|          86349.47|         (6,[0],[1.0])|     (53,[7],[1.0])| (53,[7],[1.0])| (72,[1],[1.0])|    (55,[41],[1.0])|(54,[41],[1.0])|(1132,[290],[1.0])|(1138,[290],[1.0])|[2.0,21.0,28940.0...|[1.26761113820033...|\n",
            "|          122056.2|         (6,[4],[1.0])|     (53,[4],[1.0])| (53,[4],[1.0])| (72,[9],[1.0])|    (55,[25],[1.0])|(54,[25],[1.0])|(1132,[204],[1.0])|(1138,[205],[1.0])|[5.0,261.0,10817....|[3.16902784550083...|\n",
            "|         116670.53|         (6,[0],[1.0])|     (53,[1],[1.0])| (53,[1],[1.0])| (72,[4],[1.0])|     (55,[1],[1.0])| (54,[1],[1.0])|  (1132,[0],[1.0])|  (1138,[0],[1.0])|[2.0,253.0,21370....|[1.26761113820033...|\n",
            "|         118322.49|         (6,[3],[1.0])|     (53,[2],[1.0])| (53,[2],[1.0])|(72,[14],[1.0])|    (55,[21],[1.0])|(54,[21],[1.0])| (1132,[76],[1.0])| (1138,[76],[1.0])|[3.0,22.0,37341.0...|[1.90141670730050...|\n",
            "|         147672.72|         (6,[5],[1.0])|     (53,[9],[1.0])| (53,[9],[1.0])|(72,[38],[1.0])|    (55,[39],[1.0])|(54,[39],[1.0])|(1132,[649],[1.0])|(1138,[649],[1.0])|[6.0,16.0,34486.0...|[3.80283341460100...|\n",
            "|          85094.84|         (6,[0],[1.0])|     (53,[1],[1.0])| (53,[1],[1.0])| (72,[4],[1.0])|     (55,[1],[1.0])| (54,[1],[1.0])|  (1132,[0],[1.0])|  (1138,[0],[1.0])|[2.0,253.0,4273.0...|[1.26761113820033...|\n",
            "|         145696.65|         (6,[0],[1.0])|     (53,[1],[1.0])| (53,[1],[1.0])| (72,[0],[1.0])|     (55,[1],[1.0])| (54,[1],[1.0])|(1132,[147],[1.0])|(1138,[147],[1.0])|[2.0,790.0,13061....|[1.26761113820033...|\n",
            "|         237468.21|         (6,[2],[1.0])|    (53,[19],[1.0])|(53,[19],[1.0])|(72,[15],[1.0])|    (55,[16],[1.0])|(54,[16],[1.0])| (1132,[15],[1.0])| (1138,[15],[1.0])|[1.0,311.0,10747....|[0.63380556910016...|\n",
            "|          172624.7|         (6,[0],[1.0])|    (53,[12],[1.0])|(53,[12],[1.0])|(72,[17],[1.0])|     (55,[3],[1.0])| (54,[3],[1.0])|(1132,[249],[1.0])|(1138,[249],[1.0])|[2.0,38.0,37594.0...|[1.26761113820033...|\n",
            "+------------------+----------------------+-------------------+---------------+---------------+-------------------+---------------+------------------+------------------+--------------------+--------------------+\n",
            "only showing top 20 rows\n",
            "\n"
          ]
        }
      ]
    },
    {
      "cell_type": "code",
      "source": [
        "df11.columns "
      ],
      "metadata": {
        "colab": {
          "base_uri": "https://localhost:8080/"
        },
        "id": "am5d3DAiw5Iv",
        "outputId": "890e3122-5f0e-414e-ae98-01fd38f072c7"
      },
      "execution_count": 56,
      "outputs": [
        {
          "output_type": "execute_result",
          "data": {
            "text/plain": [
              "['Total Compensation',\n",
              " 'Organization Group_vec',\n",
              " 'Department Code_vec',\n",
              " 'Department_vec',\n",
              " 'Union_vec',\n",
              " 'Job Family Code_vec',\n",
              " 'Job Family_vec',\n",
              " 'Job Code_vec',\n",
              " 'Job_vec',\n",
              " 'Numeric_Features',\n",
              " 'Scaled_Features']"
            ]
          },
          "metadata": {},
          "execution_count": 56
        }
      ]
    },
    {
      "cell_type": "code",
      "source": [
        "# Create a list of all the variables that you want to create feature vectors\n",
        "# These features are then further used for training model\n",
        "features_columns = ['Organization Group_vec',\n",
        " 'Department Code_vec',\n",
        " 'Department_vec',\n",
        " 'Union_vec',\n",
        " 'Job Family Code_vec',\n",
        " 'Job Family_vec',\n",
        " 'Job Code_vec',\n",
        " 'Job_vec',\n",
        " 'Numeric_Features',\n",
        " 'Scaled_Features']"
      ],
      "metadata": {
        "id": "6cfSpHqCw5Av"
      },
      "execution_count": 57,
      "outputs": []
    },
    {
      "cell_type": "code",
      "source": [
        "# Creating a Vector of all the features together using a VectorAssembler\n",
        "from pyspark.ml.feature import VectorAssembler\n",
        "assembler = VectorAssembler(inputCols=features_columns, outputCol=\"independent_features\")\n",
        "df12 = assembler.transform(df11)"
      ],
      "metadata": {
        "id": "VGlnyM5o7rWU"
      },
      "execution_count": 59,
      "outputs": []
    },
    {
      "cell_type": "code",
      "source": [
        "final_DF = df12.select(\"independent_features\", \"Total Compensation\")"
      ],
      "metadata": {
        "id": "OTeZ3DYn3w0z"
      },
      "execution_count": 62,
      "outputs": []
    },
    {
      "cell_type": "markdown",
      "source": [
        "### 6.2 Split the data into train and test set"
      ],
      "metadata": {
        "id": "rrGRAFAG-YLX"
      }
    },
    {
      "cell_type": "code",
      "source": [
        "# We spilt the data into 70-30 set\n",
        "# Training Set - 70% obesevations\n",
        "# Testing Set - 30% observations\n",
        "trainDF, testDF =  final_DF.randomSplit([0.7,0.3], seed = 42)\n",
        "\n",
        "# print the count of observations in each set\n",
        "print(\"Observations in training set = \", trainDF.count())\n",
        "print(\"Observations in testing set = \", testDF.count())"
      ],
      "metadata": {
        "colab": {
          "base_uri": "https://localhost:8080/"
        },
        "id": "COvXt6NZUW51",
        "outputId": "ffadc309-5f16-4e33-b0df-19880e7d997f"
      },
      "execution_count": 63,
      "outputs": [
        {
          "output_type": "stream",
          "name": "stdout",
          "text": [
            "Observations in training set =  204346\n",
            "Observations in testing set =  87479\n"
          ]
        }
      ]
    },
    {
      "cell_type": "markdown",
      "metadata": {
        "application/vnd.databricks.v1+cell": {
          "inputWidgets": {},
          "nuid": "114ba72f-16e5-4657-bbaf-969596890cca",
          "showTitle": false,
          "title": ""
        },
        "id": "XSZnLJe5QP0i"
      },
      "source": [
        "### 7. Fit Linear Regression model on the data and check its performance"
      ]
    },
    {
      "cell_type": "code",
      "source": [
        "# Linear Regression\n",
        "from pyspark.ml.regression import LinearRegression\n",
        "regressor=LinearRegression(featuresCol='independent_features', labelCol='Total Compensation')\n",
        "lr_model=regressor.fit(trainDF)"
      ],
      "metadata": {
        "id": "8if-hf4NUW8m"
      },
      "execution_count": 64,
      "outputs": []
    },
    {
      "cell_type": "code",
      "source": [
        "# Prediction\n",
        "pred_results_lr=lr_model.evaluate(testDF)"
      ],
      "metadata": {
        "id": "LdOm85dQUW_d"
      },
      "execution_count": 65,
      "outputs": []
    },
    {
      "cell_type": "code",
      "source": [
        "pred_results_lr.predictions.show()"
      ],
      "metadata": {
        "colab": {
          "base_uri": "https://localhost:8080/"
        },
        "id": "EcQvdmZMUXCl",
        "outputId": "e7464c42-5782-4f9b-f1d5-9697ccb1ced2"
      },
      "execution_count": 66,
      "outputs": [
        {
          "output_type": "stream",
          "name": "stdout",
          "text": [
            "+--------------------+------------------+------------------+\n",
            "|independent_features|Total Compensation|        prediction|\n",
            "+--------------------+------------------+------------------+\n",
            "|(2585,[0,7,60,112...|         126922.31| 126928.1806736858|\n",
            "|(2585,[0,7,60,112...|          102838.8|102854.79846198186|\n",
            "|(2585,[0,7,60,112...|         109989.99|109996.87461319349|\n",
            "|(2585,[0,7,60,112...|         110126.03|110138.08035879054|\n",
            "|(2585,[0,7,60,112...|          74268.47| 74270.49666911803|\n",
            "|(2585,[0,7,60,112...|          95119.65| 95118.82821599068|\n",
            "|(2585,[0,7,60,112...|          111428.5|111432.83244958974|\n",
            "|(2585,[0,7,60,112...|         111131.64|111135.13089200167|\n",
            "|(2585,[0,7,60,112...|          104513.3|104526.87886972589|\n",
            "|(2585,[0,7,60,112...|         111640.46|111651.01392463874|\n",
            "|(2585,[0,7,60,112...|         119244.74|119247.69439636062|\n",
            "|(2585,[0,7,60,112...|         169037.06| 169030.7974378206|\n",
            "|(2585,[0,7,60,112...|          78002.98| 77992.69454644293|\n",
            "|(2585,[0,7,60,112...|         104855.76| 104869.4491590055|\n",
            "|(2585,[0,7,60,112...|         110465.48|110476.56020663597|\n",
            "|(2585,[0,7,60,112...|          35024.11| 35014.63900528684|\n",
            "|(2585,[0,7,60,112...|           47835.3|47831.537294863956|\n",
            "|(2585,[0,7,60,112...|         118121.76|118130.90438176817|\n",
            "|(2585,[0,7,60,112...|         111555.61|111564.28890527159|\n",
            "|(2585,[0,7,60,112...|         114310.39|114321.94681250713|\n",
            "+--------------------+------------------+------------------+\n",
            "only showing top 20 rows\n",
            "\n"
          ]
        }
      ]
    },
    {
      "cell_type": "code",
      "source": [
        "# Printing metrics\n",
        "print(\"Linear Regression - RMSE: \",pred_results_lr.meanSquaredError)\n",
        "print(\"Linear Regression - MAE: \",pred_results_lr.meanAbsoluteError)\n",
        "print(\"Linear Regression - R-squared: \",pred_results_lr.r2) "
      ],
      "metadata": {
        "colab": {
          "base_uri": "https://localhost:8080/"
        },
        "id": "3m_EYeGbXSJa",
        "outputId": "955c405a-b925-41c0-ab98-2c9b51a401db"
      },
      "execution_count": 67,
      "outputs": [
        {
          "output_type": "stream",
          "name": "stdout",
          "text": [
            "Linear Regression - RMSE:  177787.039178916\n",
            "Linear Regression - MAE:  21.345476473616458\n",
            "Linear Regression - R-squared:  0.9999612066130734\n"
          ]
        }
      ]
    },
    {
      "cell_type": "markdown",
      "metadata": {
        "application/vnd.databricks.v1+cell": {
          "inputWidgets": {},
          "nuid": "51e30540-ef2e-4239-b323-ba406674e87b",
          "showTitle": false,
          "title": ""
        },
        "id": "yb53Fy9yQP0i"
      },
      "source": [
        "### 8. Fit Decision Tree Regression model on the data and check its performance (Optional)"
      ]
    },
    {
      "cell_type": "code",
      "execution_count": 69,
      "metadata": {
        "collapsed": true,
        "id": "XVl80s2AQP0i"
      },
      "outputs": [],
      "source": [
        "from pyspark.ml.regression import DecisionTreeRegressor\n",
        "dt = DecisionTreeRegressor(featuresCol ='independent_features', labelCol = 'Total Compensation')\n",
        "dt_model = dt.fit(trainDF)"
      ]
    },
    {
      "cell_type": "code",
      "source": [
        "pred_results_dt=dt_model.transform(testDF)"
      ],
      "metadata": {
        "id": "cX-oCWKKq0Tc"
      },
      "execution_count": 70,
      "outputs": []
    },
    {
      "cell_type": "code",
      "source": [
        "pred_results_dt.show()"
      ],
      "metadata": {
        "colab": {
          "base_uri": "https://localhost:8080/"
        },
        "id": "OC2h9B_urVEc",
        "outputId": "9c701695-0b4a-4352-983c-644465c888b2"
      },
      "execution_count": 71,
      "outputs": [
        {
          "output_type": "stream",
          "name": "stdout",
          "text": [
            "+--------------------+------------------+------------------+\n",
            "|independent_features|Total Compensation|        prediction|\n",
            "+--------------------+------------------+------------------+\n",
            "|(2585,[0,7,60,112...|         126922.31|134710.90942732003|\n",
            "|(2585,[0,7,60,112...|          102838.8|100417.38188391038|\n",
            "|(2585,[0,7,60,112...|         109989.99|108533.63300297054|\n",
            "|(2585,[0,7,60,112...|         110126.03|115179.90635371441|\n",
            "|(2585,[0,7,60,112...|          74268.47| 73155.13391513983|\n",
            "|(2585,[0,7,60,112...|          95119.65|100417.38188391038|\n",
            "|(2585,[0,7,60,112...|          111428.5|115179.90635371441|\n",
            "|(2585,[0,7,60,112...|         111131.64|115179.90635371441|\n",
            "|(2585,[0,7,60,112...|          104513.3|100417.38188391038|\n",
            "|(2585,[0,7,60,112...|         111640.46|115179.90635371441|\n",
            "|(2585,[0,7,60,112...|         119244.74|123690.58182450364|\n",
            "|(2585,[0,7,60,112...|         169037.06|172184.82143890782|\n",
            "|(2585,[0,7,60,112...|          78002.98| 73155.13391513983|\n",
            "|(2585,[0,7,60,112...|         104855.76|100417.38188391038|\n",
            "|(2585,[0,7,60,112...|         110465.48|108533.63300297054|\n",
            "|(2585,[0,7,60,112...|          35024.11|34485.309315319464|\n",
            "|(2585,[0,7,60,112...|           47835.3| 50746.26852645799|\n",
            "|(2585,[0,7,60,112...|         118121.76|115179.90635371441|\n",
            "|(2585,[0,7,60,112...|         111555.61|115179.90635371441|\n",
            "|(2585,[0,7,60,112...|         114310.39|115179.90635371441|\n",
            "+--------------------+------------------+------------------+\n",
            "only showing top 20 rows\n",
            "\n"
          ]
        }
      ]
    },
    {
      "cell_type": "code",
      "source": [
        "from pyspark.ml.evaluation import RegressionEvaluator\n",
        "rmse=RegressionEvaluator(labelCol=\"Total Compensation\", predictionCol=\"prediction\", metricName=\"rmse\")\n",
        "rmse=rmse.evaluate(pred_results_dt) \n",
        "\n",
        "mae=RegressionEvaluator(labelCol=\"Total Compensation\", predictionCol=\"prediction\", metricName=\"mae\")\n",
        "mae=mae.evaluate(pred_results_dt) \n",
        " \n",
        "r2=RegressionEvaluator(labelCol=\"Total Compensation\", predictionCol=\"prediction\", metricName=\"r2\")\n",
        "r2=r2.evaluate(pred_results_dt)\n",
        "\n",
        "print(\"RMSE: \", rmse)\n",
        "print(\"MAE: \", mae)\n",
        "print(\"R-squared: \", r2)"
      ],
      "metadata": {
        "colab": {
          "base_uri": "https://localhost:8080/"
        },
        "id": "xyTsER3NrbdU",
        "outputId": "b6366eb9-0c36-47ca-9918-b91f82d5bd4d"
      },
      "execution_count": 72,
      "outputs": [
        {
          "output_type": "stream",
          "name": "stdout",
          "text": [
            "RMSE:  6549.435180723439\n",
            "MAE:  4188.590750327838\n",
            "R-squared:  0.9906402274020201\n"
          ]
        }
      ]
    },
    {
      "cell_type": "markdown",
      "metadata": {
        "application/vnd.databricks.v1+cell": {
          "inputWidgets": {},
          "nuid": "addb469a-37a3-47e8-8e65-4972a889cc4f",
          "showTitle": false,
          "title": ""
        },
        "id": "NPagi7ftQP0i"
      },
      "source": [
        "### Model Persistence (Optional)\n",
        "Model persistence means saving your model to a disk. After you finalize your model for prediction depending upon the performance, you need to save the model to the disk. Let's say, you finalize 'lrmodel' to be used for in production environment i.e. in your application. We use the following code to save it."
      ]
    },
    {
      "cell_type": "markdown",
      "source": [
        "##### Saving the model"
      ],
      "metadata": {
        "id": "Id1_cG1yb_7n"
      }
    },
    {
      "cell_type": "code",
      "execution_count": 75,
      "metadata": {
        "application/vnd.databricks.v1+cell": {
          "inputWidgets": {},
          "nuid": "be6d56cb-e99e-4b37-993b-ef66c9bf7963",
          "showTitle": false,
          "title": ""
        },
        "id": "VHHfHnTgQP0i"
      },
      "outputs": [],
      "source": [
        "# use save() method to save the model\n",
        "# write().overwrite() is usually used when you want to replace the older model with a new one\n",
        "# It might happen that you wish to retrain your model and save it at the same the place\n",
        "lr_model.write().overwrite().save(\"/content/drive/MyDrive/ColabNotebooks/lr_model\")\n",
        "dt_model.write().overwrite().save(\"/content/drive/MyDrive/ColabNotebooks/dt_model\")"
      ]
    },
    {
      "cell_type": "markdown",
      "source": [
        "##### Loading the model"
      ],
      "metadata": {
        "id": "VzsuP83tcEVN"
      }
    },
    {
      "cell_type": "code",
      "source": [
        "# import PipelineModel from pyspark.ml package\n",
        "#from pyspark.ml import PipelineModel\n",
        "from pyspark.ml.regression import LinearRegressionModel\n",
        "from pyspark.ml.regression import DecisionTreeRegressionModel\n",
        "\n",
        "# load the model from the location it is stored\n",
        "# The loaded model acts as PipelineModel\n",
        "model_lr = LinearRegressionModel.load(\"content/drive/MyDrive/ColabNotebooks/lr_model\")\n",
        "model_dt = DecisionTreeRegressionModel.load(\"content/drive/MyDrive/ColabNotebooks/dt_model\")\n",
        "\n",
        "# use the PipelineModel object to perform prediciton on test data. \n",
        "# Use .transform() to perfrom prediction\n",
        "prediction_lr = model_lr.transform(testDF)\n",
        "prediction_rt = model_dt.transform(testDF)\n",
        "\n",
        "# print the results\n",
        "prediction_lr.select('*').show(5)\n",
        "prediction_rt.select('*').show(5)"
      ],
      "metadata": {
        "id": "273mlbIPb8rY",
        "colab": {
          "base_uri": "https://localhost:8080/"
        },
        "outputId": "a3201c6f-082a-4780-a59a-eeda6b5dae4a"
      },
      "execution_count": 77,
      "outputs": [
        {
          "output_type": "stream",
          "name": "stdout",
          "text": [
            "+--------------------+------------------+------------------+\n",
            "|independent_features|Total Compensation|        prediction|\n",
            "+--------------------+------------------+------------------+\n",
            "|(2585,[0,7,60,112...|         126922.31| 126928.1806736858|\n",
            "|(2585,[0,7,60,112...|          102838.8|102854.79846198186|\n",
            "|(2585,[0,7,60,112...|         109989.99|109996.87461319349|\n",
            "|(2585,[0,7,60,112...|         110126.03|110138.08035879054|\n",
            "|(2585,[0,7,60,112...|          74268.47| 74270.49666911803|\n",
            "+--------------------+------------------+------------------+\n",
            "only showing top 5 rows\n",
            "\n",
            "+--------------------+------------------+------------------+\n",
            "|independent_features|Total Compensation|        prediction|\n",
            "+--------------------+------------------+------------------+\n",
            "|(2585,[0,7,60,112...|         126922.31|134710.90942732003|\n",
            "|(2585,[0,7,60,112...|          102838.8|100417.38188391038|\n",
            "|(2585,[0,7,60,112...|         109989.99|108533.63300297054|\n",
            "|(2585,[0,7,60,112...|         110126.03|115179.90635371441|\n",
            "|(2585,[0,7,60,112...|          74268.47| 73155.13391513983|\n",
            "+--------------------+------------------+------------------+\n",
            "only showing top 5 rows\n",
            "\n"
          ]
        }
      ]
    }
  ],
  "metadata": {
    "application/vnd.databricks.v1+notebook": {
      "dashboards": [],
      "language": "python",
      "notebookMetadata": {
        "pythonIndentUnit": 2
      },
      "notebookName": "In-Class Exercise (Spark ML)",
      "notebookOrigID": 3796726700441172,
      "widgets": {}
    },
    "kernelspec": {
      "display_name": "Python 3",
      "language": "python",
      "name": "python3"
    },
    "language_info": {
      "codemirror_mode": {
        "name": "ipython",
        "version": 3
      },
      "file_extension": ".py",
      "mimetype": "text/x-python",
      "name": "python",
      "nbconvert_exporter": "python",
      "pygments_lexer": "ipython3",
      "version": "3.6.3"
    },
    "colab": {
      "name": "Week 5-8 - Assignment.ipynb",
      "provenance": [],
      "collapsed_sections": []
    }
  },
  "nbformat": 4,
  "nbformat_minor": 0
}