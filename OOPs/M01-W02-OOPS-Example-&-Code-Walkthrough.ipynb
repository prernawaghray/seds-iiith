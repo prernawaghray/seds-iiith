{
 "cells": [
  {
   "cell_type": "markdown",
   "metadata": {},
   "source": [
    "# <font color='blue'> Table Of Contents </font>\n",
    "\n",
    "## <font color='blue'> Object Oriented Concepts </font>\n",
    "\n",
    "<font color='blue'>\n",
    "\n",
    "\n",
    "* Access Modifiers\n",
    "\n",
    "* Method overriding\n",
    "    \n",
    "* Method overloading\n",
    "    \n",
    "* Composition\n",
    "\n",
    "* Abstraction\n",
    "    \n",
    "</font>\n"
   ]
  },
  {
   "cell_type": "markdown",
   "metadata": {},
   "source": [
    "### <font color='blue'>  Access Modifiers </font>\n",
    "\n",
    "Let's see public, private, and protected variables in action. Execute the following snippet:"
   ]
  },
  {
   "cell_type": "code",
   "execution_count": null,
   "metadata": {},
   "outputs": [],
   "source": [
    "class Demo:\n",
    "    def __init__(self, nv, pv):\n",
    "      # normal variable\n",
    "        self.nv = nv\n",
    "      # private variable(not really)\n",
    "        self.__pv = pv\n",
    "        \n",
    "        self._prov = \"Protected variable\"\n",
    "\n",
    "sample = Demo('Normal variable', 'Private variable')\n",
    "\n",
    "# accessing *nv*\n",
    "print(sample.nv)\n",
    "\n",
    "# accessing *_prov*\n",
    "print(sample._prov)\n",
    "\n",
    "# accessing *__pv**\n",
    "print(sample.__pv)"
   ]
  },
  {
   "cell_type": "markdown",
   "metadata": {},
   "source": [
    "### <font color='blue'> Name Mangling </font>\n",
    "As you have observed above, while accessing the <b><i>private</i></b> variable, we got an error.  <br>\n",
    "In Python, with regard to access specifiers, the language makes a <b><i>recommendation</i></b> of using this protocol of <b><i>public</i></b>, <b><i>protected</i></b> and <b><i>private</i></b> specifiers. <br> \n",
    "A programmer, however can access these without any hindrance. The language, does not restrict from doing so. <br> \n",
    "The reason of <b><i>Attribute</i></b> error while accessing sample.__pv is that Python does the <b><i>name mangling</i></b>. Here is how it is accessible."
   ]
  },
  {
   "cell_type": "code",
   "execution_count": 10,
   "metadata": {},
   "outputs": [
    {
     "data": {
      "text/plain": [
       "'Private variable'"
      ]
     },
     "execution_count": 10,
     "metadata": {},
     "output_type": "execute_result"
    }
   ],
   "source": [
    "sample._Demo__pv"
   ]
  },
  {
   "cell_type": "markdown",
   "metadata": {},
   "source": [
    "In Python, whenever a variable is declared with <b>__</b>, the language internally puts <b><i>_classname__</i></b> before the variable name.  <br>\n",
    "Name mangling is not a new concept, it is used to implement function overloading in C++.\n"
   ]
  },
  {
   "cell_type": "markdown",
   "metadata": {},
   "source": [
    "### <font color='red'>Words of caution</font>"
   ]
  },
  {
   "cell_type": "markdown",
   "metadata": {},
   "source": [
    "These access specifiers help in applying the principle of ***Encapsulation.*** These define as which all attributes or methods are is accessible and which are not.  \n",
    "\n",
    "In a language like C++, when a user defines these access modifiers, any access to private attributes or methods leads to an error at the compile time. And this provides a good safety net for any accidental access of private attributes or methods.  \n",
    "\n",
    "In Python , however, these ***specifiers are recommendation*** to treat an attribute or a method as a private or protected. The interpreter will not throw any error message in case a developers tries to breach this contract.  \n",
    "It is up-to the developer to be disciplined enough to respect this contract.  \n",
    "At the same time it is not possible to check this where there are many developers working together. "
   ]
  },
  {
   "cell_type": "code",
   "execution_count": 4,
   "metadata": {
    "scrolled": false
   },
   "outputs": [
    {
     "name": "stdout",
     "output_type": "stream",
     "text": [
      "Engine started\n",
      "A Honda Engine has started\n"
     ]
    },
    {
     "ename": "AttributeError",
     "evalue": "'Car' object has no attribute '__showData'",
     "output_type": "error",
     "traceback": [
      "\u001b[1;31m---------------------------------------------------------------------------\u001b[0m",
      "\u001b[1;31mAttributeError\u001b[0m                            Traceback (most recent call last)",
      "\u001b[1;32m<ipython-input-4-014c06e65b01>\u001b[0m in \u001b[0;36m<module>\u001b[1;34m\u001b[0m\n\u001b[0;32m     14\u001b[0m \u001b[0mcar_a\u001b[0m \u001b[1;33m=\u001b[0m \u001b[0mCar\u001b[0m\u001b[1;33m(\u001b[0m\u001b[1;33m)\u001b[0m\u001b[1;33m\u001b[0m\u001b[1;33m\u001b[0m\u001b[0m\n\u001b[0;32m     15\u001b[0m \u001b[0mcar_a\u001b[0m\u001b[1;33m.\u001b[0m\u001b[0m_show\u001b[0m\u001b[1;33m(\u001b[0m\u001b[1;33m)\u001b[0m\u001b[1;33m\u001b[0m\u001b[1;33m\u001b[0m\u001b[0m\n\u001b[1;32m---> 16\u001b[1;33m \u001b[0mcar_a\u001b[0m\u001b[1;33m.\u001b[0m\u001b[0m__showData\u001b[0m\u001b[1;33m(\u001b[0m\u001b[1;33m)\u001b[0m\u001b[1;33m\u001b[0m\u001b[1;33m\u001b[0m\u001b[0m\n\u001b[0m",
      "\u001b[1;31mAttributeError\u001b[0m: 'Car' object has no attribute '__showData'"
     ]
    }
   ],
   "source": [
    "class Car:\n",
    "    def __init__(self):\n",
    "        print (\"Engine started\")\n",
    "        self.name = \"Amaze\"\n",
    "        self.__make = \"Honda\"\n",
    "        self._model = 2014\n",
    "    \n",
    "    def _show(self):\n",
    "        print (\"A Honda Engine has started\")\n",
    "    \n",
    "    def __showData(self):\n",
    "        print (\"Amaze is on its way\")\n",
    "    \n",
    "car_a = Car()\n",
    "car_a._show()\n",
    "car_a.__showData()"
   ]
  },
  {
   "cell_type": "markdown",
   "metadata": {},
   "source": [
    "* public : All members in a Python class are public by default. Any member can be accessed from outside the class environment. \n",
    "\n",
    "* private: The members of a class that are declared private are accessible within the class only, private access modifier is the most secure access modifier. Data members of a class are declared private by adding a double underscore ‘__’ symbol before the data member of that class.\n",
    "\n",
    "* protected:The members of a class that are declared protected are only accessible to a class derived from it. Data members of a class are declared protected by adding a single underscore ‘_’ symbol before the data member of that class."
   ]
  },
  {
   "cell_type": "markdown",
   "metadata": {},
   "source": [
    "## <font color='blue'> Polymorphism </font>  \n",
    "\n",
    "Polymorphism is a feature of object-oriented programming languages that allows a specific routine to use variables of different types at different times. \n",
    "\n",
    "### <font color='blue'> Method Overriding </font>  \n",
    "When a child class has s method with the same name and parameters as defined in parent class it is called ***method overriding.*** See an example below"
   ]
  },
  {
   "cell_type": "code",
   "execution_count": 10,
   "metadata": {},
   "outputs": [
    {
     "name": "stdout",
     "output_type": "stream",
     "text": [
      "Inside Parent Class\n",
      "Inside child Class\n",
      "Doing some additional work\n",
      "Inside Parent Class - Test\n",
      "Inside child Class - Test\n"
     ]
    }
   ],
   "source": [
    "class Parent():  \n",
    "    # Constructor \n",
    "    def __init__(self): \n",
    "        self.value = \"Inside Parent Class\"\n",
    "    \n",
    "    def show(self):\n",
    "        print(self.value)\n",
    "    \n",
    "    def append_a_string(self, strn):\n",
    "        print(f\"{self.value} - {strn}\")\n",
    "\n",
    "# Defining child class \n",
    "class Child(Parent): \n",
    "    # Constructor \n",
    "    def __init__(self): \n",
    "        self.value = \"Inside child Class\"\n",
    "        \n",
    "    def show(self):\n",
    "        print(self.value)\n",
    "        print(\"Doing some additional work\")\n",
    "        \n",
    "\n",
    "# Driver's code \n",
    "obj1 = Parent() \n",
    "obj2 = Child() \n",
    "\n",
    "obj1.show() \n",
    "obj2.show() \n",
    "obj1.append_a_string(\"Test\") \n",
    "obj2.append_a_string(\"Test\") "
   ]
  },
  {
   "cell_type": "markdown",
   "metadata": {},
   "source": [
    "**Note**: In case we expect both the ```Parent.append_a_string()``` and ```Child.append_a_string()``` to do exactly the same thing, then, we can easily skip defining the function ```Child.append_a_string()``` and use the Parent's function."
   ]
  },
  {
   "cell_type": "code",
   "execution_count": null,
   "metadata": {},
   "outputs": [],
   "source": [
    "# Is this method overriding? \n",
    "\n",
    "class India: \n",
    "    def capital(self): \n",
    "        print(\"New Delhi is the capital of India.\") \n",
    "\n",
    "    def language(self): \n",
    "        print(\"Hindi is the most widely spoken language of India.\") \n",
    "\n",
    "    def type(self): \n",
    "        print(\"India is a developing country.\") \n",
    "\n",
    "class USA: \n",
    "    def capital(self): \n",
    "        print(\"Washington, D.C. is the capital of USA.\") \n",
    "\n",
    "    def language(self): \n",
    "        print(\"English is the primary language of USA.\") \n",
    "\n",
    "    def type(self): \n",
    "        print(\"USA is a developed country.\") \n",
    "\n",
    "obj_ind = India() \n",
    "obj_usa = USA() \n",
    "for country in (obj_ind, obj_usa): \n",
    "    country.capital() \n",
    "    country.language() \n",
    "    country.type()\n"
   ]
  },
  {
   "cell_type": "markdown",
   "metadata": {},
   "source": [
    "### <font color='blue'> Method Overloading </font>\n",
    "\n",
    "When a class has 2 functions with same name but with different set of parameters. It is known as ***method overloading.***  \n",
    "***Python does not support method overloading by default.***   \n",
    "\n",
    "The question is why?\n",
    "For a class all the data members and methods that we declare are stored in a class object as an **attribute**. An object can have only 1 attribute of given name. See the code below...  "
   ]
  },
  {
   "cell_type": "code",
   "execution_count": 2,
   "metadata": {},
   "outputs": [
    {
     "data": {
      "text/plain": [
       "mappingproxy({'__module__': '__main__',\n",
       "              '__doc__': ' This class is defined to show how methods are stored in a class ',\n",
       "              '__init__': <function __main__.SomeClass.__init__(self, data1, data2)>,\n",
       "              'add': <function __main__.SomeClass.add(self)>,\n",
       "              'sub': <function __main__.SomeClass.sub(self)>,\n",
       "              '__dict__': <attribute '__dict__' of 'SomeClass' objects>,\n",
       "              '__weakref__': <attribute '__weakref__' of 'SomeClass' objects>})"
      ]
     },
     "execution_count": 2,
     "metadata": {},
     "output_type": "execute_result"
    }
   ],
   "source": [
    "class SomeClass:\n",
    "    \"\"\" This class is defined to show how methods are stored in a class \"\"\"\n",
    "    def __init__(self, data1, data2):\n",
    "        self.data1 = data1\n",
    "        self.data2 = data2\n",
    "        \n",
    "    def add(self):\n",
    "        return self.data1 + self.data2\n",
    "    \n",
    "    def sub(self):\n",
    "        return self.data1 - self.data2\n",
    "    \n",
    "SomeClass.__dict__"
   ]
  },
  {
   "cell_type": "markdown",
   "metadata": {},
   "source": [
    "You notice that these attributes are stored in a dictionary. And if we try to add a new function with the same name, it will simply replace the definition of an earlier one."
   ]
  },
  {
   "cell_type": "markdown",
   "metadata": {},
   "source": [
    "How can we implement method overloading?  \n",
    "One way is that we use the parameters, and based on the parameter values we implement the different functionality. See an example below"
   ]
  },
  {
   "cell_type": "code",
   "execution_count": 3,
   "metadata": {},
   "outputs": [
    {
     "name": "stdout",
     "output_type": "stream",
     "text": [
      "Hello, a girl with no name.\n",
      "Hello Arya Stark\n"
     ]
    }
   ],
   "source": [
    "class Stark:\n",
    "    def hello_stark(self, age, name = None):\n",
    "        if name is None:\n",
    "            print(\"Hello, a girl with no name.\")\n",
    "        else:\n",
    "            print(\"Hello \" + name)\n",
    "s1=Stark()\n",
    "s1.hello_stark(20)\n",
    "s1.hello_stark(20, \"Arya Stark\")"
   ]
  },
  {
   "cell_type": "markdown",
   "metadata": {},
   "source": [
    "### <font color='blue'> Composition </font>\n",
    "\n",
    "\n",
    "In this concept, we will describe a class that references to one or more objects of other classes as an Instance variable. \n",
    "\n",
    "Here, by using the class name or by creating the object we can access the members of one class inside another class. \n",
    "\n",
    "It enables creating complex types by combining objects of different classes. \n",
    "\n",
    "It means that a class Composite can contain an object of another class Component. This type of relationship is known as Has-A Relation."
   ]
  },
  {
   "cell_type": "code",
   "execution_count": 15,
   "metadata": {},
   "outputs": [
    {
     "name": "stdout",
     "output_type": "stream",
     "text": [
      "Component class object created...\n",
      "Composite class object also created...\n",
      "Composite class method2() method executed...\n",
      "Component class method1() method executed...\n"
     ]
    }
   ],
   "source": [
    "class Component_cls:   \n",
    "    # composite class constructor \n",
    "    def __init__(self): \n",
    "        print('Component class object created...') \n",
    "        \n",
    "    # composite class instance method \n",
    "    def method1(self): \n",
    "        print('Component class method1() method executed...') \n",
    "    \n",
    "  \n",
    "  \n",
    "class Composite_cls(): \n",
    "    # composite class constructor \n",
    "    def __init__(self): \n",
    "        # creating object of component class \n",
    "        self.obj1 = Component_cls()           \n",
    "        print('Composite class object also created...') \n",
    "     \n",
    "    def method2(self):\n",
    "        print('Composite class method2() method executed...') \n",
    "        self.obj1.method1()\n",
    "        \n",
    "        \n",
    "# creating object of composite class \n",
    "obj2 = Composite_cls() \n",
    "  \n",
    "# calling m2() method of composite class \n",
    "obj2.method2()"
   ]
  },
  {
   "cell_type": "markdown",
   "metadata": {},
   "source": [
    "Inheritance is used where a class wants to derive the nature of parent class and then modify or extend the functionality of it.\n",
    "\n",
    "Inheritance will extend the functionality with extra features allows overriding of methods, but in the case of Composition, we can only use that class we can not modify or extend the functionality of it. \n",
    "\n",
    "When the need is to use the class as it is without any modification, the composition is recommended. But when one needs to change the behavior of the method in another class, then inheritance is recommended."
   ]
  },
  {
   "cell_type": "markdown",
   "metadata": {},
   "source": [
    "### <font color='blue'> Abstract Classes </font>\n",
    "\n",
    "Abstract classes are classes that contain one or more abstract methods. \n",
    "\n",
    "An abstract method is a method that is declared, but contains no implementation. \n",
    "\n",
    "Abstract classes cannot be instantiated, and require subclasses to provide implementations for the abstract methods.\n",
    "\n",
    "In fact, Python on its own doesn't provide abstract classes. \n",
    "\n",
    "Yet, Python comes with a module which provides the infrastructure for defining Abstract Base Classes (ABCs). This module is called - for obvious reasons - abc."
   ]
  },
  {
   "cell_type": "code",
   "execution_count": 44,
   "metadata": {},
   "outputs": [],
   "source": [
    "class AbstractClass:\n",
    "    def do_something(self):\n",
    "        pass\n",
    "class A(AbstractClass):\n",
    "    pass\n",
    "\n",
    "A = AbstractClass()"
   ]
  },
  {
   "cell_type": "code",
   "execution_count": null,
   "metadata": {},
   "outputs": [],
   "source": [
    "class AbstractClass:\n",
    "\n",
    "    def __init__(self):\n",
    "        if self.__class__ == AbstractClass:\n",
    "            raise Exception('I am abstract!')\n",
    "        \n",
    "    \n",
    "    def do_something(self):\n",
    "        pass\n",
    "    \n",
    "class B(AbstractClass):\n",
    "    pass\n",
    "\n",
    "b = B()\n",
    "#a = AbstractClass()\n",
    "print(1)"
   ]
  },
  {
   "cell_type": "code",
   "execution_count": 17,
   "metadata": {},
   "outputs": [
    {
     "name": "stdout",
     "output_type": "stream",
     "text": [
      "52\n",
      "420\n"
     ]
    }
   ],
   "source": [
    "from abc import ABC, abstractmethod\n",
    " \n",
    "class AbstractClassExample(ABC):\n",
    "\n",
    "    @abstractmethod\n",
    "    def do_something(self):        \n",
    "        pass\n",
    "\n",
    "class DoAdd42(AbstractClassExample):\n",
    "    \n",
    "    def __init__(self, value):\n",
    "        self.value = value\n",
    "\n",
    "    def do_something(self):\n",
    "        return self.value + 42\n",
    "        \n",
    "    \n",
    "class DoMul42(AbstractClassExample):\n",
    "    \n",
    "    def __init__(self, value):\n",
    "        self.value = value\n",
    "\n",
    "    def do_something(self):\n",
    "        return self.value * 42\n",
    "\n",
    "x = DoAdd42(10)\n",
    "y = DoMul42(10)\n",
    "\n",
    "#a = AbstractClassExample()\n",
    "\n",
    "print(x.do_something())\n",
    "print(y.do_something())"
   ]
  },
  {
   "cell_type": "markdown",
   "metadata": {},
   "source": [
    "### <font color='blue'> Exercise </font>\n",
    "\n",
    "\n",
    "write python code for following:\n",
    "\n",
    "* Create a `Pet` class with following methods in it apart from `__init__` constructor. \n",
    "    * get_name(self) --> returns the name\n",
    "    * get_animal_type(self) --> returns the type of the animal\n",
    "    * get_age(self) --> returns the age of the animal\n",
    "    * set_name(self, new_name) --> renames the pet\n",
    "    * set_animal_type(self, new_type) --> renames the animal type\n",
    "    * set_age(self, new_age) --> reset the age\n",
    "* `Pet` class `__init__` constructor must have all the instance variable declared in protected mode\n",
    "* `__init__` method should have dictionary as a parameter to allocate the input to each object.\n",
    "* for object instantiation accept the `name`, `animal_type` and `age` from user. \n",
    "* you need to have all your values in dictionary for object instantiation.  \n",
    "* you can directly insert key: value pairs during the instantiation of object. \n",
    "* print the instatitated object.  "
   ]
  }
 ],
 "metadata": {
  "kernelspec": {
   "display_name": "Python 3",
   "language": "python",
   "name": "python3"
  },
  "language_info": {
   "codemirror_mode": {
    "name": "ipython",
    "version": 3
   },
   "file_extension": ".py",
   "mimetype": "text/x-python",
   "name": "python",
   "nbconvert_exporter": "python",
   "pygments_lexer": "ipython3",
   "version": "3.8.8"
  }
 },
 "nbformat": 4,
 "nbformat_minor": 4
}
