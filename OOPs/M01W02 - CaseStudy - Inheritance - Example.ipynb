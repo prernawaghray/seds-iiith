{
 "cells": [
  {
   "cell_type": "markdown",
   "metadata": {},
   "source": [
    "# <font color='blue'> Table Of Contents </font>\n",
    "\n",
    "## <font color='blue'> Multiple Inheritance Example </font>\n",
    "\n",
    "<font color='blue'>\n",
    "    \n",
    "* Simple Inheritance\n",
    "\n",
    "* Hierarchical Inheritance\n",
    "\n",
    "* Multiple Inheritance\n",
    "</font>\n",
    "\n",
    "### <font color='blue'> A short note on getters and setter </font>"
   ]
  },
  {
   "cell_type": "markdown",
   "metadata": {},
   "source": [
    "In this example we will see as how we can make use of Inheritance.  \n",
    "\n",
    "Before we start with the example, you MUST remember that when we think of inheritance, we think of using the Functionality. We think of re-using the Functionality of a class.  \n",
    "While doing so, we have an advantage of using the code of the existing class. And this MUST be the content of code-reuse.  \n",
    "\n",
    "We MUST NOT inherit from a class just for the sake of reusing an existing code"
   ]
  },
  {
   "cell_type": "markdown",
   "metadata": {},
   "source": [
    "### Simple Inheritance"
   ]
  },
  {
   "cell_type": "code",
   "execution_count": 73,
   "metadata": {},
   "outputs": [],
   "source": [
    "class CreditCard:\n",
    "    \"\"\"Generic Credit Card\"\"\"\n",
    "    def __init__(self, card):\n",
    "        self._name = card['name'] # protected member\n",
    "        self.__number = card['number'] # private member\n",
    "        self.limit = card['limit']\n",
    "        self.bill_cycle = card['bill_cycle']\n",
    "        self.bill_due_date = card['bill_due_date']\n",
    "        self.late_payment_fee = card['late_payment_fee']\n",
    "        self.monthly_interest_rate = card['monthly_interest_rate']\n",
    "        self.reward_points = card['reward_points']\n",
    "        self.joining_fee = card['joining_fee']\n",
    "        self.renewal_fee = card['renewal_fee']\n",
    "        self.expiry_date = card['expiry_date']\n",
    "        self.swipe_to_reward_conversion = card['swite_to_reward_conversion']\n",
    "        self.exclusive_offers = card['exclusive_offers']\n",
    "        self.swipe_amount = 0\n",
    "        self.total_swipe_amount = 0\n",
    "        \n",
    "    #functionality that base class provides. And we reuse this code.\n",
    "    def get_name(self):\n",
    "        return self._name \n",
    "    \n",
    "    def get_card_number(self):\n",
    "        return self.__number\n",
    "    \n",
    "    def get_limit(self):\n",
    "        return self.limit\n",
    "    \n",
    "    def get_exclusive_offers(self):\n",
    "        return self.exclusive_offers\n",
    "    \n",
    "    def get_renewal_fee(self):\n",
    "        print(\"get_renewal_fee - from CreditCard\" )\n",
    "        return self.renewal_fee\n",
    "    \n",
    "    def update_reward_points(self, points):\n",
    "        self.reward_points += points\n",
    "    \n",
    "    def get_reward_points(self):\n",
    "        return self.reward_points\n",
    "    \n",
    "    def update_swipe_amount(self, amount):\n",
    "        self.swipe_amount = amount\n",
    "        self.total_swipe_amount += self.swipe_amount\n",
    "        \n",
    "    def get_total_swipe_amount(self):\n",
    "        return self.total_swipe_amount\n"
   ]
  },
  {
   "cell_type": "code",
   "execution_count": 74,
   "metadata": {},
   "outputs": [],
   "source": [
    "class CoralCard(CreditCard):\n",
    "    \"\"\"Card for Shopoholic\"\"\"\n",
    "    def __init__(self, card):\n",
    "        super().__init__(card)\n",
    "        self.petrol_surcharge_limit = card['petrol_surcharge_limit']\n",
    "        self.petrol_surcharge = card['petrol_surcharge']\n",
    "        self.airport_lounge_limit = card['airport_lounge_limit']\n",
    "        self.food_bill_min_amount = card['food_bill_min_amount']\n",
    "        self.food_discount = card['food_discount']\n",
    "        \n",
    "        self.airport_lounge_access = 0\n",
    "\n",
    "    \n",
    "    # A good practice is when we need to access any of the parrent attribute we should have a corresponding\n",
    "    # method to update or access the attribute.\n",
    "    def is_lounge_access_limit_over(self):\n",
    "        return self.airport_lounge_access > self.airport_lounge_limit\n",
    "    \n",
    "    \n",
    "    # Functionality specific to this card. So all the attributes and methods required for this have to be present in this\n",
    "    # class. Parent will have no knowledge of this.\n",
    "    def update_lounge_access_count(self):\n",
    "        self.airport_lounge_access += 1\n",
    "    \n",
    "    # Rerouting a call from this card to parent card to update the attributes using a function. Again a good practice.\n",
    "    # Avoid direct access to parent attributes.\n",
    "    def swipe_card(self, amount):\n",
    "        self.update_swipe_amount(amount)\n",
    "        \n",
    "    # Functionality specific to this card. So all the attributes and methods required for this have to be present in this\n",
    "    # class. Parent will have no knowledge of this.    \n",
    "    def get_food_bill_discuount(self, amount):\n",
    "        discount = 0\n",
    "        if amount > 1000:\n",
    "            # We can add a check that swipe is done at a partner restuarant\n",
    "            discount = amount * (self.food_discount/100)\n",
    "            \n",
    "        self.update_swipe_amount(-discount)\n",
    "        return discount\n",
    "    \n",
    "    # Function with the same name declared in CoralCard and GlobeTrotter\n",
    "    def get_airport_lounge_access(self):\n",
    "        print(\"Lounge access from - CoralCard\")\n",
    "        return self.airport_lounge_access"
   ]
  },
  {
   "cell_type": "code",
   "execution_count": 75,
   "metadata": {},
   "outputs": [],
   "source": [
    "card_ = {}\n",
    "card_['name'] = 'CoralCard'\n",
    "card_['number'] = '1234567890123456'\n",
    "card_['limit'] = 100000\n",
    "card_['bill_cycle'] = 14\n",
    "card_['bill_due_date'] = 25\n",
    "card_['late_payment_fee'] = 500\n",
    "card_['monthly_interest_rate'] = 3.56\n",
    "card_['reward_points'] = 0\n",
    "card_['joining_fee'] = 0\n",
    "card_['renewal_fee'] = 4000\n",
    "card_['expiry_date'] = '2025-04-24'\n",
    "card_['swite_to_reward_conversion'] = 75\n",
    "card_['exclusive_offers'] = ['No Petrol Surcharge', 'Free airport lounge access', 'Extra discount on food bill']\n",
    "card_['petrol_surcharge_limit'] = 10000\n",
    "card_['petrol_surcharge'] = 2 \n",
    "card_['airport_lounge_limit'] = 4\n",
    "card_['food_bill_min_amount'] = 1000\n",
    "card_['food_discount'] = 10"
   ]
  },
  {
   "cell_type": "code",
   "execution_count": 76,
   "metadata": {},
   "outputs": [],
   "source": [
    "cc1 = CoralCard(card_)"
   ]
  },
  {
   "cell_type": "code",
   "execution_count": 77,
   "metadata": {},
   "outputs": [
    {
     "name": "stdout",
     "output_type": "stream",
     "text": [
      "CoralCard\n",
      "1234567890123456\n"
     ]
    }
   ],
   "source": [
    "print(cc1._name)\n",
    "print(cc1._CreditCard__number)"
   ]
  },
  {
   "cell_type": "markdown",
   "metadata": {},
   "source": [
    "<div class=\"alert alert-block alert-warning\">\n",
    "    <b>Good Coding practice</b>: Python does not stop from accessing attributes and methods that are marked as protected or private. It is important to be more disciplined and follow the rules of recommended modifiers. Be very disciplined\n",
    "</div>"
   ]
  },
  {
   "cell_type": "markdown",
   "metadata": {},
   "source": [
    "<div class=\"alert alert-block alert-warning\">\n",
    "    <b>Note</b>: It is important for Child class to call the base class __init__() method. If it does not, then it will have no access to the base class attributes and methods.\n",
    "</div>"
   ]
  },
  {
   "cell_type": "code",
   "execution_count": 78,
   "metadata": {},
   "outputs": [
    {
     "data": {
      "text/plain": [
       "False"
      ]
     },
     "execution_count": 78,
     "metadata": {},
     "output_type": "execute_result"
    }
   ],
   "source": [
    "cc1.update_lounge_access_count()\n",
    "cc1.update_lounge_access_count()\n",
    "cc1.is_lounge_access_limit_over()"
   ]
  },
  {
   "cell_type": "code",
   "execution_count": 79,
   "metadata": {},
   "outputs": [
    {
     "name": "stdout",
     "output_type": "stream",
     "text": [
      "get_renewal_fee - from CreditCard\n"
     ]
    },
    {
     "data": {
      "text/plain": [
       "4000"
      ]
     },
     "execution_count": 79,
     "metadata": {},
     "output_type": "execute_result"
    }
   ],
   "source": [
    "cc1.get_renewal_fee()"
   ]
  },
  {
   "cell_type": "code",
   "execution_count": 80,
   "metadata": {},
   "outputs": [
    {
     "data": {
      "text/plain": [
       "0"
      ]
     },
     "execution_count": 80,
     "metadata": {},
     "output_type": "execute_result"
    }
   ],
   "source": [
    "cc1.get_food_bill_discuount(900)"
   ]
  },
  {
   "cell_type": "markdown",
   "metadata": {},
   "source": [
    "### Hierarchical Inheritance"
   ]
  },
  {
   "cell_type": "code",
   "execution_count": 81,
   "metadata": {},
   "outputs": [],
   "source": [
    "class GlobeTrotter(CreditCard):\n",
    "    \"\"\"Card for a traveler\"\"\"\n",
    "    def __init__(self, card):\n",
    "        super().__init__(card)\n",
    "        self.petrol_surcharge_limit = card['petrol_surcharge_limit']\n",
    "        self.petrol_surcharge = card['petrol_surcharge']\n",
    "        self.airport_lounge_limit = card['airport_lounge_limit']\n",
    "        self.food_bill_min_amount = card['food_bill_min_amount']\n",
    "        self.food_discount = card['food_discount']\n",
    "        self.currency_conversion_discount = card['currency_conversion_discount'] # Get discount on the conversion fee\n",
    "        self.currency_conversion_fee = card['currency_conversion_fee'] # percentage of the currency converted\n",
    "        self.conversion_rate_dicount_limit = card['conversion_rate_dicount_limit']\n",
    "        self.renewal_fee_waiver_limit = card['renewal_fee_waiver_limit']\n",
    "\n",
    "        \n",
    "        self.airport_lounge_access = 0\n",
    "        self.currency_converted_so_far = 0\n",
    "\n",
    "\n",
    "        \n",
    "    # Functionality specific to this card. So all the attributes and methods required for this have to be present in this\n",
    "    # class. Parent will have no knowledge of this.\n",
    "    def calculate_conversion_fee(self, amount):\n",
    "        conversion_fee = amount * (self.currency_conversion_fee/100)\n",
    "        self.currency_converted_so_far += amount\n",
    "        self.update_swipe_amount(amount)\n",
    "        \n",
    "        if self.currency_converted_so_far < self.conversion_rate_dicount_limit:\n",
    "            conversion_fee = conversion_fee - (conversion_fee * (self.currency_conversion_discount/100))\n",
    "        return conversion_fee\n",
    "        \n",
    "    # This is an example of function overriding. We check for a condition whether to apply a renewal fee or not.\n",
    "    # Based on output, we calculate the renewal fee.\n",
    "    def get_renewal_fee(self):\n",
    "        print(\"get_renewal_fee - from GlobeTrotter\" )\n",
    "        if self.get_total_swipe_amount() > self.renewal_fee_waiver_limit:\n",
    "            return 0\n",
    "        else:\n",
    "            return super().get_renewal_fee()\n",
    "    \n",
    "    # Function with the same name declared in CoralCard and GlobeTrotter\n",
    "    def get_airport_lounge_access(self):\n",
    "        print(\"Lounge access from - GlobeTrotter\")\n",
    "        return self.airport_lounge_access"
   ]
  },
  {
   "cell_type": "code",
   "execution_count": 82,
   "metadata": {},
   "outputs": [],
   "source": [
    "gcard_ = {}\n",
    "gcard_['name'] = 'GlobeTrotter'\n",
    "gcard_['number'] = '135790864206758'\n",
    "gcard_['limit'] = 300000\n",
    "gcard_['bill_cycle'] = 10\n",
    "gcard_['bill_due_date'] = 29\n",
    "gcard_['late_payment_fee'] = 500\n",
    "gcard_['monthly_interest_rate'] = 3.4\n",
    "gcard_['reward_points'] = 1000\n",
    "gcard_['joining_fee'] = 2000\n",
    "gcard_['renewal_fee'] = 5000\n",
    "gcard_['expiry_date'] = '2026-08-20'\n",
    "gcard_['swite_to_reward_conversion'] = 75\n",
    "gcard_['exclusive_offers'] = ['No Petrol Surcharge', 'Free airport lounge access', \n",
    "                              'Extra discount on food bill', 'Conversion Rate discount']\n",
    "gcard_['petrol_surcharge_limit'] = 15000\n",
    "gcard_['petrol_surcharge'] = 2 \n",
    "gcard_['airport_lounge_limit'] = 12\n",
    "gcard_['food_bill_min_amount'] = 1000\n",
    "gcard_['food_discount'] = 10\n",
    "gcard_['conversion_rate_dicount_limit'] = 5000 # USD. after this coversion rate will apply.\n",
    "gcard_['currency_conversion_discount'] = 15\n",
    "gcard_['currency_conversion_fee'] = 2\n",
    "gcard_['renewal_fee_waiver_limit'] = 500000"
   ]
  },
  {
   "cell_type": "code",
   "execution_count": 83,
   "metadata": {},
   "outputs": [],
   "source": [
    "gt = GlobeTrotter(gcard_)"
   ]
  },
  {
   "cell_type": "code",
   "execution_count": 84,
   "metadata": {},
   "outputs": [
    {
     "name": "stdout",
     "output_type": "stream",
     "text": [
      "0\n",
      "500000\n",
      "get_renewal_fee - from GlobeTrotter\n",
      "get_renewal_fee - from CreditCard\n"
     ]
    },
    {
     "data": {
      "text/plain": [
       "5000"
      ]
     },
     "execution_count": 84,
     "metadata": {},
     "output_type": "execute_result"
    }
   ],
   "source": [
    "print(gt.get_total_swipe_amount())\n",
    "print(gt.renewal_fee_waiver_limit)\n",
    "gt.get_renewal_fee()"
   ]
  },
  {
   "cell_type": "markdown",
   "metadata": {},
   "source": [
    "### Multiple Inheritance"
   ]
  },
  {
   "cell_type": "code",
   "execution_count": 85,
   "metadata": {},
   "outputs": [],
   "source": [
    "class GlobalShopper(GlobeTrotter, CoralCard):\n",
    "    \"\"\"Card for a Shopoholic who travels\"\"\"\n",
    "    # For this class which inherits from two classes, we use the class name to call its corresponding init method,\n",
    "    def __init__(self, card):\n",
    "        GlobeTrotter.__init__(self, card)\n",
    "        CoralCard.__init__(self, card)"
   ]
  },
  {
   "cell_type": "code",
   "execution_count": 86,
   "metadata": {},
   "outputs": [],
   "source": [
    "class GlobalShopper2(CoralCard, GlobeTrotter):\n",
    "    \"\"\"Card for a Shopoholic who travels\"\"\"\n",
    "    # For this class which inherits from two classes, we use the class name to call its corresponding init method,\n",
    "    def __init__(self, card):\n",
    "        GlobeTrotter.__init__(self, card)\n",
    "        CoralCard.__init__(self, card)"
   ]
  },
  {
   "cell_type": "code",
   "execution_count": 87,
   "metadata": {},
   "outputs": [],
   "source": [
    "gscard_ = {}\n",
    "gscard_['name'] = 'GlobalShopper'\n",
    "gscard_['number'] = '135790864206758'\n",
    "gscard_['limit'] = 500000\n",
    "gscard_['bill_cycle'] = 10\n",
    "gscard_['bill_due_date'] = 29\n",
    "gscard_['late_payment_fee'] = 500\n",
    "gscard_['monthly_interest_rate'] = 3.4\n",
    "gscard_['reward_points'] = 5000\n",
    "gscard_['joining_fee'] = 5000\n",
    "gscard_['renewal_fee'] = 10000\n",
    "gscard_['expiry_date'] = '2026-08-20'\n",
    "gscard_['swite_to_reward_conversion'] = 75\n",
    "gscard_['exclusive_offers'] = ['No Petrol Surcharge', 'Free airport lounge access', \n",
    "                               'Extra discount on food bill', 'Conversion Rate discount']\n",
    "gscard_['petrol_surcharge_limit'] = 20000\n",
    "gscard_['petrol_surcharge'] = 2 \n",
    "gscard_['airport_lounge_limit'] = 12\n",
    "gscard_['food_bill_min_amount'] = 1000\n",
    "gscard_['food_discount'] = 10\n",
    "gscard_['conversion_rate_dicount_limit'] = 9000 # USD. after this coversion rate will apply.\n",
    "gscard_['currency_conversion_discount'] = 20\n",
    "gscard_['currency_conversion_fee'] = 2\n",
    "gscard_['renewal_fee_waiver_limit'] = 500000\n"
   ]
  },
  {
   "cell_type": "code",
   "execution_count": 88,
   "metadata": {},
   "outputs": [],
   "source": [
    "gs_card = GlobalShopper(gscard_)\n",
    "gs_card2 = GlobalShopper2(gscard_)"
   ]
  },
  {
   "cell_type": "code",
   "execution_count": 89,
   "metadata": {},
   "outputs": [
    {
     "data": {
      "text/plain": [
       "{'_name': 'GlobalShopper',\n",
       " '_CreditCard__number': '135790864206758',\n",
       " 'limit': 500000,\n",
       " 'bill_cycle': 10,\n",
       " 'bill_due_date': 29,\n",
       " 'late_payment_fee': 500,\n",
       " 'monthly_interest_rate': 3.4,\n",
       " 'reward_points': 5000,\n",
       " 'joining_fee': 5000,\n",
       " 'renewal_fee': 10000,\n",
       " 'expiry_date': '2026-08-20',\n",
       " 'swipe_to_reward_conversion': 75,\n",
       " 'exclusive_offers': ['No Petrol Surcharge',\n",
       "  'Free airport lounge access',\n",
       "  'Extra discount on food bill',\n",
       "  'Conversion Rate discount'],\n",
       " 'swipe_amount': 0,\n",
       " 'total_swipe_amount': 0,\n",
       " 'petrol_surcharge_limit': 20000,\n",
       " 'petrol_surcharge': 2,\n",
       " 'airport_lounge_limit': 12,\n",
       " 'food_bill_min_amount': 1000,\n",
       " 'food_discount': 10,\n",
       " 'airport_lounge_access': 0,\n",
       " 'currency_conversion_discount': 20,\n",
       " 'currency_conversion_fee': 2,\n",
       " 'conversion_rate_dicount_limit': 9000,\n",
       " 'renewal_fee_waiver_limit': 500000,\n",
       " 'currency_converted_so_far': 0}"
      ]
     },
     "execution_count": 89,
     "metadata": {},
     "output_type": "execute_result"
    }
   ],
   "source": [
    "gs_card.__dict__"
   ]
  },
  {
   "cell_type": "code",
   "execution_count": 90,
   "metadata": {},
   "outputs": [
    {
     "data": {
      "text/plain": [
       "{'_name': 'GlobalShopper',\n",
       " '_CreditCard__number': '135790864206758',\n",
       " 'limit': 500000,\n",
       " 'bill_cycle': 10,\n",
       " 'bill_due_date': 29,\n",
       " 'late_payment_fee': 500,\n",
       " 'monthly_interest_rate': 3.4,\n",
       " 'reward_points': 5000,\n",
       " 'joining_fee': 5000,\n",
       " 'renewal_fee': 10000,\n",
       " 'expiry_date': '2026-08-20',\n",
       " 'swipe_to_reward_conversion': 75,\n",
       " 'exclusive_offers': ['No Petrol Surcharge',\n",
       "  'Free airport lounge access',\n",
       "  'Extra discount on food bill',\n",
       "  'Conversion Rate discount'],\n",
       " 'swipe_amount': 0,\n",
       " 'total_swipe_amount': 0,\n",
       " 'petrol_surcharge_limit': 20000,\n",
       " 'petrol_surcharge': 2,\n",
       " 'airport_lounge_limit': 12,\n",
       " 'food_bill_min_amount': 1000,\n",
       " 'food_discount': 10,\n",
       " 'currency_conversion_discount': 20,\n",
       " 'currency_conversion_fee': 2,\n",
       " 'conversion_rate_dicount_limit': 9000,\n",
       " 'renewal_fee_waiver_limit': 500000,\n",
       " 'airport_lounge_access': 0,\n",
       " 'currency_converted_so_far': 0}"
      ]
     },
     "execution_count": 90,
     "metadata": {},
     "output_type": "execute_result"
    }
   ],
   "source": [
    "gs_card2.__dict__"
   ]
  },
  {
   "cell_type": "markdown",
   "metadata": {},
   "source": [
    "<div class=\"alert alert-block alert-info\">\n",
    "    <b>Note</b>: Notice above, though GlobalShopper has derived from two classes. Both classes have their own petrol_surcharge attribute. And in the child there is only one instance of the same. Same applies of other common attributes.\n",
    "</div>"
   ]
  },
  {
   "cell_type": "code",
   "execution_count": 92,
   "metadata": {},
   "outputs": [
    {
     "name": "stdout",
     "output_type": "stream",
     "text": [
      "Lounge access from - GlobeTrotter\n"
     ]
    },
    {
     "data": {
      "text/plain": [
       "0"
      ]
     },
     "execution_count": 92,
     "metadata": {},
     "output_type": "execute_result"
    }
   ],
   "source": [
    "gs_card.get_airport_lounge_access()"
   ]
  },
  {
   "cell_type": "code",
   "execution_count": 93,
   "metadata": {},
   "outputs": [
    {
     "name": "stdout",
     "output_type": "stream",
     "text": [
      "Lounge access from - CoralCard\n"
     ]
    },
    {
     "data": {
      "text/plain": [
       "0"
      ]
     },
     "execution_count": 93,
     "metadata": {},
     "output_type": "execute_result"
    }
   ],
   "source": [
    "gs_card2.get_airport_lounge_access()"
   ]
  },
  {
   "cell_type": "markdown",
   "metadata": {},
   "source": [
    "<div class=\"alert alert-block alert-info\">\n",
    "    <b>Note</b>: Notice above, the function get_airport_lounge_access() has been defined in both parent classes. The child will access the function based on the sequence of inheritance.  <br>\n",
    "    To understand this clearly we can check the MRO of an object.\n",
    "</div>"
   ]
  },
  {
   "cell_type": "code",
   "execution_count": 95,
   "metadata": {},
   "outputs": [
    {
     "data": {
      "text/plain": [
       "(__main__.GlobalShopper,\n",
       " __main__.GlobeTrotter,\n",
       " __main__.CoralCard,\n",
       " __main__.CreditCard,\n",
       " object)"
      ]
     },
     "execution_count": 95,
     "metadata": {},
     "output_type": "execute_result"
    }
   ],
   "source": [
    "GlobalShopper.__mro__ #You can also use the method GlobalShopper.mro()"
   ]
  },
  {
   "cell_type": "code",
   "execution_count": 96,
   "metadata": {},
   "outputs": [
    {
     "data": {
      "text/plain": [
       "(__main__.GlobalShopper2,\n",
       " __main__.CoralCard,\n",
       " __main__.GlobeTrotter,\n",
       " __main__.CreditCard,\n",
       " object)"
      ]
     },
     "execution_count": 96,
     "metadata": {},
     "output_type": "execute_result"
    }
   ],
   "source": [
    "GlobalShopper2.__mro__"
   ]
  },
  {
   "cell_type": "markdown",
   "metadata": {},
   "source": [
    "### Getters and Setter"
   ]
  },
  {
   "cell_type": "markdown",
   "metadata": {},
   "source": [
    "You must have noticed that these classes have a lot of attributes.  \n",
    "And writing a get() and corresponding set() method is not a very developer friendly approach.  \n",
    "To make this more developer friendly Python provides getters and setters.  \n",
    "This helps in 2 ways... \n",
    "1. A developer can do away with the ```object.get()``` and ```object.set()``` methods\n",
    "2. A developer can add an additional check to a setter where it can be ensured that valid values are assigned to attributes.  \n",
    "    Remember the statement ```var = 50``` and ```var = 'Test``` both are valid. And in case var is used for some mathematical calculation, the second assignment will create a problem.  \n",
    "    \n",
    "As an ***exercise***, I request you to go through the help and implement the same in these classes."
   ]
  }
 ],
 "metadata": {
  "kernelspec": {
   "display_name": "Python 3",
   "language": "python",
   "name": "python3"
  },
  "language_info": {
   "codemirror_mode": {
    "name": "ipython",
    "version": 3
   },
   "file_extension": ".py",
   "mimetype": "text/x-python",
   "name": "python",
   "nbconvert_exporter": "python",
   "pygments_lexer": "ipython3",
   "version": "3.8.5"
  }
 },
 "nbformat": 4,
 "nbformat_minor": 5
}
