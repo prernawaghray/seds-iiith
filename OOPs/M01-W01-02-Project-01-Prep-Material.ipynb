{
 "cells": [
  {
   "cell_type": "markdown",
   "metadata": {
    "id": "C0ZI6WdhzmBb"
   },
   "source": [
    "# <font color='blue'> Table Of Contents </font>\n",
    "\n",
    "## <font color='blue'> Python Mdoules </font>\n",
    "\n",
    "<font color='blue'>\n",
    "    \n",
    "* Accessing a module\n",
    "* import statments\n",
    "* Package installation \n",
    "\n",
    "</font>\n"
   ]
  },
  {
   "cell_type": "markdown",
   "metadata": {
    "id": "uezccHH1zmBh"
   },
   "source": [
    "# <font color='blue'> Python Modules </font>\n",
    "\n",
    "Modular programming refers to the process of breaking a large, unwieldy programming task into separate, smaller, more manageable subtasks, or modules.\n",
    "\n",
    "Individual modules can then be cobbled together like building blocks to create a larger application.\n",
    "\n",
    "![M01W06-Project-PrepWork-Python-Modules-Packages.png](attachment:M01W06-Project-PrepWork-Python-Modules-Packages.png)\n",
    "\n",
    "There are actually three different ways to define a module in Python:\n",
    "\n",
    "* A module can be written in Python itself.\n",
    "* A module can be written in C and loaded dynamically at run-time, like the re (regular expression) module.\n",
    "* A built-in module is intrinsically contained in the interpreter, like the itertools module.\n",
    "\n",
    "We will focus on writing modules in the Python laguage.\n",
    "\n",
    "A module’s contents are accessed the same way in all three cases: with the ```import``` statement.\n",
    "\n",
    "All we need to do is create a file that contains legitimate Python code, and then give the filename a ```.py``` extension.\n",
    "\n",
    "For example, we have the file ```mod.py```"
   ]
  },
  {
   "cell_type": "code",
   "execution_count": null,
   "metadata": {
    "id": "nbEeSiVOzmBj"
   },
   "outputs": [],
   "source": [
    "# mod.py\n",
    "\n",
    "all = \"The quick brown fox jumps over the lazy dog.\"\n",
    "squares = [1, 4, 9, 16, 25, 36, 49, 64, 81, 100]\n",
    "\n",
    "def echo(param):\n",
    "    print(f'parameter = {param}')\n",
    "\n",
    "class Empty:\n",
    "    pass"
   ]
  },
  {
   "cell_type": "markdown",
   "metadata": {
    "id": "EgN44pXRzmBl"
   },
   "source": [
    "Several objects are defined in mod.py:\n",
    "\n",
    "```all``` (a string)\n",
    "```squares``` (a list)\n",
    "```echo()``` (a function)\n",
    "```Empty``` (a class)\n",
    "\n",
    "If ```mod.py``` accessible, these objects can be accessed by improting the module:"
   ]
  },
  {
   "cell_type": "markdown",
   "metadata": {
    "id": "V3yXTD4qzmBm"
   },
   "source": [
    "```\n",
    "\n",
    "# client.py\n",
    "\n",
    "# WARNING! Execute on your local computer, along with mod.py accessible\n",
    "\n",
    "import mod\n",
    "\n",
    "print(mod.all)\n",
    "\n",
    "print(mod.squares)\n",
    "\n",
    "mod.echo(['curly', 'larry', 'moe'])\n",
    "\n",
    "```"
   ]
  },
  {
   "cell_type": "markdown",
   "metadata": {
    "id": "MPMXRT1tzmBn"
   },
   "source": [
    "## <font color='blue'> Accessing A Module </font>\n",
    "\n",
    "When the interpreter executes the ```import``` statement, it searches for ```mod.py``` in directories from the following sources:\n",
    "\n",
    "* The input program's directory, or the current directory.\n",
    "* The list of directories the ```PYTHONPATH``` / ```PATH```` environment variable.\n",
    "* An installation-dependent list of directories configured at Python install time.\n",
    "\n",
    "To ensure your module is found, you need to do one of the following:\n",
    "\n",
    "* Put ```mod.py``` in same directory as the input program\n",
    "* OR: Put ```mod.py``` in one of the directories listed in the ```PYTHONPATH``` variable\n",
    "* OR: Put ```mod.py``` in one of the installation-dependent directories (you may or may not have access to it)\n",
    "\n",
    "## <font color='blue'> The import Statement </font>\n",
    "\n",
    "The simplest form of the ```import``` statement is ```import mod```, for the module ```mod.py```.\n",
    "\n",
    "A module creates a separate namespace,a and stores a private symbol table for all objects defined in the module.\n",
    "\n",
    "The ```import``` statement merely places ```mod``` into the program's local symbol table.\n",
    "\n",
    "Objects inside ```mod``` are still in ```mod```'s private symbol table, and can be accessed using the ```.``` notation, as we saw earlier.\n",
    "\n",
    "## <font color='blue'> The from...import Statement </font>\n",
    "\n",
    "Another form of the ```import``` statement allows individual objects from the module ```mod```,  to be imported directly into the caller’s symbol table:"
   ]
  },
  {
   "cell_type": "markdown",
   "metadata": {
    "id": "UR1pZYoWzmBo"
   },
   "source": [
    "```\n",
    "\n",
    "# client.py\n",
    "\n",
    "# WARNING! Execute on your local computer, along with mod.py accessible\n",
    "\n",
    "from mod import all, echo\n",
    "\n",
    "print(all)\n",
    "\n",
    "echo(['curly', 'larry', 'moe'])\n",
    "\n",
    "```"
   ]
  },
  {
   "cell_type": "markdown",
   "metadata": {
    "id": "O9uywyVwzmBp"
   },
   "source": [
    "Due to the direct import into the caller's symbol table, **any existing objects with the same name will be overwritten**.\n",
    "\n",
    "It is even possible to indiscriminately import everything from a module at one fell swoop:\n",
    "\n",
    "```\n",
    "\n",
    "from mod import *\n",
    "\n",
    "```\n",
    "\n",
    "Unless you know them all well and can be confident there won’t be a conflict, you have a decent chance of overwriting an existing name.\n",
    "\n",
    "It is also possible to import individual objects but enter them into the local symbol table with alternate names:\n",
    "\n",
    "```\n",
    "\n",
    "from mod import all as every, echo as repeat\n",
    "\n",
    "print(every)\n",
    "\n",
    "repeat(['curly', 'larry', 'moe'])\n",
    "\n",
    "```"
   ]
  },
  {
   "cell_type": "markdown",
   "metadata": {
    "id": "6dVV0GN4zmBq"
   },
   "source": [
    "## <font color='blue'> Executing A Module </font>\n",
    "\n",
    "Any ```.py``` file that contains a module is also a Python script, and thus can be executed like one.\n",
    "\n",
    "If we modidfy the ```mod.py``` module to also produce an output, as follows:"
   ]
  },
  {
   "cell_type": "code",
   "execution_count": null,
   "metadata": {
    "id": "zTTKpjT7zmBq"
   },
   "outputs": [],
   "source": [
    "# mod.py\n",
    "\n",
    "all = \"The quick brown fox jumps over the lazy dog.\"\n",
    "squares = [1, 4, 9, 16, 25, 36, 49, 64, 81, 100]\n",
    "\n",
    "def echo(param):\n",
    "    print(f'parameter = {param}')\n",
    "\n",
    "class Empty:\n",
    "    pass\n",
    "\n",
    "print(all)\n",
    "\n",
    "print(squares)\n",
    "\n",
    "echo(['curly', 'larry', 'moe'])"
   ]
  },
  {
   "cell_type": "markdown",
   "metadata": {
    "id": "cwBCx8X-zmBr"
   },
   "source": [
    "Unfortunately, this execution also happens whenever we import ```mod.py``` into any input program, so it leads to output!\n",
    "\n",
    "In Python, it is possible to distinguish between when a python file is loaded as a module, versus when it is executed as a script. You can check out the references listed below to explore these language features."
   ]
  },
  {
   "cell_type": "markdown",
   "metadata": {
    "id": "XORWRhGwzmBs"
   },
   "source": [
    "## <font color='blue'> What happens if the package is not installed? </font>"
   ]
  },
  {
   "cell_type": "markdown",
   "metadata": {
    "id": "cPNsifOvzmBt"
   },
   "source": [
    "Python provides certain built-in packages along with the installation of Python. \n",
    "\n",
    "What if for your project/work needs some package that do not come along with Python installation. \n",
    "\n",
    "If you try to import such packages without installing them first you would get an error called `ModuleNotFoundError`.\n"
   ]
  },
  {
   "cell_type": "code",
   "execution_count": null,
   "metadata": {
    "id": "rGH6022ezmBu",
    "outputId": "a7cf9b5d-be56-4252-83a2-d09f522daa4d"
   },
   "outputs": [
    {
     "ename": "ModuleNotFoundError",
     "evalue": "No module named 'redis'",
     "output_type": "error",
     "traceback": [
      "\u001b[1;31m---------------------------------------------------------------------------\u001b[0m",
      "\u001b[1;31mModuleNotFoundError\u001b[0m                       Traceback (most recent call last)",
      "\u001b[1;32m<ipython-input-1-1fa5a3a95ebb>\u001b[0m in \u001b[0;36m<module>\u001b[1;34m\u001b[0m\n\u001b[1;32m----> 1\u001b[1;33m \u001b[1;32mimport\u001b[0m \u001b[0mredis\u001b[0m\u001b[1;33m\u001b[0m\u001b[1;33m\u001b[0m\u001b[0m\n\u001b[0m",
      "\u001b[1;31mModuleNotFoundError\u001b[0m: No module named 'redis'"
     ]
    }
   ],
   "source": [
    "import redis"
   ]
  },
  {
   "cell_type": "markdown",
   "metadata": {
    "id": "cSU7bCe4zmBw"
   },
   "source": [
    "### <font color='blue'> Installing and Managing Python Packages `Using pip` </font>\n",
    "\n",
    "In order to install the desired package on your system we will use pip command. \n",
    "\n",
    "Before that we need to ensure that pip is installed in your system. \n",
    "\n",
    "To do that please follow the following commands.\n"
   ]
  },
  {
   "cell_type": "code",
   "execution_count": null,
   "metadata": {
    "id": "8PQW_w3-zmBw",
    "outputId": "b67af39f-fbba-4dd3-b24d-8142fbe6804a"
   },
   "outputs": [
    {
     "name": "stdout",
     "output_type": "stream",
     "text": [
      "\n",
      "Usage:   \n",
      "  c:\\users\\vivek.p\\appdata\\local\\programs\\python\\python38-32\\python.exe -m pip <command> [options]\n",
      "\n",
      "Commands:\n",
      "  install                     Install packages.\n",
      "  download                    Download packages.\n",
      "  uninstall                   Uninstall packages.\n",
      "  freeze                      Output installed packages in requirements format.\n",
      "  list                        List installed packages.\n",
      "  show                        Show information about installed packages.\n",
      "  check                       Verify installed packages have compatible dependencies.\n",
      "  config                      Manage local and global configuration.\n",
      "  search                      Search PyPI for packages.\n",
      "  cache                       Inspect and manage pip's wheel cache.\n",
      "  wheel                       Build wheels from your requirements.\n",
      "  hash                        Compute hashes of package archives.\n",
      "  completion                  A helper command used for command completion.\n",
      "  debug                       Show information useful for debugging.\n",
      "  help                        Show help for commands.\n",
      "\n",
      "General Options:\n",
      "  -h, --help                  Show help.\n",
      "  --isolated                  Run pip in an isolated mode, ignoring\n",
      "                              environment variables and user configuration.\n",
      "  -v, --verbose               Give more output. Option is additive, and can be\n",
      "                              used up to 3 times.\n",
      "  -V, --version               Show version and exit.\n",
      "  -q, --quiet                 Give less output. Option is additive, and can be\n",
      "                              used up to 3 times (corresponding to WARNING,\n",
      "                              ERROR, and CRITICAL logging levels).\n",
      "  --log <path>                Path to a verbose appending log.\n",
      "  --no-input                  Disable prompting for input.\n",
      "  --proxy <proxy>             Specify a proxy in the form\n",
      "                              [user:passwd@]proxy.server:port.\n",
      "  --retries <retries>         Maximum number of retries each connection should\n",
      "                              attempt (default 5 times).\n",
      "  --timeout <sec>             Set the socket timeout (default 15 seconds).\n",
      "  --exists-action <action>    Default action when a path already exists:\n",
      "                              (s)witch, (i)gnore, (w)ipe, (b)ackup, (a)bort.\n",
      "  --trusted-host <hostname>   Mark this host or host:port pair as trusted,\n",
      "                              even though it does not have valid or any HTTPS.\n",
      "  --cert <path>               Path to alternate CA bundle.\n",
      "  --client-cert <path>        Path to SSL client certificate, a single file\n",
      "                              containing the private key and the certificate\n",
      "                              in PEM format.\n",
      "  --cache-dir <dir>           Store the cache data in <dir>.\n",
      "  --no-cache-dir              Disable the cache.\n",
      "  --disable-pip-version-check\n",
      "                              Don't periodically check PyPI to determine\n",
      "                              whether a new version of pip is available for\n",
      "                              download. Implied with --no-index.\n",
      "  --no-color                  Suppress colored output.\n",
      "  --no-python-version-warning\n",
      "                              Silence deprecation warnings for upcoming\n",
      "                              unsupported Pythons.\n",
      "  --use-feature <feature>     Enable new functionality, that may be backward\n",
      "                              incompatible.\n",
      "  --use-deprecated <feature>  Enable deprecated functionality, that will be\n",
      "                              removed in the future.\n",
      "Note: you may need to restart the kernel to use updated packages.\n"
     ]
    }
   ],
   "source": [
    "pip help "
   ]
  },
  {
   "cell_type": "markdown",
   "metadata": {
    "id": "cpyQymZOzmBx"
   },
   "source": [
    "If pip is installed in your system above mentioned command will give following output on your system.\n",
    "\n",
    "If it is not installed then please go through following commands: \n"
   ]
  },
  {
   "cell_type": "markdown",
   "metadata": {
    "id": "UFtbeQSNzmBx"
   },
   "source": [
    "### <font color='blue'>  Installing Pip on Windows/Linux/MacOS </font>\n",
    "\n",
    "* Download [get-pip.py](https://bootstrap.pypa.io/get-pip.py) to a folder on your computer.\n",
    "* Open a command prompt and navigate to the folder containing the get-pip.py installer.\n",
    "* Run the following command on command prompt:\n"
   ]
  },
  {
   "cell_type": "code",
   "execution_count": null,
   "metadata": {
    "id": "uL_aZRUkzmBy",
    "outputId": "42857e64-07c0-47ed-dbb8-33bcd46acd9f"
   },
   "outputs": [
    {
     "ename": "SyntaxError",
     "evalue": "invalid syntax (<ipython-input-4-ef1b4c858541>, line 3)",
     "output_type": "error",
     "traceback": [
      "\u001b[1;36m  File \u001b[1;32m\"<ipython-input-4-ef1b4c858541>\"\u001b[1;36m, line \u001b[1;32m3\u001b[0m\n\u001b[1;33m    python get-pip.py\u001b[0m\n\u001b[1;37m           ^\u001b[0m\n\u001b[1;31mSyntaxError\u001b[0m\u001b[1;31m:\u001b[0m invalid syntax\n"
     ]
    }
   ],
   "source": [
    "# For python 3 and above. \n",
    "\n",
    "python get-pip.py\n",
    "\n",
    "# to verify if pip is installed properly on your system or not, execute the following command\n",
    "\n",
    "pip --version"
   ]
  },
  {
   "cell_type": "markdown",
   "metadata": {
    "id": "0zVVH5dqzmBz"
   },
   "source": [
    "Pip should now be installed successfully. If we receive a “file not found” error, double check the directory path to the file.\n",
    "\n",
    "Once pip is installed, let's try to do some module installation and with the help of pip. \n",
    "\n",
    "As previously we have seen `redis python module` is not installed in our system. \n",
    "\n",
    "We will use pip to install it in our system. \n",
    "\n",
    "Go to command prompt and exceute the following code: "
   ]
  },
  {
   "cell_type": "code",
   "execution_count": null,
   "metadata": {
    "id": "JZi_c6eLzmBz"
   },
   "outputs": [],
   "source": [
    "pip install redis"
   ]
  },
  {
   "cell_type": "markdown",
   "metadata": {
    "id": "U9mdwCWgzmBz"
   },
   "source": [
    "Your output will look something like this if it is installed correctly on your system. \n",
    "\n",
    "![pip-redis.png](attachment:pip-redis.png)\n",
    "\n",
    "Once pip is installed in your system, you can run the following command to install different available packages. \n",
    "\n",
    "`pip install <package_name>`\n",
    "\n",
    "This command will successfully install the mentioned package on your system. \n",
    "\n",
    "There are other ways also to install packages on your system. \n",
    "\n",
    "You can explore these methods on the following link:\n",
    "\n",
    "https://packaging.python.org/tutorials/installing-packages/\n",
    "\n"
   ]
  },
  {
   "cell_type": "markdown",
   "metadata": {
    "id": "DeCuiIID0H2y"
   },
   "source": [
    "### <font color='blue'> File Handling </font>\n",
    "\n",
    "File handling will help the developer to \n",
    "\n",
    "* Read a single value from each line in a file\n",
    "\n",
    "* Convert the line to the appropriate value\n",
    "\n",
    "* Read a line and convert it into multiple values using split and assignment to multiple variables\n",
    "\n",
    "Lets take an example, here you are opening a file: \n",
    "\n",
    "* To open this file, we would call the `open` function. \n",
    "\n",
    "* The variable, `fileref`, now holds a reference to the file object returned by open. \n",
    "\n",
    "* When we are finished with the file, we can close it by using the `close` method. \n",
    "\n",
    "* After the file is closed any further attempts to use `fileref` will result in an error.\n",
    "\n",
    "\n",
    "There are some files that you can create and put inside the directry to access. Same assumption has been made for the following examples. \n",
    "\n",
    "Please feel free to add those files on your own and edit the code based on the file you created. "
   ]
  },
  {
   "cell_type": "markdown",
   "metadata": {
    "id": "wGwSVLTY0Q6B"
   },
   "source": [
    "#### <font color='blue'> Reading file from different Directory </font>"
   ]
  },
  {
   "cell_type": "code",
   "execution_count": null,
   "metadata": {
    "id": "zEGBg5a30YnA"
   },
   "outputs": [],
   "source": [
    "path = 'C:\\\\Users\\\\VIVEK.P\\\\Downloads\\\\delivery_map.txt'\n",
    "\n",
    "fileref = open(path, \"r\")\n",
    "## other code here that refers to variable fileref\n",
    "for aline in fileref.readlines():\n",
    "    print(aline)\n",
    "fileref.close()"
   ]
  },
  {
   "cell_type": "markdown",
   "metadata": {
    "id": "CPhT2IH20gFD"
   },
   "source": [
    "#### <font color='blue'> Reading each line </font>"
   ]
  },
  {
   "cell_type": "code",
   "execution_count": null,
   "metadata": {
    "id": "zOBeoUaH0hJg"
   },
   "outputs": [],
   "source": [
    "olympicsfile = open(\"olympics.txt\", \"r\")\n",
    "\n",
    "for aline in olympicsfile.readlines():\n",
    "    values = aline.split(\",\")\n",
    "    #print(type(values))\n",
    "    print(values[0], \"is from\", values[3], \"and is on the roster for\", values[4])\n",
    "\n",
    "olympicsfile.close()"
   ]
  },
  {
   "cell_type": "markdown",
   "metadata": {
    "id": "QG9uvbwQ0jO9"
   },
   "source": [
    "#### <font color='blue'> Using `with` </font>\n",
    "\n",
    "Python has the notion of a context manager that automates the process of doing common operations at the start of some task, as well as automating certain operations at the end of some task. \n",
    "\n",
    "For reading and writing a file, the normal operation is to open the file and assign it to a variable. \n",
    "\n",
    "At the end of working with a file the common operation is to make sure that file is closed.\n",
    "\n",
    "The Python with statement makes using context managers easy.\n",
    "\n",
    "* The first line of the with statement opens the file and assigns it to the variable `md`. \n",
    "\n",
    "* Then we can iterate over the file in any of the usual ways. \n",
    "\n",
    "* When we are done we simply stop indenting and let Python take care of closing the file and     cleaning up."
   ]
  },
  {
   "cell_type": "code",
   "execution_count": null,
   "metadata": {
    "id": "Nx0H1bSm0mrS"
   },
   "outputs": [],
   "source": [
    "with open('mydata.txt', 'r') as md1:\n",
    "    for line in md1:\n",
    "        print(line)"
   ]
  },
  {
   "cell_type": "markdown",
   "metadata": {
    "id": "gD93-sl10o4_"
   },
   "source": [
    "#### <font color='blue'> Writing into Files </font>\n"
   ]
  },
  {
   "cell_type": "code",
   "execution_count": null,
   "metadata": {
    "id": "l6A5gmbZ0rSO"
   },
   "outputs": [],
   "source": [
    "filename = \"squared_numbers.txt\"\n",
    "outfile = open(filename, \"w\")\n",
    "\n",
    "for number in range(1, 13):\n",
    "    square = number * number\n",
    "    outfile.write(str(square) + \"\\t\\t\")\n",
    "    \n",
    "outfile.close()\n",
    "\n",
    "infile = open(filename, \"r\")\n",
    "print(infile.read())\n",
    "infile.close()"
   ]
  },
  {
   "cell_type": "markdown",
   "metadata": {
    "id": "EVeWgwcKzmB0"
   },
   "source": [
    "## <font color='blue'> References </font>\n",
    "\n",
    "1. Modules: Python 3 Documentation - [https://docs.python.org/3/tutorial/modules.html](https://docs.python.org/3/tutorial/modules.html)\n",
    "2. Python Modules And Packages: An Introduction - [https://realpython.com/python-modules-packages/](https://realpython.com/python-modules-packages/)\n",
    "3. Image: Python Modules And Packages - [https://miro.medium.com/max/1144/0*Rv7PKQbRdcEpolHA.png](https://miro.medium.com/max/1144/0*Rv7PKQbRdcEpolHA.png)"
   ]
  },
  {
   "cell_type": "code",
   "execution_count": null,
   "metadata": {
    "id": "DmMf7cGxzmB0"
   },
   "outputs": [],
   "source": []
  }
 ],
 "metadata": {
  "colab": {
   "collapsed_sections": [],
   "name": "M01-W01-02-Project-01-Prep-Material.ipynb",
   "provenance": []
  },
  "kernelspec": {
   "display_name": "Python 3",
   "language": "python",
   "name": "python3"
  },
  "language_info": {
   "codemirror_mode": {
    "name": "ipython",
    "version": 3
   },
   "file_extension": ".py",
   "mimetype": "text/x-python",
   "name": "python",
   "nbconvert_exporter": "python",
   "pygments_lexer": "ipython3",
   "version": "3.8.8"
  }
 },
 "nbformat": 4,
 "nbformat_minor": 1
}
