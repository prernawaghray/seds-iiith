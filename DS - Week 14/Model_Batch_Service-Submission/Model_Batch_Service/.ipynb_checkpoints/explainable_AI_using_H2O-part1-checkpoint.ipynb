{
 "cells": [
  {
   "cell_type": "markdown",
   "metadata": {
    "id": "fdmvJyeBqKtg"
   },
   "source": [
    "# **ASSIGNMENT QIS part 1**"
   ]
  },
  {
   "cell_type": "code",
   "execution_count": 1,
   "metadata": {
    "colab": {
     "base_uri": "https://localhost:8080/"
    },
    "id": "s7vhuTFFt_86",
    "outputId": "107f5f83-081c-40a5-ad40-2b3980252752"
   },
   "outputs": [
    {
     "ename": "ModuleNotFoundError",
     "evalue": "No module named 'google.colab'",
     "output_type": "error",
     "traceback": [
      "\u001b[1;31m---------------------------------------------------------------------------\u001b[0m",
      "\u001b[1;31mModuleNotFoundError\u001b[0m                       Traceback (most recent call last)",
      "Input \u001b[1;32mIn [1]\u001b[0m, in \u001b[0;36m<cell line: 1>\u001b[1;34m()\u001b[0m\n\u001b[1;32m----> 1\u001b[0m \u001b[38;5;28;01mfrom\u001b[39;00m \u001b[38;5;21;01mgoogle\u001b[39;00m\u001b[38;5;21;01m.\u001b[39;00m\u001b[38;5;21;01mcolab\u001b[39;00m \u001b[38;5;28;01mimport\u001b[39;00m drive\n\u001b[0;32m      2\u001b[0m drive\u001b[38;5;241m.\u001b[39mmount(\u001b[38;5;124m\"\u001b[39m\u001b[38;5;124m/content/drive\u001b[39m\u001b[38;5;124m\"\u001b[39m)\n",
      "\u001b[1;31mModuleNotFoundError\u001b[0m: No module named 'google.colab'"
     ]
    }
   ],
   "source": [
    "from google.colab import drive\n",
    "drive.mount(\"/content/drive\")"
   ]
  },
  {
   "cell_type": "code",
   "execution_count": 2,
   "metadata": {
    "colab": {
     "base_uri": "https://localhost:8080/"
    },
    "id": "qaVRtSgRUKh5",
    "outputId": "d8703918-6997-4ae1-d506-02cb5fc8401e"
   },
   "outputs": [
    {
     "name": "stdout",
     "output_type": "stream",
     "text": [
      "Collecting h2o\n",
      "  Downloading h2o-3.36.1.4.tar.gz (177.1 MB)\n",
      "     ------------------------------------- 177.1/177.1 MB 13.4 MB/s eta 0:00:00\n",
      "  Preparing metadata (setup.py): started\n",
      "  Preparing metadata (setup.py): finished with status 'done'\n",
      "Requirement already satisfied: requests in c:\\users\\user\\appdata\\local\\programs\\python\\python310\\lib\\site-packages (from h2o) (2.21.0)\n",
      "Requirement already satisfied: tabulate in c:\\users\\user\\appdata\\local\\programs\\python\\python310\\lib\\site-packages (from h2o) (0.8.9)\n",
      "Requirement already satisfied: future in c:\\users\\user\\appdata\\local\\programs\\python\\python310\\lib\\site-packages (from h2o) (0.18.2)\n",
      "Requirement already satisfied: chardet<3.1.0,>=3.0.2 in c:\\users\\user\\appdata\\local\\programs\\python\\python310\\lib\\site-packages (from requests->h2o) (3.0.4)\n",
      "Requirement already satisfied: certifi>=2017.4.17 in c:\\users\\user\\appdata\\local\\programs\\python\\python310\\lib\\site-packages (from requests->h2o) (2022.5.18.1)\n",
      "Requirement already satisfied: idna<2.9,>=2.5 in c:\\users\\user\\appdata\\local\\programs\\python\\python310\\lib\\site-packages (from requests->h2o) (2.8)\n",
      "Requirement already satisfied: urllib3<1.25,>=1.21.1 in c:\\users\\user\\appdata\\local\\programs\\python\\python310\\lib\\site-packages (from requests->h2o) (1.24.3)\n",
      "Using legacy 'setup.py install' for h2o, since package 'wheel' is not installed.\n",
      "Installing collected packages: h2o\n",
      "  Running setup.py install for h2o: started\n",
      "  Running setup.py install for h2o: finished with status 'done'\n",
      "Successfully installed h2o-3.36.1.4\n"
     ]
    },
    {
     "name": "stderr",
     "output_type": "stream",
     "text": [
      "WARNING: You are using pip version 22.0.4; however, version 22.2.2 is available.\n",
      "You should consider upgrading via the 'C:\\Users\\user\\AppData\\Local\\Programs\\Python\\Python310\\python.exe -m pip install --upgrade pip' command.\n"
     ]
    }
   ],
   "source": [
    "!pip install h2o"
   ]
  },
  {
   "cell_type": "markdown",
   "metadata": {
    "id": "g0RluafHrg5L"
   },
   "source": [
    "# **AUTOML**"
   ]
  },
  {
   "cell_type": "markdown",
   "metadata": {
    "id": "wzqs9NMjs8kv"
   },
   "source": [
    "## **1.  Day Dataset**\n"
   ]
  },
  {
   "cell_type": "code",
   "execution_count": 4,
   "metadata": {
    "colab": {
     "base_uri": "https://localhost:8080/",
     "height": 1000
    },
    "id": "x_Fn6k3_hBti",
    "outputId": "78e21896-2696-4c05-defd-e72ca35f4310"
   },
   "outputs": [
    {
     "name": "stdout",
     "output_type": "stream",
     "text": [
      "Checking whether there is an H2O instance running at http://localhost:54321 ..... not found.\n",
      "Attempting to start a local H2O server...\n"
     ]
    },
    {
     "ename": "H2OStartupError",
     "evalue": "Cannot find Java. Please install the latest JRE from\nhttp://docs.h2o.ai/h2o/latest-stable/h2o-docs/welcome.html#java-requirements",
     "output_type": "error",
     "traceback": [
      "\u001b[1;31m---------------------------------------------------------------------------\u001b[0m",
      "\u001b[1;31mH2OConnectionError\u001b[0m                        Traceback (most recent call last)",
      "File \u001b[1;32m~\\AppData\\Local\\Programs\\Python\\Python310\\lib\\site-packages\\h2o\\h2o.py:270\u001b[0m, in \u001b[0;36minit\u001b[1;34m(url, ip, port, name, https, cacert, insecure, username, password, cookies, proxy, start_h2o, nthreads, ice_root, log_dir, log_level, max_log_file_size, enable_assertions, max_mem_size, min_mem_size, strict_version_check, ignore_config, extra_classpath, jvm_custom_args, bind_to_localhost, **kwargs)\u001b[0m\n\u001b[0;32m    269\u001b[0m \u001b[38;5;28;01mtry\u001b[39;00m:\n\u001b[1;32m--> 270\u001b[0m     h2oconn \u001b[38;5;241m=\u001b[39m \u001b[43mH2OConnection\u001b[49m\u001b[38;5;241;43m.\u001b[39;49m\u001b[43mopen\u001b[49m\u001b[43m(\u001b[49m\u001b[43murl\u001b[49m\u001b[38;5;241;43m=\u001b[39;49m\u001b[43murl\u001b[49m\u001b[43m,\u001b[49m\u001b[43m \u001b[49m\u001b[43mip\u001b[49m\u001b[38;5;241;43m=\u001b[39;49m\u001b[43mip\u001b[49m\u001b[43m,\u001b[49m\u001b[43m \u001b[49m\u001b[43mport\u001b[49m\u001b[38;5;241;43m=\u001b[39;49m\u001b[43mport\u001b[49m\u001b[43m,\u001b[49m\u001b[43m \u001b[49m\u001b[43mname\u001b[49m\u001b[38;5;241;43m=\u001b[39;49m\u001b[43mname\u001b[49m\u001b[43m,\u001b[49m\u001b[43m \u001b[49m\u001b[43mhttps\u001b[49m\u001b[38;5;241;43m=\u001b[39;49m\u001b[43mhttps\u001b[49m\u001b[43m,\u001b[49m\n\u001b[0;32m    271\u001b[0m \u001b[43m                                 \u001b[49m\u001b[43mverify_ssl_certificates\u001b[49m\u001b[38;5;241;43m=\u001b[39;49m\u001b[43mverify_ssl_certificates\u001b[49m\u001b[43m,\u001b[49m\u001b[43m \u001b[49m\u001b[43mcacert\u001b[49m\u001b[38;5;241;43m=\u001b[39;49m\u001b[43mcacert\u001b[49m\u001b[43m,\u001b[49m\n\u001b[0;32m    272\u001b[0m \u001b[43m                                 \u001b[49m\u001b[43mauth\u001b[49m\u001b[38;5;241;43m=\u001b[39;49m\u001b[43mauth\u001b[49m\u001b[43m,\u001b[49m\u001b[43m \u001b[49m\u001b[43mproxy\u001b[49m\u001b[38;5;241;43m=\u001b[39;49m\u001b[43mproxy\u001b[49m\u001b[43m,\u001b[49m\u001b[43m \u001b[49m\u001b[43mcookies\u001b[49m\u001b[38;5;241;43m=\u001b[39;49m\u001b[43mcookies\u001b[49m\u001b[43m,\u001b[49m\u001b[43m \u001b[49m\u001b[43mverbose\u001b[49m\u001b[38;5;241;43m=\u001b[39;49m\u001b[38;5;28;43;01mTrue\u001b[39;49;00m\u001b[43m,\u001b[49m\n\u001b[0;32m    273\u001b[0m \u001b[43m                                 \u001b[49m\u001b[43mmsgs\u001b[49m\u001b[38;5;241;43m=\u001b[39;49m\u001b[43m(\u001b[49m\u001b[38;5;124;43m\"\u001b[39;49m\u001b[38;5;124;43mChecking whether there is an H2O instance running at \u001b[39;49m\u001b[38;5;132;43;01m{url}\u001b[39;49;00m\u001b[38;5;124;43m \u001b[39;49m\u001b[38;5;124;43m\"\u001b[39;49m\u001b[43m,\u001b[49m\n\u001b[0;32m    274\u001b[0m \u001b[43m                                       \u001b[49m\u001b[38;5;124;43m\"\u001b[39;49m\u001b[38;5;124;43mconnected.\u001b[39;49m\u001b[38;5;124;43m\"\u001b[39;49m\u001b[43m,\u001b[49m\u001b[43m \u001b[49m\u001b[38;5;124;43m\"\u001b[39;49m\u001b[38;5;124;43mnot found.\u001b[39;49m\u001b[38;5;124;43m\"\u001b[39;49m\u001b[43m)\u001b[49m\u001b[43m,\u001b[49m\n\u001b[0;32m    275\u001b[0m \u001b[43m                                 \u001b[49m\u001b[43mstrict_version_check\u001b[49m\u001b[38;5;241;43m=\u001b[39;49m\u001b[43msvc\u001b[49m\u001b[43m)\u001b[49m\n\u001b[0;32m    276\u001b[0m \u001b[38;5;28;01mexcept\u001b[39;00m H2OConnectionError:\n\u001b[0;32m    277\u001b[0m     \u001b[38;5;66;03m# Backward compatibility: in init() port parameter really meant \"baseport\" when starting a local server...\u001b[39;00m\n",
      "File \u001b[1;32m~\\AppData\\Local\\Programs\\Python\\Python310\\lib\\site-packages\\h2o\\backend\\connection.py:386\u001b[0m, in \u001b[0;36mH2OConnection.open\u001b[1;34m(server, url, ip, port, name, https, auth, verify_ssl_certificates, cacert, proxy, cookies, verbose, msgs, strict_version_check)\u001b[0m\n\u001b[0;32m    385\u001b[0m conn\u001b[38;5;241m.\u001b[39m_timeout \u001b[38;5;241m=\u001b[39m \u001b[38;5;241m3.0\u001b[39m\n\u001b[1;32m--> 386\u001b[0m conn\u001b[38;5;241m.\u001b[39m_cluster \u001b[38;5;241m=\u001b[39m \u001b[43mconn\u001b[49m\u001b[38;5;241;43m.\u001b[39;49m\u001b[43m_test_connection\u001b[49m\u001b[43m(\u001b[49m\u001b[43mretries\u001b[49m\u001b[43m,\u001b[49m\u001b[43m \u001b[49m\u001b[43mmessages\u001b[49m\u001b[38;5;241;43m=\u001b[39;49m\u001b[43mmsgs\u001b[49m\u001b[43m)\u001b[49m\n\u001b[0;32m    387\u001b[0m \u001b[38;5;66;03m# If a server is unable to respond within 1s, it should be considered a bug. However we disable this\u001b[39;00m\n\u001b[0;32m    388\u001b[0m \u001b[38;5;66;03m# setting for now, for no good reason other than to ignore all those bugs :(\u001b[39;00m\n",
      "File \u001b[1;32m~\\AppData\\Local\\Programs\\Python\\Python310\\lib\\site-packages\\h2o\\backend\\connection.py:690\u001b[0m, in \u001b[0;36mH2OConnection._test_connection\u001b[1;34m(self, max_retries, messages)\u001b[0m\n\u001b[0;32m    689\u001b[0m \u001b[38;5;28;01melse\u001b[39;00m:\n\u001b[1;32m--> 690\u001b[0m     \u001b[38;5;28;01mraise\u001b[39;00m H2OConnectionError(\u001b[38;5;124m\"\u001b[39m\u001b[38;5;124mCould not establish link to the H2O cloud \u001b[39m\u001b[38;5;132;01m%s\u001b[39;00m\u001b[38;5;124m after \u001b[39m\u001b[38;5;132;01m%d\u001b[39;00m\u001b[38;5;124m retries\u001b[39m\u001b[38;5;130;01m\\n\u001b[39;00m\u001b[38;5;132;01m%s\u001b[39;00m\u001b[38;5;124m\"\u001b[39m\n\u001b[0;32m    691\u001b[0m                              \u001b[38;5;241m%\u001b[39m (\u001b[38;5;28mself\u001b[39m\u001b[38;5;241m.\u001b[39m_base_url, max_retries, \u001b[38;5;124m\"\u001b[39m\u001b[38;5;130;01m\\n\u001b[39;00m\u001b[38;5;124m\"\u001b[39m\u001b[38;5;241m.\u001b[39mjoin(errors)))\n",
      "\u001b[1;31mH2OConnectionError\u001b[0m: Could not establish link to the H2O cloud http://localhost:54321 after 5 retries\n[50:16.78] H2OConnectionError: Unexpected HTTP error: HTTPConnectionPool(host='localhost', port=54321): Max retries exceeded with url: /3/Metadata/schemas/CloudV3 (Caused by NewConnectionError('<urllib3.connection.HTTPConnection object at 0x0000028CF2FCD240>: Failed to establish a new connection: [WinError 10061] No connection could be made because the target machine actively refused it'))\n[50:21.07] H2OConnectionError: Unexpected HTTP error: HTTPConnectionPool(host='localhost', port=54321): Max retries exceeded with url: /3/Metadata/schemas/CloudV3 (Caused by NewConnectionError('<urllib3.connection.HTTPConnection object at 0x0000028CB4DD4940>: Failed to establish a new connection: [WinError 10061] No connection could be made because the target machine actively refused it'))\n[50:25.38] H2OConnectionError: Unexpected HTTP error: HTTPConnectionPool(host='localhost', port=54321): Max retries exceeded with url: /3/Metadata/schemas/CloudV3 (Caused by NewConnectionError('<urllib3.connection.HTTPConnection object at 0x0000028CB4DE1300>: Failed to establish a new connection: [WinError 10061] No connection could be made because the target machine actively refused it'))\n[50:29.67] H2OConnectionError: Unexpected HTTP error: HTTPConnectionPool(host='localhost', port=54321): Max retries exceeded with url: /3/Metadata/schemas/CloudV3 (Caused by NewConnectionError('<urllib3.connection.HTTPConnection object at 0x0000028CF2FCE140>: Failed to establish a new connection: [WinError 10061] No connection could be made because the target machine actively refused it'))\n[50:33.97] H2OConnectionError: Unexpected HTTP error: HTTPConnectionPool(host='localhost', port=54321): Max retries exceeded with url: /3/Metadata/schemas/CloudV3 (Caused by NewConnectionError('<urllib3.connection.HTTPConnection object at 0x0000028CF2FCCF10>: Failed to establish a new connection: [WinError 10061] No connection could be made because the target machine actively refused it'))",
      "\nDuring handling of the above exception, another exception occurred:\n",
      "\u001b[1;31mH2OStartupError\u001b[0m                           Traceback (most recent call last)",
      "Input \u001b[1;32mIn [4]\u001b[0m, in \u001b[0;36m<cell line: 5>\u001b[1;34m()\u001b[0m\n\u001b[0;32m      1\u001b[0m \u001b[38;5;28;01mimport\u001b[39;00m \u001b[38;5;21;01mh2o\u001b[39;00m\n\u001b[0;32m      2\u001b[0m \u001b[38;5;28;01mfrom\u001b[39;00m \u001b[38;5;21;01mh2o\u001b[39;00m\u001b[38;5;21;01m.\u001b[39;00m\u001b[38;5;21;01mautoml\u001b[39;00m \u001b[38;5;28;01mimport\u001b[39;00m H2OAutoML\n\u001b[1;32m----> 5\u001b[0m \u001b[43mh2o\u001b[49m\u001b[38;5;241;43m.\u001b[39;49m\u001b[43minit\u001b[49m\u001b[43m(\u001b[49m\u001b[43m)\u001b[49m\n\u001b[0;32m      7\u001b[0m \u001b[38;5;66;03m# Import data\u001b[39;00m\n\u001b[0;32m      8\u001b[0m f \u001b[38;5;241m=\u001b[39m \u001b[38;5;124m\"\u001b[39m\u001b[38;5;124m/content/drive/MyDrive/Colab Notebooks/assignment/day.csv\u001b[39m\u001b[38;5;124m\"\u001b[39m\n",
      "File \u001b[1;32m~\\AppData\\Local\\Programs\\Python\\Python310\\lib\\site-packages\\h2o\\h2o.py:287\u001b[0m, in \u001b[0;36minit\u001b[1;34m(url, ip, port, name, https, cacert, insecure, username, password, cookies, proxy, start_h2o, nthreads, ice_root, log_dir, log_level, max_log_file_size, enable_assertions, max_mem_size, min_mem_size, strict_version_check, ignore_config, extra_classpath, jvm_custom_args, bind_to_localhost, **kwargs)\u001b[0m\n\u001b[0;32m    283\u001b[0m     \u001b[38;5;28;01mif\u001b[39;00m https:\n\u001b[0;32m    284\u001b[0m         \u001b[38;5;28;01mraise\u001b[39;00m H2OConnectionError(\u001b[38;5;124m'\u001b[39m\u001b[38;5;124mStarting local server is not available with https enabled. You may start local\u001b[39m\u001b[38;5;124m'\u001b[39m\n\u001b[0;32m    285\u001b[0m                                  \u001b[38;5;124m'\u001b[39m\u001b[38;5;124m instance of H2O with https manually \u001b[39m\u001b[38;5;124m'\u001b[39m\n\u001b[0;32m    286\u001b[0m                                  \u001b[38;5;124m'\u001b[39m\u001b[38;5;124m(https://docs.h2o.ai/h2o/latest-stable/h2o-docs/welcome.html#new-user-quick-start).\u001b[39m\u001b[38;5;124m'\u001b[39m)\n\u001b[1;32m--> 287\u001b[0m     hs \u001b[38;5;241m=\u001b[39m \u001b[43mH2OLocalServer\u001b[49m\u001b[38;5;241;43m.\u001b[39;49m\u001b[43mstart\u001b[49m\u001b[43m(\u001b[49m\u001b[43mnthreads\u001b[49m\u001b[38;5;241;43m=\u001b[39;49m\u001b[43mnthreads\u001b[49m\u001b[43m,\u001b[49m\u001b[43m \u001b[49m\u001b[43menable_assertions\u001b[49m\u001b[38;5;241;43m=\u001b[39;49m\u001b[43menable_assertions\u001b[49m\u001b[43m,\u001b[49m\u001b[43m \u001b[49m\u001b[43mmax_mem_size\u001b[49m\u001b[38;5;241;43m=\u001b[39;49m\u001b[43mmmax\u001b[49m\u001b[43m,\u001b[49m\n\u001b[0;32m    288\u001b[0m \u001b[43m                              \u001b[49m\u001b[43mmin_mem_size\u001b[49m\u001b[38;5;241;43m=\u001b[39;49m\u001b[43mmmin\u001b[49m\u001b[43m,\u001b[49m\u001b[43m \u001b[49m\u001b[43mice_root\u001b[49m\u001b[38;5;241;43m=\u001b[39;49m\u001b[43mice_root\u001b[49m\u001b[43m,\u001b[49m\u001b[43m \u001b[49m\u001b[43mlog_dir\u001b[49m\u001b[38;5;241;43m=\u001b[39;49m\u001b[43mlog_dir\u001b[49m\u001b[43m,\u001b[49m\u001b[43m \u001b[49m\u001b[43mlog_level\u001b[49m\u001b[38;5;241;43m=\u001b[39;49m\u001b[43mlog_level\u001b[49m\u001b[43m,\u001b[49m\n\u001b[0;32m    289\u001b[0m \u001b[43m                              \u001b[49m\u001b[43mmax_log_file_size\u001b[49m\u001b[38;5;241;43m=\u001b[39;49m\u001b[43mmax_log_file_size\u001b[49m\u001b[43m,\u001b[49m\u001b[43m \u001b[49m\u001b[43mport\u001b[49m\u001b[38;5;241;43m=\u001b[39;49m\u001b[43mport\u001b[49m\u001b[43m,\u001b[49m\u001b[43m \u001b[49m\u001b[43mname\u001b[49m\u001b[38;5;241;43m=\u001b[39;49m\u001b[43mname\u001b[49m\u001b[43m,\u001b[49m\n\u001b[0;32m    290\u001b[0m \u001b[43m                              \u001b[49m\u001b[43mextra_classpath\u001b[49m\u001b[38;5;241;43m=\u001b[39;49m\u001b[43mextra_classpath\u001b[49m\u001b[43m,\u001b[49m\u001b[43m \u001b[49m\u001b[43mjvm_custom_args\u001b[49m\u001b[38;5;241;43m=\u001b[39;49m\u001b[43mjvm_custom_args\u001b[49m\u001b[43m,\u001b[49m\n\u001b[0;32m    291\u001b[0m \u001b[43m                              \u001b[49m\u001b[43mbind_to_localhost\u001b[49m\u001b[38;5;241;43m=\u001b[39;49m\u001b[43mbind_to_localhost\u001b[49m\u001b[43m)\u001b[49m\n\u001b[0;32m    292\u001b[0m     h2oconn \u001b[38;5;241m=\u001b[39m H2OConnection\u001b[38;5;241m.\u001b[39mopen(server\u001b[38;5;241m=\u001b[39mhs, https\u001b[38;5;241m=\u001b[39mhttps, verify_ssl_certificates\u001b[38;5;241m=\u001b[39mverify_ssl_certificates,\n\u001b[0;32m    293\u001b[0m                                  cacert\u001b[38;5;241m=\u001b[39mcacert, auth\u001b[38;5;241m=\u001b[39mauth, proxy\u001b[38;5;241m=\u001b[39mproxy, cookies\u001b[38;5;241m=\u001b[39mcookies, verbose\u001b[38;5;241m=\u001b[39m\u001b[38;5;28;01mTrue\u001b[39;00m,\n\u001b[0;32m    294\u001b[0m                                  strict_version_check\u001b[38;5;241m=\u001b[39msvc)\n\u001b[0;32m    295\u001b[0m h2oconn\u001b[38;5;241m.\u001b[39mcluster\u001b[38;5;241m.\u001b[39mtimezone \u001b[38;5;241m=\u001b[39m \u001b[38;5;124m\"\u001b[39m\u001b[38;5;124mUTC\u001b[39m\u001b[38;5;124m\"\u001b[39m\n",
      "File \u001b[1;32m~\\AppData\\Local\\Programs\\Python\\Python310\\lib\\site-packages\\h2o\\backend\\server.py:140\u001b[0m, in \u001b[0;36mH2OLocalServer.start\u001b[1;34m(jar_path, nthreads, enable_assertions, max_mem_size, min_mem_size, ice_root, log_dir, log_level, max_log_file_size, port, name, extra_classpath, verbose, jvm_custom_args, bind_to_localhost)\u001b[0m\n\u001b[0;32m    137\u001b[0m     hs\u001b[38;5;241m.\u001b[39m_tempdir \u001b[38;5;241m=\u001b[39m hs\u001b[38;5;241m.\u001b[39m_ice_root\n\u001b[0;32m    139\u001b[0m \u001b[38;5;28;01mif\u001b[39;00m verbose: \u001b[38;5;28mprint\u001b[39m(\u001b[38;5;124m\"\u001b[39m\u001b[38;5;124mAttempting to start a local H2O server...\u001b[39m\u001b[38;5;124m\"\u001b[39m)\n\u001b[1;32m--> 140\u001b[0m \u001b[43mhs\u001b[49m\u001b[38;5;241;43m.\u001b[39;49m\u001b[43m_launch_server\u001b[49m\u001b[43m(\u001b[49m\u001b[43mport\u001b[49m\u001b[38;5;241;43m=\u001b[39;49m\u001b[43mport\u001b[49m\u001b[43m,\u001b[49m\u001b[43m \u001b[49m\u001b[43mbaseport\u001b[49m\u001b[38;5;241;43m=\u001b[39;49m\u001b[43mbaseport\u001b[49m\u001b[43m,\u001b[49m\u001b[43m \u001b[49m\u001b[43mnthreads\u001b[49m\u001b[38;5;241;43m=\u001b[39;49m\u001b[38;5;28;43mint\u001b[39;49m\u001b[43m(\u001b[49m\u001b[43mnthreads\u001b[49m\u001b[43m)\u001b[49m\u001b[43m,\u001b[49m\u001b[43m \u001b[49m\u001b[43mea\u001b[49m\u001b[38;5;241;43m=\u001b[39;49m\u001b[43menable_assertions\u001b[49m\u001b[43m,\u001b[49m\n\u001b[0;32m    141\u001b[0m \u001b[43m                  \u001b[49m\u001b[43mmmax\u001b[49m\u001b[38;5;241;43m=\u001b[39;49m\u001b[43mmax_mem_size\u001b[49m\u001b[43m,\u001b[49m\u001b[43m \u001b[49m\u001b[43mmmin\u001b[49m\u001b[38;5;241;43m=\u001b[39;49m\u001b[43mmin_mem_size\u001b[49m\u001b[43m,\u001b[49m\u001b[43m \u001b[49m\u001b[43mjvm_custom_args\u001b[49m\u001b[38;5;241;43m=\u001b[39;49m\u001b[43mjvm_custom_args\u001b[49m\u001b[43m,\u001b[49m\n\u001b[0;32m    142\u001b[0m \u001b[43m                  \u001b[49m\u001b[43mbind_to_localhost\u001b[49m\u001b[38;5;241;43m=\u001b[39;49m\u001b[43mbind_to_localhost\u001b[49m\u001b[43m,\u001b[49m\u001b[43m \u001b[49m\u001b[43mlog_dir\u001b[49m\u001b[38;5;241;43m=\u001b[39;49m\u001b[43mlog_dir\u001b[49m\u001b[43m,\u001b[49m\u001b[43m \u001b[49m\u001b[43mlog_level\u001b[49m\u001b[38;5;241;43m=\u001b[39;49m\u001b[43mlog_level\u001b[49m\u001b[43m,\u001b[49m\u001b[43m \u001b[49m\u001b[43mmax_log_file_size\u001b[49m\u001b[38;5;241;43m=\u001b[39;49m\u001b[43mmax_log_file_size\u001b[49m\u001b[43m)\u001b[49m\n\u001b[0;32m    143\u001b[0m \u001b[38;5;28;01mif\u001b[39;00m verbose: \u001b[38;5;28mprint\u001b[39m(\u001b[38;5;124m\"\u001b[39m\u001b[38;5;124m  Server is running at \u001b[39m\u001b[38;5;132;01m%s\u001b[39;00m\u001b[38;5;124m://\u001b[39m\u001b[38;5;132;01m%s\u001b[39;00m\u001b[38;5;124m:\u001b[39m\u001b[38;5;132;01m%d\u001b[39;00m\u001b[38;5;124m\"\u001b[39m \u001b[38;5;241m%\u001b[39m (hs\u001b[38;5;241m.\u001b[39mscheme, hs\u001b[38;5;241m.\u001b[39mip, hs\u001b[38;5;241m.\u001b[39mport))\n\u001b[0;32m    144\u001b[0m atexit\u001b[38;5;241m.\u001b[39mregister(\u001b[38;5;28;01mlambda\u001b[39;00m: hs\u001b[38;5;241m.\u001b[39mshutdown())\n",
      "File \u001b[1;32m~\\AppData\\Local\\Programs\\Python\\Python310\\lib\\site-packages\\h2o\\backend\\server.py:272\u001b[0m, in \u001b[0;36mH2OLocalServer._launch_server\u001b[1;34m(self, port, baseport, mmax, mmin, ea, nthreads, jvm_custom_args, bind_to_localhost, log_dir, log_level, max_log_file_size)\u001b[0m\n\u001b[0;32m    269\u001b[0m \u001b[38;5;28mself\u001b[39m\u001b[38;5;241m.\u001b[39m_ip \u001b[38;5;241m=\u001b[39m \u001b[38;5;124m\"\u001b[39m\u001b[38;5;124m127.0.0.1\u001b[39m\u001b[38;5;124m\"\u001b[39m\n\u001b[0;32m    271\u001b[0m \u001b[38;5;66;03m# Find Java and check version. (Note that subprocess.check_output returns the output as a bytes object)\u001b[39;00m\n\u001b[1;32m--> 272\u001b[0m java \u001b[38;5;241m=\u001b[39m \u001b[38;5;28;43mself\u001b[39;49m\u001b[38;5;241;43m.\u001b[39;49m\u001b[43m_find_java\u001b[49m\u001b[43m(\u001b[49m\u001b[43m)\u001b[49m\n\u001b[0;32m    273\u001b[0m \u001b[38;5;28mself\u001b[39m\u001b[38;5;241m.\u001b[39m_check_java(java, \u001b[38;5;28mself\u001b[39m\u001b[38;5;241m.\u001b[39m_verbose)\n\u001b[0;32m    275\u001b[0m \u001b[38;5;28;01mif\u001b[39;00m \u001b[38;5;28mself\u001b[39m\u001b[38;5;241m.\u001b[39m_verbose:\n",
      "File \u001b[1;32m~\\AppData\\Local\\Programs\\Python\\Python310\\lib\\site-packages\\h2o\\backend\\server.py:444\u001b[0m, in \u001b[0;36mH2OLocalServer._find_java\u001b[1;34m()\u001b[0m\n\u001b[0;32m    441\u001b[0m                 \u001b[38;5;28;01mreturn\u001b[39;00m os\u001b[38;5;241m.\u001b[39mpath\u001b[38;5;241m.\u001b[39mjoin(dirpath, java)\n\u001b[0;32m    443\u001b[0m \u001b[38;5;66;03m# not found...\u001b[39;00m\n\u001b[1;32m--> 444\u001b[0m \u001b[38;5;28;01mraise\u001b[39;00m H2OStartupError(\u001b[38;5;124m\"\u001b[39m\u001b[38;5;124mCannot find Java. Please install the latest JRE from\u001b[39m\u001b[38;5;130;01m\\n\u001b[39;00m\u001b[38;5;124m\"\u001b[39m\n\u001b[0;32m    445\u001b[0m                       \u001b[38;5;124m\"\u001b[39m\u001b[38;5;124mhttp://docs.h2o.ai/h2o/latest-stable/h2o-docs/welcome.html#java-requirements\u001b[39m\u001b[38;5;124m\"\u001b[39m)\n",
      "\u001b[1;31mH2OStartupError\u001b[0m: Cannot find Java. Please install the latest JRE from\nhttp://docs.h2o.ai/h2o/latest-stable/h2o-docs/welcome.html#java-requirements"
     ]
    }
   ],
   "source": [
    "import h2o\n",
    "from h2o.automl import H2OAutoML\n",
    "\n",
    "\n",
    "h2o.init()\n",
    "\n",
    "# Import data\n",
    "f = \"/content/drive/MyDrive/Colab Notebooks/assignment/day.csv\"\n",
    "df = h2o.import_file(f)\n",
    "\n",
    "# Reponse column\n",
    "y = \"cnt\"\n",
    "\n",
    "# Split into train & test\n",
    "splits = df.split_frame(ratios = [0.8], seed = 1)\n",
    "train = splits[0]\n",
    "test = splits[1]\n",
    "\n",
    "# Run AutoML for 1 minute\n",
    "aml = H2OAutoML(max_runtime_secs=60, seed=1)\n",
    "aml.train(y=y, training_frame=train)\n",
    "\n",
    "\n",
    "# Explain leader model & compare with all AutoML models\n",
    "exa = aml.explain(test)\n",
    "\n",
    "# Explain a single H2O model (e.g. leader model from AutoML)\n",
    "exm = aml.leader.explain(test)\n",
    "\n",
    "# Explain a generic list of models\n",
    "# use h2o.explain as follows:\n",
    "# exl = h2o.explain(model_list, test)\n",
    "\n",
    "#       1. loc             : numeric % McCabe's line count of code\n",
    "#       2. v(g)            : numeric % McCabe \"cyclomatic complexity\"\n",
    "#       3. ev(g)           : numeric % McCabe \"essential complexity\"\n",
    "#       4. iv(g)           : numeric % McCabe \"design complexity\"\n",
    "#       5. n               : numeric % Halstead total operators + operands\n",
    "#       6. v               : numeric % Halstead \"volume\"\n",
    "#       7. l               : numeric % Halstead \"program length\"\n",
    "#       8. d               : numeric % Halstead \"difficulty\"\n",
    "#       9. i               : numeric % Halstead \"intelligence\"\n",
    "#      10. e               : numeric % Halstead \"effort\"\n",
    "#      11. b               : numeric % Halstead \n",
    "#      12. t               : numeric % Halstead's time estimator\n",
    "#      13. lOCode          : numeric % Halstead's line count\n",
    "#      14. lOComment       : numeric % Halstead's count of lines of comments\n",
    "#      15. lOBlank         : numeric % Halstead's count of blank lines\n",
    "#      16. lOCodeAndComment: numeric\n",
    "#      17. uniq_Op         : numeric % unique operators\n",
    "#      18. uniq_Opnd       : numeric % unique operands\n",
    "#      19. total_Op        : numeric % total operators\n",
    "#      20. total_Opnd      : numeric % total operands\n",
    "#      21: branchCount     : numeric % of the flow graph\n",
    "#      22. defects         : {false,true} % module has/has not one or more \n",
    "#                                         % reported defects\n"
   ]
  },
  {
   "cell_type": "markdown",
   "metadata": {
    "id": "wCQGPVbatDDs"
   },
   "source": [
    "# **2. Hourly Dataset**"
   ]
  },
  {
   "cell_type": "code",
   "execution_count": null,
   "metadata": {
    "colab": {
     "base_uri": "https://localhost:8080/",
     "height": 1000
    },
    "id": "5mKsKvRhqyq3",
    "outputId": "1da02c8a-3187-46ae-caca-e508cdd5f9cf"
   },
   "outputs": [],
   "source": [
    "import h2o\n",
    "from h2o.automl import H2OAutoML\n",
    "\n",
    "h2o.init()\n",
    "\n",
    "# Import data\n",
    "f = \"/content/drive/MyDrive/Colab Notebooks/assignment/hour.csv\"\n",
    "df = h2o.import_file(f)\n",
    "\n",
    "# Reponse column\n",
    "y = \"cnt\"\n",
    "\n",
    "# Split into train & test\n",
    "splits = df.split_frame(ratios = [0.8], seed = 1)\n",
    "train = splits[0]\n",
    "test = splits[1]\n",
    "\n",
    "# Run AutoML for 1 minute\n",
    "aml = H2OAutoML(max_runtime_secs=60, seed=1)\n",
    "aml.train(y=y, training_frame=train)\n",
    "\n",
    "# Explain leader model & compare with all AutoML models\n",
    "exa = aml.explain(test)\n",
    "\n",
    "# Explain a single H2O model (e.g. leader model from AutoML)\n",
    "exm = aml.leader.explain(test)"
   ]
  },
  {
   "cell_type": "markdown",
   "metadata": {
    "id": "2KfsYiJzrmuD"
   },
   "source": [
    "# **GradientBoost**"
   ]
  },
  {
   "cell_type": "markdown",
   "metadata": {},
   "source": [
    "# **1. Hourly Dataset**"
   ]
  },
  {
   "cell_type": "code",
   "execution_count": null,
   "metadata": {
    "colab": {
     "base_uri": "https://localhost:8080/",
     "height": 1000
    },
    "id": "4PXLLJU0ruVz",
    "outputId": "df3ae48f-2e2a-4d28-ff66-6f70cf51940d"
   },
   "outputs": [],
   "source": [
    "import h2o\n",
    "from h2o.estimators.gbm import H2OGradientBoostingEstimator\n",
    "h2o.init(nthreads=-1, strict_version_check=True)\n",
    "\n",
    "# Import data\n",
    "f = \"/content/drive/MyDrive/Colab Notebooks/assignment/hour.csv\"\n",
    "df = h2o.import_file(f)\n",
    "\n",
    "# Reponse column\n",
    "y = \"cnt\"\n",
    "\n",
    "# Split into train & test\n",
    "splits = df.split_frame(ratios = [0.8], seed = 1)\n",
    "train = splits[0]\n",
    "test = splits[1]\n",
    "\n",
    "# Run  for 1 minute\n",
    "gbm = H2OGradientBoostingEstimator()\n",
    "gbm.train(y=y, training_frame=train)\n"
   ]
  },
  {
   "cell_type": "markdown",
   "metadata": {},
   "source": [
    "# **2. Day Dataset**"
   ]
  },
  {
   "cell_type": "code",
   "execution_count": null,
   "metadata": {
    "colab": {
     "base_uri": "https://localhost:8080/",
     "height": 1000
    },
    "id": "HKIVn-8psj-G",
    "outputId": "a08b06f8-156a-4a40-dac2-1b966d336176"
   },
   "outputs": [],
   "source": [
    "import h2o\n",
    "from h2o.estimators.gbm import H2OGradientBoostingEstimator\n",
    "h2o.init(nthreads=-1, strict_version_check=True)\n",
    "\n",
    "# Import data\n",
    "f = \"/content/drive/MyDrive/Colab Notebooks/assignment/day.csv\"\n",
    "df = h2o.import_file(f)\n",
    "\n",
    "# Reponse column\n",
    "y = \"cnt\"\n",
    "\n",
    "# Split into train & test\n",
    "splits = df.split_frame(ratios = [0.8], seed = 1)\n",
    "train = splits[0]\n",
    "test = splits[1]\n",
    "\n",
    "# Run  for Gradient Boosting\n",
    "gbm = H2OGradientBoostingEstimator()\n",
    "gbm.train(y=y, training_frame=train)\n"
   ]
  }
 ],
 "metadata": {
  "colab": {
   "collapsed_sections": [],
   "provenance": []
  },
  "kernelspec": {
   "display_name": "Python 3 (ipykernel)",
   "language": "python",
   "name": "python3"
  },
  "language_info": {
   "codemirror_mode": {
    "name": "ipython",
    "version": 3
   },
   "file_extension": ".py",
   "mimetype": "text/x-python",
   "name": "python",
   "nbconvert_exporter": "python",
   "pygments_lexer": "ipython3",
   "version": "3.10.4"
  },
  "vscode": {
   "interpreter": {
    "hash": "fb4569285eef3a3450cb62085a5b1e0da4bce0af555edc33dcf29baf3acc1368"
   }
  }
 },
 "nbformat": 4,
 "nbformat_minor": 1
}
