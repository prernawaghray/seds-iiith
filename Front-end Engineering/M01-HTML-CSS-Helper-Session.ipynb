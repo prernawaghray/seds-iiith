{
 "cells": [
  {
   "cell_type": "markdown",
   "metadata": {},
   "source": [
    "# <font color=blue>Table of Content</font>\n",
    "\n",
    "<font color='blue'>\n",
    "    \n",
    "- ### Introduction\n",
    "- ### Problem statement\n",
    "- ### Approach\n",
    "- ### HTML tags\n",
    "- ### CSS\n",
    "- ### Code Walkthrough\n",
    "    \n",
    "</font>"
   ]
  },
  {
   "cell_type": "markdown",
   "metadata": {},
   "source": [
    "\n",
    "### <font color=blue>Problem Statement </font>\n",
    "\n",
    "Assume that you are working professonal want to explore the opportunity of freelancing and engage in multiple projects. One good idea for this to create a website with your basic information or the tools and technoogy you are familiar with. \n",
    "\n",
    "Rercuiters or interested people can visit your website and provide their details and the services that they are expecting from you. This will ensure that your website is capable of accepting certain information from visitor and save it for future usage. \n",
    "\n",
    "To complete this website creation part, we can go ahead and use HTML & CSS to craete a basic website. Here, we will be first creating the website without using any CSS script and only using HTML. While doing that we will explore some of the key concepts of HTML. Once done we will use CSS as well to make our website look beautiful.    \n",
    "\n",
    "### <font color=blue>Approach  </font>\n",
    "\n",
    "The aim for working on this problem statement is to use multiple HTML tags as well as CSS properties for a single use case. By performing this task, you will be able to create your own portfolio website. \n",
    "\n",
    "The idea is to give you some starter code which you can refer. We will also create it from scratch in the session and add one part of the app at a time to make you understand. \n",
    "\n",
    "Also, we will be using VS Code editor which is a very popular IDE for UI development and supports multiple plugins to ease the development process.\n",
    "\n",
    "\n",
    "### <font color=blue>Code walk through </font>\n",
    "\n",
    "* HTML Folder\n",
    "* HTML_with_CSS Folder\n",
    "* Content Folder\n",
    "</font>"
   ]
  },
  {
   "cell_type": "markdown",
   "metadata": {},
   "source": [
    "### <font color=blue>HTML Tags\n",
    "    \n",
    "In HTML section we will be using following tags majorly.\n",
    "    \n",
    "* `html` - html document\n",
    "* `head` - heading\n",
    "* `title` - title of the browser tab\n",
    "* `body` - html body\n",
    "* `div` - creates a division\n",
    "* `h1` - heading 1\n",
    "* `h2` - heading 2\n",
    "* `h3` - heading 3\n",
    "* `img` - adding an image\n",
    "* `label` - creates a label\n",
    "* `p` - creates a paragraph\n",
    "* `ul` - creates an unordered list\n",
    "* `li` - adds list items\n",
    "* `a` - anchor tag for creating a link\n",
    "* `span` - inline container used to mark up a part of a text\n",
    "* `form` - creates a form\n",
    "* `input` - text, email, number\n",
    "* `select` - creates a dropdown\n",
    "* `option` - adds options inside a dropdown\n",
    "* `input` - radio - creates a radio button\n",
    "* `small` - creates small text\n",
    "* `input` - checkbox - creates a checkbox\n",
    "* `textarea` - creates a textarea\n",
    "* `id and class` - id and class attributes\n",
    "* `button` - for creating a button\n",
    "* `link` - for adding css\n",
    "\n",
    "\n",
    "</font>\n"
   ]
  },
  {
   "cell_type": "markdown",
   "metadata": {},
   "source": [
    "#### 1. `<html></html>`"
   ]
  },
  {
   "cell_type": "markdown",
   "metadata": {},
   "source": [
    "marks the start and end of an html document"
   ]
  },
  {
   "cell_type": "markdown",
   "metadata": {},
   "source": [
    "#### 2. `<head></head>`"
   ]
  },
  {
   "cell_type": "markdown",
   "metadata": {},
   "source": [
    "usually consists of the `<title>` tag and scripts, links to import"
   ]
  },
  {
   "cell_type": "markdown",
   "metadata": {},
   "source": [
    "#### 3. `<title></title>`"
   ]
  },
  {
   "cell_type": "markdown",
   "metadata": {},
   "source": [
    "Defines the title to be displayed on the brower tab"
   ]
  },
  {
   "cell_type": "markdown",
   "metadata": {},
   "source": [
    "#### 4. `<body></body>`"
   ]
  },
  {
   "cell_type": "markdown",
   "metadata": {},
   "source": [
    "The HTML code written between these tags define the body of the html page."
   ]
  },
  {
   "cell_type": "markdown",
   "metadata": {},
   "source": [
    "#### 5. `<div></div>`"
   ]
  },
  {
   "cell_type": "markdown",
   "metadata": {},
   "source": [
    "Defines a new division of the page. example as below"
   ]
  },
  {
   "cell_type": "markdown",
   "metadata": {},
   "source": [
    "<div style=\"background-color:green;\"> I am division 1 </div>\n",
    "<div style=\"background-color:red;\"> I am division 2 </div>\n",
    "<div style=\"background-color:blue;\"> I am division 3 </div>"
   ]
  },
  {
   "cell_type": "markdown",
   "metadata": {},
   "source": [
    "#### 6. `<h1></h1>`, `<h2></h2>`, `<h3></h3>`"
   ]
  },
  {
   "cell_type": "markdown",
   "metadata": {},
   "source": [
    "Defines a new heading of type 1, 2 and 3, example below"
   ]
  },
  {
   "cell_type": "markdown",
   "metadata": {},
   "source": [
    "<h1> I am new Heading type 1 </h1>\n",
    "<h2> I am new Heading type 2 </h2>\n",
    "<h3> I am new Heading type 3 </h3>"
   ]
  },
  {
   "cell_type": "markdown",
   "metadata": {},
   "source": [
    "#### 7. `<img></img>`"
   ]
  },
  {
   "cell_type": "markdown",
   "metadata": {},
   "source": [
    "used to add an image, the \"src\" attribute takes the path to the image, it can be a locally stored image or a link on the web"
   ]
  },
  {
   "cell_type": "markdown",
   "metadata": {},
   "source": [
    "<img src=\"content/img-forest.jpg\"></img>"
   ]
  },
  {
   "cell_type": "markdown",
   "metadata": {},
   "source": [
    "#### 8. `<label></label>`"
   ]
  },
  {
   "cell_type": "markdown",
   "metadata": {},
   "source": [
    "Creates a label before a form field."
   ]
  },
  {
   "cell_type": "markdown",
   "metadata": {},
   "source": [
    "<label> Name </label>\n",
    "<input type=\"text\"\n",
    "            id=\"name\" name=\"name\"\n",
    "            placeholder=\"Enter your name\" required/>"
   ]
  },
  {
   "cell_type": "markdown",
   "metadata": {},
   "source": [
    "#### 9. `<p></p>`"
   ]
  },
  {
   "cell_type": "markdown",
   "metadata": {},
   "source": [
    "Used to create a paragraph"
   ]
  },
  {
   "cell_type": "markdown",
   "metadata": {},
   "source": [
    "<p> Para 1. Lorem ipsum dolor sit amet. Et quaerat cupiditate non voluptate quia et ipsum quia id aspernatur ratione ab quibusdam autem et soluta magnam ut debitis aspernatur? Est vitae error eos aliquid harum et eaque perferendis et nobis voluptatem ut enim molestias et incidunt veritatis qui nemo sunt? </p>\n",
    "\n",
    "<p> Para 2. Lorem ipsum dolor sit amet. Et quaerat cupiditate non voluptate quia et ipsum quia id aspernatur ratione ab quibusdam autem et soluta magnam ut debitis aspernatur? Est vitae error eos aliquid harum et eaque perferendis et nobis voluptatem ut enim molestias et incidunt veritatis qui nemo sunt? </p>"
   ]
  },
  {
   "cell_type": "markdown",
   "metadata": {},
   "source": [
    "#### 9. `<ul></ul>` ,  `<li></li>`"
   ]
  },
  {
   "cell_type": "markdown",
   "metadata": {},
   "source": [
    "Unordered list and list items."
   ]
  },
  {
   "cell_type": "markdown",
   "metadata": {},
   "source": [
    "<ul>\n",
    "    <li>Student 1</li>\n",
    "    <li>Student 2</li>\n",
    "    <li>Student 3</li>\n",
    "</ul>"
   ]
  },
  {
   "cell_type": "markdown",
   "metadata": {},
   "source": [
    "#### 10. `<a></a>`"
   ]
  },
  {
   "cell_type": "markdown",
   "metadata": {
    "ExecuteTime": {
     "end_time": "2021-11-19T08:09:46.426173Z",
     "start_time": "2021-11-19T08:09:46.420572Z"
    }
   },
   "source": [
    "Anchor tag to create a link. The href attribute holds the url to which it redirects."
   ]
  },
  {
   "cell_type": "markdown",
   "metadata": {
    "ExecuteTime": {
     "end_time": "2021-11-19T08:10:12.285793Z",
     "start_time": "2021-11-19T08:10:12.282133Z"
    }
   },
   "source": [
    "<a href=\"https://www.google.com\"> google </a>"
   ]
  },
  {
   "cell_type": "markdown",
   "metadata": {},
   "source": [
    "#### 11. `<span></span>`"
   ]
  },
  {
   "cell_type": "markdown",
   "metadata": {},
   "source": [
    "inline container used to mark up a part of a text"
   ]
  },
  {
   "cell_type": "markdown",
   "metadata": {},
   "source": [
    "<p>My dog loves playing on <span style=\"color:green\">green</span> grass.</p>"
   ]
  },
  {
   "cell_type": "markdown",
   "metadata": {},
   "source": [
    "#### 12. `<form></form>`"
   ]
  },
  {
   "cell_type": "markdown",
   "metadata": {},
   "source": [
    " <form action=\"\">\n",
    "  <label for=\"username\">Username:</label><br>\n",
    "  <input type=\"text\" id=\"username\" name=\"username\"><br>\n",
    "  <label for=\"password\">Password:</label><br>\n",
    "  <input type=\"password\" id=\"password\" name=\"password\"><br><br>\n",
    "  <input type=\"submit\" value=\"Login\">\n",
    "</form> "
   ]
  },
  {
   "cell_type": "markdown",
   "metadata": {},
   "source": [
    "#### 13. `<button></button>`"
   ]
  },
  {
   "cell_type": "markdown",
   "metadata": {
    "ExecuteTime": {
     "end_time": "2021-11-19T08:22:11.293534Z",
     "start_time": "2021-11-19T08:22:11.286313Z"
    }
   },
   "source": [
    "creates a button"
   ]
  },
  {
   "cell_type": "markdown",
   "metadata": {},
   "source": [
    "<button style=\"background-color:green\">Done</button> <button style=\"background-color:red\">Cancel</button>"
   ]
  },
  {
   "cell_type": "code",
   "execution_count": null,
   "metadata": {},
   "outputs": [],
   "source": []
  }
 ],
 "metadata": {
  "kernelspec": {
   "display_name": "Python 3",
   "language": "python",
   "name": "python3"
  },
  "language_info": {
   "codemirror_mode": {
    "name": "ipython",
    "version": 3
   },
   "file_extension": ".py",
   "mimetype": "text/x-python",
   "name": "python",
   "nbconvert_exporter": "python",
   "pygments_lexer": "ipython3",
   "version": "3.8.5"
  }
 },
 "nbformat": 4,
 "nbformat_minor": 5
}
